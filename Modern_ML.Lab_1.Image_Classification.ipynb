{
 "cells": [
  {
   "cell_type": "markdown",
   "metadata": {},
   "source": [
    "# <center> Майнор \"Интеллектуальный анализ данных\" </center>"
   ]
  },
  {
   "cell_type": "markdown",
   "metadata": {},
   "source": [
    "# <center> Курс \"Современные методы машинного обучения\" </center>"
   ]
  },
  {
   "cell_type": "markdown",
   "metadata": {},
   "source": [
    "# <center> Лабораторная работа №1. Image Classification. </center>"
   ]
  },
  {
   "cell_type": "markdown",
   "metadata": {},
   "source": [
    "В данной лабораторной работе вам предлагается обучить модель на основе нейронной сети для распознавания рукописных букв английского алфавита."
   ]
  },
  {
   "cell_type": "markdown",
   "metadata": {},
   "source": [
    "## Данные"
   ]
  },
  {
   "cell_type": "markdown",
   "metadata": {},
   "source": [
    "Данные представлены двумя датасетами: обучающим (`train`) и тестовым (`test`). Изображения для каждого датасета находятся в `images.zip`.  \n",
    "  \n",
    "Обучающая выборка состоит из 65000 изображений - по 2500 изображений для каждой буквы.  \n",
    "Тестовая выборка состоит из 13000 изображений - по 500 изображений для каждой буквы.  \n",
    "  \n",
    "Все изображения - монохромные (но в формате RGB), размерности $28 \\times 28$ пикселей, в формате JPEG. \n",
    "В названии каждого файла содержатся буква, которая представлена на изображении, и уникальный номер изображения: `a_00002.jpg`.  \n",
    "  \n",
    "**NB:** Все изображения представлены в перевернутом виде, для корректного отображения их нужно сначала транспонировать. "
   ]
  },
  {
   "cell_type": "code",
   "execution_count": 1,
   "metadata": {},
   "outputs": [],
   "source": [
    "import numpy as np\n",
    "import matplotlib.pyplot as plt\n",
    "import torch"
   ]
  },
  {
   "cell_type": "code",
   "execution_count": 2,
   "metadata": {},
   "outputs": [
    {
     "name": "stdout",
     "output_type": "stream",
     "text": [
      "(28, 28, 3)\n"
     ]
    }
   ],
   "source": [
    "pic = plt.imread('images/train/a/a_00002.jpg')\n",
    "print(pic.shape)"
   ]
  },
  {
   "cell_type": "code",
   "execution_count": 3,
   "metadata": {},
   "outputs": [],
   "source": [
    "pic = np.transpose(pic, axes=(1, 0, 2))"
   ]
  },
  {
   "cell_type": "code",
   "execution_count": 4,
   "metadata": {},
   "outputs": [
    {
     "data": {
      "image/png": "[encoded data removed]",
      "text/plain": [
       "<Figure size 144x144 with 1 Axes>"
      ]
     },
     "metadata": {
      "needs_background": "light"
     },
     "output_type": "display_data"
    }
   ],
   "source": [
    "plt.figure(figsize=(2,2))\n",
    "plt.imshow(pic)\n",
    "plt.show()"
   ]
  },
  {
   "cell_type": "markdown",
   "metadata": {},
   "source": [
    "Ваша задача - создать и обучить модель на основе нейронной сети, которая будет предсказывать букву на картинке.  \n",
    "Обучение необходимо проводить на данных из `train`, качество модели проверять на данных из `test`.  \n",
    "Целевая метрика - accuracy.  \n",
    "Для моделирования необходимо использовать `pytorch`."
   ]
  },
  {
   "cell_type": "markdown",
   "metadata": {},
   "source": [
    "## Основные задания"
   ]
  },
  {
   "cell_type": "code",
   "execution_count": 5,
   "metadata": {},
   "outputs": [],
   "source": [
    "import os\n",
    "from sklearn.model_selection import train_test_split\n",
    "from torch import nn\n",
    "from torch.utils.data import DataLoader"
   ]
  },
  {
   "cell_type": "code",
   "execution_count": 6,
   "metadata": {},
   "outputs": [],
   "source": [
    "def get_data_and_targets_lst(path):\n",
    "    data=[]\n",
    "    targets=[]\n",
    "    for root, currentDirectory, files in os.walk(path):\n",
    "        for file in files:\n",
    "            pic = plt.imread(os.path.join(root, file))\n",
    "            pic = torch.tensor(np.transpose(pic, axes=(1, 0, 2)))\n",
    "            pic = torch.div(pic, 255)\n",
    "            target = ord(file[0]) - ord('a')\n",
    "            data.append(pic)\n",
    "            targets.append(target)\n",
    "    return data,targets"
   ]
  },
  {
   "cell_type": "code",
   "execution_count": 7,
   "metadata": {},
   "outputs": [],
   "source": [
    "class MyDataset(torch.utils.data.Dataset): \n",
    "    \n",
    "    def __init__(self, x, y):\n",
    "        self.x=x\n",
    "        self.y=y\n",
    "        \n",
    "    def __len__(self):\n",
    "        return len(self.x)\n",
    "    \n",
    "    def __getitem__(self, idx):\n",
    "        #return {'sample': self.x[idx], 'target': self.y[idx]}\n",
    "        return self.x[idx],self.y[idx]"
   ]
  },
  {
   "cell_type": "code",
   "execution_count": 8,
   "metadata": {},
   "outputs": [],
   "source": [
    "X,y = get_data_and_targets_lst(\"images/train\")"
   ]
  },
  {
   "cell_type": "code",
   "execution_count": 9,
   "metadata": {},
   "outputs": [
    {
     "data": {
      "text/plain": [
       "torch.float32"
      ]
     },
     "execution_count": 9,
     "metadata": {},
     "output_type": "execute_result"
    }
   ],
   "source": [
    "X[60000].dtype"
   ]
  },
  {
   "cell_type": "code",
   "execution_count": 10,
   "metadata": {},
   "outputs": [
    {
     "name": "stdout",
     "output_type": "stream",
     "text": [
      "15\n"
     ]
    },
    {
     "data": {
      "image/png": "[encoded data removed]",
      "text/plain": [
       "<Figure size 432x288 with 1 Axes>"
      ]
     },
     "metadata": {
      "needs_background": "light"
     },
     "output_type": "display_data"
    }
   ],
   "source": [
    "plt.imshow(X[60000])\n",
    "print(y[60000])"
   ]
  },
  {
   "cell_type": "code",
   "execution_count": 11,
   "metadata": {},
   "outputs": [
    {
     "data": {
      "text/plain": [
       "65000"
      ]
     },
     "execution_count": 11,
     "metadata": {},
     "output_type": "execute_result"
    }
   ],
   "source": [
    "len(y)"
   ]
  },
  {
   "cell_type": "code",
   "execution_count": 12,
   "metadata": {},
   "outputs": [],
   "source": [
    "# for i in range(len(y)):\n",
    "#     ls = [0 for a in range(26)]\n",
    "#     ls[y[i]] = 1\n",
    "#     y[i]= ls"
   ]
  },
  {
   "cell_type": "code",
   "execution_count": 13,
   "metadata": {},
   "outputs": [],
   "source": [
    "X_train, X_test, y_train, y_test = train_test_split(X,y, test_size=0.2)"
   ]
  },
  {
   "cell_type": "code",
   "execution_count": 14,
   "metadata": {},
   "outputs": [
    {
     "data": {
      "text/plain": [
       "(13000, 13000)"
      ]
     },
     "execution_count": 14,
     "metadata": {},
     "output_type": "execute_result"
    }
   ],
   "source": [
    "len(X_test), len(y_test)"
   ]
  },
  {
   "cell_type": "code",
   "execution_count": 15,
   "metadata": {},
   "outputs": [],
   "source": [
    "train_dataset = MyDataset(X_train, y_train)\n",
    "test_dataset = MyDataset(X_test, y_test)\n",
    "#train_dataset.__getitem__(40000)"
   ]
  },
  {
   "cell_type": "code",
   "execution_count": 16,
   "metadata": {},
   "outputs": [
    {
     "name": "stdout",
     "output_type": "stream",
     "text": [
      "0\n",
      "tensor([ 9, 11, 11, 10, 17,  2,  2, 10, 25, 19, 21,  4,  1, 22, 17, 15, 20,  7,\n",
      "         1,  2, 12, 20,  2, 16, 22,  8, 17, 25, 21, 15,  2,  4,  7, 19, 10,  1,\n",
      "         2, 17, 14,  3,  7, 13,  7, 20, 24, 21, 11, 17, 17, 23,  3,  1,  7, 18,\n",
      "        11, 16,  9, 25, 14,  3,  5, 24,  2,  3])\n",
      "Shape of X [N, C, H, W]:  torch.Size([64, 28, 28, 3])\n",
      "Shape of y:  torch.Size([64]) torch.int64\n"
     ]
    }
   ],
   "source": [
    "batch_size=64\n",
    "train_dataloader = DataLoader(train_dataset, batch_size=batch_size)\n",
    "test_dataloader = DataLoader(test_dataset, batch_size=batch_size)\n",
    "for batch, (X, y) in enumerate(train_dataloader):\n",
    "    print(batch)\n",
    "    print(y)\n",
    "    print(\"Shape of X [N, C, H, W]: \", X.shape)\n",
    "    #NHWC now\n",
    "    print(\"Shape of y: \", y.shape, y.dtype)\n",
    "    break"
   ]
  },
  {
   "cell_type": "code",
   "execution_count": 17,
   "metadata": {},
   "outputs": [
    {
     "name": "stdout",
     "output_type": "stream",
     "text": [
      "Using cpu device\n"
     ]
    }
   ],
   "source": [
    "device = \"cuda\" if torch.cuda.is_available() else \"cpu\"\n",
    "print(\"Using {} device\".format(device))"
   ]
  },
  {
   "cell_type": "code",
   "execution_count": 18,
   "metadata": {},
   "outputs": [],
   "source": [
    "def train(dataloader, model, loss_fn, optimizer):\n",
    "    size = len(dataloader.dataset)\n",
    "    model.train()\n",
    "    for batch, (X, y) in enumerate(dataloader):\n",
    "        X, y = X.to(device), y.to(device)\n",
    "\n",
    "        # Compute prediction error\n",
    "        pred = model(X)\n",
    "        loss = loss_fn(pred, y)\n",
    "\n",
    "        # Backpropagation\n",
    "        optimizer.zero_grad()\n",
    "        loss.backward()\n",
    "        optimizer.step()\n",
    "\n",
    "        if batch % 100 == 0:\n",
    "            loss, current = loss.item(), batch * len(X)\n",
    "            print(f\"loss: {loss:>7f}  [{current:>5d}/{size:>5d}]\")"
   ]
  },
  {
   "cell_type": "code",
   "execution_count": 19,
   "metadata": {},
   "outputs": [],
   "source": [
    "def test(dataloader, model, loss_fn):\n",
    "    size = len(dataloader.dataset)\n",
    "    num_batches = len(dataloader)\n",
    "    model.eval()\n",
    "    test_loss, correct = 0, 0\n",
    "    with torch.no_grad():\n",
    "        for X, y in dataloader:\n",
    "            X, y = X.to(device), y.to(device)\n",
    "            pred = model(X)\n",
    "            #print(pred.shape)\n",
    "            #print(loss_fn(pred, y).item())\n",
    "            test_loss += loss_fn(pred, y).item()\n",
    "            correct += (pred.argmax(1) == y).type(torch.float).sum().item()\n",
    "    test_loss /= num_batches\n",
    "    correct /= size\n",
    "    print(f\"Test Error: \\n Accuracy: {(100*correct):>0.1f}%, Avg loss: {test_loss:>8f} \\n\")"
   ]
  },
  {
   "cell_type": "code",
   "execution_count": 50,
   "metadata": {},
   "outputs": [],
   "source": [
    "def get_model_accuracy(dataloader, model):\n",
    "    size = len(dataloader.dataset)\n",
    "    correct = 0\n",
    "    with torch.no_grad():\n",
    "        for X, y in dataloader:\n",
    "            X, y = X.to(device), y.to(device)\n",
    "            pred = model(X)\n",
    "            correct += (pred.argmax(1) == y).type(torch.float).sum().item()\n",
    "    return correct / size       "
   ]
  },
  {
   "cell_type": "code",
   "execution_count": 79,
   "metadata": {},
   "outputs": [],
   "source": [
    "def get_all_model_predictions(dataloader, model):\n",
    "    size = len(dataloader.dataset)\n",
    "    correct = 0\n",
    "    predictions = []\n",
    "    with torch.no_grad():\n",
    "        for X, y in dataloader:\n",
    "            X, y = X.to(device), y.to(device)\n",
    "            pred = model(X)\n",
    "            predictions.extend(pred.argmax(1))\n",
    "#             if len(pred.argmax(1))>1:\n",
    "#                 print(pred.argmax(1))\n",
    "    return list(map(lambda x : x.item(), predictions)) "
   ]
  },
  {
   "cell_type": "code",
   "execution_count": 20,
   "metadata": {},
   "outputs": [],
   "source": [
    "def learning_cycle(epochs, model, loss_fn, optimizer):\n",
    "    for t in range(epochs):\n",
    "        print(f\"Epoch {t+1}\\n-------------------------------\")\n",
    "        train(train_dataloader, model, loss_fn, optimizer)\n",
    "        test(test_dataloader, model, loss_fn)\n",
    "        #print(\"Done!\")\n",
    "    "
   ]
  },
  {
   "cell_type": "markdown",
   "metadata": {},
   "source": [
    "# 1.1"
   ]
  },
  {
   "cell_type": "code",
   "execution_count": 21,
   "metadata": {},
   "outputs": [],
   "source": [
    "class NeuralNetwork(nn.Module):\n",
    "    def __init__(self):\n",
    "        super(NeuralNetwork, self).__init__()\n",
    "        self.flatten = nn.Flatten()\n",
    "        self.linear_relu_stack = nn.Sequential(\n",
    "            nn.Linear(28*28*3, 512),\n",
    "            nn.ReLU(),\n",
    "            nn.Linear(512, 512),\n",
    "            nn.ReLU(),\n",
    "            nn.Linear(512, 26),\n",
    "        )\n",
    "\n",
    "    def forward(self, x):\n",
    "        x = self.flatten(x)\n",
    "        logits = self.linear_relu_stack(x)\n",
    "        return logits"
   ]
  },
  {
   "cell_type": "code",
   "execution_count": 22,
   "metadata": {},
   "outputs": [],
   "source": [
    "model_lin3 = NeuralNetwork()"
   ]
  },
  {
   "cell_type": "code",
   "execution_count": 31,
   "metadata": {},
   "outputs": [
    {
     "name": "stdout",
     "output_type": "stream",
     "text": [
      "Epoch 1\n",
      "-------------------------------\n",
      "loss: 0.756594  [    0/52000]\n",
      "loss: 0.670591  [ 6400/52000]\n",
      "loss: 0.819595  [12800/52000]\n",
      "loss: 0.707328  [19200/52000]\n",
      "loss: 0.784801  [25600/52000]\n",
      "loss: 0.574056  [32000/52000]\n",
      "loss: 0.716980  [38400/52000]\n",
      "loss: 0.568250  [44800/52000]\n",
      "loss: 0.442809  [51200/52000]\n",
      "Test Error: \n",
      " Accuracy: 81.7%, Avg loss: 0.632157 \n",
      "\n",
      "Epoch 2\n",
      "-------------------------------\n",
      "loss: 0.750580  [    0/52000]\n",
      "loss: 0.666563  [ 6400/52000]\n",
      "loss: 0.814169  [12800/52000]\n",
      "loss: 0.703332  [19200/52000]\n",
      "loss: 0.780341  [25600/52000]\n",
      "loss: 0.570770  [32000/52000]\n",
      "loss: 0.712623  [38400/52000]\n",
      "loss: 0.564825  [44800/52000]\n",
      "loss: 0.438962  [51200/52000]\n",
      "Test Error: \n",
      " Accuracy: 81.8%, Avg loss: 0.628283 \n",
      "\n",
      "Epoch 3\n",
      "-------------------------------\n",
      "loss: 0.744707  [    0/52000]\n",
      "loss: 0.662692  [ 6400/52000]\n",
      "loss: 0.808822  [12800/52000]\n",
      "loss: 0.699420  [19200/52000]\n",
      "loss: 0.776032  [25600/52000]\n",
      "loss: 0.567511  [32000/52000]\n",
      "loss: 0.708353  [38400/52000]\n",
      "loss: 0.561468  [44800/52000]\n",
      "loss: 0.435199  [51200/52000]\n",
      "Test Error: \n",
      " Accuracy: 81.9%, Avg loss: 0.624475 \n",
      "\n",
      "Epoch 4\n",
      "-------------------------------\n",
      "loss: 0.738972  [    0/52000]\n",
      "loss: 0.658858  [ 6400/52000]\n",
      "loss: 0.803558  [12800/52000]\n",
      "loss: 0.695476  [19200/52000]\n",
      "loss: 0.771743  [25600/52000]\n",
      "loss: 0.564309  [32000/52000]\n",
      "loss: 0.704109  [38400/52000]\n",
      "loss: 0.558115  [44800/52000]\n",
      "loss: 0.431568  [51200/52000]\n",
      "Test Error: \n",
      " Accuracy: 82.0%, Avg loss: 0.620729 \n",
      "\n",
      "Epoch 5\n",
      "-------------------------------\n",
      "loss: 0.733321  [    0/52000]\n",
      "loss: 0.654984  [ 6400/52000]\n",
      "loss: 0.798377  [12800/52000]\n",
      "loss: 0.691585  [19200/52000]\n",
      "loss: 0.767568  [25600/52000]\n",
      "loss: 0.561177  [32000/52000]\n",
      "loss: 0.699890  [38400/52000]\n",
      "loss: 0.554816  [44800/52000]\n",
      "loss: 0.427810  [51200/52000]\n",
      "Test Error: \n",
      " Accuracy: 82.1%, Avg loss: 0.617052 \n",
      "\n",
      "Epoch 6\n",
      "-------------------------------\n",
      "loss: 0.727783  [    0/52000]\n",
      "loss: 0.651252  [ 6400/52000]\n",
      "loss: 0.793307  [12800/52000]\n",
      "loss: 0.687849  [19200/52000]\n",
      "loss: 0.763418  [25600/52000]\n",
      "loss: 0.558202  [32000/52000]\n",
      "loss: 0.695726  [38400/52000]\n",
      "loss: 0.551574  [44800/52000]\n",
      "loss: 0.424187  [51200/52000]\n",
      "Test Error: \n",
      " Accuracy: 82.2%, Avg loss: 0.613439 \n",
      "\n",
      "Epoch 7\n",
      "-------------------------------\n",
      "loss: 0.722361  [    0/52000]\n",
      "loss: 0.647498  [ 6400/52000]\n",
      "loss: 0.788348  [12800/52000]\n",
      "loss: 0.684187  [19200/52000]\n",
      "loss: 0.759215  [25600/52000]\n",
      "loss: 0.555273  [32000/52000]\n",
      "loss: 0.691576  [38400/52000]\n",
      "loss: 0.548407  [44800/52000]\n",
      "loss: 0.420520  [51200/52000]\n",
      "Test Error: \n",
      " Accuracy: 82.3%, Avg loss: 0.609888 \n",
      "\n",
      "Epoch 8\n",
      "-------------------------------\n",
      "loss: 0.717128  [    0/52000]\n",
      "loss: 0.643845  [ 6400/52000]\n",
      "loss: 0.783474  [12800/52000]\n",
      "loss: 0.680563  [19200/52000]\n",
      "loss: 0.755213  [25600/52000]\n",
      "loss: 0.552366  [32000/52000]\n",
      "loss: 0.687444  [38400/52000]\n",
      "loss: 0.545279  [44800/52000]\n",
      "loss: 0.416944  [51200/52000]\n",
      "Test Error: \n",
      " Accuracy: 82.4%, Avg loss: 0.606396 \n",
      "\n",
      "Epoch 9\n",
      "-------------------------------\n",
      "loss: 0.712029  [    0/52000]\n",
      "loss: 0.640263  [ 6400/52000]\n",
      "loss: 0.778751  [12800/52000]\n",
      "loss: 0.677039  [19200/52000]\n",
      "loss: 0.751241  [25600/52000]\n",
      "loss: 0.549433  [32000/52000]\n",
      "loss: 0.683515  [38400/52000]\n",
      "loss: 0.542218  [44800/52000]\n",
      "loss: 0.413438  [51200/52000]\n",
      "Test Error: \n",
      " Accuracy: 82.5%, Avg loss: 0.602958 \n",
      "\n",
      "Epoch 10\n",
      "-------------------------------\n",
      "loss: 0.706871  [    0/52000]\n",
      "loss: 0.636674  [ 6400/52000]\n",
      "loss: 0.774025  [12800/52000]\n",
      "loss: 0.673535  [19200/52000]\n",
      "loss: 0.747195  [25600/52000]\n",
      "loss: 0.546615  [32000/52000]\n",
      "loss: 0.679510  [38400/52000]\n",
      "loss: 0.539214  [44800/52000]\n",
      "loss: 0.410020  [51200/52000]\n",
      "Test Error: \n",
      " Accuracy: 82.6%, Avg loss: 0.599571 \n",
      "\n",
      "Epoch 11\n",
      "-------------------------------\n",
      "loss: 0.701671  [    0/52000]\n",
      "loss: 0.633196  [ 6400/52000]\n",
      "loss: 0.769401  [12800/52000]\n",
      "loss: 0.670097  [19200/52000]\n",
      "loss: 0.743182  [25600/52000]\n",
      "loss: 0.543915  [32000/52000]\n",
      "loss: 0.675505  [38400/52000]\n",
      "loss: 0.536250  [44800/52000]\n",
      "loss: 0.406720  [51200/52000]\n",
      "Test Error: \n",
      " Accuracy: 82.7%, Avg loss: 0.596237 \n",
      "\n",
      "Epoch 12\n",
      "-------------------------------\n",
      "loss: 0.696571  [    0/52000]\n",
      "loss: 0.629755  [ 6400/52000]\n",
      "loss: 0.764860  [12800/52000]\n",
      "loss: 0.666714  [19200/52000]\n",
      "loss: 0.739313  [25600/52000]\n",
      "loss: 0.541342  [32000/52000]\n",
      "loss: 0.671554  [38400/52000]\n",
      "loss: 0.533358  [44800/52000]\n",
      "loss: 0.403470  [51200/52000]\n",
      "Test Error: \n",
      " Accuracy: 82.8%, Avg loss: 0.592952 \n",
      "\n",
      "Epoch 13\n",
      "-------------------------------\n",
      "loss: 0.691555  [    0/52000]\n",
      "loss: 0.626410  [ 6400/52000]\n",
      "loss: 0.760445  [12800/52000]\n",
      "loss: 0.663312  [19200/52000]\n",
      "loss: 0.735401  [25600/52000]\n",
      "loss: 0.538752  [32000/52000]\n",
      "loss: 0.667659  [38400/52000]\n",
      "loss: 0.530487  [44800/52000]\n",
      "loss: 0.400280  [51200/52000]\n",
      "Test Error: \n",
      " Accuracy: 82.9%, Avg loss: 0.589724 \n",
      "\n",
      "Epoch 14\n",
      "-------------------------------\n",
      "loss: 0.686647  [    0/52000]\n",
      "loss: 0.623063  [ 6400/52000]\n",
      "loss: 0.756056  [12800/52000]\n",
      "loss: 0.660071  [19200/52000]\n",
      "loss: 0.731529  [25600/52000]\n",
      "loss: 0.536216  [32000/52000]\n",
      "loss: 0.663821  [38400/52000]\n",
      "loss: 0.527732  [44800/52000]\n",
      "loss: 0.397105  [51200/52000]\n",
      "Test Error: \n",
      " Accuracy: 82.9%, Avg loss: 0.586546 \n",
      "\n",
      "Epoch 15\n",
      "-------------------------------\n",
      "loss: 0.681822  [    0/52000]\n",
      "loss: 0.619634  [ 6400/52000]\n",
      "loss: 0.751798  [12800/52000]\n",
      "loss: 0.656930  [19200/52000]\n",
      "loss: 0.727788  [25600/52000]\n",
      "loss: 0.533712  [32000/52000]\n",
      "loss: 0.660000  [38400/52000]\n",
      "loss: 0.525090  [44800/52000]\n",
      "loss: 0.393960  [51200/52000]\n",
      "Test Error: \n",
      " Accuracy: 83.0%, Avg loss: 0.583415 \n",
      "\n",
      "Epoch 16\n",
      "-------------------------------\n",
      "loss: 0.676954  [    0/52000]\n",
      "loss: 0.616304  [ 6400/52000]\n",
      "loss: 0.747612  [12800/52000]\n",
      "loss: 0.653823  [19200/52000]\n",
      "loss: 0.724073  [25600/52000]\n",
      "loss: 0.531139  [32000/52000]\n",
      "loss: 0.656182  [38400/52000]\n",
      "loss: 0.522471  [44800/52000]\n",
      "loss: 0.390850  [51200/52000]\n",
      "Test Error: \n",
      " Accuracy: 83.1%, Avg loss: 0.580341 \n",
      "\n",
      "Epoch 17\n",
      "-------------------------------\n",
      "loss: 0.672175  [    0/52000]\n",
      "loss: 0.613027  [ 6400/52000]\n",
      "loss: 0.743491  [12800/52000]\n",
      "loss: 0.650818  [19200/52000]\n",
      "loss: 0.720375  [25600/52000]\n",
      "loss: 0.528614  [32000/52000]\n",
      "loss: 0.652424  [38400/52000]\n",
      "loss: 0.519812  [44800/52000]\n",
      "loss: 0.387804  [51200/52000]\n",
      "Test Error: \n",
      " Accuracy: 83.1%, Avg loss: 0.577317 \n",
      "\n",
      "Epoch 18\n",
      "-------------------------------\n",
      "loss: 0.667486  [    0/52000]\n",
      "loss: 0.609811  [ 6400/52000]\n",
      "loss: 0.739526  [12800/52000]\n",
      "loss: 0.647826  [19200/52000]\n",
      "loss: 0.716771  [25600/52000]\n",
      "loss: 0.526010  [32000/52000]\n",
      "loss: 0.648654  [38400/52000]\n",
      "loss: 0.517251  [44800/52000]\n",
      "loss: 0.384841  [51200/52000]\n",
      "Test Error: \n",
      " Accuracy: 83.2%, Avg loss: 0.574343 \n",
      "\n",
      "Epoch 19\n",
      "-------------------------------\n",
      "loss: 0.662903  [    0/52000]\n",
      "loss: 0.606621  [ 6400/52000]\n",
      "loss: 0.735485  [12800/52000]\n",
      "loss: 0.644875  [19200/52000]\n",
      "loss: 0.713042  [25600/52000]\n",
      "loss: 0.523437  [32000/52000]\n",
      "loss: 0.644988  [38400/52000]\n",
      "loss: 0.514764  [44800/52000]\n",
      "loss: 0.381950  [51200/52000]\n",
      "Test Error: \n",
      " Accuracy: 83.3%, Avg loss: 0.571409 \n",
      "\n",
      "Epoch 20\n",
      "-------------------------------\n",
      "loss: 0.658427  [    0/52000]\n",
      "loss: 0.603462  [ 6400/52000]\n",
      "loss: 0.731479  [12800/52000]\n",
      "loss: 0.641974  [19200/52000]\n",
      "loss: 0.709409  [25600/52000]\n",
      "loss: 0.520874  [32000/52000]\n",
      "loss: 0.641239  [38400/52000]\n",
      "loss: 0.512200  [44800/52000]\n",
      "loss: 0.379139  [51200/52000]\n",
      "Test Error: \n",
      " Accuracy: 83.4%, Avg loss: 0.568520 \n",
      "\n",
      "Epoch 21\n",
      "-------------------------------\n",
      "loss: 0.653935  [    0/52000]\n",
      "loss: 0.600297  [ 6400/52000]\n",
      "loss: 0.727653  [12800/52000]\n",
      "loss: 0.639118  [19200/52000]\n",
      "loss: 0.705844  [25600/52000]\n",
      "loss: 0.518390  [32000/52000]\n",
      "loss: 0.637547  [38400/52000]\n",
      "loss: 0.509706  [44800/52000]\n",
      "loss: 0.376319  [51200/52000]\n",
      "Test Error: \n",
      " Accuracy: 83.4%, Avg loss: 0.565685 \n",
      "\n",
      "Epoch 22\n",
      "-------------------------------\n",
      "loss: 0.649601  [    0/52000]\n",
      "loss: 0.597170  [ 6400/52000]\n",
      "loss: 0.723845  [12800/52000]\n",
      "loss: 0.636278  [19200/52000]\n",
      "loss: 0.702282  [25600/52000]\n",
      "loss: 0.515830  [32000/52000]\n",
      "loss: 0.633916  [38400/52000]\n",
      "loss: 0.507327  [44800/52000]\n",
      "loss: 0.373500  [51200/52000]\n",
      "Test Error: \n",
      " Accuracy: 83.5%, Avg loss: 0.562894 \n",
      "\n",
      "Epoch 23\n",
      "-------------------------------\n",
      "loss: 0.645402  [    0/52000]\n",
      "loss: 0.593981  [ 6400/52000]\n",
      "loss: 0.720157  [12800/52000]\n",
      "loss: 0.633386  [19200/52000]\n",
      "loss: 0.698655  [25600/52000]\n",
      "loss: 0.513316  [32000/52000]\n"
     ]
    },
    {
     "name": "stdout",
     "output_type": "stream",
     "text": [
      "loss: 0.630338  [38400/52000]\n",
      "loss: 0.504920  [44800/52000]\n",
      "loss: 0.370809  [51200/52000]\n",
      "Test Error: \n",
      " Accuracy: 83.6%, Avg loss: 0.560145 \n",
      "\n",
      "Epoch 24\n",
      "-------------------------------\n",
      "loss: 0.641337  [    0/52000]\n",
      "loss: 0.590840  [ 6400/52000]\n",
      "loss: 0.716527  [12800/52000]\n",
      "loss: 0.630685  [19200/52000]\n",
      "loss: 0.695101  [25600/52000]\n",
      "loss: 0.510913  [32000/52000]\n",
      "loss: 0.626860  [38400/52000]\n",
      "loss: 0.502477  [44800/52000]\n",
      "loss: 0.368141  [51200/52000]\n",
      "Test Error: \n",
      " Accuracy: 83.6%, Avg loss: 0.557445 \n",
      "\n",
      "Epoch 25\n",
      "-------------------------------\n",
      "loss: 0.637336  [    0/52000]\n",
      "loss: 0.587693  [ 6400/52000]\n",
      "loss: 0.712869  [12800/52000]\n",
      "loss: 0.628047  [19200/52000]\n",
      "loss: 0.691567  [25600/52000]\n",
      "loss: 0.508485  [32000/52000]\n",
      "loss: 0.623429  [38400/52000]\n",
      "loss: 0.500100  [44800/52000]\n",
      "loss: 0.365508  [51200/52000]\n",
      "Test Error: \n",
      " Accuracy: 83.7%, Avg loss: 0.554777 \n",
      "\n",
      "Epoch 26\n",
      "-------------------------------\n",
      "loss: 0.633316  [    0/52000]\n",
      "loss: 0.584649  [ 6400/52000]\n",
      "loss: 0.709391  [12800/52000]\n",
      "loss: 0.625448  [19200/52000]\n",
      "loss: 0.687960  [25600/52000]\n",
      "loss: 0.506047  [32000/52000]\n",
      "loss: 0.620018  [38400/52000]\n",
      "loss: 0.497845  [44800/52000]\n",
      "loss: 0.362905  [51200/52000]\n",
      "Test Error: \n",
      " Accuracy: 83.7%, Avg loss: 0.552150 \n",
      "\n",
      "Epoch 27\n",
      "-------------------------------\n",
      "loss: 0.629334  [    0/52000]\n",
      "loss: 0.581641  [ 6400/52000]\n",
      "loss: 0.705917  [12800/52000]\n",
      "loss: 0.622840  [19200/52000]\n",
      "loss: 0.684501  [25600/52000]\n",
      "loss: 0.503678  [32000/52000]\n",
      "loss: 0.616603  [38400/52000]\n",
      "loss: 0.495598  [44800/52000]\n",
      "loss: 0.360401  [51200/52000]\n",
      "Test Error: \n",
      " Accuracy: 83.7%, Avg loss: 0.549563 \n",
      "\n",
      "Epoch 28\n",
      "-------------------------------\n",
      "loss: 0.625438  [    0/52000]\n",
      "loss: 0.578717  [ 6400/52000]\n",
      "loss: 0.702604  [12800/52000]\n",
      "loss: 0.620251  [19200/52000]\n",
      "loss: 0.681166  [25600/52000]\n",
      "loss: 0.501247  [32000/52000]\n",
      "loss: 0.613272  [38400/52000]\n",
      "loss: 0.493345  [44800/52000]\n",
      "loss: 0.357856  [51200/52000]\n",
      "Test Error: \n",
      " Accuracy: 83.8%, Avg loss: 0.547016 \n",
      "\n",
      "Epoch 29\n",
      "-------------------------------\n",
      "loss: 0.621643  [    0/52000]\n",
      "loss: 0.575819  [ 6400/52000]\n",
      "loss: 0.699305  [12800/52000]\n",
      "loss: 0.617770  [19200/52000]\n",
      "loss: 0.677740  [25600/52000]\n",
      "loss: 0.498945  [32000/52000]\n",
      "loss: 0.609881  [38400/52000]\n",
      "loss: 0.491170  [44800/52000]\n",
      "loss: 0.355330  [51200/52000]\n",
      "Test Error: \n",
      " Accuracy: 83.9%, Avg loss: 0.544510 \n",
      "\n",
      "Epoch 30\n",
      "-------------------------------\n",
      "loss: 0.617897  [    0/52000]\n",
      "loss: 0.572916  [ 6400/52000]\n",
      "loss: 0.696025  [12800/52000]\n",
      "loss: 0.615298  [19200/52000]\n",
      "loss: 0.674356  [25600/52000]\n",
      "loss: 0.496668  [32000/52000]\n",
      "loss: 0.606542  [38400/52000]\n",
      "loss: 0.489035  [44800/52000]\n",
      "loss: 0.352867  [51200/52000]\n",
      "Test Error: \n",
      " Accuracy: 84.0%, Avg loss: 0.542044 \n",
      "\n",
      "Epoch 31\n",
      "-------------------------------\n",
      "loss: 0.614132  [    0/52000]\n",
      "loss: 0.570073  [ 6400/52000]\n",
      "loss: 0.692710  [12800/52000]\n",
      "loss: 0.612807  [19200/52000]\n",
      "loss: 0.671045  [25600/52000]\n",
      "loss: 0.494403  [32000/52000]\n",
      "loss: 0.603296  [38400/52000]\n",
      "loss: 0.486899  [44800/52000]\n",
      "loss: 0.350450  [51200/52000]\n",
      "Test Error: \n",
      " Accuracy: 84.1%, Avg loss: 0.539612 \n",
      "\n",
      "Epoch 32\n",
      "-------------------------------\n",
      "loss: 0.610424  [    0/52000]\n",
      "loss: 0.567189  [ 6400/52000]\n",
      "loss: 0.689591  [12800/52000]\n",
      "loss: 0.610346  [19200/52000]\n",
      "loss: 0.667778  [25600/52000]\n",
      "loss: 0.492122  [32000/52000]\n",
      "loss: 0.600109  [38400/52000]\n",
      "loss: 0.484872  [44800/52000]\n",
      "loss: 0.348091  [51200/52000]\n",
      "Test Error: \n",
      " Accuracy: 84.2%, Avg loss: 0.537217 \n",
      "\n",
      "Epoch 33\n",
      "-------------------------------\n",
      "loss: 0.606790  [    0/52000]\n",
      "loss: 0.564413  [ 6400/52000]\n",
      "loss: 0.686517  [12800/52000]\n",
      "loss: 0.607935  [19200/52000]\n",
      "loss: 0.664735  [25600/52000]\n",
      "loss: 0.489826  [32000/52000]\n",
      "loss: 0.596994  [38400/52000]\n",
      "loss: 0.482864  [44800/52000]\n",
      "loss: 0.345750  [51200/52000]\n",
      "Test Error: \n",
      " Accuracy: 84.2%, Avg loss: 0.534854 \n",
      "\n",
      "Epoch 34\n",
      "-------------------------------\n",
      "loss: 0.603200  [    0/52000]\n",
      "loss: 0.561670  [ 6400/52000]\n",
      "loss: 0.683455  [12800/52000]\n",
      "loss: 0.605464  [19200/52000]\n",
      "loss: 0.661707  [25600/52000]\n",
      "loss: 0.487618  [32000/52000]\n",
      "loss: 0.593945  [38400/52000]\n",
      "loss: 0.480907  [44800/52000]\n",
      "loss: 0.343455  [51200/52000]\n",
      "Test Error: \n",
      " Accuracy: 84.3%, Avg loss: 0.532522 \n",
      "\n",
      "Epoch 35\n",
      "-------------------------------\n",
      "loss: 0.599682  [    0/52000]\n",
      "loss: 0.558991  [ 6400/52000]\n",
      "loss: 0.680396  [12800/52000]\n",
      "loss: 0.603074  [19200/52000]\n",
      "loss: 0.658727  [25600/52000]\n",
      "loss: 0.485462  [32000/52000]\n",
      "loss: 0.590909  [38400/52000]\n",
      "loss: 0.478931  [44800/52000]\n",
      "loss: 0.341238  [51200/52000]\n",
      "Test Error: \n",
      " Accuracy: 84.3%, Avg loss: 0.530226 \n",
      "\n",
      "Epoch 36\n",
      "-------------------------------\n",
      "loss: 0.596180  [    0/52000]\n",
      "loss: 0.556259  [ 6400/52000]\n",
      "loss: 0.677414  [12800/52000]\n",
      "loss: 0.600772  [19200/52000]\n",
      "loss: 0.655701  [25600/52000]\n",
      "loss: 0.483339  [32000/52000]\n",
      "loss: 0.587970  [38400/52000]\n",
      "loss: 0.476971  [44800/52000]\n",
      "loss: 0.339060  [51200/52000]\n",
      "Test Error: \n",
      " Accuracy: 84.4%, Avg loss: 0.527966 \n",
      "\n",
      "Epoch 37\n",
      "-------------------------------\n",
      "loss: 0.592738  [    0/52000]\n",
      "loss: 0.553603  [ 6400/52000]\n",
      "loss: 0.674460  [12800/52000]\n",
      "loss: 0.598496  [19200/52000]\n",
      "loss: 0.652617  [25600/52000]\n",
      "loss: 0.481302  [32000/52000]\n",
      "loss: 0.585067  [38400/52000]\n",
      "loss: 0.475071  [44800/52000]\n",
      "loss: 0.336846  [51200/52000]\n",
      "Test Error: \n",
      " Accuracy: 84.5%, Avg loss: 0.525737 \n",
      "\n",
      "Epoch 38\n",
      "-------------------------------\n",
      "loss: 0.589350  [    0/52000]\n",
      "loss: 0.550972  [ 6400/52000]\n",
      "loss: 0.671533  [12800/52000]\n",
      "loss: 0.596140  [19200/52000]\n",
      "loss: 0.649564  [25600/52000]\n",
      "loss: 0.479261  [32000/52000]\n",
      "loss: 0.582145  [38400/52000]\n",
      "loss: 0.473236  [44800/52000]\n",
      "loss: 0.334690  [51200/52000]\n",
      "Test Error: \n",
      " Accuracy: 84.5%, Avg loss: 0.523532 \n",
      "\n",
      "Epoch 39\n",
      "-------------------------------\n",
      "loss: 0.585937  [    0/52000]\n",
      "loss: 0.548316  [ 6400/52000]\n",
      "loss: 0.668646  [12800/52000]\n",
      "loss: 0.593878  [19200/52000]\n",
      "loss: 0.646530  [25600/52000]\n",
      "loss: 0.477217  [32000/52000]\n",
      "loss: 0.579327  [38400/52000]\n",
      "loss: 0.471334  [44800/52000]\n",
      "loss: 0.332560  [51200/52000]\n",
      "Test Error: \n",
      " Accuracy: 84.6%, Avg loss: 0.521365 \n",
      "\n",
      "Epoch 40\n",
      "-------------------------------\n",
      "loss: 0.582638  [    0/52000]\n",
      "loss: 0.545791  [ 6400/52000]\n",
      "loss: 0.665878  [12800/52000]\n",
      "loss: 0.591614  [19200/52000]\n",
      "loss: 0.643457  [25600/52000]\n",
      "loss: 0.475232  [32000/52000]\n",
      "loss: 0.576523  [38400/52000]\n",
      "loss: 0.469538  [44800/52000]\n",
      "loss: 0.330531  [51200/52000]\n",
      "Test Error: \n",
      " Accuracy: 84.7%, Avg loss: 0.519225 \n",
      "\n",
      "Epoch 41\n",
      "-------------------------------\n",
      "loss: 0.579374  [    0/52000]\n",
      "loss: 0.543230  [ 6400/52000]\n",
      "loss: 0.663097  [12800/52000]\n",
      "loss: 0.589424  [19200/52000]\n",
      "loss: 0.640402  [25600/52000]\n",
      "loss: 0.473214  [32000/52000]\n",
      "loss: 0.573732  [38400/52000]\n",
      "loss: 0.467830  [44800/52000]\n",
      "loss: 0.328559  [51200/52000]\n",
      "Test Error: \n",
      " Accuracy: 84.7%, Avg loss: 0.517118 \n",
      "\n",
      "Epoch 42\n",
      "-------------------------------\n",
      "loss: 0.576115  [    0/52000]\n",
      "loss: 0.540758  [ 6400/52000]\n",
      "loss: 0.660421  [12800/52000]\n",
      "loss: 0.587275  [19200/52000]\n",
      "loss: 0.637461  [25600/52000]\n",
      "loss: 0.471235  [32000/52000]\n",
      "loss: 0.570982  [38400/52000]\n",
      "loss: 0.465936  [44800/52000]\n",
      "loss: 0.326637  [51200/52000]\n",
      "Test Error: \n",
      " Accuracy: 84.8%, Avg loss: 0.515035 \n",
      "\n",
      "Epoch 43\n",
      "-------------------------------\n",
      "loss: 0.572920  [    0/52000]\n",
      "loss: 0.538294  [ 6400/52000]\n",
      "loss: 0.657774  [12800/52000]\n",
      "loss: 0.585133  [19200/52000]\n",
      "loss: 0.634569  [25600/52000]\n",
      "loss: 0.469183  [32000/52000]\n",
      "loss: 0.568260  [38400/52000]\n",
      "loss: 0.464144  [44800/52000]\n",
      "loss: 0.324724  [51200/52000]\n",
      "Test Error: \n",
      " Accuracy: 84.9%, Avg loss: 0.512987 \n",
      "\n",
      "Epoch 44\n",
      "-------------------------------\n",
      "loss: 0.569848  [    0/52000]\n",
      "loss: 0.535759  [ 6400/52000]\n",
      "loss: 0.655202  [12800/52000]\n",
      "loss: 0.583013  [19200/52000]\n",
      "loss: 0.631642  [25600/52000]\n",
      "loss: 0.467257  [32000/52000]\n",
      "loss: 0.565526  [38400/52000]\n",
      "loss: 0.462441  [44800/52000]\n",
      "loss: 0.322818  [51200/52000]\n",
      "Test Error: \n",
      " Accuracy: 85.0%, Avg loss: 0.510962 \n",
      "\n",
      "Epoch 45\n",
      "-------------------------------\n",
      "loss: 0.566757  [    0/52000]\n",
      "loss: 0.533307  [ 6400/52000]\n",
      "loss: 0.652616  [12800/52000]\n",
      "loss: 0.580893  [19200/52000]\n",
      "loss: 0.628715  [25600/52000]\n",
      "loss: 0.465293  [32000/52000]\n",
      "loss: 0.562857  [38400/52000]\n",
      "loss: 0.460777  [44800/52000]\n",
      "loss: 0.321030  [51200/52000]\n",
      "Test Error: \n",
      " Accuracy: 85.0%, Avg loss: 0.508971 \n",
      "\n",
      "Epoch 46\n",
      "-------------------------------\n",
      "loss: 0.563720  [    0/52000]\n"
     ]
    },
    {
     "name": "stdout",
     "output_type": "stream",
     "text": [
      "loss: 0.530900  [ 6400/52000]\n",
      "loss: 0.650106  [12800/52000]\n",
      "loss: 0.578758  [19200/52000]\n",
      "loss: 0.625800  [25600/52000]\n",
      "loss: 0.463349  [32000/52000]\n",
      "loss: 0.560217  [38400/52000]\n",
      "loss: 0.459169  [44800/52000]\n",
      "loss: 0.319242  [51200/52000]\n",
      "Test Error: \n",
      " Accuracy: 85.1%, Avg loss: 0.507002 \n",
      "\n",
      "Epoch 47\n",
      "-------------------------------\n",
      "loss: 0.560725  [    0/52000]\n",
      "loss: 0.528459  [ 6400/52000]\n",
      "loss: 0.647490  [12800/52000]\n",
      "loss: 0.576554  [19200/52000]\n",
      "loss: 0.622876  [25600/52000]\n",
      "loss: 0.461491  [32000/52000]\n",
      "loss: 0.557631  [38400/52000]\n",
      "loss: 0.457600  [44800/52000]\n",
      "loss: 0.317473  [51200/52000]\n",
      "Test Error: \n",
      " Accuracy: 85.1%, Avg loss: 0.505057 \n",
      "\n",
      "Epoch 48\n",
      "-------------------------------\n",
      "loss: 0.557679  [    0/52000]\n",
      "loss: 0.526045  [ 6400/52000]\n",
      "loss: 0.644972  [12800/52000]\n",
      "loss: 0.574460  [19200/52000]\n",
      "loss: 0.619813  [25600/52000]\n",
      "loss: 0.459547  [32000/52000]\n",
      "loss: 0.555110  [38400/52000]\n",
      "loss: 0.456036  [44800/52000]\n",
      "loss: 0.315771  [51200/52000]\n",
      "Test Error: \n",
      " Accuracy: 85.2%, Avg loss: 0.503134 \n",
      "\n",
      "Epoch 49\n",
      "-------------------------------\n",
      "loss: 0.554654  [    0/52000]\n",
      "loss: 0.523768  [ 6400/52000]\n",
      "loss: 0.642525  [12800/52000]\n",
      "loss: 0.572393  [19200/52000]\n",
      "loss: 0.616742  [25600/52000]\n",
      "loss: 0.457656  [32000/52000]\n",
      "loss: 0.552617  [38400/52000]\n",
      "loss: 0.454529  [44800/52000]\n",
      "loss: 0.314032  [51200/52000]\n",
      "Test Error: \n",
      " Accuracy: 85.3%, Avg loss: 0.501241 \n",
      "\n",
      "Epoch 50\n",
      "-------------------------------\n",
      "loss: 0.551680  [    0/52000]\n",
      "loss: 0.521553  [ 6400/52000]\n",
      "loss: 0.640133  [12800/52000]\n",
      "loss: 0.570294  [19200/52000]\n",
      "loss: 0.613839  [25600/52000]\n",
      "loss: 0.455822  [32000/52000]\n",
      "loss: 0.550032  [38400/52000]\n",
      "loss: 0.453074  [44800/52000]\n",
      "loss: 0.312303  [51200/52000]\n",
      "Test Error: \n",
      " Accuracy: 85.3%, Avg loss: 0.499370 \n",
      "\n"
     ]
    }
   ],
   "source": [
    "loss_fn = nn.CrossEntropyLoss()\n",
    "optimizer = torch.optim.SGD(model_lin3.parameters(), lr=0.001)\n",
    "learning_cycle(100, model_lin3, loss_fn, optimizer)"
   ]
  },
  {
   "cell_type": "code",
   "execution_count": 26,
   "metadata": {},
   "outputs": [
    {
     "data": {
      "text/plain": [
       "torch.Size([28, 28, 3])"
      ]
     },
     "execution_count": 26,
     "metadata": {},
     "output_type": "execute_result"
    }
   ],
   "source": [
    "X_train[0].shape"
   ]
  },
  {
   "cell_type": "code",
   "execution_count": 29,
   "metadata": {},
   "outputs": [],
   "source": [
    "pred = model_lin3(X_train[30000].reshape([1,28,28,3]))"
   ]
  },
  {
   "cell_type": "code",
   "execution_count": 30,
   "metadata": {},
   "outputs": [
    {
     "data": {
      "text/plain": [
       "(tensor([[ 1.0993,  0.5538,  0.7079,  1.2388,  2.4340, -3.4347,  2.0249, -4.4850,\n",
       "           2.1795,  4.6166, -2.8972, -0.7925, -4.5708,  0.0577,  0.2800, -6.4989,\n",
       "           1.5176, -0.1443,  7.2079, -0.5022, -0.1008, -0.4243, -1.7218,  0.7388,\n",
       "          -2.8633,  2.2253]], grad_fn=<AddmmBackward0>),\n",
       " 18)"
      ]
     },
     "execution_count": 30,
     "metadata": {},
     "output_type": "execute_result"
    }
   ],
   "source": [
    "pred,y_train[30000]"
   ]
  },
  {
   "cell_type": "code",
   "execution_count": 35,
   "metadata": {},
   "outputs": [],
   "source": [
    "#torch.save(model_lin3.state_dict(), \"my_models/model85.pth\")"
   ]
  },
  {
   "cell_type": "code",
   "execution_count": 39,
   "metadata": {},
   "outputs": [],
   "source": [
    "class NeuralNetwork2(nn.Module):\n",
    "    def __init__(self):\n",
    "        super(NeuralNetwork2, self).__init__()\n",
    "        self.flatten = nn.Flatten()\n",
    "        self.linear_sigmoid_stack = nn.Sequential(\n",
    "            nn.Linear(28*28*3, 512),\n",
    "            nn.Sigmoid(),\n",
    "            nn.Linear(512, 26),\n",
    "        )\n",
    "\n",
    "    def forward(self, x):\n",
    "        x = self.flatten(x)\n",
    "        logits = self.linear_sigmoid_stack(x)\n",
    "        return logits"
   ]
  },
  {
   "cell_type": "code",
   "execution_count": 40,
   "metadata": {},
   "outputs": [],
   "source": [
    "model_lin2 = NeuralNetwork2()"
   ]
  },
  {
   "cell_type": "code",
   "execution_count": 46,
   "metadata": {},
   "outputs": [
    {
     "name": "stdout",
     "output_type": "stream",
     "text": [
      "Epoch 1\n",
      "-------------------------------\n",
      "loss: 0.549083  [    0/52000]\n",
      "loss: 0.507683  [ 6400/52000]\n",
      "loss: 0.648807  [12800/52000]\n",
      "loss: 0.589073  [19200/52000]\n",
      "loss: 0.531380  [25600/52000]\n",
      "loss: 0.462308  [32000/52000]\n",
      "loss: 0.565522  [38400/52000]\n",
      "loss: 0.466036  [44800/52000]\n",
      "loss: 0.346613  [51200/52000]\n",
      "Test Error: \n",
      " Accuracy: 84.8%, Avg loss: 0.516435 \n",
      "\n",
      "Epoch 2\n",
      "-------------------------------\n",
      "loss: 0.545505  [    0/52000]\n",
      "loss: 0.504979  [ 6400/52000]\n",
      "loss: 0.645497  [12800/52000]\n",
      "loss: 0.586558  [19200/52000]\n",
      "loss: 0.527310  [25600/52000]\n",
      "loss: 0.460179  [32000/52000]\n",
      "loss: 0.562188  [38400/52000]\n",
      "loss: 0.463829  [44800/52000]\n",
      "loss: 0.344195  [51200/52000]\n",
      "Test Error: \n",
      " Accuracy: 84.9%, Avg loss: 0.513959 \n",
      "\n",
      "Epoch 3\n",
      "-------------------------------\n",
      "loss: 0.541983  [    0/52000]\n",
      "loss: 0.502310  [ 6400/52000]\n",
      "loss: 0.642231  [12800/52000]\n",
      "loss: 0.584071  [19200/52000]\n",
      "loss: 0.523289  [25600/52000]\n",
      "loss: 0.458080  [32000/52000]\n",
      "loss: 0.558894  [38400/52000]\n",
      "loss: 0.461660  [44800/52000]\n",
      "loss: 0.341810  [51200/52000]\n",
      "Test Error: \n",
      " Accuracy: 84.9%, Avg loss: 0.511522 \n",
      "\n",
      "Epoch 4\n",
      "-------------------------------\n",
      "loss: 0.538517  [    0/52000]\n",
      "loss: 0.499676  [ 6400/52000]\n",
      "loss: 0.639009  [12800/52000]\n",
      "loss: 0.581613  [19200/52000]\n",
      "loss: 0.519318  [25600/52000]\n",
      "loss: 0.456009  [32000/52000]\n",
      "loss: 0.555640  [38400/52000]\n",
      "loss: 0.459527  [44800/52000]\n",
      "loss: 0.339458  [51200/52000]\n",
      "Test Error: \n",
      " Accuracy: 85.0%, Avg loss: 0.509124 \n",
      "\n",
      "Epoch 5\n",
      "-------------------------------\n",
      "loss: 0.535106  [    0/52000]\n",
      "loss: 0.497077  [ 6400/52000]\n",
      "loss: 0.635829  [12800/52000]\n",
      "loss: 0.579183  [19200/52000]\n",
      "loss: 0.515394  [25600/52000]\n",
      "loss: 0.453965  [32000/52000]\n",
      "loss: 0.552425  [38400/52000]\n",
      "loss: 0.457430  [44800/52000]\n",
      "loss: 0.337138  [51200/52000]\n",
      "Test Error: \n",
      " Accuracy: 85.1%, Avg loss: 0.506764 \n",
      "\n",
      "Epoch 6\n",
      "-------------------------------\n",
      "loss: 0.531748  [    0/52000]\n",
      "loss: 0.494510  [ 6400/52000]\n",
      "loss: 0.632690  [12800/52000]\n",
      "loss: 0.576779  [19200/52000]\n",
      "loss: 0.511518  [25600/52000]\n",
      "loss: 0.451949  [32000/52000]\n",
      "loss: 0.549247  [38400/52000]\n",
      "loss: 0.455367  [44800/52000]\n",
      "loss: 0.334850  [51200/52000]\n",
      "Test Error: \n",
      " Accuracy: 85.2%, Avg loss: 0.504442 \n",
      "\n",
      "Epoch 7\n",
      "-------------------------------\n",
      "loss: 0.528442  [    0/52000]\n",
      "loss: 0.491976  [ 6400/52000]\n",
      "loss: 0.629590  [12800/52000]\n",
      "loss: 0.574400  [19200/52000]\n",
      "loss: 0.507689  [25600/52000]\n",
      "loss: 0.449958  [32000/52000]\n",
      "loss: 0.546108  [38400/52000]\n",
      "loss: 0.453338  [44800/52000]\n",
      "loss: 0.332593  [51200/52000]\n",
      "Test Error: \n",
      " Accuracy: 85.3%, Avg loss: 0.502156 \n",
      "\n",
      "Epoch 8\n",
      "-------------------------------\n",
      "loss: 0.525187  [    0/52000]\n",
      "loss: 0.489475  [ 6400/52000]\n",
      "loss: 0.626529  [12800/52000]\n",
      "loss: 0.572046  [19200/52000]\n",
      "loss: 0.503907  [25600/52000]\n",
      "loss: 0.447993  [32000/52000]\n",
      "loss: 0.543007  [38400/52000]\n",
      "loss: 0.451342  [44800/52000]\n",
      "loss: 0.330366  [51200/52000]\n",
      "Test Error: \n",
      " Accuracy: 85.3%, Avg loss: 0.499905 \n",
      "\n",
      "Epoch 9\n",
      "-------------------------------\n",
      "loss: 0.521982  [    0/52000]\n",
      "loss: 0.487005  [ 6400/52000]\n",
      "loss: 0.623506  [12800/52000]\n",
      "loss: 0.569717  [19200/52000]\n",
      "loss: 0.500171  [25600/52000]\n",
      "loss: 0.446053  [32000/52000]\n",
      "loss: 0.539941  [38400/52000]\n",
      "loss: 0.449377  [44800/52000]\n",
      "loss: 0.328170  [51200/52000]\n",
      "Test Error: \n",
      " Accuracy: 85.4%, Avg loss: 0.497690 \n",
      "\n",
      "Epoch 10\n",
      "-------------------------------\n",
      "loss: 0.518827  [    0/52000]\n",
      "loss: 0.484565  [ 6400/52000]\n",
      "loss: 0.620520  [12800/52000]\n",
      "loss: 0.567411  [19200/52000]\n",
      "loss: 0.496480  [25600/52000]\n",
      "loss: 0.444137  [32000/52000]\n",
      "loss: 0.536912  [38400/52000]\n",
      "loss: 0.447443  [44800/52000]\n",
      "loss: 0.326003  [51200/52000]\n",
      "Test Error: \n",
      " Accuracy: 85.4%, Avg loss: 0.495509 \n",
      "\n"
     ]
    }
   ],
   "source": [
    "loss_fn = nn.CrossEntropyLoss()\n",
    "optimizer2 = torch.optim.SGD(model_lin2.parameters(), lr=0.01)\n",
    "learning_cycle(10, model_lin2, loss_fn, optimizer2)"
   ]
  },
  {
   "cell_type": "markdown",
   "metadata": {},
   "source": [
    "судя по всему более простая модель только с двумя линейными слоями и учится значительно быстрее и выдает результаты далеко не хуже с точки зрения метрик"
   ]
  },
  {
   "cell_type": "markdown",
   "metadata": {},
   "source": [
    "так же большое значение играет здесь learning rate "
   ]
  },
  {
   "cell_type": "code",
   "execution_count": 47,
   "metadata": {},
   "outputs": [],
   "source": [
    "Xt,yt = get_data_and_targets_lst(\"images/test\")"
   ]
  },
  {
   "cell_type": "code",
   "execution_count": 48,
   "metadata": {},
   "outputs": [],
   "source": [
    "final_test_dataset = MyDataset(Xt, yt)\n",
    "final_test_dataloader = DataLoader(final_test_dataset, batch_size=batch_size)"
   ]
  },
  {
   "cell_type": "code",
   "execution_count": 51,
   "metadata": {},
   "outputs": [
    {
     "data": {
      "text/plain": [
       "0.8495384615384616"
      ]
     },
     "execution_count": 51,
     "metadata": {},
     "output_type": "execute_result"
    }
   ],
   "source": [
    "get_model_accuracy(final_test_dataloader, model_lin3)"
   ]
  },
  {
   "cell_type": "code",
   "execution_count": 52,
   "metadata": {},
   "outputs": [
    {
     "data": {
      "text/plain": [
       "0.8506153846153847"
      ]
     },
     "execution_count": 52,
     "metadata": {},
     "output_type": "execute_result"
    }
   ],
   "source": [
    "get_model_accuracy(final_test_dataloader, model_lin2)"
   ]
  },
  {
   "cell_type": "markdown",
   "metadata": {},
   "source": [
    "# 1.2"
   ]
  },
  {
   "cell_type": "code",
   "execution_count": 103,
   "metadata": {},
   "outputs": [],
   "source": [
    "from sklearn.metrics import confusion_matrix\n",
    "import seaborn as sns\n",
    "import pandas as pd"
   ]
  },
  {
   "cell_type": "code",
   "execution_count": 87,
   "metadata": {},
   "outputs": [
    {
     "data": {
      "text/plain": [
       "13000"
      ]
     },
     "execution_count": 87,
     "metadata": {},
     "output_type": "execute_result"
    }
   ],
   "source": [
    "predictions = get_all_model_predictions(final_test_dataloader, model_lin2)\n",
    "len(predictions)"
   ]
  },
  {
   "cell_type": "code",
   "execution_count": 88,
   "metadata": {},
   "outputs": [
    {
     "name": "stdout",
     "output_type": "stream",
     "text": [
      "500.0\n"
     ]
    }
   ],
   "source": [
    "print(13000/26)"
   ]
  },
  {
   "cell_type": "code",
   "execution_count": 89,
   "metadata": {},
   "outputs": [],
   "source": [
    "cf_matrix = confusion_matrix(yt, predictions)"
   ]
  },
  {
   "cell_type": "code",
   "execution_count": 93,
   "metadata": {},
   "outputs": [
    {
     "data": {
      "text/plain": [
       "<AxesSubplot:>"
      ]
     },
     "execution_count": 93,
     "metadata": {},
     "output_type": "execute_result"
    },
    {
     "data": {
      "image/png": "[encoded data removed]",
      "text/plain": [
       "<Figure size 1224x936 with 2 Axes>"
      ]
     },
     "metadata": {
      "needs_background": "light"
     },
     "output_type": "display_data"
    }
   ],
   "source": [
    "plt.figure(figsize=(17,13))\n",
    "sns.heatmap(cf_matrix, annot=True)"
   ]
  },
  {
   "cell_type": "code",
   "execution_count": 127,
   "metadata": {},
   "outputs": [
    {
     "data": {
      "text/plain": [
       "<BarContainer object of 26 artists>"
      ]
     },
     "execution_count": 127,
     "metadata": {},
     "output_type": "execute_result"
    },
    {
     "data": {
      "image/png": "[encoded data removed]",
      "text/plain": [
       "<Figure size 1080x720 with 1 Axes>"
      ]
     },
     "metadata": {
      "needs_background": "light"
     },
     "output_type": "display_data"
    }
   ],
   "source": [
    "plt.figure(figsize=(15,10))\n",
    "letters_stat = [cf_matrix[i][i] for i in range(26)]\n",
    "plt.bar([chr(i+97) for i in range(26)], letters_stat)"
   ]
  },
  {
   "cell_type": "code",
   "execution_count": 131,
   "metadata": {},
   "outputs": [
    {
     "data": {
      "text/plain": [
       "'o'"
      ]
     },
     "execution_count": 131,
     "metadata": {},
     "output_type": "execute_result"
    }
   ],
   "source": [
    "chr(np.array(letters_stat).argmax() + 97)"
   ]
  },
  {
   "cell_type": "code",
   "execution_count": 132,
   "metadata": {},
   "outputs": [
    {
     "data": {
      "text/plain": [
       "'l'"
      ]
     },
     "execution_count": 132,
     "metadata": {},
     "output_type": "execute_result"
    }
   ],
   "source": [
    "chr(np.array(letters_stat).argmin() + 97)"
   ]
  },
  {
   "cell_type": "markdown",
   "metadata": {},
   "source": [
    "# 1.3"
   ]
  },
  {
   "cell_type": "code",
   "execution_count": null,
   "metadata": {},
   "outputs": [],
   "source": []
  },
  {
   "cell_type": "code",
   "execution_count": null,
   "metadata": {},
   "outputs": [],
   "source": []
  },
  {
   "cell_type": "code",
   "execution_count": null,
   "metadata": {},
   "outputs": [],
   "source": []
  },
  {
   "cell_type": "code",
   "execution_count": null,
   "metadata": {},
   "outputs": [],
   "source": []
  },
  {
   "cell_type": "markdown",
   "metadata": {},
   "source": [
    "# 1.4 "
   ]
  },
  {
   "cell_type": "code",
   "execution_count": 134,
   "metadata": {},
   "outputs": [
    {
     "data": {
      "text/plain": [
       "0.902"
      ]
     },
     "execution_count": 134,
     "metadata": {},
     "output_type": "execute_result"
    }
   ],
   "source": [
    "sind = ord(\"s\") - 97\n",
    "cf_matrix[sind][sind]/500"
   ]
  },
  {
   "cell_type": "code",
   "execution_count": 135,
   "metadata": {},
   "outputs": [
    {
     "data": {
      "text/plain": [
       "18"
      ]
     },
     "execution_count": 135,
     "metadata": {},
     "output_type": "execute_result"
    }
   ],
   "source": [
    "sind"
   ]
  },
  {
   "cell_type": "markdown",
   "metadata": {},
   "source": [
    "судя по confusion_matrix чаще всего модель путает букву \"s\" с буквами под номерами 6 и 9"
   ]
  },
  {
   "cell_type": "code",
   "execution_count": 139,
   "metadata": {},
   "outputs": [
    {
     "data": {
      "text/plain": [
       "('g', 'j')"
      ]
     },
     "execution_count": 139,
     "metadata": {},
     "output_type": "execute_result"
    }
   ],
   "source": [
    "chr(97+6), chr(97+9)"
   ]
  },
  {
   "cell_type": "code",
   "execution_count": null,
   "metadata": {},
   "outputs": [],
   "source": []
  },
  {
   "cell_type": "markdown",
   "metadata": {},
   "source": [
    "# 3"
   ]
  },
  {
   "cell_type": "markdown",
   "metadata": {},
   "source": [
    "здесь выгрузим пару моделей из обученных мной и продемонстрируем результаты на тестовых данных"
   ]
  },
  {
   "cell_type": "code",
   "execution_count": null,
   "metadata": {},
   "outputs": [],
   "source": []
  },
  {
   "cell_type": "code",
   "execution_count": null,
   "metadata": {},
   "outputs": [],
   "source": []
  },
  {
   "cell_type": "markdown",
   "metadata": {},
   "source": [
    "### Задание 1  \n",
    "  \n",
    "*Вес в общей оценке - 0.35*  \n",
    "  \n",
    "1. Постройте и обучите модели с 2-мя и 3-мя полносвязными (dense) скрытыми слоями.  \n",
    "При моделировании необходимо попробовать разные параметры нейронной сети - число нейронов на каждом слое, learning rate, batch size, функции активации, регуляризации и т.д. Оцените качество моделей с различными параметрами, проведите сравнительный анализ. \n",
    "2. Для наилучшей модели постройте confusion matrix результатов предсказаний модели на тестовых данных.  \n",
    "Насколько равномерно обучилась ваша модель? Приведите буквы с самой лучшей и с самой худшей точностью детекции.\n",
    "3. Найдите 10 пар букв, которые чаще всего путаются между собой, дайте возможное объяснение. Приведите примеры с картинками, которые были детектированы с ошибкой.\n",
    "4. Возьмите первую букву вашей фамилии и укажите её точность детекции. С какими буквами ваша модель чаще всего путает эту букву?     "
   ]
  },
  {
   "cell_type": "markdown",
   "metadata": {},
   "source": [
    "### Задание 2  \n",
    "  \n",
    "*Вес в общей оценке - 0.35*  \n",
    "  \n",
    "1. Постройте и обучите модели нейронной сети с 1-м, 2-мя и 3-мя сверточными слоями.  \n",
    "Попробуйте различные значения параметров сверток и числа фильтров на каждом слое. Оцените качество моделей с различными параметрами, проведите сравнительный анализ.  \n",
    "2. Для наилучшей конфигурации из предыдущего пункта, сравните, как меняется качество модели при увеличении размера батча при использовании BatchNorm и GroupNorm.    "
   ]
  },
  {
   "cell_type": "markdown",
   "metadata": {},
   "source": [
    "### Задание 3    \n",
    "  \n",
    "Обучите модель с точностью (accuracy) на тестовых данных:  \n",
    "- `>= 0.85`    +1 балл\n",
    "- `>= 0.95`    +2 балла\n",
    "- `>= 0.99`    +3 балла  "
   ]
  },
  {
   "cell_type": "markdown",
   "metadata": {},
   "source": [
    "## Бонусные задания"
   ]
  },
  {
   "cell_type": "markdown",
   "metadata": {},
   "source": [
    "**Задание 1 (1 балл).**  \n",
    "\n",
    "Напишите на листке белой бумаги (маркером или ручкой) от 5 разных букв (можно больше 5 букв в целом с повторениями, но должно быть минимум 5 разных) английского алфавита (в датасете есть как прописные, так и строчные буквы). Сфотографируйте букву и приведите её картинку к размеру $28\\times28$ и, желательно, к чёрно-белой палитре цветов. Передайте получившиеся изображения вашей модели и выполните предсказание, оцените результат.  \n",
    "  \n",
    "**Tips:**  \n",
    "- В датасете все буквы занимают практически всё пространство картинки по высоте или ширине (или вместе). Если ваша буква будет слишком маленькой или большой, это может повлиять на результат детекции.\n",
    "- Помните, что буква должна быть белого цвета, а фон - чёрного.\n",
    "- Описание ваших действий при выполнении этого задания (что вы использовали, чтобы привести картинку к нужному виду) категорически приветствуется :)"
   ]
  },
  {
   "cell_type": "markdown",
   "metadata": {},
   "source": [
    "**Задание 2 (1 балл):**    \n",
    "  \n",
    "Используйте transfer learning подход для решения задачи - дообучите какую-либо модель, предобученную на ImageNet, для классификации рукописных букв. Оцените качество решения.  \n",
    "В качестве предобученой модели можно взять одну из [torchvision models](https://pytorch.org/vision/stable/models.html)."
   ]
  },
  {
   "cell_type": "markdown",
   "metadata": {},
   "source": [
    "**Задание 3 (1 балл):**  \n",
    "  \n",
    "Добавьте вывод значений функции потерь и accuracy в tensorboard.  \n",
    "Метрики нужно выводить и для обучающей, и для тестовой выборки."
   ]
  }
 ],
 "metadata": {
  "kernelspec": {
   "display_name": "Python 3 (ipykernel)",
   "language": "python",
   "name": "python3"
  },
  "language_info": {
   "codemirror_mode": {
    "name": "ipython",
    "version": 3
   },
   "file_extension": ".py",
   "mimetype": "text/x-python",
   "name": "python",
   "nbconvert_exporter": "python",
   "pygments_lexer": "ipython3",
   "version": "3.8.5"
  }
 },
 "nbformat": 4,
 "nbformat_minor": 2
}
