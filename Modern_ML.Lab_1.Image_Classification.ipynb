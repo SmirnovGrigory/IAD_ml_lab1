{
 "cells": [
  {
   "cell_type": "markdown",
   "metadata": {},
   "source": [
    "# <center> Майнор \"Интеллектуальный анализ данных\" </center>"
   ]
  },
  {
   "cell_type": "markdown",
   "metadata": {},
   "source": [
    "# <center> Курс \"Современные методы машинного обучения\" </center>"
   ]
  },
  {
   "cell_type": "markdown",
   "metadata": {},
   "source": [
    "# <center> Лабораторная работа №1. Image Classification. </center>"
   ]
  },
  {
   "cell_type": "markdown",
   "metadata": {},
   "source": [
    "В данной лабораторной работе вам предлагается обучить модель на основе нейронной сети для распознавания рукописных букв английского алфавита."
   ]
  },
  {
   "cell_type": "markdown",
   "metadata": {},
   "source": [
    "## Данные"
   ]
  },
  {
   "cell_type": "markdown",
   "metadata": {},
   "source": [
    "Данные представлены двумя датасетами: обучающим (`train`) и тестовым (`test`). Изображения для каждого датасета находятся в `images.zip`.  \n",
    "  \n",
    "Обучающая выборка состоит из 65000 изображений - по 2500 изображений для каждой буквы.  \n",
    "Тестовая выборка состоит из 13000 изображений - по 500 изображений для каждой буквы.  \n",
    "  \n",
    "Все изображения - монохромные (но в формате RGB), размерности $28 \\times 28$ пикселей, в формате JPEG. \n",
    "В названии каждого файла содержатся буква, которая представлена на изображении, и уникальный номер изображения: `a_00002.jpg`.  \n",
    "  \n",
    "**NB:** Все изображения представлены в перевернутом виде, для корректного отображения их нужно сначала транспонировать. "
   ]
  },
  {
   "cell_type": "code",
   "execution_count": 1,
   "metadata": {},
   "outputs": [],
   "source": [
    "import numpy as np\n",
    "import matplotlib.pyplot as plt\n",
    "import torch"
   ]
  },
  {
   "cell_type": "code",
   "execution_count": 2,
   "metadata": {},
   "outputs": [
    {
     "name": "stdout",
     "output_type": "stream",
     "text": [
      "(28, 28, 3)\n"
     ]
    }
   ],
   "source": [
    "pic = plt.imread('images/train/a/a_00002.jpg')\n",
    "print(pic.shape)"
   ]
  },
  {
   "cell_type": "code",
   "execution_count": 3,
   "metadata": {},
   "outputs": [],
   "source": [
    "pic = np.transpose(pic, axes=(1, 0, 2))"
   ]
  },
  {
   "cell_type": "code",
   "execution_count": 4,
   "metadata": {},
   "outputs": [
    {
     "data": {
      "image/png": "[encoded data removed]",
      "text/plain": [
       "<Figure size 144x144 with 1 Axes>"
      ]
     },
     "metadata": {
      "needs_background": "light"
     },
     "output_type": "display_data"
    }
   ],
   "source": [
    "plt.figure(figsize=(2,2))\n",
    "plt.imshow(pic)\n",
    "plt.show()"
   ]
  },
  {
   "cell_type": "code",
   "execution_count": 65,
   "metadata": {},
   "outputs": [
    {
     "data": {
      "text/plain": [
       "tensor([[[0, 0, 0],\n",
       "         [0, 0, 0],\n",
       "         [0, 0, 0],\n",
       "         ...,\n",
       "         [3, 3, 3],\n",
       "         [3, 3, 3],\n",
       "         [4, 4, 4]],\n",
       "\n",
       "        [[0, 0, 0],\n",
       "         [0, 0, 0],\n",
       "         [0, 0, 0],\n",
       "         ...,\n",
       "         [0, 0, 0],\n",
       "         [0, 0, 0],\n",
       "         [0, 0, 0]],\n",
       "\n",
       "        [[0, 0, 0],\n",
       "         [0, 0, 0],\n",
       "         [0, 0, 0],\n",
       "         ...,\n",
       "         [2, 2, 2],\n",
       "         [0, 0, 0],\n",
       "         [0, 0, 0]],\n",
       "\n",
       "        ...,\n",
       "\n",
       "        [[1, 1, 1],\n",
       "         [1, 1, 1],\n",
       "         [1, 1, 1],\n",
       "         ...,\n",
       "         [0, 0, 0],\n",
       "         [0, 0, 0],\n",
       "         [0, 0, 0]],\n",
       "\n",
       "        [[1, 1, 1],\n",
       "         [1, 1, 1],\n",
       "         [1, 1, 1],\n",
       "         ...,\n",
       "         [0, 0, 0],\n",
       "         [0, 0, 0],\n",
       "         [0, 0, 0]],\n",
       "\n",
       "        [[0, 0, 0],\n",
       "         [0, 0, 0],\n",
       "         [0, 0, 0],\n",
       "         ...,\n",
       "         [0, 0, 0],\n",
       "         [0, 0, 0],\n",
       "         [0, 0, 0]]], dtype=torch.uint8)"
      ]
     },
     "execution_count": 65,
     "metadata": {},
     "output_type": "execute_result"
    }
   ],
   "source": [
    "torch.tensor(pic)"
   ]
  },
  {
   "cell_type": "markdown",
   "metadata": {},
   "source": [
    "Ваша задача - создать и обучить модель на основе нейронной сети, которая будет предсказывать букву на картинке.  \n",
    "Обучение необходимо проводить на данных из `train`, качество модели проверять на данных из `test`.  \n",
    "Целевая метрика - accuracy.  \n",
    "Для моделирования необходимо использовать `pytorch`."
   ]
  },
  {
   "cell_type": "markdown",
   "metadata": {},
   "source": [
    "## Основные задания"
   ]
  },
  {
   "cell_type": "code",
   "execution_count": 2,
   "metadata": {},
   "outputs": [],
   "source": [
    "import os\n",
    "from sklearn.model_selection import train_test_split\n",
    "from torch import nn\n",
    "from torch.utils.data import DataLoader"
   ]
  },
  {
   "cell_type": "code",
   "execution_count": 9,
   "metadata": {},
   "outputs": [],
   "source": [
    "def get_data_and_targets_lst(path):\n",
    "    data=[]\n",
    "    targets=[]\n",
    "    for root, currentDirectory, files in os.walk(path):\n",
    "        for file in files:\n",
    "            pic = plt.imread(os.path.join(root, file))\n",
    "            pic = torch.tensor(np.transpose(pic, axes=(1, 0, 2)))\n",
    "            pic = torch.div(pic, 255)\n",
    "            target = ord(file[0]) - ord('a')\n",
    "            data.append(pic)\n",
    "            targets.append(target)\n",
    "    return data,targets"
   ]
  },
  {
   "cell_type": "code",
   "execution_count": 4,
   "metadata": {},
   "outputs": [],
   "source": [
    "class MyDataset(torch.utils.data.Dataset): \n",
    "    \n",
    "    def __init__(self, x, y):\n",
    "        self.x=x\n",
    "        self.y=y\n",
    "        \n",
    "    def __len__(self):\n",
    "        return len(self.x)\n",
    "    \n",
    "    def __getitem__(self, idx):\n",
    "        #return {'sample': self.x[idx], 'target': self.y[idx]}\n",
    "        return self.x[idx],self.y[idx]"
   ]
  },
  {
   "cell_type": "code",
   "execution_count": 8,
   "metadata": {},
   "outputs": [],
   "source": [
    "X,y = get_data_and_targets_lst(\"images/train\")"
   ]
  },
  {
   "cell_type": "code",
   "execution_count": 9,
   "metadata": {},
   "outputs": [
    {
     "data": {
      "text/plain": [
       "torch.float32"
      ]
     },
     "execution_count": 9,
     "metadata": {},
     "output_type": "execute_result"
    }
   ],
   "source": [
    "X[60000].dtype"
   ]
  },
  {
   "cell_type": "code",
   "execution_count": 10,
   "metadata": {},
   "outputs": [
    {
     "name": "stdout",
     "output_type": "stream",
     "text": [
      "15\n"
     ]
    },
    {
     "data": {
      "image/png": "[encoded data removed]",
      "text/plain": [
       "<Figure size 432x288 with 1 Axes>"
      ]
     },
     "metadata": {
      "needs_background": "light"
     },
     "output_type": "display_data"
    }
   ],
   "source": [
    "plt.imshow(X[60000])\n",
    "print(y[60000])"
   ]
  },
  {
   "cell_type": "code",
   "execution_count": 11,
   "metadata": {},
   "outputs": [
    {
     "data": {
      "text/plain": [
       "65000"
      ]
     },
     "execution_count": 11,
     "metadata": {},
     "output_type": "execute_result"
    }
   ],
   "source": [
    "len(y)"
   ]
  },
  {
   "cell_type": "code",
   "execution_count": 12,
   "metadata": {},
   "outputs": [],
   "source": [
    "# for i in range(len(y)):\n",
    "#     ls = [0 for a in range(26)]\n",
    "#     ls[y[i]] = 1\n",
    "#     y[i]= ls"
   ]
  },
  {
   "cell_type": "code",
   "execution_count": 13,
   "metadata": {},
   "outputs": [],
   "source": [
    "X_train, X_test, y_train, y_test = train_test_split(X,y, test_size=0.2)"
   ]
  },
  {
   "cell_type": "code",
   "execution_count": 14,
   "metadata": {},
   "outputs": [
    {
     "data": {
      "text/plain": [
       "(13000, 13000)"
      ]
     },
     "execution_count": 14,
     "metadata": {},
     "output_type": "execute_result"
    }
   ],
   "source": [
    "len(X_test), len(y_test)"
   ]
  },
  {
   "cell_type": "code",
   "execution_count": 15,
   "metadata": {},
   "outputs": [],
   "source": [
    "train_dataset = MyDataset(X_train, y_train)\n",
    "test_dataset = MyDataset(X_test, y_test)\n",
    "#train_dataset.__getitem__(40000)"
   ]
  },
  {
   "cell_type": "code",
   "execution_count": 16,
   "metadata": {},
   "outputs": [
    {
     "name": "stdout",
     "output_type": "stream",
     "text": [
      "0\n",
      "tensor([17, 10, 23, 25, 18, 21, 24,  2,  2,  7, 25,  7, 18,  2, 11,  6, 24, 21,\n",
      "        16, 13, 23,  8,  0,  0,  7,  1, 17,  8,  9,  5, 10,  3, 24, 24,  5,  3,\n",
      "        21, 12, 12,  6,  9,  9, 18, 10, 13, 22, 20, 17,  3, 11, 24, 20, 10, 15,\n",
      "        22, 24, 21,  4,  9, 10,  2,  6, 15,  6])\n",
      "Shape of X [N, C, H, W]:  torch.Size([64, 28, 28, 3])\n",
      "Shape of y:  torch.Size([64]) torch.int64\n"
     ]
    }
   ],
   "source": [
    "batch_size=64\n",
    "train_dataloader = DataLoader(train_dataset, batch_size=batch_size)\n",
    "test_dataloader = DataLoader(test_dataset, batch_size=batch_size)\n",
    "for batch, (X, y) in enumerate(train_dataloader):\n",
    "    print(batch)\n",
    "    print(y)\n",
    "    print(\"Shape of X [N, C, H, W]: \", X.shape)\n",
    "    #NHWC now\n",
    "    print(\"Shape of y: \", y.shape, y.dtype)\n",
    "    break"
   ]
  },
  {
   "cell_type": "code",
   "execution_count": 17,
   "metadata": {},
   "outputs": [
    {
     "name": "stdout",
     "output_type": "stream",
     "text": [
      "Using cpu device\n"
     ]
    }
   ],
   "source": [
    "device = \"cuda\" if torch.cuda.is_available() else \"cpu\"\n",
    "print(\"Using {} device\".format(device))"
   ]
  },
  {
   "cell_type": "code",
   "execution_count": 5,
   "metadata": {},
   "outputs": [],
   "source": [
    "def train(dataloader, model, loss_fn, optimizer, to_NCHW = False):\n",
    "    size = len(dataloader.dataset)\n",
    "    model.train()\n",
    "    for batch, (X, y) in enumerate(dataloader):\n",
    "        if to_NCHW:\n",
    "            X = X.permute(0, 3, 1, 2)\n",
    "        X, y = X.to(device), y.to(device)\n",
    "\n",
    "        # Compute prediction error\n",
    "        pred = model(X)\n",
    "        #print(pred.shape)\n",
    "        loss = loss_fn(pred, y)\n",
    "\n",
    "        # Backpropagation\n",
    "        optimizer.zero_grad()\n",
    "        loss.backward()\n",
    "        optimizer.step()\n",
    "\n",
    "        if batch % 100 == 0:\n",
    "            loss, current = loss.item(), batch * len(X)\n",
    "            print(f\"loss: {loss:>7f}  [{current:>5d}/{size:>5d}]\")"
   ]
  },
  {
   "cell_type": "code",
   "execution_count": 6,
   "metadata": {},
   "outputs": [],
   "source": [
    "def test(dataloader, model, loss_fn, to_NCHW = False):\n",
    "    size = len(dataloader.dataset)\n",
    "    num_batches = len(dataloader)\n",
    "    model.eval()\n",
    "    test_loss, correct = 0, 0\n",
    "    with torch.no_grad():\n",
    "        for X, y in dataloader:\n",
    "            if to_NCHW:\n",
    "                X = X.permute(0, 3, 1, 2)\n",
    "            X, y = X.to(device), y.to(device)\n",
    "            pred = model(X)\n",
    "            #print(pred.shape)\n",
    "            #print(loss_fn(pred, y).item())\n",
    "            test_loss += loss_fn(pred, y).item()\n",
    "            correct += (pred.argmax(1) == y).type(torch.float).sum().item()\n",
    "    test_loss /= num_batches\n",
    "    correct /= size\n",
    "    print(f\"Test Error: \\n Accuracy: {(100*correct):>0.1f}%, Avg loss: {test_loss:>8f} \\n\")"
   ]
  },
  {
   "cell_type": "code",
   "execution_count": 152,
   "metadata": {},
   "outputs": [],
   "source": [
    "def get_model_accuracy(dataloader, model, to_NCHW = False):\n",
    "    size = len(dataloader.dataset)\n",
    "    correct = 0\n",
    "    with torch.no_grad():\n",
    "        for X, y in dataloader:\n",
    "            if to_NCHW:\n",
    "                X = X.permute(0, 3, 1, 2)\n",
    "            X, y = X.to(device), y.to(device)\n",
    "            pred = model(X)\n",
    "            correct += (pred.argmax(1) == y).type(torch.float).sum().item()\n",
    "    return correct / size       "
   ]
  },
  {
   "cell_type": "code",
   "execution_count": 7,
   "metadata": {},
   "outputs": [],
   "source": [
    "def get_all_model_predictions(dataloader, model):\n",
    "    size = len(dataloader.dataset)\n",
    "    correct = 0\n",
    "    predictions = []\n",
    "    with torch.no_grad():\n",
    "        for X, y in dataloader:\n",
    "            X, y = X.to(device), y.to(device)\n",
    "            pred = model(X)\n",
    "            predictions.extend(pred.argmax(1))\n",
    "#             if len(pred.argmax(1))>1:\n",
    "#                 print(pred.argmax(1))\n",
    "    return list(map(lambda x : x.item(), predictions)) "
   ]
  },
  {
   "cell_type": "code",
   "execution_count": 8,
   "metadata": {},
   "outputs": [],
   "source": [
    "def learning_cycle(epochs, model, loss_fn, optimizer, to_NCHW = False):\n",
    "    for t in range(epochs):\n",
    "        print(f\"Epoch {t+1}\\n-------------------------------\")\n",
    "        train(train_dataloader, model, loss_fn, optimizer, to_NCHW = to_NCHW)\n",
    "        test(test_dataloader, model, loss_fn, to_NCHW = to_NCHW)\n",
    "        #print(\"Done!\")\n",
    "    "
   ]
  },
  {
   "cell_type": "markdown",
   "metadata": {},
   "source": [
    "# 1.1"
   ]
  },
  {
   "cell_type": "code",
   "execution_count": 155,
   "metadata": {},
   "outputs": [],
   "source": [
    "class NeuralNetwork(nn.Module):\n",
    "    def __init__(self):\n",
    "        super(NeuralNetwork, self).__init__()\n",
    "        self.flatten = nn.Flatten()\n",
    "        self.linear_relu_stack = nn.Sequential(\n",
    "            nn.Linear(28*28*3, 512),\n",
    "            nn.ReLU(),\n",
    "            nn.Linear(512, 512),\n",
    "            nn.ReLU(),\n",
    "            nn.Linear(512, 26),\n",
    "        )\n",
    "\n",
    "    def forward(self, x):\n",
    "        x = self.flatten(x)\n",
    "        logits = self.linear_relu_stack(x)\n",
    "        return logits"
   ]
  },
  {
   "cell_type": "code",
   "execution_count": 60,
   "metadata": {},
   "outputs": [],
   "source": [
    "model_lin3 = NeuralNetwork()"
   ]
  },
  {
   "cell_type": "code",
   "execution_count": 63,
   "metadata": {},
   "outputs": [
    {
     "name": "stdout",
     "output_type": "stream",
     "text": [
      "Epoch 1\n",
      "-------------------------------\n",
      "loss: 0.164653  [    0/52000]\n",
      "loss: 0.127538  [ 6400/52000]\n",
      "loss: 0.180000  [12800/52000]\n",
      "loss: 0.147644  [19200/52000]\n",
      "loss: 0.122918  [25600/52000]\n",
      "loss: 0.195282  [32000/52000]\n",
      "loss: 0.224994  [38400/52000]\n",
      "loss: 0.103376  [44800/52000]\n",
      "loss: 0.090866  [51200/52000]\n",
      "Test Error: \n",
      " Accuracy: 89.7%, Avg loss: 0.329302 \n",
      "\n",
      "Epoch 2\n",
      "-------------------------------\n",
      "loss: 0.176525  [    0/52000]\n",
      "loss: 0.124658  [ 6400/52000]\n",
      "loss: 0.178529  [12800/52000]\n",
      "loss: 0.143856  [19200/52000]\n",
      "loss: 0.121016  [25600/52000]\n",
      "loss: 0.194624  [32000/52000]\n",
      "loss: 0.222644  [38400/52000]\n",
      "loss: 0.103204  [44800/52000]\n",
      "loss: 0.090130  [51200/52000]\n",
      "Test Error: \n",
      " Accuracy: 89.7%, Avg loss: 0.329074 \n",
      "\n",
      "Epoch 3\n",
      "-------------------------------\n",
      "loss: 0.175267  [    0/52000]\n",
      "loss: 0.126052  [ 6400/52000]\n",
      "loss: 0.177181  [12800/52000]\n",
      "loss: 0.142792  [19200/52000]\n",
      "loss: 0.120270  [25600/52000]\n",
      "loss: 0.193847  [32000/52000]\n",
      "loss: 0.220781  [38400/52000]\n",
      "loss: 0.102979  [44800/52000]\n",
      "loss: 0.089655  [51200/52000]\n",
      "Test Error: \n",
      " Accuracy: 89.6%, Avg loss: 0.329006 \n",
      "\n",
      "Epoch 4\n",
      "-------------------------------\n",
      "loss: 0.174429  [    0/52000]\n",
      "loss: 0.126644  [ 6400/52000]\n",
      "loss: 0.176029  [12800/52000]\n",
      "loss: 0.142300  [19200/52000]\n",
      "loss: 0.119803  [25600/52000]\n",
      "loss: 0.192947  [32000/52000]\n",
      "loss: 0.219293  [38400/52000]\n",
      "loss: 0.102669  [44800/52000]\n",
      "loss: 0.089341  [51200/52000]\n",
      "Test Error: \n",
      " Accuracy: 89.6%, Avg loss: 0.328962 \n",
      "\n",
      "Epoch 5\n",
      "-------------------------------\n",
      "loss: 0.173679  [    0/52000]\n",
      "loss: 0.126822  [ 6400/52000]\n",
      "loss: 0.174944  [12800/52000]\n",
      "loss: 0.142002  [19200/52000]\n",
      "loss: 0.119421  [25600/52000]\n",
      "loss: 0.192047  [32000/52000]\n",
      "loss: 0.217973  [38400/52000]\n",
      "loss: 0.102334  [44800/52000]\n",
      "loss: 0.089114  [51200/52000]\n",
      "Test Error: \n",
      " Accuracy: 89.7%, Avg loss: 0.328911 \n",
      "\n",
      "Epoch 6\n",
      "-------------------------------\n",
      "loss: 0.173021  [    0/52000]\n",
      "loss: 0.126828  [ 6400/52000]\n",
      "loss: 0.174068  [12800/52000]\n",
      "loss: 0.141833  [19200/52000]\n",
      "loss: 0.118955  [25600/52000]\n",
      "loss: 0.191212  [32000/52000]\n",
      "loss: 0.216786  [38400/52000]\n",
      "loss: 0.101938  [44800/52000]\n",
      "loss: 0.088944  [51200/52000]\n",
      "Test Error: \n",
      " Accuracy: 89.7%, Avg loss: 0.328864 \n",
      "\n",
      "Epoch 7\n",
      "-------------------------------\n",
      "loss: 0.172501  [    0/52000]\n",
      "loss: 0.126756  [ 6400/52000]\n",
      "loss: 0.173233  [12800/52000]\n",
      "loss: 0.141622  [19200/52000]\n",
      "loss: 0.118515  [25600/52000]\n",
      "loss: 0.190423  [32000/52000]\n",
      "loss: 0.215748  [38400/52000]\n",
      "loss: 0.101631  [44800/52000]\n",
      "loss: 0.088813  [51200/52000]\n",
      "Test Error: \n",
      " Accuracy: 89.7%, Avg loss: 0.328806 \n",
      "\n",
      "Epoch 8\n",
      "-------------------------------\n",
      "loss: 0.171979  [    0/52000]\n",
      "loss: 0.126624  [ 6400/52000]\n",
      "loss: 0.172560  [12800/52000]\n",
      "loss: 0.141396  [19200/52000]\n",
      "loss: 0.118115  [25600/52000]\n",
      "loss: 0.189656  [32000/52000]\n",
      "loss: 0.214747  [38400/52000]\n",
      "loss: 0.101293  [44800/52000]\n",
      "loss: 0.088675  [51200/52000]\n",
      "Test Error: \n",
      " Accuracy: 89.7%, Avg loss: 0.328752 \n",
      "\n",
      "Epoch 9\n",
      "-------------------------------\n",
      "loss: 0.171425  [    0/52000]\n",
      "loss: 0.126423  [ 6400/52000]\n",
      "loss: 0.171966  [12800/52000]\n",
      "loss: 0.141219  [19200/52000]\n",
      "loss: 0.117728  [25600/52000]\n",
      "loss: 0.188908  [32000/52000]\n",
      "loss: 0.213764  [38400/52000]\n",
      "loss: 0.100950  [44800/52000]\n",
      "loss: 0.088528  [51200/52000]\n",
      "Test Error: \n",
      " Accuracy: 89.7%, Avg loss: 0.328695 \n",
      "\n",
      "Epoch 10\n",
      "-------------------------------\n",
      "loss: 0.170948  [    0/52000]\n",
      "loss: 0.126171  [ 6400/52000]\n",
      "loss: 0.171388  [12800/52000]\n",
      "loss: 0.141029  [19200/52000]\n",
      "loss: 0.117313  [25600/52000]\n",
      "loss: 0.188267  [32000/52000]\n",
      "loss: 0.212831  [38400/52000]\n",
      "loss: 0.100593  [44800/52000]\n",
      "loss: 0.088384  [51200/52000]\n",
      "Test Error: \n",
      " Accuracy: 89.7%, Avg loss: 0.328638 \n",
      "\n",
      "Epoch 11\n",
      "-------------------------------\n",
      "loss: 0.170452  [    0/52000]\n",
      "loss: 0.125940  [ 6400/52000]\n",
      "loss: 0.170860  [12800/52000]\n",
      "loss: 0.140805  [19200/52000]\n",
      "loss: 0.116964  [25600/52000]\n",
      "loss: 0.187649  [32000/52000]\n",
      "loss: 0.211916  [38400/52000]\n",
      "loss: 0.100221  [44800/52000]\n",
      "loss: 0.088225  [51200/52000]\n",
      "Test Error: \n",
      " Accuracy: 89.7%, Avg loss: 0.328578 \n",
      "\n",
      "Epoch 12\n",
      "-------------------------------\n",
      "loss: 0.170021  [    0/52000]\n",
      "loss: 0.125702  [ 6400/52000]\n",
      "loss: 0.170399  [12800/52000]\n",
      "loss: 0.140634  [19200/52000]\n",
      "loss: 0.116562  [25600/52000]\n",
      "loss: 0.186982  [32000/52000]\n",
      "loss: 0.211093  [38400/52000]\n",
      "loss: 0.099866  [44800/52000]\n"
     ]
    },
    {
     "ename": "KeyboardInterrupt",
     "evalue": "",
     "output_type": "error",
     "traceback": [
      "\u001b[0;31m---------------------------------------------------------------------------\u001b[0m",
      "\u001b[0;31mKeyboardInterrupt\u001b[0m                         Traceback (most recent call last)",
      "\u001b[0;32m/tmp/ipykernel_4545/1139251494.py\u001b[0m in \u001b[0;36m<module>\u001b[0;34m\u001b[0m\n\u001b[1;32m      1\u001b[0m \u001b[0mloss_fn\u001b[0m \u001b[0;34m=\u001b[0m \u001b[0mnn\u001b[0m\u001b[0;34m.\u001b[0m\u001b[0mCrossEntropyLoss\u001b[0m\u001b[0;34m(\u001b[0m\u001b[0;34m)\u001b[0m\u001b[0;34m\u001b[0m\u001b[0;34m\u001b[0m\u001b[0m\n\u001b[1;32m      2\u001b[0m \u001b[0moptimizer\u001b[0m \u001b[0;34m=\u001b[0m \u001b[0mtorch\u001b[0m\u001b[0;34m.\u001b[0m\u001b[0moptim\u001b[0m\u001b[0;34m.\u001b[0m\u001b[0mSGD\u001b[0m\u001b[0;34m(\u001b[0m\u001b[0mmodel_lin3\u001b[0m\u001b[0;34m.\u001b[0m\u001b[0mparameters\u001b[0m\u001b[0;34m(\u001b[0m\u001b[0;34m)\u001b[0m\u001b[0;34m,\u001b[0m \u001b[0mlr\u001b[0m\u001b[0;34m=\u001b[0m\u001b[0;36m0.001\u001b[0m\u001b[0;34m)\u001b[0m\u001b[0;34m\u001b[0m\u001b[0;34m\u001b[0m\u001b[0m\n\u001b[0;32m----> 3\u001b[0;31m \u001b[0mlearning_cycle\u001b[0m\u001b[0;34m(\u001b[0m\u001b[0;36m100\u001b[0m\u001b[0;34m,\u001b[0m \u001b[0mmodel_lin3\u001b[0m\u001b[0;34m,\u001b[0m \u001b[0mloss_fn\u001b[0m\u001b[0;34m,\u001b[0m \u001b[0moptimizer\u001b[0m\u001b[0;34m)\u001b[0m\u001b[0;34m\u001b[0m\u001b[0;34m\u001b[0m\u001b[0m\n\u001b[0m",
      "\u001b[0;32m/tmp/ipykernel_4545/3288432259.py\u001b[0m in \u001b[0;36mlearning_cycle\u001b[0;34m(epochs, model, loss_fn, optimizer, to_NHWC)\u001b[0m\n\u001b[1;32m      2\u001b[0m     \u001b[0;32mfor\u001b[0m \u001b[0mt\u001b[0m \u001b[0;32min\u001b[0m \u001b[0mrange\u001b[0m\u001b[0;34m(\u001b[0m\u001b[0mepochs\u001b[0m\u001b[0;34m)\u001b[0m\u001b[0;34m:\u001b[0m\u001b[0;34m\u001b[0m\u001b[0;34m\u001b[0m\u001b[0m\n\u001b[1;32m      3\u001b[0m         \u001b[0mprint\u001b[0m\u001b[0;34m(\u001b[0m\u001b[0;34mf\"Epoch {t+1}\\n-------------------------------\"\u001b[0m\u001b[0;34m)\u001b[0m\u001b[0;34m\u001b[0m\u001b[0;34m\u001b[0m\u001b[0m\n\u001b[0;32m----> 4\u001b[0;31m         \u001b[0mtrain\u001b[0m\u001b[0;34m(\u001b[0m\u001b[0mtrain_dataloader\u001b[0m\u001b[0;34m,\u001b[0m \u001b[0mmodel\u001b[0m\u001b[0;34m,\u001b[0m \u001b[0mloss_fn\u001b[0m\u001b[0;34m,\u001b[0m \u001b[0moptimizer\u001b[0m\u001b[0;34m,\u001b[0m \u001b[0mto_NHWC\u001b[0m \u001b[0;34m=\u001b[0m \u001b[0mto_NHWC\u001b[0m\u001b[0;34m)\u001b[0m\u001b[0;34m\u001b[0m\u001b[0;34m\u001b[0m\u001b[0m\n\u001b[0m\u001b[1;32m      5\u001b[0m         \u001b[0mtest\u001b[0m\u001b[0;34m(\u001b[0m\u001b[0mtest_dataloader\u001b[0m\u001b[0;34m,\u001b[0m \u001b[0mmodel\u001b[0m\u001b[0;34m,\u001b[0m \u001b[0mloss_fn\u001b[0m\u001b[0;34m,\u001b[0m \u001b[0mto_NHWC\u001b[0m \u001b[0;34m=\u001b[0m \u001b[0mto_NHWC\u001b[0m\u001b[0;34m)\u001b[0m\u001b[0;34m\u001b[0m\u001b[0;34m\u001b[0m\u001b[0m\n\u001b[1;32m      6\u001b[0m         \u001b[0;31m#print(\"Done!\")\u001b[0m\u001b[0;34m\u001b[0m\u001b[0;34m\u001b[0m\u001b[0;34m\u001b[0m\u001b[0m\n",
      "\u001b[0;32m/tmp/ipykernel_4545/3963522851.py\u001b[0m in \u001b[0;36mtrain\u001b[0;34m(dataloader, model, loss_fn, optimizer, to_NHWC)\u001b[0m\n\u001b[1;32m      8\u001b[0m \u001b[0;34m\u001b[0m\u001b[0m\n\u001b[1;32m      9\u001b[0m         \u001b[0;31m# Compute prediction error\u001b[0m\u001b[0;34m\u001b[0m\u001b[0;34m\u001b[0m\u001b[0;34m\u001b[0m\u001b[0m\n\u001b[0;32m---> 10\u001b[0;31m         \u001b[0mpred\u001b[0m \u001b[0;34m=\u001b[0m \u001b[0mmodel\u001b[0m\u001b[0;34m(\u001b[0m\u001b[0mX\u001b[0m\u001b[0;34m)\u001b[0m\u001b[0;34m\u001b[0m\u001b[0;34m\u001b[0m\u001b[0m\n\u001b[0m\u001b[1;32m     11\u001b[0m         \u001b[0mloss\u001b[0m \u001b[0;34m=\u001b[0m \u001b[0mloss_fn\u001b[0m\u001b[0;34m(\u001b[0m\u001b[0mpred\u001b[0m\u001b[0;34m,\u001b[0m \u001b[0my\u001b[0m\u001b[0;34m)\u001b[0m\u001b[0;34m\u001b[0m\u001b[0;34m\u001b[0m\u001b[0m\n\u001b[1;32m     12\u001b[0m \u001b[0;34m\u001b[0m\u001b[0m\n",
      "\u001b[0;32m~/.local/lib/python3.8/site-packages/torch/nn/modules/module.py\u001b[0m in \u001b[0;36m_call_impl\u001b[0;34m(self, *input, **kwargs)\u001b[0m\n\u001b[1;32m   1100\u001b[0m         if not (self._backward_hooks or self._forward_hooks or self._forward_pre_hooks or _global_backward_hooks\n\u001b[1;32m   1101\u001b[0m                 or _global_forward_hooks or _global_forward_pre_hooks):\n\u001b[0;32m-> 1102\u001b[0;31m             \u001b[0;32mreturn\u001b[0m \u001b[0mforward_call\u001b[0m\u001b[0;34m(\u001b[0m\u001b[0;34m*\u001b[0m\u001b[0minput\u001b[0m\u001b[0;34m,\u001b[0m \u001b[0;34m**\u001b[0m\u001b[0mkwargs\u001b[0m\u001b[0;34m)\u001b[0m\u001b[0;34m\u001b[0m\u001b[0;34m\u001b[0m\u001b[0m\n\u001b[0m\u001b[1;32m   1103\u001b[0m         \u001b[0;31m# Do not call functions when jit is used\u001b[0m\u001b[0;34m\u001b[0m\u001b[0;34m\u001b[0m\u001b[0;34m\u001b[0m\u001b[0m\n\u001b[1;32m   1104\u001b[0m         \u001b[0mfull_backward_hooks\u001b[0m\u001b[0;34m,\u001b[0m \u001b[0mnon_full_backward_hooks\u001b[0m \u001b[0;34m=\u001b[0m \u001b[0;34m[\u001b[0m\u001b[0;34m]\u001b[0m\u001b[0;34m,\u001b[0m \u001b[0;34m[\u001b[0m\u001b[0;34m]\u001b[0m\u001b[0;34m\u001b[0m\u001b[0;34m\u001b[0m\u001b[0m\n",
      "\u001b[0;32m/tmp/ipykernel_4545/1646505171.py\u001b[0m in \u001b[0;36mforward\u001b[0;34m(self, x)\u001b[0m\n\u001b[1;32m     13\u001b[0m     \u001b[0;32mdef\u001b[0m \u001b[0mforward\u001b[0m\u001b[0;34m(\u001b[0m\u001b[0mself\u001b[0m\u001b[0;34m,\u001b[0m \u001b[0mx\u001b[0m\u001b[0;34m)\u001b[0m\u001b[0;34m:\u001b[0m\u001b[0;34m\u001b[0m\u001b[0;34m\u001b[0m\u001b[0m\n\u001b[1;32m     14\u001b[0m         \u001b[0mx\u001b[0m \u001b[0;34m=\u001b[0m \u001b[0mself\u001b[0m\u001b[0;34m.\u001b[0m\u001b[0mflatten\u001b[0m\u001b[0;34m(\u001b[0m\u001b[0mx\u001b[0m\u001b[0;34m)\u001b[0m\u001b[0;34m\u001b[0m\u001b[0;34m\u001b[0m\u001b[0m\n\u001b[0;32m---> 15\u001b[0;31m         \u001b[0mlogits\u001b[0m \u001b[0;34m=\u001b[0m \u001b[0mself\u001b[0m\u001b[0;34m.\u001b[0m\u001b[0mlinear_relu_stack\u001b[0m\u001b[0;34m(\u001b[0m\u001b[0mx\u001b[0m\u001b[0;34m)\u001b[0m\u001b[0;34m\u001b[0m\u001b[0;34m\u001b[0m\u001b[0m\n\u001b[0m\u001b[1;32m     16\u001b[0m         \u001b[0;32mreturn\u001b[0m \u001b[0mlogits\u001b[0m\u001b[0;34m\u001b[0m\u001b[0;34m\u001b[0m\u001b[0m\n",
      "\u001b[0;32m~/.local/lib/python3.8/site-packages/torch/nn/modules/module.py\u001b[0m in \u001b[0;36m_call_impl\u001b[0;34m(self, *input, **kwargs)\u001b[0m\n\u001b[1;32m   1100\u001b[0m         if not (self._backward_hooks or self._forward_hooks or self._forward_pre_hooks or _global_backward_hooks\n\u001b[1;32m   1101\u001b[0m                 or _global_forward_hooks or _global_forward_pre_hooks):\n\u001b[0;32m-> 1102\u001b[0;31m             \u001b[0;32mreturn\u001b[0m \u001b[0mforward_call\u001b[0m\u001b[0;34m(\u001b[0m\u001b[0;34m*\u001b[0m\u001b[0minput\u001b[0m\u001b[0;34m,\u001b[0m \u001b[0;34m**\u001b[0m\u001b[0mkwargs\u001b[0m\u001b[0;34m)\u001b[0m\u001b[0;34m\u001b[0m\u001b[0;34m\u001b[0m\u001b[0m\n\u001b[0m\u001b[1;32m   1103\u001b[0m         \u001b[0;31m# Do not call functions when jit is used\u001b[0m\u001b[0;34m\u001b[0m\u001b[0;34m\u001b[0m\u001b[0;34m\u001b[0m\u001b[0m\n\u001b[1;32m   1104\u001b[0m         \u001b[0mfull_backward_hooks\u001b[0m\u001b[0;34m,\u001b[0m \u001b[0mnon_full_backward_hooks\u001b[0m \u001b[0;34m=\u001b[0m \u001b[0;34m[\u001b[0m\u001b[0;34m]\u001b[0m\u001b[0;34m,\u001b[0m \u001b[0;34m[\u001b[0m\u001b[0;34m]\u001b[0m\u001b[0;34m\u001b[0m\u001b[0;34m\u001b[0m\u001b[0m\n",
      "\u001b[0;32m~/.local/lib/python3.8/site-packages/torch/nn/modules/container.py\u001b[0m in \u001b[0;36mforward\u001b[0;34m(self, input)\u001b[0m\n\u001b[1;32m    139\u001b[0m     \u001b[0;32mdef\u001b[0m \u001b[0mforward\u001b[0m\u001b[0;34m(\u001b[0m\u001b[0mself\u001b[0m\u001b[0;34m,\u001b[0m \u001b[0minput\u001b[0m\u001b[0;34m)\u001b[0m\u001b[0;34m:\u001b[0m\u001b[0;34m\u001b[0m\u001b[0;34m\u001b[0m\u001b[0m\n\u001b[1;32m    140\u001b[0m         \u001b[0;32mfor\u001b[0m \u001b[0mmodule\u001b[0m \u001b[0;32min\u001b[0m \u001b[0mself\u001b[0m\u001b[0;34m:\u001b[0m\u001b[0;34m\u001b[0m\u001b[0;34m\u001b[0m\u001b[0m\n\u001b[0;32m--> 141\u001b[0;31m             \u001b[0minput\u001b[0m \u001b[0;34m=\u001b[0m \u001b[0mmodule\u001b[0m\u001b[0;34m(\u001b[0m\u001b[0minput\u001b[0m\u001b[0;34m)\u001b[0m\u001b[0;34m\u001b[0m\u001b[0;34m\u001b[0m\u001b[0m\n\u001b[0m\u001b[1;32m    142\u001b[0m         \u001b[0;32mreturn\u001b[0m \u001b[0minput\u001b[0m\u001b[0;34m\u001b[0m\u001b[0;34m\u001b[0m\u001b[0m\n\u001b[1;32m    143\u001b[0m \u001b[0;34m\u001b[0m\u001b[0m\n",
      "\u001b[0;32m~/.local/lib/python3.8/site-packages/torch/nn/modules/module.py\u001b[0m in \u001b[0;36m_call_impl\u001b[0;34m(self, *input, **kwargs)\u001b[0m\n\u001b[1;32m   1100\u001b[0m         if not (self._backward_hooks or self._forward_hooks or self._forward_pre_hooks or _global_backward_hooks\n\u001b[1;32m   1101\u001b[0m                 or _global_forward_hooks or _global_forward_pre_hooks):\n\u001b[0;32m-> 1102\u001b[0;31m             \u001b[0;32mreturn\u001b[0m \u001b[0mforward_call\u001b[0m\u001b[0;34m(\u001b[0m\u001b[0;34m*\u001b[0m\u001b[0minput\u001b[0m\u001b[0;34m,\u001b[0m \u001b[0;34m**\u001b[0m\u001b[0mkwargs\u001b[0m\u001b[0;34m)\u001b[0m\u001b[0;34m\u001b[0m\u001b[0;34m\u001b[0m\u001b[0m\n\u001b[0m\u001b[1;32m   1103\u001b[0m         \u001b[0;31m# Do not call functions when jit is used\u001b[0m\u001b[0;34m\u001b[0m\u001b[0;34m\u001b[0m\u001b[0;34m\u001b[0m\u001b[0m\n\u001b[1;32m   1104\u001b[0m         \u001b[0mfull_backward_hooks\u001b[0m\u001b[0;34m,\u001b[0m \u001b[0mnon_full_backward_hooks\u001b[0m \u001b[0;34m=\u001b[0m \u001b[0;34m[\u001b[0m\u001b[0;34m]\u001b[0m\u001b[0;34m,\u001b[0m \u001b[0;34m[\u001b[0m\u001b[0;34m]\u001b[0m\u001b[0;34m\u001b[0m\u001b[0;34m\u001b[0m\u001b[0m\n",
      "\u001b[0;32m~/.local/lib/python3.8/site-packages/torch/nn/modules/linear.py\u001b[0m in \u001b[0;36mforward\u001b[0;34m(self, input)\u001b[0m\n\u001b[1;32m    101\u001b[0m \u001b[0;34m\u001b[0m\u001b[0m\n\u001b[1;32m    102\u001b[0m     \u001b[0;32mdef\u001b[0m \u001b[0mforward\u001b[0m\u001b[0;34m(\u001b[0m\u001b[0mself\u001b[0m\u001b[0;34m,\u001b[0m \u001b[0minput\u001b[0m\u001b[0;34m:\u001b[0m \u001b[0mTensor\u001b[0m\u001b[0;34m)\u001b[0m \u001b[0;34m->\u001b[0m \u001b[0mTensor\u001b[0m\u001b[0;34m:\u001b[0m\u001b[0;34m\u001b[0m\u001b[0;34m\u001b[0m\u001b[0m\n\u001b[0;32m--> 103\u001b[0;31m         \u001b[0;32mreturn\u001b[0m \u001b[0mF\u001b[0m\u001b[0;34m.\u001b[0m\u001b[0mlinear\u001b[0m\u001b[0;34m(\u001b[0m\u001b[0minput\u001b[0m\u001b[0;34m,\u001b[0m \u001b[0mself\u001b[0m\u001b[0;34m.\u001b[0m\u001b[0mweight\u001b[0m\u001b[0;34m,\u001b[0m \u001b[0mself\u001b[0m\u001b[0;34m.\u001b[0m\u001b[0mbias\u001b[0m\u001b[0;34m)\u001b[0m\u001b[0;34m\u001b[0m\u001b[0;34m\u001b[0m\u001b[0m\n\u001b[0m\u001b[1;32m    104\u001b[0m \u001b[0;34m\u001b[0m\u001b[0m\n\u001b[1;32m    105\u001b[0m     \u001b[0;32mdef\u001b[0m \u001b[0mextra_repr\u001b[0m\u001b[0;34m(\u001b[0m\u001b[0mself\u001b[0m\u001b[0;34m)\u001b[0m \u001b[0;34m->\u001b[0m \u001b[0mstr\u001b[0m\u001b[0;34m:\u001b[0m\u001b[0;34m\u001b[0m\u001b[0;34m\u001b[0m\u001b[0m\n",
      "\u001b[0;32m~/.local/lib/python3.8/site-packages/torch/nn/functional.py\u001b[0m in \u001b[0;36mlinear\u001b[0;34m(input, weight, bias)\u001b[0m\n\u001b[1;32m   1846\u001b[0m     \u001b[0;32mif\u001b[0m \u001b[0mhas_torch_function_variadic\u001b[0m\u001b[0;34m(\u001b[0m\u001b[0minput\u001b[0m\u001b[0;34m,\u001b[0m \u001b[0mweight\u001b[0m\u001b[0;34m,\u001b[0m \u001b[0mbias\u001b[0m\u001b[0;34m)\u001b[0m\u001b[0;34m:\u001b[0m\u001b[0;34m\u001b[0m\u001b[0;34m\u001b[0m\u001b[0m\n\u001b[1;32m   1847\u001b[0m         \u001b[0;32mreturn\u001b[0m \u001b[0mhandle_torch_function\u001b[0m\u001b[0;34m(\u001b[0m\u001b[0mlinear\u001b[0m\u001b[0;34m,\u001b[0m \u001b[0;34m(\u001b[0m\u001b[0minput\u001b[0m\u001b[0;34m,\u001b[0m \u001b[0mweight\u001b[0m\u001b[0;34m,\u001b[0m \u001b[0mbias\u001b[0m\u001b[0;34m)\u001b[0m\u001b[0;34m,\u001b[0m \u001b[0minput\u001b[0m\u001b[0;34m,\u001b[0m \u001b[0mweight\u001b[0m\u001b[0;34m,\u001b[0m \u001b[0mbias\u001b[0m\u001b[0;34m=\u001b[0m\u001b[0mbias\u001b[0m\u001b[0;34m)\u001b[0m\u001b[0;34m\u001b[0m\u001b[0;34m\u001b[0m\u001b[0m\n\u001b[0;32m-> 1848\u001b[0;31m     \u001b[0;32mreturn\u001b[0m \u001b[0mtorch\u001b[0m\u001b[0;34m.\u001b[0m\u001b[0m_C\u001b[0m\u001b[0;34m.\u001b[0m\u001b[0m_nn\u001b[0m\u001b[0;34m.\u001b[0m\u001b[0mlinear\u001b[0m\u001b[0;34m(\u001b[0m\u001b[0minput\u001b[0m\u001b[0;34m,\u001b[0m \u001b[0mweight\u001b[0m\u001b[0;34m,\u001b[0m \u001b[0mbias\u001b[0m\u001b[0;34m)\u001b[0m\u001b[0;34m\u001b[0m\u001b[0;34m\u001b[0m\u001b[0m\n\u001b[0m\u001b[1;32m   1849\u001b[0m \u001b[0;34m\u001b[0m\u001b[0m\n\u001b[1;32m   1850\u001b[0m \u001b[0;34m\u001b[0m\u001b[0m\n",
      "\u001b[0;31mKeyboardInterrupt\u001b[0m: "
     ]
    }
   ],
   "source": [
    "loss_fn = nn.CrossEntropyLoss()\n",
    "optimizer = torch.optim.SGD(model_lin3.parameters(), lr=0.001)\n",
    "learning_cycle(100, model_lin3, loss_fn, optimizer)"
   ]
  },
  {
   "cell_type": "code",
   "execution_count": 26,
   "metadata": {},
   "outputs": [
    {
     "data": {
      "text/plain": [
       "torch.Size([28, 28, 3])"
      ]
     },
     "execution_count": 26,
     "metadata": {},
     "output_type": "execute_result"
    }
   ],
   "source": [
    "X_train[0].shape"
   ]
  },
  {
   "cell_type": "code",
   "execution_count": 29,
   "metadata": {},
   "outputs": [],
   "source": [
    "pred = model_lin3(X_train[30000].reshape([1,28,28,3]))"
   ]
  },
  {
   "cell_type": "code",
   "execution_count": 30,
   "metadata": {},
   "outputs": [
    {
     "data": {
      "text/plain": [
       "(tensor([[ 1.0993,  0.5538,  0.7079,  1.2388,  2.4340, -3.4347,  2.0249, -4.4850,\n",
       "           2.1795,  4.6166, -2.8972, -0.7925, -4.5708,  0.0577,  0.2800, -6.4989,\n",
       "           1.5176, -0.1443,  7.2079, -0.5022, -0.1008, -0.4243, -1.7218,  0.7388,\n",
       "          -2.8633,  2.2253]], grad_fn=<AddmmBackward0>),\n",
       " 18)"
      ]
     },
     "execution_count": 30,
     "metadata": {},
     "output_type": "execute_result"
    }
   ],
   "source": [
    "pred,y_train[30000]"
   ]
  },
  {
   "cell_type": "code",
   "execution_count": 25,
   "metadata": {},
   "outputs": [],
   "source": [
    "class NeuralNetwork2(nn.Module):\n",
    "    def __init__(self):\n",
    "        super(NeuralNetwork2, self).__init__()\n",
    "        self.flatten = nn.Flatten()\n",
    "        self.linear_sigmoid_stack = nn.Sequential(\n",
    "            nn.Linear(28*28*3, 512),\n",
    "            nn.Sigmoid(),\n",
    "            nn.Linear(512, 26),\n",
    "        )\n",
    "\n",
    "    def forward(self, x):\n",
    "        x = self.flatten(x)\n",
    "        logits = self.linear_sigmoid_stack(x)\n",
    "        return logits"
   ]
  },
  {
   "cell_type": "code",
   "execution_count": 26,
   "metadata": {},
   "outputs": [],
   "source": [
    "model_lin2 = NeuralNetwork2()"
   ]
  },
  {
   "cell_type": "code",
   "execution_count": 174,
   "metadata": {},
   "outputs": [
    {
     "name": "stdout",
     "output_type": "stream",
     "text": [
      "Epoch 1\n",
      "-------------------------------\n",
      "loss: 0.137345  [    0/52000]\n",
      "loss: 0.146575  [ 6400/52000]\n",
      "loss: 0.153579  [12800/52000]\n",
      "loss: 0.111367  [19200/52000]\n",
      "loss: 0.111554  [25600/52000]\n",
      "loss: 0.116125  [32000/52000]\n",
      "loss: 0.148341  [38400/52000]\n",
      "loss: 0.134432  [44800/52000]\n",
      "loss: 0.073476  [51200/52000]\n",
      "Test Error: \n",
      " Accuracy: 90.1%, Avg loss: 0.306859 \n",
      "\n",
      "Epoch 2\n",
      "-------------------------------\n",
      "loss: 0.137117  [    0/52000]\n",
      "loss: 0.146256  [ 6400/52000]\n",
      "loss: 0.153181  [12800/52000]\n",
      "loss: 0.110923  [19200/52000]\n",
      "loss: 0.111362  [25600/52000]\n",
      "loss: 0.115852  [32000/52000]\n",
      "loss: 0.148152  [38400/52000]\n",
      "loss: 0.134225  [44800/52000]\n",
      "loss: 0.073289  [51200/52000]\n",
      "Test Error: \n",
      " Accuracy: 90.1%, Avg loss: 0.306856 \n",
      "\n",
      "Epoch 3\n",
      "-------------------------------\n",
      "loss: 0.136889  [    0/52000]\n",
      "loss: 0.145938  [ 6400/52000]\n",
      "loss: 0.152785  [12800/52000]\n",
      "loss: 0.110481  [19200/52000]\n",
      "loss: 0.111170  [25600/52000]\n",
      "loss: 0.115580  [32000/52000]\n",
      "loss: 0.147964  [38400/52000]\n",
      "loss: 0.134019  [44800/52000]\n",
      "loss: 0.073104  [51200/52000]\n",
      "Test Error: \n",
      " Accuracy: 90.1%, Avg loss: 0.306853 \n",
      "\n",
      "Epoch 4\n",
      "-------------------------------\n",
      "loss: 0.136662  [    0/52000]\n",
      "loss: 0.145619  [ 6400/52000]\n",
      "loss: 0.152390  [12800/52000]\n",
      "loss: 0.110042  [19200/52000]\n",
      "loss: 0.110980  [25600/52000]\n",
      "loss: 0.115308  [32000/52000]\n",
      "loss: 0.147776  [38400/52000]\n",
      "loss: 0.133814  [44800/52000]\n",
      "loss: 0.072920  [51200/52000]\n",
      "Test Error: \n",
      " Accuracy: 90.1%, Avg loss: 0.306851 \n",
      "\n",
      "Epoch 5\n",
      "-------------------------------\n",
      "loss: 0.136435  [    0/52000]\n",
      "loss: 0.145302  [ 6400/52000]\n",
      "loss: 0.151998  [12800/52000]\n",
      "loss: 0.109604  [19200/52000]\n",
      "loss: 0.110790  [25600/52000]\n",
      "loss: 0.115037  [32000/52000]\n",
      "loss: 0.147589  [38400/52000]\n",
      "loss: 0.133610  [44800/52000]\n",
      "loss: 0.072736  [51200/52000]\n",
      "Test Error: \n",
      " Accuracy: 90.1%, Avg loss: 0.306849 \n",
      "\n",
      "Epoch 6\n",
      "-------------------------------\n",
      "loss: 0.136209  [    0/52000]\n",
      "loss: 0.144984  [ 6400/52000]\n",
      "loss: 0.151607  [12800/52000]\n",
      "loss: 0.109168  [19200/52000]\n",
      "loss: 0.110601  [25600/52000]\n",
      "loss: 0.114766  [32000/52000]\n",
      "loss: 0.147402  [38400/52000]\n",
      "loss: 0.133408  [44800/52000]\n",
      "loss: 0.072554  [51200/52000]\n",
      "Test Error: \n",
      " Accuracy: 90.1%, Avg loss: 0.306847 \n",
      "\n",
      "Epoch 7\n",
      "-------------------------------\n",
      "loss: 0.135983  [    0/52000]\n",
      "loss: 0.144667  [ 6400/52000]\n",
      "loss: 0.151217  [12800/52000]\n",
      "loss: 0.108733  [19200/52000]\n",
      "loss: 0.110412  [25600/52000]\n",
      "loss: 0.114496  [32000/52000]\n",
      "loss: 0.147217  [38400/52000]\n",
      "loss: 0.133206  [44800/52000]\n",
      "loss: 0.072372  [51200/52000]\n",
      "Test Error: \n",
      " Accuracy: 90.1%, Avg loss: 0.306846 \n",
      "\n",
      "Epoch 8\n",
      "-------------------------------\n",
      "loss: 0.135758  [    0/52000]\n",
      "loss: 0.144351  [ 6400/52000]\n",
      "loss: 0.150829  [12800/52000]\n",
      "loss: 0.108301  [19200/52000]\n",
      "loss: 0.110225  [25600/52000]\n",
      "loss: 0.114227  [32000/52000]\n",
      "loss: 0.147032  [38400/52000]\n",
      "loss: 0.133006  [44800/52000]\n",
      "loss: 0.072191  [51200/52000]\n",
      "Test Error: \n",
      " Accuracy: 90.1%, Avg loss: 0.306845 \n",
      "\n",
      "Epoch 9\n",
      "-------------------------------\n",
      "loss: 0.135533  [    0/52000]\n",
      "loss: 0.144035  [ 6400/52000]\n",
      "loss: 0.150443  [12800/52000]\n",
      "loss: 0.107870  [19200/52000]\n",
      "loss: 0.110037  [25600/52000]\n",
      "loss: 0.113959  [32000/52000]\n",
      "loss: 0.146847  [38400/52000]\n",
      "loss: 0.132806  [44800/52000]\n",
      "loss: 0.072011  [51200/52000]\n",
      "Test Error: \n",
      " Accuracy: 90.1%, Avg loss: 0.306844 \n",
      "\n",
      "Epoch 10\n",
      "-------------------------------\n",
      "loss: 0.135309  [    0/52000]\n",
      "loss: 0.143720  [ 6400/52000]\n",
      "loss: 0.150058  [12800/52000]\n",
      "loss: 0.107442  [19200/52000]\n",
      "loss: 0.109851  [25600/52000]\n",
      "loss: 0.113691  [32000/52000]\n",
      "loss: 0.146663  [38400/52000]\n",
      "loss: 0.132608  [44800/52000]\n",
      "loss: 0.071832  [51200/52000]\n",
      "Test Error: \n",
      " Accuracy: 90.1%, Avg loss: 0.306844 \n",
      "\n",
      "Epoch 11\n",
      "-------------------------------\n",
      "loss: 0.135085  [    0/52000]\n",
      "loss: 0.143405  [ 6400/52000]\n",
      "loss: 0.149675  [12800/52000]\n",
      "loss: 0.107015  [19200/52000]\n",
      "loss: 0.109665  [25600/52000]\n",
      "loss: 0.113423  [32000/52000]\n",
      "loss: 0.146479  [38400/52000]\n",
      "loss: 0.132410  [44800/52000]\n",
      "loss: 0.071654  [51200/52000]\n",
      "Test Error: \n",
      " Accuracy: 90.1%, Avg loss: 0.306843 \n",
      "\n",
      "Epoch 12\n",
      "-------------------------------\n",
      "loss: 0.134862  [    0/52000]\n",
      "loss: 0.143091  [ 6400/52000]\n",
      "loss: 0.149293  [12800/52000]\n",
      "loss: 0.106589  [19200/52000]\n",
      "loss: 0.109480  [25600/52000]\n",
      "loss: 0.113156  [32000/52000]\n",
      "loss: 0.146296  [38400/52000]\n",
      "loss: 0.132214  [44800/52000]\n",
      "loss: 0.071477  [51200/52000]\n",
      "Test Error: \n",
      " Accuracy: 90.1%, Avg loss: 0.306844 \n",
      "\n",
      "Epoch 13\n",
      "-------------------------------\n",
      "loss: 0.134639  [    0/52000]\n",
      "loss: 0.142777  [ 6400/52000]\n",
      "loss: 0.148914  [12800/52000]\n",
      "loss: 0.106166  [19200/52000]\n",
      "loss: 0.109296  [25600/52000]\n",
      "loss: 0.112890  [32000/52000]\n",
      "loss: 0.146114  [38400/52000]\n",
      "loss: 0.132018  [44800/52000]\n",
      "loss: 0.071301  [51200/52000]\n",
      "Test Error: \n",
      " Accuracy: 90.1%, Avg loss: 0.306844 \n",
      "\n",
      "Epoch 14\n",
      "-------------------------------\n",
      "loss: 0.134417  [    0/52000]\n",
      "loss: 0.142463  [ 6400/52000]\n",
      "loss: 0.148535  [12800/52000]\n",
      "loss: 0.105745  [19200/52000]\n",
      "loss: 0.109112  [25600/52000]\n",
      "loss: 0.112625  [32000/52000]\n",
      "loss: 0.145932  [38400/52000]\n",
      "loss: 0.131824  [44800/52000]\n",
      "loss: 0.071125  [51200/52000]\n",
      "Test Error: \n",
      " Accuracy: 90.1%, Avg loss: 0.306845 \n",
      "\n",
      "Epoch 15\n",
      "-------------------------------\n",
      "loss: 0.134196  [    0/52000]\n",
      "loss: 0.142150  [ 6400/52000]\n",
      "loss: 0.148159  [12800/52000]\n",
      "loss: 0.105325  [19200/52000]\n",
      "loss: 0.108929  [25600/52000]\n",
      "loss: 0.112360  [32000/52000]\n",
      "loss: 0.145751  [38400/52000]\n",
      "loss: 0.131630  [44800/52000]\n",
      "loss: 0.070950  [51200/52000]\n",
      "Test Error: \n",
      " Accuracy: 90.1%, Avg loss: 0.306846 \n",
      "\n",
      "Epoch 16\n",
      "-------------------------------\n",
      "loss: 0.133975  [    0/52000]\n",
      "loss: 0.141838  [ 6400/52000]\n",
      "loss: 0.147784  [12800/52000]\n",
      "loss: 0.104907  [19200/52000]\n",
      "loss: 0.108746  [25600/52000]\n",
      "loss: 0.112096  [32000/52000]\n",
      "loss: 0.145570  [38400/52000]\n",
      "loss: 0.131438  [44800/52000]\n",
      "loss: 0.070777  [51200/52000]\n",
      "Test Error: \n",
      " Accuracy: 90.1%, Avg loss: 0.306847 \n",
      "\n",
      "Epoch 17\n",
      "-------------------------------\n",
      "loss: 0.133754  [    0/52000]\n",
      "loss: 0.141526  [ 6400/52000]\n",
      "loss: 0.147410  [12800/52000]\n",
      "loss: 0.104492  [19200/52000]\n",
      "loss: 0.108564  [25600/52000]\n",
      "loss: 0.111833  [32000/52000]\n",
      "loss: 0.145390  [38400/52000]\n",
      "loss: 0.131246  [44800/52000]\n",
      "loss: 0.070604  [51200/52000]\n",
      "Test Error: \n",
      " Accuracy: 90.1%, Avg loss: 0.306849 \n",
      "\n",
      "Epoch 18\n",
      "-------------------------------\n",
      "loss: 0.133534  [    0/52000]\n",
      "loss: 0.141214  [ 6400/52000]\n",
      "loss: 0.147038  [12800/52000]\n",
      "loss: 0.104078  [19200/52000]\n",
      "loss: 0.108383  [25600/52000]\n",
      "loss: 0.111570  [32000/52000]\n",
      "loss: 0.145211  [38400/52000]\n",
      "loss: 0.131056  [44800/52000]\n",
      "loss: 0.070431  [51200/52000]\n",
      "Test Error: \n",
      " Accuracy: 90.2%, Avg loss: 0.306851 \n",
      "\n",
      "Epoch 19\n",
      "-------------------------------\n",
      "loss: 0.133315  [    0/52000]\n",
      "loss: 0.140903  [ 6400/52000]\n",
      "loss: 0.146667  [12800/52000]\n",
      "loss: 0.103666  [19200/52000]\n",
      "loss: 0.108202  [25600/52000]\n",
      "loss: 0.111307  [32000/52000]\n",
      "loss: 0.145032  [38400/52000]\n",
      "loss: 0.130866  [44800/52000]\n",
      "loss: 0.070260  [51200/52000]\n",
      "Test Error: \n",
      " Accuracy: 90.1%, Avg loss: 0.306853 \n",
      "\n",
      "Epoch 20\n",
      "-------------------------------\n",
      "loss: 0.133096  [    0/52000]\n",
      "loss: 0.140593  [ 6400/52000]\n",
      "loss: 0.146299  [12800/52000]\n",
      "loss: 0.103255  [19200/52000]\n",
      "loss: 0.108022  [25600/52000]\n",
      "loss: 0.111045  [32000/52000]\n",
      "loss: 0.144853  [38400/52000]\n",
      "loss: 0.130678  [44800/52000]\n",
      "loss: 0.070090  [51200/52000]\n",
      "Test Error: \n",
      " Accuracy: 90.2%, Avg loss: 0.306856 \n",
      "\n",
      "Epoch 21\n",
      "-------------------------------\n",
      "loss: 0.132877  [    0/52000]\n",
      "loss: 0.140283  [ 6400/52000]\n",
      "loss: 0.145931  [12800/52000]\n",
      "loss: 0.102847  [19200/52000]\n",
      "loss: 0.107843  [25600/52000]\n",
      "loss: 0.110784  [32000/52000]\n",
      "loss: 0.144676  [38400/52000]\n",
      "loss: 0.130490  [44800/52000]\n",
      "loss: 0.069920  [51200/52000]\n",
      "Test Error: \n",
      " Accuracy: 90.2%, Avg loss: 0.306858 \n",
      "\n",
      "Epoch 22\n",
      "-------------------------------\n",
      "loss: 0.132659  [    0/52000]\n",
      "loss: 0.139973  [ 6400/52000]\n",
      "loss: 0.145566  [12800/52000]\n",
      "loss: 0.102440  [19200/52000]\n",
      "loss: 0.107664  [25600/52000]\n",
      "loss: 0.110524  [32000/52000]\n",
      "loss: 0.144498  [38400/52000]\n",
      "loss: 0.130303  [44800/52000]\n",
      "loss: 0.069752  [51200/52000]\n",
      "Test Error: \n",
      " Accuracy: 90.2%, Avg loss: 0.306862 \n",
      "\n",
      "Epoch 23\n",
      "-------------------------------\n",
      "loss: 0.132442  [    0/52000]\n",
      "loss: 0.139664  [ 6400/52000]\n",
      "loss: 0.145201  [12800/52000]\n",
      "loss: 0.102036  [19200/52000]\n",
      "loss: 0.107486  [25600/52000]\n",
      "loss: 0.110264  [32000/52000]\n"
     ]
    },
    {
     "name": "stdout",
     "output_type": "stream",
     "text": [
      "loss: 0.144322  [38400/52000]\n",
      "loss: 0.130117  [44800/52000]\n",
      "loss: 0.069583  [51200/52000]\n",
      "Test Error: \n",
      " Accuracy: 90.2%, Avg loss: 0.306865 \n",
      "\n",
      "Epoch 24\n",
      "-------------------------------\n",
      "loss: 0.132225  [    0/52000]\n",
      "loss: 0.139356  [ 6400/52000]\n",
      "loss: 0.144839  [12800/52000]\n",
      "loss: 0.101633  [19200/52000]\n",
      "loss: 0.107309  [25600/52000]\n",
      "loss: 0.110005  [32000/52000]\n",
      "loss: 0.144145  [38400/52000]\n",
      "loss: 0.129933  [44800/52000]\n",
      "loss: 0.069416  [51200/52000]\n",
      "Test Error: \n",
      " Accuracy: 90.2%, Avg loss: 0.306869 \n",
      "\n",
      "Epoch 25\n",
      "-------------------------------\n",
      "loss: 0.132008  [    0/52000]\n",
      "loss: 0.139048  [ 6400/52000]\n",
      "loss: 0.144478  [12800/52000]\n",
      "loss: 0.101232  [19200/52000]\n",
      "loss: 0.107132  [25600/52000]\n",
      "loss: 0.109746  [32000/52000]\n",
      "loss: 0.143970  [38400/52000]\n",
      "loss: 0.129749  [44800/52000]\n",
      "loss: 0.069250  [51200/52000]\n",
      "Test Error: \n",
      " Accuracy: 90.2%, Avg loss: 0.306873 \n",
      "\n",
      "Epoch 26\n",
      "-------------------------------\n",
      "loss: 0.131792  [    0/52000]\n",
      "loss: 0.138740  [ 6400/52000]\n",
      "loss: 0.144118  [12800/52000]\n",
      "loss: 0.100833  [19200/52000]\n",
      "loss: 0.106956  [25600/52000]\n",
      "loss: 0.109488  [32000/52000]\n",
      "loss: 0.143795  [38400/52000]\n",
      "loss: 0.129566  [44800/52000]\n",
      "loss: 0.069085  [51200/52000]\n",
      "Test Error: \n",
      " Accuracy: 90.2%, Avg loss: 0.306877 \n",
      "\n",
      "Epoch 27\n",
      "-------------------------------\n",
      "loss: 0.131577  [    0/52000]\n",
      "loss: 0.138434  [ 6400/52000]\n",
      "loss: 0.143760  [12800/52000]\n",
      "loss: 0.100436  [19200/52000]\n",
      "loss: 0.106780  [25600/52000]\n",
      "loss: 0.109230  [32000/52000]\n",
      "loss: 0.143620  [38400/52000]\n",
      "loss: 0.129384  [44800/52000]\n",
      "loss: 0.068920  [51200/52000]\n",
      "Test Error: \n",
      " Accuracy: 90.2%, Avg loss: 0.306881 \n",
      "\n",
      "Epoch 28\n",
      "-------------------------------\n",
      "loss: 0.131361  [    0/52000]\n",
      "loss: 0.138127  [ 6400/52000]\n",
      "loss: 0.143404  [12800/52000]\n",
      "loss: 0.100041  [19200/52000]\n",
      "loss: 0.106606  [25600/52000]\n",
      "loss: 0.108973  [32000/52000]\n",
      "loss: 0.143446  [38400/52000]\n",
      "loss: 0.129202  [44800/52000]\n",
      "loss: 0.068756  [51200/52000]\n",
      "Test Error: \n",
      " Accuracy: 90.2%, Avg loss: 0.306886 \n",
      "\n",
      "Epoch 29\n",
      "-------------------------------\n",
      "loss: 0.131147  [    0/52000]\n",
      "loss: 0.137821  [ 6400/52000]\n",
      "loss: 0.143049  [12800/52000]\n",
      "loss: 0.099647  [19200/52000]\n",
      "loss: 0.106431  [25600/52000]\n",
      "loss: 0.108717  [32000/52000]\n",
      "loss: 0.143272  [38400/52000]\n",
      "loss: 0.129022  [44800/52000]\n",
      "loss: 0.068593  [51200/52000]\n",
      "Test Error: \n",
      " Accuracy: 90.2%, Avg loss: 0.306891 \n",
      "\n",
      "Epoch 30\n",
      "-------------------------------\n",
      "loss: 0.130933  [    0/52000]\n",
      "loss: 0.137516  [ 6400/52000]\n",
      "loss: 0.142695  [12800/52000]\n",
      "loss: 0.099256  [19200/52000]\n",
      "loss: 0.106258  [25600/52000]\n",
      "loss: 0.108461  [32000/52000]\n",
      "loss: 0.143099  [38400/52000]\n",
      "loss: 0.128842  [44800/52000]\n",
      "loss: 0.068431  [51200/52000]\n",
      "Test Error: \n",
      " Accuracy: 90.2%, Avg loss: 0.306897 \n",
      "\n",
      "Epoch 31\n",
      "-------------------------------\n",
      "loss: 0.130719  [    0/52000]\n",
      "loss: 0.137211  [ 6400/52000]\n",
      "loss: 0.142343  [12800/52000]\n",
      "loss: 0.098866  [19200/52000]\n",
      "loss: 0.106084  [25600/52000]\n",
      "loss: 0.108206  [32000/52000]\n",
      "loss: 0.142927  [38400/52000]\n",
      "loss: 0.128664  [44800/52000]\n",
      "loss: 0.068269  [51200/52000]\n",
      "Test Error: \n",
      " Accuracy: 90.2%, Avg loss: 0.306902 \n",
      "\n",
      "Epoch 32\n",
      "-------------------------------\n",
      "loss: 0.130506  [    0/52000]\n",
      "loss: 0.136907  [ 6400/52000]\n",
      "loss: 0.141993  [12800/52000]\n",
      "loss: 0.098479  [19200/52000]\n",
      "loss: 0.105912  [25600/52000]\n",
      "loss: 0.107952  [32000/52000]\n",
      "loss: 0.142755  [38400/52000]\n",
      "loss: 0.128486  [44800/52000]\n",
      "loss: 0.068109  [51200/52000]\n",
      "Test Error: \n",
      " Accuracy: 90.2%, Avg loss: 0.306908 \n",
      "\n",
      "Epoch 33\n",
      "-------------------------------\n",
      "loss: 0.130293  [    0/52000]\n",
      "loss: 0.136603  [ 6400/52000]\n",
      "loss: 0.141644  [12800/52000]\n",
      "loss: 0.098093  [19200/52000]\n",
      "loss: 0.105740  [25600/52000]\n",
      "loss: 0.107698  [32000/52000]\n",
      "loss: 0.142583  [38400/52000]\n",
      "loss: 0.128309  [44800/52000]\n",
      "loss: 0.067949  [51200/52000]\n",
      "Test Error: \n",
      " Accuracy: 90.2%, Avg loss: 0.306914 \n",
      "\n",
      "Epoch 34\n",
      "-------------------------------\n",
      "loss: 0.130081  [    0/52000]\n",
      "loss: 0.136300  [ 6400/52000]\n",
      "loss: 0.141296  [12800/52000]\n",
      "loss: 0.097709  [19200/52000]\n",
      "loss: 0.105569  [25600/52000]\n",
      "loss: 0.107444  [32000/52000]\n",
      "loss: 0.142412  [38400/52000]\n",
      "loss: 0.128133  [44800/52000]\n",
      "loss: 0.067789  [51200/52000]\n",
      "Test Error: \n",
      " Accuracy: 90.2%, Avg loss: 0.306921 \n",
      "\n",
      "Epoch 35\n",
      "-------------------------------\n",
      "loss: 0.129869  [    0/52000]\n",
      "loss: 0.135997  [ 6400/52000]\n",
      "loss: 0.140950  [12800/52000]\n",
      "loss: 0.097327  [19200/52000]\n",
      "loss: 0.105398  [25600/52000]\n",
      "loss: 0.107192  [32000/52000]\n",
      "loss: 0.142242  [38400/52000]\n",
      "loss: 0.127958  [44800/52000]\n",
      "loss: 0.067631  [51200/52000]\n",
      "Test Error: \n",
      " Accuracy: 90.2%, Avg loss: 0.306927 \n",
      "\n",
      "Epoch 36\n",
      "-------------------------------\n",
      "loss: 0.129658  [    0/52000]\n",
      "loss: 0.135695  [ 6400/52000]\n",
      "loss: 0.140606  [12800/52000]\n",
      "loss: 0.096947  [19200/52000]\n",
      "loss: 0.105228  [25600/52000]\n",
      "loss: 0.106940  [32000/52000]\n",
      "loss: 0.142072  [38400/52000]\n",
      "loss: 0.127784  [44800/52000]\n",
      "loss: 0.067474  [51200/52000]\n",
      "Test Error: \n",
      " Accuracy: 90.2%, Avg loss: 0.306934 \n",
      "\n",
      "Epoch 37\n",
      "-------------------------------\n",
      "loss: 0.129447  [    0/52000]\n",
      "loss: 0.135393  [ 6400/52000]\n",
      "loss: 0.140263  [12800/52000]\n",
      "loss: 0.096568  [19200/52000]\n",
      "loss: 0.105059  [25600/52000]\n",
      "loss: 0.106688  [32000/52000]\n",
      "loss: 0.141903  [38400/52000]\n",
      "loss: 0.127610  [44800/52000]\n",
      "loss: 0.067317  [51200/52000]\n",
      "Test Error: \n",
      " Accuracy: 90.2%, Avg loss: 0.306941 \n",
      "\n",
      "Epoch 38\n",
      "-------------------------------\n",
      "loss: 0.129237  [    0/52000]\n",
      "loss: 0.135092  [ 6400/52000]\n",
      "loss: 0.139921  [12800/52000]\n",
      "loss: 0.096192  [19200/52000]\n",
      "loss: 0.104890  [25600/52000]\n",
      "loss: 0.106437  [32000/52000]\n",
      "loss: 0.141734  [38400/52000]\n",
      "loss: 0.127438  [44800/52000]\n",
      "loss: 0.067161  [51200/52000]\n",
      "Test Error: \n",
      " Accuracy: 90.2%, Avg loss: 0.306949 \n",
      "\n",
      "Epoch 39\n",
      "-------------------------------\n",
      "loss: 0.129027  [    0/52000]\n",
      "loss: 0.134791  [ 6400/52000]\n",
      "loss: 0.139581  [12800/52000]\n",
      "loss: 0.095818  [19200/52000]\n",
      "loss: 0.104721  [25600/52000]\n",
      "loss: 0.106187  [32000/52000]\n",
      "loss: 0.141566  [38400/52000]\n",
      "loss: 0.127266  [44800/52000]\n",
      "loss: 0.067005  [51200/52000]\n",
      "Test Error: \n",
      " Accuracy: 90.2%, Avg loss: 0.306957 \n",
      "\n",
      "Epoch 40\n",
      "-------------------------------\n",
      "loss: 0.128818  [    0/52000]\n",
      "loss: 0.134491  [ 6400/52000]\n",
      "loss: 0.139243  [12800/52000]\n",
      "loss: 0.095445  [19200/52000]\n",
      "loss: 0.104554  [25600/52000]\n",
      "loss: 0.105937  [32000/52000]\n",
      "loss: 0.141398  [38400/52000]\n",
      "loss: 0.127095  [44800/52000]\n",
      "loss: 0.066851  [51200/52000]\n",
      "Test Error: \n",
      " Accuracy: 90.2%, Avg loss: 0.306965 \n",
      "\n",
      "Epoch 41\n",
      "-------------------------------\n",
      "loss: 0.128609  [    0/52000]\n",
      "loss: 0.134191  [ 6400/52000]\n",
      "loss: 0.138906  [12800/52000]\n",
      "loss: 0.095074  [19200/52000]\n",
      "loss: 0.104386  [25600/52000]\n",
      "loss: 0.105688  [32000/52000]\n",
      "loss: 0.141231  [38400/52000]\n",
      "loss: 0.126925  [44800/52000]\n",
      "loss: 0.066697  [51200/52000]\n",
      "Test Error: \n",
      " Accuracy: 90.2%, Avg loss: 0.306973 \n",
      "\n",
      "Epoch 42\n",
      "-------------------------------\n",
      "loss: 0.128400  [    0/52000]\n",
      "loss: 0.133892  [ 6400/52000]\n",
      "loss: 0.138570  [12800/52000]\n",
      "loss: 0.094706  [19200/52000]\n",
      "loss: 0.104220  [25600/52000]\n",
      "loss: 0.105439  [32000/52000]\n",
      "loss: 0.141064  [38400/52000]\n",
      "loss: 0.126755  [44800/52000]\n",
      "loss: 0.066544  [51200/52000]\n",
      "Test Error: \n",
      " Accuracy: 90.2%, Avg loss: 0.306982 \n",
      "\n",
      "Epoch 43\n",
      "-------------------------------\n",
      "loss: 0.128192  [    0/52000]\n",
      "loss: 0.133594  [ 6400/52000]\n",
      "loss: 0.138236  [12800/52000]\n",
      "loss: 0.094339  [19200/52000]\n",
      "loss: 0.104054  [25600/52000]\n",
      "loss: 0.105191  [32000/52000]\n",
      "loss: 0.140898  [38400/52000]\n",
      "loss: 0.126587  [44800/52000]\n",
      "loss: 0.066391  [51200/52000]\n",
      "Test Error: \n",
      " Accuracy: 90.2%, Avg loss: 0.306990 \n",
      "\n",
      "Epoch 44\n",
      "-------------------------------\n",
      "loss: 0.127985  [    0/52000]\n",
      "loss: 0.133296  [ 6400/52000]\n",
      "loss: 0.137903  [12800/52000]\n",
      "loss: 0.093974  [19200/52000]\n",
      "loss: 0.103888  [25600/52000]\n",
      "loss: 0.104944  [32000/52000]\n",
      "loss: 0.140732  [38400/52000]\n",
      "loss: 0.126419  [44800/52000]\n",
      "loss: 0.066240  [51200/52000]\n",
      "Test Error: \n",
      " Accuracy: 90.2%, Avg loss: 0.306999 \n",
      "\n",
      "Epoch 45\n",
      "-------------------------------\n",
      "loss: 0.127778  [    0/52000]\n",
      "loss: 0.132999  [ 6400/52000]\n",
      "loss: 0.137571  [12800/52000]\n",
      "loss: 0.093611  [19200/52000]\n",
      "loss: 0.103724  [25600/52000]\n",
      "loss: 0.104697  [32000/52000]\n",
      "loss: 0.140567  [38400/52000]\n",
      "loss: 0.126252  [44800/52000]\n",
      "loss: 0.066089  [51200/52000]\n",
      "Test Error: \n",
      " Accuracy: 90.2%, Avg loss: 0.307009 \n",
      "\n",
      "Epoch 46\n",
      "-------------------------------\n",
      "loss: 0.127571  [    0/52000]\n"
     ]
    },
    {
     "name": "stdout",
     "output_type": "stream",
     "text": [
      "loss: 0.132702  [ 6400/52000]\n",
      "loss: 0.137241  [12800/52000]\n",
      "loss: 0.093250  [19200/52000]\n",
      "loss: 0.103559  [25600/52000]\n",
      "loss: 0.104451  [32000/52000]\n",
      "loss: 0.140402  [38400/52000]\n",
      "loss: 0.126086  [44800/52000]\n",
      "loss: 0.065938  [51200/52000]\n",
      "Test Error: \n",
      " Accuracy: 90.2%, Avg loss: 0.307018 \n",
      "\n",
      "Epoch 47\n",
      "-------------------------------\n",
      "loss: 0.127365  [    0/52000]\n",
      "loss: 0.132405  [ 6400/52000]\n",
      "loss: 0.136913  [12800/52000]\n",
      "loss: 0.092890  [19200/52000]\n",
      "loss: 0.103396  [25600/52000]\n",
      "loss: 0.104205  [32000/52000]\n",
      "loss: 0.140238  [38400/52000]\n",
      "loss: 0.125920  [44800/52000]\n",
      "loss: 0.065789  [51200/52000]\n",
      "Test Error: \n",
      " Accuracy: 90.2%, Avg loss: 0.307028 \n",
      "\n",
      "Epoch 48\n",
      "-------------------------------\n",
      "loss: 0.127159  [    0/52000]\n",
      "loss: 0.132110  [ 6400/52000]\n",
      "loss: 0.136586  [12800/52000]\n",
      "loss: 0.092533  [19200/52000]\n",
      "loss: 0.103233  [25600/52000]\n",
      "loss: 0.103960  [32000/52000]\n",
      "loss: 0.140074  [38400/52000]\n",
      "loss: 0.125756  [44800/52000]\n",
      "loss: 0.065640  [51200/52000]\n",
      "Test Error: \n",
      " Accuracy: 90.2%, Avg loss: 0.307038 \n",
      "\n",
      "Epoch 49\n",
      "-------------------------------\n",
      "loss: 0.126953  [    0/52000]\n",
      "loss: 0.131814  [ 6400/52000]\n",
      "loss: 0.136260  [12800/52000]\n",
      "loss: 0.092177  [19200/52000]\n",
      "loss: 0.103070  [25600/52000]\n",
      "loss: 0.103716  [32000/52000]\n",
      "loss: 0.139911  [38400/52000]\n",
      "loss: 0.125592  [44800/52000]\n",
      "loss: 0.065492  [51200/52000]\n",
      "Test Error: \n",
      " Accuracy: 90.2%, Avg loss: 0.307048 \n",
      "\n",
      "Epoch 50\n",
      "-------------------------------\n",
      "loss: 0.126749  [    0/52000]\n",
      "loss: 0.131520  [ 6400/52000]\n",
      "loss: 0.135936  [12800/52000]\n",
      "loss: 0.091823  [19200/52000]\n",
      "loss: 0.102908  [25600/52000]\n",
      "loss: 0.103472  [32000/52000]\n",
      "loss: 0.139748  [38400/52000]\n",
      "loss: 0.125429  [44800/52000]\n",
      "loss: 0.065345  [51200/52000]\n",
      "Test Error: \n",
      " Accuracy: 90.2%, Avg loss: 0.307059 \n",
      "\n",
      "Epoch 51\n",
      "-------------------------------\n",
      "loss: 0.126544  [    0/52000]\n",
      "loss: 0.131226  [ 6400/52000]\n",
      "loss: 0.135613  [12800/52000]\n",
      "loss: 0.091471  [19200/52000]\n",
      "loss: 0.102747  [25600/52000]\n",
      "loss: 0.103229  [32000/52000]\n",
      "loss: 0.139585  [38400/52000]\n",
      "loss: 0.125266  [44800/52000]\n",
      "loss: 0.065198  [51200/52000]\n",
      "Test Error: \n",
      " Accuracy: 90.2%, Avg loss: 0.307069 \n",
      "\n",
      "Epoch 52\n",
      "-------------------------------\n",
      "loss: 0.126340  [    0/52000]\n",
      "loss: 0.130932  [ 6400/52000]\n",
      "loss: 0.135291  [12800/52000]\n",
      "loss: 0.091122  [19200/52000]\n",
      "loss: 0.102586  [25600/52000]\n",
      "loss: 0.102986  [32000/52000]\n",
      "loss: 0.139423  [38400/52000]\n",
      "loss: 0.125105  [44800/52000]\n",
      "loss: 0.065052  [51200/52000]\n",
      "Test Error: \n",
      " Accuracy: 90.2%, Avg loss: 0.307081 \n",
      "\n",
      "Epoch 53\n",
      "-------------------------------\n",
      "loss: 0.126136  [    0/52000]\n",
      "loss: 0.130640  [ 6400/52000]\n",
      "loss: 0.134971  [12800/52000]\n",
      "loss: 0.090774  [19200/52000]\n",
      "loss: 0.102426  [25600/52000]\n",
      "loss: 0.102743  [32000/52000]\n",
      "loss: 0.139262  [38400/52000]\n",
      "loss: 0.124944  [44800/52000]\n",
      "loss: 0.064907  [51200/52000]\n",
      "Test Error: \n",
      " Accuracy: 90.2%, Avg loss: 0.307092 \n",
      "\n",
      "Epoch 54\n",
      "-------------------------------\n",
      "loss: 0.125933  [    0/52000]\n",
      "loss: 0.130347  [ 6400/52000]\n",
      "loss: 0.134653  [12800/52000]\n",
      "loss: 0.090427  [19200/52000]\n",
      "loss: 0.102266  [25600/52000]\n",
      "loss: 0.102502  [32000/52000]\n",
      "loss: 0.139101  [38400/52000]\n",
      "loss: 0.124784  [44800/52000]\n",
      "loss: 0.064762  [51200/52000]\n",
      "Test Error: \n",
      " Accuracy: 90.2%, Avg loss: 0.307103 \n",
      "\n",
      "Epoch 55\n",
      "-------------------------------\n",
      "loss: 0.125731  [    0/52000]\n",
      "loss: 0.130055  [ 6400/52000]\n",
      "loss: 0.134335  [12800/52000]\n",
      "loss: 0.090083  [19200/52000]\n",
      "loss: 0.102107  [25600/52000]\n",
      "loss: 0.102261  [32000/52000]\n",
      "loss: 0.138941  [38400/52000]\n",
      "loss: 0.124624  [44800/52000]\n"
     ]
    },
    {
     "ename": "KeyboardInterrupt",
     "evalue": "",
     "output_type": "error",
     "traceback": [
      "\u001b[0;31m---------------------------------------------------------------------------\u001b[0m",
      "\u001b[0;31mKeyboardInterrupt\u001b[0m                         Traceback (most recent call last)",
      "\u001b[0;32m/tmp/ipykernel_5462/4268488775.py\u001b[0m in \u001b[0;36m<module>\u001b[0;34m\u001b[0m\n\u001b[1;32m      1\u001b[0m \u001b[0mloss_fn\u001b[0m \u001b[0;34m=\u001b[0m \u001b[0mnn\u001b[0m\u001b[0;34m.\u001b[0m\u001b[0mCrossEntropyLoss\u001b[0m\u001b[0;34m(\u001b[0m\u001b[0;34m)\u001b[0m\u001b[0;34m\u001b[0m\u001b[0;34m\u001b[0m\u001b[0m\n\u001b[1;32m      2\u001b[0m \u001b[0moptimizer2\u001b[0m \u001b[0;34m=\u001b[0m \u001b[0mtorch\u001b[0m\u001b[0;34m.\u001b[0m\u001b[0moptim\u001b[0m\u001b[0;34m.\u001b[0m\u001b[0mSGD\u001b[0m\u001b[0;34m(\u001b[0m\u001b[0mmodel_lin2\u001b[0m\u001b[0;34m.\u001b[0m\u001b[0mparameters\u001b[0m\u001b[0;34m(\u001b[0m\u001b[0;34m)\u001b[0m\u001b[0;34m,\u001b[0m \u001b[0mlr\u001b[0m\u001b[0;34m=\u001b[0m\u001b[0;36m0.01\u001b[0m\u001b[0;34m)\u001b[0m\u001b[0;34m\u001b[0m\u001b[0;34m\u001b[0m\u001b[0m\n\u001b[0;32m----> 3\u001b[0;31m \u001b[0mlearning_cycle\u001b[0m\u001b[0;34m(\u001b[0m\u001b[0;36m1000\u001b[0m\u001b[0;34m,\u001b[0m \u001b[0mmodel_lin2\u001b[0m\u001b[0;34m,\u001b[0m \u001b[0mloss_fn\u001b[0m\u001b[0;34m,\u001b[0m \u001b[0moptimizer2\u001b[0m\u001b[0;34m)\u001b[0m\u001b[0;34m\u001b[0m\u001b[0;34m\u001b[0m\u001b[0m\n\u001b[0m",
      "\u001b[0;32m/tmp/ipykernel_5462/3991844215.py\u001b[0m in \u001b[0;36mlearning_cycle\u001b[0;34m(epochs, model, loss_fn, optimizer)\u001b[0m\n\u001b[1;32m      2\u001b[0m     \u001b[0;32mfor\u001b[0m \u001b[0mt\u001b[0m \u001b[0;32min\u001b[0m \u001b[0mrange\u001b[0m\u001b[0;34m(\u001b[0m\u001b[0mepochs\u001b[0m\u001b[0;34m)\u001b[0m\u001b[0;34m:\u001b[0m\u001b[0;34m\u001b[0m\u001b[0;34m\u001b[0m\u001b[0m\n\u001b[1;32m      3\u001b[0m         \u001b[0mprint\u001b[0m\u001b[0;34m(\u001b[0m\u001b[0;34mf\"Epoch {t+1}\\n-------------------------------\"\u001b[0m\u001b[0;34m)\u001b[0m\u001b[0;34m\u001b[0m\u001b[0;34m\u001b[0m\u001b[0m\n\u001b[0;32m----> 4\u001b[0;31m         \u001b[0mtrain\u001b[0m\u001b[0;34m(\u001b[0m\u001b[0mtrain_dataloader\u001b[0m\u001b[0;34m,\u001b[0m \u001b[0mmodel\u001b[0m\u001b[0;34m,\u001b[0m \u001b[0mloss_fn\u001b[0m\u001b[0;34m,\u001b[0m \u001b[0moptimizer\u001b[0m\u001b[0;34m)\u001b[0m\u001b[0;34m\u001b[0m\u001b[0;34m\u001b[0m\u001b[0m\n\u001b[0m\u001b[1;32m      5\u001b[0m         \u001b[0mtest\u001b[0m\u001b[0;34m(\u001b[0m\u001b[0mtest_dataloader\u001b[0m\u001b[0;34m,\u001b[0m \u001b[0mmodel\u001b[0m\u001b[0;34m,\u001b[0m \u001b[0mloss_fn\u001b[0m\u001b[0;34m)\u001b[0m\u001b[0;34m\u001b[0m\u001b[0;34m\u001b[0m\u001b[0m\n\u001b[1;32m      6\u001b[0m         \u001b[0;31m#print(\"Done!\")\u001b[0m\u001b[0;34m\u001b[0m\u001b[0;34m\u001b[0m\u001b[0;34m\u001b[0m\u001b[0m\n",
      "\u001b[0;32m/tmp/ipykernel_5462/3119824423.py\u001b[0m in \u001b[0;36mtrain\u001b[0;34m(dataloader, model, loss_fn, optimizer)\u001b[0m\n\u001b[1;32m      6\u001b[0m \u001b[0;34m\u001b[0m\u001b[0m\n\u001b[1;32m      7\u001b[0m         \u001b[0;31m# Compute prediction error\u001b[0m\u001b[0;34m\u001b[0m\u001b[0;34m\u001b[0m\u001b[0;34m\u001b[0m\u001b[0m\n\u001b[0;32m----> 8\u001b[0;31m         \u001b[0mpred\u001b[0m \u001b[0;34m=\u001b[0m \u001b[0mmodel\u001b[0m\u001b[0;34m(\u001b[0m\u001b[0mX\u001b[0m\u001b[0;34m)\u001b[0m\u001b[0;34m\u001b[0m\u001b[0;34m\u001b[0m\u001b[0m\n\u001b[0m\u001b[1;32m      9\u001b[0m         \u001b[0mloss\u001b[0m \u001b[0;34m=\u001b[0m \u001b[0mloss_fn\u001b[0m\u001b[0;34m(\u001b[0m\u001b[0mpred\u001b[0m\u001b[0;34m,\u001b[0m \u001b[0my\u001b[0m\u001b[0;34m)\u001b[0m\u001b[0;34m\u001b[0m\u001b[0;34m\u001b[0m\u001b[0m\n\u001b[1;32m     10\u001b[0m \u001b[0;34m\u001b[0m\u001b[0m\n",
      "\u001b[0;32m~/.local/lib/python3.8/site-packages/torch/nn/modules/module.py\u001b[0m in \u001b[0;36m_call_impl\u001b[0;34m(self, *input, **kwargs)\u001b[0m\n\u001b[1;32m   1100\u001b[0m         if not (self._backward_hooks or self._forward_hooks or self._forward_pre_hooks or _global_backward_hooks\n\u001b[1;32m   1101\u001b[0m                 or _global_forward_hooks or _global_forward_pre_hooks):\n\u001b[0;32m-> 1102\u001b[0;31m             \u001b[0;32mreturn\u001b[0m \u001b[0mforward_call\u001b[0m\u001b[0;34m(\u001b[0m\u001b[0;34m*\u001b[0m\u001b[0minput\u001b[0m\u001b[0;34m,\u001b[0m \u001b[0;34m**\u001b[0m\u001b[0mkwargs\u001b[0m\u001b[0;34m)\u001b[0m\u001b[0;34m\u001b[0m\u001b[0;34m\u001b[0m\u001b[0m\n\u001b[0m\u001b[1;32m   1103\u001b[0m         \u001b[0;31m# Do not call functions when jit is used\u001b[0m\u001b[0;34m\u001b[0m\u001b[0;34m\u001b[0m\u001b[0;34m\u001b[0m\u001b[0m\n\u001b[1;32m   1104\u001b[0m         \u001b[0mfull_backward_hooks\u001b[0m\u001b[0;34m,\u001b[0m \u001b[0mnon_full_backward_hooks\u001b[0m \u001b[0;34m=\u001b[0m \u001b[0;34m[\u001b[0m\u001b[0;34m]\u001b[0m\u001b[0;34m,\u001b[0m \u001b[0;34m[\u001b[0m\u001b[0;34m]\u001b[0m\u001b[0;34m\u001b[0m\u001b[0;34m\u001b[0m\u001b[0m\n",
      "\u001b[0;32m/tmp/ipykernel_5462/2160683274.py\u001b[0m in \u001b[0;36mforward\u001b[0;34m(self, x)\u001b[0m\n\u001b[1;32m     11\u001b[0m     \u001b[0;32mdef\u001b[0m \u001b[0mforward\u001b[0m\u001b[0;34m(\u001b[0m\u001b[0mself\u001b[0m\u001b[0;34m,\u001b[0m \u001b[0mx\u001b[0m\u001b[0;34m)\u001b[0m\u001b[0;34m:\u001b[0m\u001b[0;34m\u001b[0m\u001b[0;34m\u001b[0m\u001b[0m\n\u001b[1;32m     12\u001b[0m         \u001b[0mx\u001b[0m \u001b[0;34m=\u001b[0m \u001b[0mself\u001b[0m\u001b[0;34m.\u001b[0m\u001b[0mflatten\u001b[0m\u001b[0;34m(\u001b[0m\u001b[0mx\u001b[0m\u001b[0;34m)\u001b[0m\u001b[0;34m\u001b[0m\u001b[0;34m\u001b[0m\u001b[0m\n\u001b[0;32m---> 13\u001b[0;31m         \u001b[0mlogits\u001b[0m \u001b[0;34m=\u001b[0m \u001b[0mself\u001b[0m\u001b[0;34m.\u001b[0m\u001b[0mlinear_sigmoid_stack\u001b[0m\u001b[0;34m(\u001b[0m\u001b[0mx\u001b[0m\u001b[0;34m)\u001b[0m\u001b[0;34m\u001b[0m\u001b[0;34m\u001b[0m\u001b[0m\n\u001b[0m\u001b[1;32m     14\u001b[0m         \u001b[0;32mreturn\u001b[0m \u001b[0mlogits\u001b[0m\u001b[0;34m\u001b[0m\u001b[0;34m\u001b[0m\u001b[0m\n",
      "\u001b[0;32m~/.local/lib/python3.8/site-packages/torch/nn/modules/module.py\u001b[0m in \u001b[0;36m_call_impl\u001b[0;34m(self, *input, **kwargs)\u001b[0m\n\u001b[1;32m   1100\u001b[0m         if not (self._backward_hooks or self._forward_hooks or self._forward_pre_hooks or _global_backward_hooks\n\u001b[1;32m   1101\u001b[0m                 or _global_forward_hooks or _global_forward_pre_hooks):\n\u001b[0;32m-> 1102\u001b[0;31m             \u001b[0;32mreturn\u001b[0m \u001b[0mforward_call\u001b[0m\u001b[0;34m(\u001b[0m\u001b[0;34m*\u001b[0m\u001b[0minput\u001b[0m\u001b[0;34m,\u001b[0m \u001b[0;34m**\u001b[0m\u001b[0mkwargs\u001b[0m\u001b[0;34m)\u001b[0m\u001b[0;34m\u001b[0m\u001b[0;34m\u001b[0m\u001b[0m\n\u001b[0m\u001b[1;32m   1103\u001b[0m         \u001b[0;31m# Do not call functions when jit is used\u001b[0m\u001b[0;34m\u001b[0m\u001b[0;34m\u001b[0m\u001b[0;34m\u001b[0m\u001b[0m\n\u001b[1;32m   1104\u001b[0m         \u001b[0mfull_backward_hooks\u001b[0m\u001b[0;34m,\u001b[0m \u001b[0mnon_full_backward_hooks\u001b[0m \u001b[0;34m=\u001b[0m \u001b[0;34m[\u001b[0m\u001b[0;34m]\u001b[0m\u001b[0;34m,\u001b[0m \u001b[0;34m[\u001b[0m\u001b[0;34m]\u001b[0m\u001b[0;34m\u001b[0m\u001b[0;34m\u001b[0m\u001b[0m\n",
      "\u001b[0;32m~/.local/lib/python3.8/site-packages/torch/nn/modules/container.py\u001b[0m in \u001b[0;36mforward\u001b[0;34m(self, input)\u001b[0m\n\u001b[1;32m    139\u001b[0m     \u001b[0;32mdef\u001b[0m \u001b[0mforward\u001b[0m\u001b[0;34m(\u001b[0m\u001b[0mself\u001b[0m\u001b[0;34m,\u001b[0m \u001b[0minput\u001b[0m\u001b[0;34m)\u001b[0m\u001b[0;34m:\u001b[0m\u001b[0;34m\u001b[0m\u001b[0;34m\u001b[0m\u001b[0m\n\u001b[1;32m    140\u001b[0m         \u001b[0;32mfor\u001b[0m \u001b[0mmodule\u001b[0m \u001b[0;32min\u001b[0m \u001b[0mself\u001b[0m\u001b[0;34m:\u001b[0m\u001b[0;34m\u001b[0m\u001b[0;34m\u001b[0m\u001b[0m\n\u001b[0;32m--> 141\u001b[0;31m             \u001b[0minput\u001b[0m \u001b[0;34m=\u001b[0m \u001b[0mmodule\u001b[0m\u001b[0;34m(\u001b[0m\u001b[0minput\u001b[0m\u001b[0;34m)\u001b[0m\u001b[0;34m\u001b[0m\u001b[0;34m\u001b[0m\u001b[0m\n\u001b[0m\u001b[1;32m    142\u001b[0m         \u001b[0;32mreturn\u001b[0m \u001b[0minput\u001b[0m\u001b[0;34m\u001b[0m\u001b[0;34m\u001b[0m\u001b[0m\n\u001b[1;32m    143\u001b[0m \u001b[0;34m\u001b[0m\u001b[0m\n",
      "\u001b[0;32m~/.local/lib/python3.8/site-packages/torch/nn/modules/module.py\u001b[0m in \u001b[0;36m_call_impl\u001b[0;34m(self, *input, **kwargs)\u001b[0m\n\u001b[1;32m   1100\u001b[0m         if not (self._backward_hooks or self._forward_hooks or self._forward_pre_hooks or _global_backward_hooks\n\u001b[1;32m   1101\u001b[0m                 or _global_forward_hooks or _global_forward_pre_hooks):\n\u001b[0;32m-> 1102\u001b[0;31m             \u001b[0;32mreturn\u001b[0m \u001b[0mforward_call\u001b[0m\u001b[0;34m(\u001b[0m\u001b[0;34m*\u001b[0m\u001b[0minput\u001b[0m\u001b[0;34m,\u001b[0m \u001b[0;34m**\u001b[0m\u001b[0mkwargs\u001b[0m\u001b[0;34m)\u001b[0m\u001b[0;34m\u001b[0m\u001b[0;34m\u001b[0m\u001b[0m\n\u001b[0m\u001b[1;32m   1103\u001b[0m         \u001b[0;31m# Do not call functions when jit is used\u001b[0m\u001b[0;34m\u001b[0m\u001b[0;34m\u001b[0m\u001b[0;34m\u001b[0m\u001b[0m\n\u001b[1;32m   1104\u001b[0m         \u001b[0mfull_backward_hooks\u001b[0m\u001b[0;34m,\u001b[0m \u001b[0mnon_full_backward_hooks\u001b[0m \u001b[0;34m=\u001b[0m \u001b[0;34m[\u001b[0m\u001b[0;34m]\u001b[0m\u001b[0;34m,\u001b[0m \u001b[0;34m[\u001b[0m\u001b[0;34m]\u001b[0m\u001b[0;34m\u001b[0m\u001b[0;34m\u001b[0m\u001b[0m\n",
      "\u001b[0;32m~/.local/lib/python3.8/site-packages/torch/nn/modules/linear.py\u001b[0m in \u001b[0;36mforward\u001b[0;34m(self, input)\u001b[0m\n\u001b[1;32m    101\u001b[0m \u001b[0;34m\u001b[0m\u001b[0m\n\u001b[1;32m    102\u001b[0m     \u001b[0;32mdef\u001b[0m \u001b[0mforward\u001b[0m\u001b[0;34m(\u001b[0m\u001b[0mself\u001b[0m\u001b[0;34m,\u001b[0m \u001b[0minput\u001b[0m\u001b[0;34m:\u001b[0m \u001b[0mTensor\u001b[0m\u001b[0;34m)\u001b[0m \u001b[0;34m->\u001b[0m \u001b[0mTensor\u001b[0m\u001b[0;34m:\u001b[0m\u001b[0;34m\u001b[0m\u001b[0;34m\u001b[0m\u001b[0m\n\u001b[0;32m--> 103\u001b[0;31m         \u001b[0;32mreturn\u001b[0m \u001b[0mF\u001b[0m\u001b[0;34m.\u001b[0m\u001b[0mlinear\u001b[0m\u001b[0;34m(\u001b[0m\u001b[0minput\u001b[0m\u001b[0;34m,\u001b[0m \u001b[0mself\u001b[0m\u001b[0;34m.\u001b[0m\u001b[0mweight\u001b[0m\u001b[0;34m,\u001b[0m \u001b[0mself\u001b[0m\u001b[0;34m.\u001b[0m\u001b[0mbias\u001b[0m\u001b[0;34m)\u001b[0m\u001b[0;34m\u001b[0m\u001b[0;34m\u001b[0m\u001b[0m\n\u001b[0m\u001b[1;32m    104\u001b[0m \u001b[0;34m\u001b[0m\u001b[0m\n\u001b[1;32m    105\u001b[0m     \u001b[0;32mdef\u001b[0m \u001b[0mextra_repr\u001b[0m\u001b[0;34m(\u001b[0m\u001b[0mself\u001b[0m\u001b[0;34m)\u001b[0m \u001b[0;34m->\u001b[0m \u001b[0mstr\u001b[0m\u001b[0;34m:\u001b[0m\u001b[0;34m\u001b[0m\u001b[0;34m\u001b[0m\u001b[0m\n",
      "\u001b[0;32m~/.local/lib/python3.8/site-packages/torch/nn/functional.py\u001b[0m in \u001b[0;36mlinear\u001b[0;34m(input, weight, bias)\u001b[0m\n\u001b[1;32m   1846\u001b[0m     \u001b[0;32mif\u001b[0m \u001b[0mhas_torch_function_variadic\u001b[0m\u001b[0;34m(\u001b[0m\u001b[0minput\u001b[0m\u001b[0;34m,\u001b[0m \u001b[0mweight\u001b[0m\u001b[0;34m,\u001b[0m \u001b[0mbias\u001b[0m\u001b[0;34m)\u001b[0m\u001b[0;34m:\u001b[0m\u001b[0;34m\u001b[0m\u001b[0;34m\u001b[0m\u001b[0m\n\u001b[1;32m   1847\u001b[0m         \u001b[0;32mreturn\u001b[0m \u001b[0mhandle_torch_function\u001b[0m\u001b[0;34m(\u001b[0m\u001b[0mlinear\u001b[0m\u001b[0;34m,\u001b[0m \u001b[0;34m(\u001b[0m\u001b[0minput\u001b[0m\u001b[0;34m,\u001b[0m \u001b[0mweight\u001b[0m\u001b[0;34m,\u001b[0m \u001b[0mbias\u001b[0m\u001b[0;34m)\u001b[0m\u001b[0;34m,\u001b[0m \u001b[0minput\u001b[0m\u001b[0;34m,\u001b[0m \u001b[0mweight\u001b[0m\u001b[0;34m,\u001b[0m \u001b[0mbias\u001b[0m\u001b[0;34m=\u001b[0m\u001b[0mbias\u001b[0m\u001b[0;34m)\u001b[0m\u001b[0;34m\u001b[0m\u001b[0;34m\u001b[0m\u001b[0m\n\u001b[0;32m-> 1848\u001b[0;31m     \u001b[0;32mreturn\u001b[0m \u001b[0mtorch\u001b[0m\u001b[0;34m.\u001b[0m\u001b[0m_C\u001b[0m\u001b[0;34m.\u001b[0m\u001b[0m_nn\u001b[0m\u001b[0;34m.\u001b[0m\u001b[0mlinear\u001b[0m\u001b[0;34m(\u001b[0m\u001b[0minput\u001b[0m\u001b[0;34m,\u001b[0m \u001b[0mweight\u001b[0m\u001b[0;34m,\u001b[0m \u001b[0mbias\u001b[0m\u001b[0;34m)\u001b[0m\u001b[0;34m\u001b[0m\u001b[0;34m\u001b[0m\u001b[0m\n\u001b[0m\u001b[1;32m   1849\u001b[0m \u001b[0;34m\u001b[0m\u001b[0m\n\u001b[1;32m   1850\u001b[0m \u001b[0;34m\u001b[0m\u001b[0m\n",
      "\u001b[0;31mKeyboardInterrupt\u001b[0m: "
     ]
    }
   ],
   "source": [
    "loss_fn = nn.CrossEntropyLoss()\n",
    "optimizer2 = torch.optim.SGD(model_lin2.parameters(), lr=0.01)\n",
    "learning_cycle(100, model_lin2, loss_fn, optimizer2)"
   ]
  },
  {
   "cell_type": "markdown",
   "metadata": {},
   "source": [
    "судя по всему более простая модель только с двумя линейными слоями и учится значительно быстрее и выдает результаты далеко не хуже с точки зрения метрик"
   ]
  },
  {
   "cell_type": "markdown",
   "metadata": {},
   "source": [
    "так же большое значение играет здесь learning rate "
   ]
  },
  {
   "cell_type": "code",
   "execution_count": 27,
   "metadata": {},
   "outputs": [],
   "source": [
    "Xt,yt = get_data_and_targets_lst(\"images/test\")"
   ]
  },
  {
   "cell_type": "code",
   "execution_count": 28,
   "metadata": {},
   "outputs": [],
   "source": [
    "final_test_dataset = MyDataset(Xt, yt)\n",
    "final_test_dataloader = DataLoader(final_test_dataset, batch_size=batch_size)"
   ]
  },
  {
   "cell_type": "code",
   "execution_count": 29,
   "metadata": {},
   "outputs": [
    {
     "data": {
      "text/plain": [
       "0.03638461538461538"
      ]
     },
     "execution_count": 29,
     "metadata": {},
     "output_type": "execute_result"
    }
   ],
   "source": [
    "get_model_accuracy(final_test_dataloader, model_lin3)"
   ]
  },
  {
   "cell_type": "code",
   "execution_count": 30,
   "metadata": {},
   "outputs": [
    {
     "data": {
      "text/plain": [
       "0.038461538461538464"
      ]
     },
     "execution_count": 30,
     "metadata": {},
     "output_type": "execute_result"
    }
   ],
   "source": [
    "get_model_accuracy(final_test_dataloader, model_lin2)"
   ]
  },
  {
   "cell_type": "code",
   "execution_count": 179,
   "metadata": {},
   "outputs": [],
   "source": [
    "#torch.save(model_lin2.state_dict(), \"my_models/model90.pth\")"
   ]
  },
  {
   "cell_type": "code",
   "execution_count": 181,
   "metadata": {},
   "outputs": [
    {
     "data": {
      "text/plain": [
       "<All keys matched successfully>"
      ]
     },
     "execution_count": 181,
     "metadata": {},
     "output_type": "execute_result"
    }
   ],
   "source": [
    "# model_lin2 = NeuralNetwork2()\n",
    "# model_lin2.load_state_dict(torch.load(\"my_models/model90.pth\"))"
   ]
  },
  {
   "cell_type": "markdown",
   "metadata": {},
   "source": [
    "# 1.2"
   ]
  },
  {
   "cell_type": "code",
   "execution_count": 31,
   "metadata": {},
   "outputs": [],
   "source": [
    "from sklearn.metrics import confusion_matrix\n",
    "import seaborn as sns\n",
    "import pandas as pd"
   ]
  },
  {
   "cell_type": "code",
   "execution_count": 184,
   "metadata": {},
   "outputs": [
    {
     "data": {
      "text/plain": [
       "13000"
      ]
     },
     "execution_count": 184,
     "metadata": {},
     "output_type": "execute_result"
    }
   ],
   "source": [
    "predictions = get_all_model_predictions(final_test_dataloader, model_lin2)\n",
    "len(predictions)"
   ]
  },
  {
   "cell_type": "code",
   "execution_count": 185,
   "metadata": {},
   "outputs": [
    {
     "name": "stdout",
     "output_type": "stream",
     "text": [
      "500.0\n"
     ]
    }
   ],
   "source": [
    "print(13000/26)"
   ]
  },
  {
   "cell_type": "code",
   "execution_count": 186,
   "metadata": {},
   "outputs": [],
   "source": [
    "cf_matrix = confusion_matrix(yt, predictions)"
   ]
  },
  {
   "cell_type": "code",
   "execution_count": 187,
   "metadata": {},
   "outputs": [
    {
     "data": {
      "text/plain": [
       "<AxesSubplot:>"
      ]
     },
     "execution_count": 187,
     "metadata": {},
     "output_type": "execute_result"
    },
    {
     "data": {
      "image/png": "[encoded data removed]",
      "text/plain": [
       "<Figure size 1224x936 with 2 Axes>"
      ]
     },
     "metadata": {
      "needs_background": "light"
     },
     "output_type": "display_data"
    }
   ],
   "source": [
    "plt.figure(figsize=(17,13))\n",
    "sns.heatmap(cf_matrix, annot=True)"
   ]
  },
  {
   "cell_type": "code",
   "execution_count": 188,
   "metadata": {},
   "outputs": [
    {
     "data": {
      "text/plain": [
       "<BarContainer object of 26 artists>"
      ]
     },
     "execution_count": 188,
     "metadata": {},
     "output_type": "execute_result"
    },
    {
     "data": {
      "image/png": "[encoded data removed]",
      "text/plain": [
       "<Figure size 1080x720 with 1 Axes>"
      ]
     },
     "metadata": {
      "needs_background": "light"
     },
     "output_type": "display_data"
    }
   ],
   "source": [
    "plt.figure(figsize=(15,10))\n",
    "letters_stat = [cf_matrix[i][i] for i in range(26)]\n",
    "plt.bar([chr(i+97) for i in range(26)], letters_stat)"
   ]
  },
  {
   "cell_type": "code",
   "execution_count": 189,
   "metadata": {},
   "outputs": [
    {
     "data": {
      "text/plain": [
       "('o', 0.974)"
      ]
     },
     "execution_count": 189,
     "metadata": {},
     "output_type": "execute_result"
    }
   ],
   "source": [
    "chr(np.array(letters_stat).argmax() + 97), max(letters_stat)/500"
   ]
  },
  {
   "cell_type": "code",
   "execution_count": 190,
   "metadata": {},
   "outputs": [
    {
     "data": {
      "text/plain": [
       "('i', 0.732)"
      ]
     },
     "execution_count": 190,
     "metadata": {},
     "output_type": "execute_result"
    }
   ],
   "source": [
    "chr(np.array(letters_stat).argmin() + 97), min(letters_stat)/500"
   ]
  },
  {
   "cell_type": "markdown",
   "metadata": {},
   "source": [
    "# 1.3"
   ]
  },
  {
   "cell_type": "code",
   "execution_count": 191,
   "metadata": {},
   "outputs": [],
   "source": [
    "def get_confusing_letters(cf_matrix, amount=10):\n",
    "    matrix = cf_matrix.copy()\n",
    "    for i in range(26):\n",
    "        matrix[i][i] = 0\n",
    "    confusion = []\n",
    "    for i in range(26):\n",
    "        for j in range(26):\n",
    "            if len(confusion)<amount:\n",
    "                confusion.append((matrix[i][j],chr(i+97),chr(j+97)))\n",
    "            elif min(confusion, key=lambda el: el[0])[0] < matrix[i][j]:\n",
    "                confusion = sorted(confusion, key=lambda el: el[0])\n",
    "                confusion[0] = (matrix[i][j],chr(i+97),chr(j+97))\n",
    "    return sorted(confusion, key=lambda el: el[0])"
   ]
  },
  {
   "cell_type": "code",
   "execution_count": 192,
   "metadata": {},
   "outputs": [
    {
     "data": {
      "text/plain": [
       "[(10, 'x', 'y'),\n",
       " (10, 'r', 'a'),\n",
       " (10, 'q', 'a'),\n",
       " (10, 'f', 't'),\n",
       " (11, 'j', 'i'),\n",
       " (11, 'i', 'j'),\n",
       " (12, 'n', 'w'),\n",
       " (12, 'a', 'q'),\n",
       " (13, 'f', 'p'),\n",
       " (13, 'd', 'o'),\n",
       " (13, 'c', 'e'),\n",
       " (15, 'e', 'c'),\n",
       " (16, 'u', 'v'),\n",
       " (17, 's', 'g'),\n",
       " (19, 'y', 'v'),\n",
       " (20, 'v', 'u'),\n",
       " (62, 'q', 'g'),\n",
       " (64, 'g', 'q'),\n",
       " (109, 'i', 'l'),\n",
       " (112, 'l', 'i')]"
      ]
     },
     "execution_count": 192,
     "metadata": {},
     "output_type": "execute_result"
    }
   ],
   "source": [
    "get_confusing_letters(cf_matrix, 20)"
   ]
  },
  {
   "cell_type": "code",
   "execution_count": null,
   "metadata": {},
   "outputs": [],
   "source": []
  },
  {
   "cell_type": "code",
   "execution_count": null,
   "metadata": {},
   "outputs": [],
   "source": []
  },
  {
   "cell_type": "code",
   "execution_count": null,
   "metadata": {},
   "outputs": [],
   "source": []
  },
  {
   "cell_type": "markdown",
   "metadata": {},
   "source": [
    "# 1.4 "
   ]
  },
  {
   "cell_type": "code",
   "execution_count": 193,
   "metadata": {},
   "outputs": [
    {
     "data": {
      "text/plain": [
       "0.936"
      ]
     },
     "execution_count": 193,
     "metadata": {},
     "output_type": "execute_result"
    }
   ],
   "source": [
    "sind = ord(\"s\") - 97\n",
    "cf_matrix[sind][sind]/500"
   ]
  },
  {
   "cell_type": "code",
   "execution_count": 194,
   "metadata": {},
   "outputs": [
    {
     "data": {
      "text/plain": [
       "18"
      ]
     },
     "execution_count": 194,
     "metadata": {},
     "output_type": "execute_result"
    }
   ],
   "source": [
    "sind"
   ]
  },
  {
   "cell_type": "markdown",
   "metadata": {},
   "source": [
    "судя по confusion_matrix чаще всего модель путает букву \"s\" с буквами под номерами 6 и 9"
   ]
  },
  {
   "cell_type": "code",
   "execution_count": 195,
   "metadata": {},
   "outputs": [
    {
     "data": {
      "text/plain": [
       "('g', 'j')"
      ]
     },
     "execution_count": 195,
     "metadata": {},
     "output_type": "execute_result"
    }
   ],
   "source": [
    "chr(97+6), chr(97+9)"
   ]
  },
  {
   "cell_type": "code",
   "execution_count": null,
   "metadata": {},
   "outputs": [],
   "source": []
  },
  {
   "cell_type": "markdown",
   "metadata": {},
   "source": [
    "# 2"
   ]
  },
  {
   "cell_type": "code",
   "execution_count": 81,
   "metadata": {},
   "outputs": [],
   "source": [
    "conv1 = nn.Conv2d(3, 6, 5)\n",
    "pool = nn.MaxPool2d(2, 2)\n",
    "conv2 = nn.Conv2d(6, 18, 5)"
   ]
  },
  {
   "cell_type": "code",
   "execution_count": 83,
   "metadata": {},
   "outputs": [
    {
     "name": "stdout",
     "output_type": "stream",
     "text": [
      "torch.Size([64, 3, 28, 28])\n",
      "torch.Size([64, 6, 24, 24])\n",
      "torch.Size([64, 6, 12, 12])\n",
      "torch.Size([64, 18, 8, 8])\n",
      "torch.Size([64, 18, 4, 4])\n"
     ]
    }
   ],
   "source": [
    "for batch, (X, y) in enumerate(train_dataloader):\n",
    "    X = X.permute(0, 3, 1, 2)\n",
    "    print(X.shape)\n",
    "    X = conv1(X)\n",
    "    print(X.shape)\n",
    "    X = pool(X)\n",
    "    print(X.shape)\n",
    "    X = conv2(X)\n",
    "    print(X.shape)\n",
    "    X = pool(X)\n",
    "    print(X.shape)\n",
    "    break"
   ]
  },
  {
   "cell_type": "code",
   "execution_count": 98,
   "metadata": {},
   "outputs": [],
   "source": [
    "class Conv2NeuralNetwork(nn.Module):\n",
    "    def __init__(self):\n",
    "        super(Conv2NeuralNetwork, self).__init__()\n",
    "        self.convolution_relu_stack = nn.Sequential(\n",
    "            nn.Conv2d(3, 6, 5),\n",
    "            nn.ReLU(),\n",
    "            nn.MaxPool2d(2, 2),\n",
    "            \n",
    "            nn.Conv2d(6, 18, 5),\n",
    "            nn.ReLU(),\n",
    "            nn.MaxPool2d(2, 2),\n",
    "        )\n",
    "        \n",
    "        self.flatten = nn.Flatten()\n",
    "        self.linear_relu_stack = nn.Sequential(\n",
    "            nn.Linear(18*4*4,120),\n",
    "            nn.ReLU(),\n",
    "            nn.Linear(120,26)\n",
    "        )\n",
    "    def forward(self, x):\n",
    "        x = self.convolution_relu_stack(x)\n",
    "        x = self.flatten(x)\n",
    "        logits = self.linear_relu_stack(x)\n",
    "        return logits"
   ]
  },
  {
   "cell_type": "code",
   "execution_count": 99,
   "metadata": {},
   "outputs": [
    {
     "name": "stdout",
     "output_type": "stream",
     "text": [
      "torch.Size([64, 26])\n"
     ]
    }
   ],
   "source": [
    "for batch, (X, y) in enumerate(train_dataloader):\n",
    "    c = Conv2NeuralNetwork()\n",
    "    print(c(X.permute(0, 3, 1, 2)).shape)\n",
    "    break"
   ]
  },
  {
   "cell_type": "code",
   "execution_count": 100,
   "metadata": {},
   "outputs": [],
   "source": [
    "model_conv2 = Conv2NeuralNetwork()"
   ]
  },
  {
   "cell_type": "code",
   "execution_count": 156,
   "metadata": {
    "scrolled": false
   },
   "outputs": [
    {
     "name": "stdout",
     "output_type": "stream",
     "text": [
      "Epoch 1\n",
      "-------------------------------\n",
      "loss: 0.039462  [    0/52000]\n",
      "loss: 0.034689  [ 6400/52000]\n",
      "loss: 0.109867  [12800/52000]\n",
      "loss: 0.065822  [19200/52000]\n",
      "loss: 0.021987  [25600/52000]\n",
      "loss: 0.058419  [32000/52000]\n",
      "loss: 0.117479  [38400/52000]\n",
      "loss: 0.059618  [44800/52000]\n",
      "loss: 0.050001  [51200/52000]\n",
      "Test Error: \n",
      " Accuracy: 91.2%, Avg loss: 0.375702 \n",
      "\n",
      "Epoch 2\n",
      "-------------------------------\n",
      "loss: 0.041266  [    0/52000]\n",
      "loss: 0.035697  [ 6400/52000]\n",
      "loss: 0.108346  [12800/52000]\n",
      "loss: 0.065383  [19200/52000]\n",
      "loss: 0.021559  [25600/52000]\n",
      "loss: 0.058678  [32000/52000]\n",
      "loss: 0.114139  [38400/52000]\n",
      "loss: 0.058734  [44800/52000]\n",
      "loss: 0.048613  [51200/52000]\n",
      "Test Error: \n",
      " Accuracy: 91.3%, Avg loss: 0.376421 \n",
      "\n",
      "Epoch 3\n",
      "-------------------------------\n",
      "loss: 0.041529  [    0/52000]\n",
      "loss: 0.035107  [ 6400/52000]\n",
      "loss: 0.107527  [12800/52000]\n",
      "loss: 0.065130  [19200/52000]\n",
      "loss: 0.021078  [25600/52000]\n",
      "loss: 0.058905  [32000/52000]\n",
      "loss: 0.111761  [38400/52000]\n",
      "loss: 0.058225  [44800/52000]\n",
      "loss: 0.047767  [51200/52000]\n",
      "Test Error: \n",
      " Accuracy: 91.3%, Avg loss: 0.377038 \n",
      "\n",
      "Epoch 4\n",
      "-------------------------------\n",
      "loss: 0.041916  [    0/52000]\n",
      "loss: 0.034556  [ 6400/52000]\n",
      "loss: 0.106348  [12800/52000]\n",
      "loss: 0.065144  [19200/52000]\n",
      "loss: 0.020608  [25600/52000]\n",
      "loss: 0.058358  [32000/52000]\n",
      "loss: 0.110097  [38400/52000]\n",
      "loss: 0.058075  [44800/52000]\n",
      "loss: 0.047366  [51200/52000]\n",
      "Test Error: \n",
      " Accuracy: 91.3%, Avg loss: 0.377512 \n",
      "\n",
      "Epoch 5\n",
      "-------------------------------\n",
      "loss: 0.042156  [    0/52000]\n",
      "loss: 0.034355  [ 6400/52000]\n",
      "loss: 0.106226  [12800/52000]\n",
      "loss: 0.064906  [19200/52000]\n",
      "loss: 0.020373  [25600/52000]\n",
      "loss: 0.058203  [32000/52000]\n"
     ]
    },
    {
     "ename": "KeyboardInterrupt",
     "evalue": "",
     "output_type": "error",
     "traceback": [
      "\u001b[0;31m---------------------------------------------------------------------------\u001b[0m",
      "\u001b[0;31mKeyboardInterrupt\u001b[0m                         Traceback (most recent call last)",
      "\u001b[0;32m/tmp/ipykernel_4545/1705370181.py\u001b[0m in \u001b[0;36m<module>\u001b[0;34m\u001b[0m\n\u001b[1;32m      1\u001b[0m \u001b[0mloss_fn\u001b[0m \u001b[0;34m=\u001b[0m \u001b[0mnn\u001b[0m\u001b[0;34m.\u001b[0m\u001b[0mCrossEntropyLoss\u001b[0m\u001b[0;34m(\u001b[0m\u001b[0;34m)\u001b[0m\u001b[0;34m\u001b[0m\u001b[0;34m\u001b[0m\u001b[0m\n\u001b[1;32m      2\u001b[0m \u001b[0moptimizer\u001b[0m \u001b[0;34m=\u001b[0m \u001b[0mtorch\u001b[0m\u001b[0;34m.\u001b[0m\u001b[0moptim\u001b[0m\u001b[0;34m.\u001b[0m\u001b[0mSGD\u001b[0m\u001b[0;34m(\u001b[0m\u001b[0mmodel_conv2\u001b[0m\u001b[0;34m.\u001b[0m\u001b[0mparameters\u001b[0m\u001b[0;34m(\u001b[0m\u001b[0;34m)\u001b[0m\u001b[0;34m,\u001b[0m \u001b[0mlr\u001b[0m\u001b[0;34m=\u001b[0m\u001b[0;36m0.001\u001b[0m\u001b[0;34m)\u001b[0m\u001b[0;34m\u001b[0m\u001b[0;34m\u001b[0m\u001b[0m\n\u001b[0;32m----> 3\u001b[0;31m \u001b[0mlearning_cycle\u001b[0m\u001b[0;34m(\u001b[0m\u001b[0;36m100\u001b[0m\u001b[0;34m,\u001b[0m \u001b[0mmodel_conv2\u001b[0m\u001b[0;34m,\u001b[0m \u001b[0mloss_fn\u001b[0m\u001b[0;34m,\u001b[0m \u001b[0moptimizer\u001b[0m\u001b[0;34m,\u001b[0m \u001b[0mto_NCHW\u001b[0m\u001b[0;34m=\u001b[0m\u001b[0;32mTrue\u001b[0m\u001b[0;34m)\u001b[0m\u001b[0;34m\u001b[0m\u001b[0;34m\u001b[0m\u001b[0m\n\u001b[0m",
      "\u001b[0;32m/tmp/ipykernel_4545/3964237817.py\u001b[0m in \u001b[0;36mlearning_cycle\u001b[0;34m(epochs, model, loss_fn, optimizer, to_NCHW)\u001b[0m\n\u001b[1;32m      2\u001b[0m     \u001b[0;32mfor\u001b[0m \u001b[0mt\u001b[0m \u001b[0;32min\u001b[0m \u001b[0mrange\u001b[0m\u001b[0;34m(\u001b[0m\u001b[0mepochs\u001b[0m\u001b[0;34m)\u001b[0m\u001b[0;34m:\u001b[0m\u001b[0;34m\u001b[0m\u001b[0;34m\u001b[0m\u001b[0m\n\u001b[1;32m      3\u001b[0m         \u001b[0mprint\u001b[0m\u001b[0;34m(\u001b[0m\u001b[0;34mf\"Epoch {t+1}\\n-------------------------------\"\u001b[0m\u001b[0;34m)\u001b[0m\u001b[0;34m\u001b[0m\u001b[0;34m\u001b[0m\u001b[0m\n\u001b[0;32m----> 4\u001b[0;31m         \u001b[0mtrain\u001b[0m\u001b[0;34m(\u001b[0m\u001b[0mtrain_dataloader\u001b[0m\u001b[0;34m,\u001b[0m \u001b[0mmodel\u001b[0m\u001b[0;34m,\u001b[0m \u001b[0mloss_fn\u001b[0m\u001b[0;34m,\u001b[0m \u001b[0moptimizer\u001b[0m\u001b[0;34m,\u001b[0m \u001b[0mto_NCHW\u001b[0m \u001b[0;34m=\u001b[0m \u001b[0mto_NCHW\u001b[0m\u001b[0;34m)\u001b[0m\u001b[0;34m\u001b[0m\u001b[0;34m\u001b[0m\u001b[0m\n\u001b[0m\u001b[1;32m      5\u001b[0m         \u001b[0mtest\u001b[0m\u001b[0;34m(\u001b[0m\u001b[0mtest_dataloader\u001b[0m\u001b[0;34m,\u001b[0m \u001b[0mmodel\u001b[0m\u001b[0;34m,\u001b[0m \u001b[0mloss_fn\u001b[0m\u001b[0;34m,\u001b[0m \u001b[0mto_NCHW\u001b[0m \u001b[0;34m=\u001b[0m \u001b[0mto_NCHW\u001b[0m\u001b[0;34m)\u001b[0m\u001b[0;34m\u001b[0m\u001b[0;34m\u001b[0m\u001b[0m\n\u001b[1;32m      6\u001b[0m         \u001b[0;31m#print(\"Done!\")\u001b[0m\u001b[0;34m\u001b[0m\u001b[0;34m\u001b[0m\u001b[0;34m\u001b[0m\u001b[0m\n",
      "\u001b[0;32m/tmp/ipykernel_4545/2120308267.py\u001b[0m in \u001b[0;36mtrain\u001b[0;34m(dataloader, model, loss_fn, optimizer, to_NCHW)\u001b[0m\n\u001b[1;32m      8\u001b[0m \u001b[0;34m\u001b[0m\u001b[0m\n\u001b[1;32m      9\u001b[0m         \u001b[0;31m# Compute prediction error\u001b[0m\u001b[0;34m\u001b[0m\u001b[0;34m\u001b[0m\u001b[0;34m\u001b[0m\u001b[0m\n\u001b[0;32m---> 10\u001b[0;31m         \u001b[0mpred\u001b[0m \u001b[0;34m=\u001b[0m \u001b[0mmodel\u001b[0m\u001b[0;34m(\u001b[0m\u001b[0mX\u001b[0m\u001b[0;34m)\u001b[0m\u001b[0;34m\u001b[0m\u001b[0;34m\u001b[0m\u001b[0m\n\u001b[0m\u001b[1;32m     11\u001b[0m         \u001b[0;31m#print(pred.shape)\u001b[0m\u001b[0;34m\u001b[0m\u001b[0;34m\u001b[0m\u001b[0;34m\u001b[0m\u001b[0m\n\u001b[1;32m     12\u001b[0m         \u001b[0mloss\u001b[0m \u001b[0;34m=\u001b[0m \u001b[0mloss_fn\u001b[0m\u001b[0;34m(\u001b[0m\u001b[0mpred\u001b[0m\u001b[0;34m,\u001b[0m \u001b[0my\u001b[0m\u001b[0;34m)\u001b[0m\u001b[0;34m\u001b[0m\u001b[0;34m\u001b[0m\u001b[0m\n",
      "\u001b[0;32m~/.local/lib/python3.8/site-packages/torch/nn/modules/module.py\u001b[0m in \u001b[0;36m_call_impl\u001b[0;34m(self, *input, **kwargs)\u001b[0m\n\u001b[1;32m   1100\u001b[0m         if not (self._backward_hooks or self._forward_hooks or self._forward_pre_hooks or _global_backward_hooks\n\u001b[1;32m   1101\u001b[0m                 or _global_forward_hooks or _global_forward_pre_hooks):\n\u001b[0;32m-> 1102\u001b[0;31m             \u001b[0;32mreturn\u001b[0m \u001b[0mforward_call\u001b[0m\u001b[0;34m(\u001b[0m\u001b[0;34m*\u001b[0m\u001b[0minput\u001b[0m\u001b[0;34m,\u001b[0m \u001b[0;34m**\u001b[0m\u001b[0mkwargs\u001b[0m\u001b[0;34m)\u001b[0m\u001b[0;34m\u001b[0m\u001b[0;34m\u001b[0m\u001b[0m\n\u001b[0m\u001b[1;32m   1103\u001b[0m         \u001b[0;31m# Do not call functions when jit is used\u001b[0m\u001b[0;34m\u001b[0m\u001b[0;34m\u001b[0m\u001b[0;34m\u001b[0m\u001b[0m\n\u001b[1;32m   1104\u001b[0m         \u001b[0mfull_backward_hooks\u001b[0m\u001b[0;34m,\u001b[0m \u001b[0mnon_full_backward_hooks\u001b[0m \u001b[0;34m=\u001b[0m \u001b[0;34m[\u001b[0m\u001b[0;34m]\u001b[0m\u001b[0;34m,\u001b[0m \u001b[0;34m[\u001b[0m\u001b[0;34m]\u001b[0m\u001b[0;34m\u001b[0m\u001b[0;34m\u001b[0m\u001b[0m\n",
      "\u001b[0;32m/tmp/ipykernel_4545/2134589074.py\u001b[0m in \u001b[0;36mforward\u001b[0;34m(self, x)\u001b[0m\n\u001b[1;32m     19\u001b[0m         )\n\u001b[1;32m     20\u001b[0m     \u001b[0;32mdef\u001b[0m \u001b[0mforward\u001b[0m\u001b[0;34m(\u001b[0m\u001b[0mself\u001b[0m\u001b[0;34m,\u001b[0m \u001b[0mx\u001b[0m\u001b[0;34m)\u001b[0m\u001b[0;34m:\u001b[0m\u001b[0;34m\u001b[0m\u001b[0;34m\u001b[0m\u001b[0m\n\u001b[0;32m---> 21\u001b[0;31m         \u001b[0mx\u001b[0m \u001b[0;34m=\u001b[0m \u001b[0mself\u001b[0m\u001b[0;34m.\u001b[0m\u001b[0mconvolution_relu_stack\u001b[0m\u001b[0;34m(\u001b[0m\u001b[0mx\u001b[0m\u001b[0;34m)\u001b[0m\u001b[0;34m\u001b[0m\u001b[0;34m\u001b[0m\u001b[0m\n\u001b[0m\u001b[1;32m     22\u001b[0m         \u001b[0mx\u001b[0m \u001b[0;34m=\u001b[0m \u001b[0mself\u001b[0m\u001b[0;34m.\u001b[0m\u001b[0mflatten\u001b[0m\u001b[0;34m(\u001b[0m\u001b[0mx\u001b[0m\u001b[0;34m)\u001b[0m\u001b[0;34m\u001b[0m\u001b[0;34m\u001b[0m\u001b[0m\n\u001b[1;32m     23\u001b[0m         \u001b[0mlogits\u001b[0m \u001b[0;34m=\u001b[0m \u001b[0mself\u001b[0m\u001b[0;34m.\u001b[0m\u001b[0mlinear_relu_stack\u001b[0m\u001b[0;34m(\u001b[0m\u001b[0mx\u001b[0m\u001b[0;34m)\u001b[0m\u001b[0;34m\u001b[0m\u001b[0;34m\u001b[0m\u001b[0m\n",
      "\u001b[0;32m~/.local/lib/python3.8/site-packages/torch/nn/modules/module.py\u001b[0m in \u001b[0;36m_call_impl\u001b[0;34m(self, *input, **kwargs)\u001b[0m\n\u001b[1;32m   1100\u001b[0m         if not (self._backward_hooks or self._forward_hooks or self._forward_pre_hooks or _global_backward_hooks\n\u001b[1;32m   1101\u001b[0m                 or _global_forward_hooks or _global_forward_pre_hooks):\n\u001b[0;32m-> 1102\u001b[0;31m             \u001b[0;32mreturn\u001b[0m \u001b[0mforward_call\u001b[0m\u001b[0;34m(\u001b[0m\u001b[0;34m*\u001b[0m\u001b[0minput\u001b[0m\u001b[0;34m,\u001b[0m \u001b[0;34m**\u001b[0m\u001b[0mkwargs\u001b[0m\u001b[0;34m)\u001b[0m\u001b[0;34m\u001b[0m\u001b[0;34m\u001b[0m\u001b[0m\n\u001b[0m\u001b[1;32m   1103\u001b[0m         \u001b[0;31m# Do not call functions when jit is used\u001b[0m\u001b[0;34m\u001b[0m\u001b[0;34m\u001b[0m\u001b[0;34m\u001b[0m\u001b[0m\n\u001b[1;32m   1104\u001b[0m         \u001b[0mfull_backward_hooks\u001b[0m\u001b[0;34m,\u001b[0m \u001b[0mnon_full_backward_hooks\u001b[0m \u001b[0;34m=\u001b[0m \u001b[0;34m[\u001b[0m\u001b[0;34m]\u001b[0m\u001b[0;34m,\u001b[0m \u001b[0;34m[\u001b[0m\u001b[0;34m]\u001b[0m\u001b[0;34m\u001b[0m\u001b[0;34m\u001b[0m\u001b[0m\n",
      "\u001b[0;32m~/.local/lib/python3.8/site-packages/torch/nn/modules/container.py\u001b[0m in \u001b[0;36mforward\u001b[0;34m(self, input)\u001b[0m\n\u001b[1;32m    139\u001b[0m     \u001b[0;32mdef\u001b[0m \u001b[0mforward\u001b[0m\u001b[0;34m(\u001b[0m\u001b[0mself\u001b[0m\u001b[0;34m,\u001b[0m \u001b[0minput\u001b[0m\u001b[0;34m)\u001b[0m\u001b[0;34m:\u001b[0m\u001b[0;34m\u001b[0m\u001b[0;34m\u001b[0m\u001b[0m\n\u001b[1;32m    140\u001b[0m         \u001b[0;32mfor\u001b[0m \u001b[0mmodule\u001b[0m \u001b[0;32min\u001b[0m \u001b[0mself\u001b[0m\u001b[0;34m:\u001b[0m\u001b[0;34m\u001b[0m\u001b[0;34m\u001b[0m\u001b[0m\n\u001b[0;32m--> 141\u001b[0;31m             \u001b[0minput\u001b[0m \u001b[0;34m=\u001b[0m \u001b[0mmodule\u001b[0m\u001b[0;34m(\u001b[0m\u001b[0minput\u001b[0m\u001b[0;34m)\u001b[0m\u001b[0;34m\u001b[0m\u001b[0;34m\u001b[0m\u001b[0m\n\u001b[0m\u001b[1;32m    142\u001b[0m         \u001b[0;32mreturn\u001b[0m \u001b[0minput\u001b[0m\u001b[0;34m\u001b[0m\u001b[0;34m\u001b[0m\u001b[0m\n\u001b[1;32m    143\u001b[0m \u001b[0;34m\u001b[0m\u001b[0m\n",
      "\u001b[0;32m~/.local/lib/python3.8/site-packages/torch/nn/modules/module.py\u001b[0m in \u001b[0;36m_call_impl\u001b[0;34m(self, *input, **kwargs)\u001b[0m\n\u001b[1;32m   1100\u001b[0m         if not (self._backward_hooks or self._forward_hooks or self._forward_pre_hooks or _global_backward_hooks\n\u001b[1;32m   1101\u001b[0m                 or _global_forward_hooks or _global_forward_pre_hooks):\n\u001b[0;32m-> 1102\u001b[0;31m             \u001b[0;32mreturn\u001b[0m \u001b[0mforward_call\u001b[0m\u001b[0;34m(\u001b[0m\u001b[0;34m*\u001b[0m\u001b[0minput\u001b[0m\u001b[0;34m,\u001b[0m \u001b[0;34m**\u001b[0m\u001b[0mkwargs\u001b[0m\u001b[0;34m)\u001b[0m\u001b[0;34m\u001b[0m\u001b[0;34m\u001b[0m\u001b[0m\n\u001b[0m\u001b[1;32m   1103\u001b[0m         \u001b[0;31m# Do not call functions when jit is used\u001b[0m\u001b[0;34m\u001b[0m\u001b[0;34m\u001b[0m\u001b[0;34m\u001b[0m\u001b[0m\n\u001b[1;32m   1104\u001b[0m         \u001b[0mfull_backward_hooks\u001b[0m\u001b[0;34m,\u001b[0m \u001b[0mnon_full_backward_hooks\u001b[0m \u001b[0;34m=\u001b[0m \u001b[0;34m[\u001b[0m\u001b[0;34m]\u001b[0m\u001b[0;34m,\u001b[0m \u001b[0;34m[\u001b[0m\u001b[0;34m]\u001b[0m\u001b[0;34m\u001b[0m\u001b[0;34m\u001b[0m\u001b[0m\n",
      "\u001b[0;32m~/.local/lib/python3.8/site-packages/torch/nn/modules/pooling.py\u001b[0m in \u001b[0;36mforward\u001b[0;34m(self, input)\u001b[0m\n\u001b[1;32m    160\u001b[0m \u001b[0;34m\u001b[0m\u001b[0m\n\u001b[1;32m    161\u001b[0m     \u001b[0;32mdef\u001b[0m \u001b[0mforward\u001b[0m\u001b[0;34m(\u001b[0m\u001b[0mself\u001b[0m\u001b[0;34m,\u001b[0m \u001b[0minput\u001b[0m\u001b[0;34m:\u001b[0m \u001b[0mTensor\u001b[0m\u001b[0;34m)\u001b[0m \u001b[0;34m->\u001b[0m \u001b[0mTensor\u001b[0m\u001b[0;34m:\u001b[0m\u001b[0;34m\u001b[0m\u001b[0;34m\u001b[0m\u001b[0m\n\u001b[0;32m--> 162\u001b[0;31m         return F.max_pool2d(input, self.kernel_size, self.stride,\n\u001b[0m\u001b[1;32m    163\u001b[0m                             \u001b[0mself\u001b[0m\u001b[0;34m.\u001b[0m\u001b[0mpadding\u001b[0m\u001b[0;34m,\u001b[0m \u001b[0mself\u001b[0m\u001b[0;34m.\u001b[0m\u001b[0mdilation\u001b[0m\u001b[0;34m,\u001b[0m \u001b[0mself\u001b[0m\u001b[0;34m.\u001b[0m\u001b[0mceil_mode\u001b[0m\u001b[0;34m,\u001b[0m\u001b[0;34m\u001b[0m\u001b[0;34m\u001b[0m\u001b[0m\n\u001b[1;32m    164\u001b[0m                             self.return_indices)\n",
      "\u001b[0;32m~/.local/lib/python3.8/site-packages/torch/_jit_internal.py\u001b[0m in \u001b[0;36mfn\u001b[0;34m(*args, **kwargs)\u001b[0m\n\u001b[1;32m    420\u001b[0m             \u001b[0;32mreturn\u001b[0m \u001b[0mif_true\u001b[0m\u001b[0;34m(\u001b[0m\u001b[0;34m*\u001b[0m\u001b[0margs\u001b[0m\u001b[0;34m,\u001b[0m \u001b[0;34m**\u001b[0m\u001b[0mkwargs\u001b[0m\u001b[0;34m)\u001b[0m\u001b[0;34m\u001b[0m\u001b[0;34m\u001b[0m\u001b[0m\n\u001b[1;32m    421\u001b[0m         \u001b[0;32melse\u001b[0m\u001b[0;34m:\u001b[0m\u001b[0;34m\u001b[0m\u001b[0;34m\u001b[0m\u001b[0m\n\u001b[0;32m--> 422\u001b[0;31m             \u001b[0;32mreturn\u001b[0m \u001b[0mif_false\u001b[0m\u001b[0;34m(\u001b[0m\u001b[0;34m*\u001b[0m\u001b[0margs\u001b[0m\u001b[0;34m,\u001b[0m \u001b[0;34m**\u001b[0m\u001b[0mkwargs\u001b[0m\u001b[0;34m)\u001b[0m\u001b[0;34m\u001b[0m\u001b[0;34m\u001b[0m\u001b[0m\n\u001b[0m\u001b[1;32m    423\u001b[0m \u001b[0;34m\u001b[0m\u001b[0m\n\u001b[1;32m    424\u001b[0m     \u001b[0;32mif\u001b[0m \u001b[0mif_true\u001b[0m\u001b[0;34m.\u001b[0m\u001b[0m__doc__\u001b[0m \u001b[0;32mis\u001b[0m \u001b[0;32mNone\u001b[0m \u001b[0;32mand\u001b[0m \u001b[0mif_false\u001b[0m\u001b[0;34m.\u001b[0m\u001b[0m__doc__\u001b[0m \u001b[0;32mis\u001b[0m \u001b[0;32mnot\u001b[0m \u001b[0;32mNone\u001b[0m\u001b[0;34m:\u001b[0m\u001b[0;34m\u001b[0m\u001b[0;34m\u001b[0m\u001b[0m\n",
      "\u001b[0;32m~/.local/lib/python3.8/site-packages/torch/nn/functional.py\u001b[0m in \u001b[0;36m_max_pool2d\u001b[0;34m(input, kernel_size, stride, padding, dilation, ceil_mode, return_indices)\u001b[0m\n\u001b[1;32m    717\u001b[0m     \u001b[0;32mif\u001b[0m \u001b[0mstride\u001b[0m \u001b[0;32mis\u001b[0m \u001b[0;32mNone\u001b[0m\u001b[0;34m:\u001b[0m\u001b[0;34m\u001b[0m\u001b[0;34m\u001b[0m\u001b[0m\n\u001b[1;32m    718\u001b[0m         \u001b[0mstride\u001b[0m \u001b[0;34m=\u001b[0m \u001b[0mtorch\u001b[0m\u001b[0;34m.\u001b[0m\u001b[0mjit\u001b[0m\u001b[0;34m.\u001b[0m\u001b[0mannotate\u001b[0m\u001b[0;34m(\u001b[0m\u001b[0mList\u001b[0m\u001b[0;34m[\u001b[0m\u001b[0mint\u001b[0m\u001b[0;34m]\u001b[0m\u001b[0;34m,\u001b[0m \u001b[0;34m[\u001b[0m\u001b[0;34m]\u001b[0m\u001b[0;34m)\u001b[0m\u001b[0;34m\u001b[0m\u001b[0;34m\u001b[0m\u001b[0m\n\u001b[0;32m--> 719\u001b[0;31m     \u001b[0;32mreturn\u001b[0m \u001b[0mtorch\u001b[0m\u001b[0;34m.\u001b[0m\u001b[0mmax_pool2d\u001b[0m\u001b[0;34m(\u001b[0m\u001b[0minput\u001b[0m\u001b[0;34m,\u001b[0m \u001b[0mkernel_size\u001b[0m\u001b[0;34m,\u001b[0m \u001b[0mstride\u001b[0m\u001b[0;34m,\u001b[0m \u001b[0mpadding\u001b[0m\u001b[0;34m,\u001b[0m \u001b[0mdilation\u001b[0m\u001b[0;34m,\u001b[0m \u001b[0mceil_mode\u001b[0m\u001b[0;34m)\u001b[0m\u001b[0;34m\u001b[0m\u001b[0;34m\u001b[0m\u001b[0m\n\u001b[0m\u001b[1;32m    720\u001b[0m \u001b[0;34m\u001b[0m\u001b[0m\n\u001b[1;32m    721\u001b[0m \u001b[0;34m\u001b[0m\u001b[0m\n",
      "\u001b[0;31mKeyboardInterrupt\u001b[0m: "
     ]
    }
   ],
   "source": [
    "loss_fn = nn.CrossEntropyLoss()\n",
    "optimizer = torch.optim.SGD(model_conv2.parameters(), lr=0.001)\n",
    "learning_cycle(100, model_conv2, loss_fn, optimizer, to_NCHW=True)"
   ]
  },
  {
   "cell_type": "code",
   "execution_count": 130,
   "metadata": {},
   "outputs": [],
   "source": [
    "conv1 = nn.Conv2d(3, 8, 3)\n",
    "pool = nn.MaxPool2d(2, 2)\n",
    "conv2 = nn.Conv2d(8, 16, 4)\n",
    "conv3 = nn.Conv2d(16, 18, 2)"
   ]
  },
  {
   "cell_type": "code",
   "execution_count": 132,
   "metadata": {},
   "outputs": [
    {
     "name": "stdout",
     "output_type": "stream",
     "text": [
      "torch.Size([64, 3, 28, 28])\n",
      "torch.Size([64, 8, 26, 26])\n",
      "torch.Size([64, 8, 13, 13])\n",
      "torch.Size([64, 16, 10, 10])\n",
      "torch.Size([64, 16, 5, 5])\n",
      "torch.Size([64, 18, 4, 4])\n",
      "torch.Size([64, 18, 2, 2])\n"
     ]
    }
   ],
   "source": [
    "for batch, (X, y) in enumerate(train_dataloader):\n",
    "    X = X.permute(0, 3, 1, 2)\n",
    "    print(X.shape)\n",
    "    X = conv1(X)\n",
    "    print(X.shape)\n",
    "    X = pool(X)\n",
    "    print(X.shape)\n",
    "    X = conv2(X)\n",
    "    print(X.shape)\n",
    "    X = pool(X)\n",
    "    print(X.shape)\n",
    "    X = conv3(X)\n",
    "    print(X.shape)\n",
    "    X = pool(X)\n",
    "    print(X.shape)\n",
    "    break"
   ]
  },
  {
   "cell_type": "code",
   "execution_count": 11,
   "metadata": {},
   "outputs": [],
   "source": [
    "class Conv3NeuralNetwork(nn.Module):\n",
    "    def __init__(self):\n",
    "        super(Conv3NeuralNetwork, self).__init__()\n",
    "        self.convolution_relu_stack = nn.Sequential(\n",
    "            nn.Conv2d(3, 8, 3),\n",
    "            nn.MaxPool2d(2, 2),\n",
    "            nn.Conv2d(8, 16, 4),\n",
    "            nn.MaxPool2d(2, 2),\n",
    "            nn.Conv2d(16, 18, 2),\n",
    "            nn.MaxPool2d(2, 2),\n",
    "        )\n",
    "        \n",
    "        self.flatten = nn.Flatten()\n",
    "        self.linear_relu_stack = nn.Sequential(\n",
    "            nn.Linear(18*2*2,64),\n",
    "            nn.ReLU(),\n",
    "            nn.Linear(64,48),\n",
    "            nn.ReLU(),\n",
    "            nn.Linear(48,26),\n",
    "        )\n",
    "    def forward(self, x):\n",
    "        x = self.convolution_relu_stack(x)\n",
    "        x = self.flatten(x)\n",
    "        logits = self.linear_relu_stack(x)\n",
    "        return logits"
   ]
  },
  {
   "cell_type": "code",
   "execution_count": 137,
   "metadata": {},
   "outputs": [],
   "source": [
    "model_conv3 = Conv3NeuralNetwork()"
   ]
  },
  {
   "cell_type": "code",
   "execution_count": 157,
   "metadata": {},
   "outputs": [
    {
     "name": "stdout",
     "output_type": "stream",
     "text": [
      "Epoch 1\n",
      "-------------------------------\n",
      "loss: 0.154812  [    0/52000]\n",
      "loss: 0.167734  [ 6400/52000]\n",
      "loss: 0.193200  [12800/52000]\n",
      "loss: 0.105485  [19200/52000]\n",
      "loss: 0.106889  [25600/52000]\n",
      "loss: 0.154339  [32000/52000]\n",
      "loss: 0.193154  [38400/52000]\n",
      "loss: 0.075379  [44800/52000]\n",
      "loss: 0.122346  [51200/52000]\n",
      "Test Error: \n",
      " Accuracy: 91.3%, Avg loss: 0.288071 \n",
      "\n",
      "Epoch 2\n",
      "-------------------------------\n"
     ]
    },
    {
     "ename": "KeyboardInterrupt",
     "evalue": "",
     "output_type": "error",
     "traceback": [
      "\u001b[0;31m---------------------------------------------------------------------------\u001b[0m",
      "\u001b[0;31mKeyboardInterrupt\u001b[0m                         Traceback (most recent call last)",
      "\u001b[0;32m/tmp/ipykernel_4545/55634134.py\u001b[0m in \u001b[0;36m<module>\u001b[0;34m\u001b[0m\n\u001b[1;32m      1\u001b[0m \u001b[0mloss_fn\u001b[0m \u001b[0;34m=\u001b[0m \u001b[0mnn\u001b[0m\u001b[0;34m.\u001b[0m\u001b[0mCrossEntropyLoss\u001b[0m\u001b[0;34m(\u001b[0m\u001b[0;34m)\u001b[0m\u001b[0;34m\u001b[0m\u001b[0;34m\u001b[0m\u001b[0m\n\u001b[1;32m      2\u001b[0m \u001b[0moptimizer\u001b[0m \u001b[0;34m=\u001b[0m \u001b[0mtorch\u001b[0m\u001b[0;34m.\u001b[0m\u001b[0moptim\u001b[0m\u001b[0;34m.\u001b[0m\u001b[0mSGD\u001b[0m\u001b[0;34m(\u001b[0m\u001b[0mmodel_conv3\u001b[0m\u001b[0;34m.\u001b[0m\u001b[0mparameters\u001b[0m\u001b[0;34m(\u001b[0m\u001b[0;34m)\u001b[0m\u001b[0;34m,\u001b[0m \u001b[0mlr\u001b[0m\u001b[0;34m=\u001b[0m\u001b[0;36m0.0001\u001b[0m\u001b[0;34m)\u001b[0m\u001b[0;34m\u001b[0m\u001b[0;34m\u001b[0m\u001b[0m\n\u001b[0;32m----> 3\u001b[0;31m \u001b[0mlearning_cycle\u001b[0m\u001b[0;34m(\u001b[0m\u001b[0;36m100\u001b[0m\u001b[0;34m,\u001b[0m \u001b[0mmodel_conv3\u001b[0m\u001b[0;34m,\u001b[0m \u001b[0mloss_fn\u001b[0m\u001b[0;34m,\u001b[0m \u001b[0moptimizer\u001b[0m\u001b[0;34m,\u001b[0m \u001b[0mto_NCHW\u001b[0m\u001b[0;34m=\u001b[0m\u001b[0;32mTrue\u001b[0m\u001b[0;34m)\u001b[0m\u001b[0;34m\u001b[0m\u001b[0;34m\u001b[0m\u001b[0m\n\u001b[0m",
      "\u001b[0;32m/tmp/ipykernel_4545/3964237817.py\u001b[0m in \u001b[0;36mlearning_cycle\u001b[0;34m(epochs, model, loss_fn, optimizer, to_NCHW)\u001b[0m\n\u001b[1;32m      2\u001b[0m     \u001b[0;32mfor\u001b[0m \u001b[0mt\u001b[0m \u001b[0;32min\u001b[0m \u001b[0mrange\u001b[0m\u001b[0;34m(\u001b[0m\u001b[0mepochs\u001b[0m\u001b[0;34m)\u001b[0m\u001b[0;34m:\u001b[0m\u001b[0;34m\u001b[0m\u001b[0;34m\u001b[0m\u001b[0m\n\u001b[1;32m      3\u001b[0m         \u001b[0mprint\u001b[0m\u001b[0;34m(\u001b[0m\u001b[0;34mf\"Epoch {t+1}\\n-------------------------------\"\u001b[0m\u001b[0;34m)\u001b[0m\u001b[0;34m\u001b[0m\u001b[0;34m\u001b[0m\u001b[0m\n\u001b[0;32m----> 4\u001b[0;31m         \u001b[0mtrain\u001b[0m\u001b[0;34m(\u001b[0m\u001b[0mtrain_dataloader\u001b[0m\u001b[0;34m,\u001b[0m \u001b[0mmodel\u001b[0m\u001b[0;34m,\u001b[0m \u001b[0mloss_fn\u001b[0m\u001b[0;34m,\u001b[0m \u001b[0moptimizer\u001b[0m\u001b[0;34m,\u001b[0m \u001b[0mto_NCHW\u001b[0m \u001b[0;34m=\u001b[0m \u001b[0mto_NCHW\u001b[0m\u001b[0;34m)\u001b[0m\u001b[0;34m\u001b[0m\u001b[0;34m\u001b[0m\u001b[0m\n\u001b[0m\u001b[1;32m      5\u001b[0m         \u001b[0mtest\u001b[0m\u001b[0;34m(\u001b[0m\u001b[0mtest_dataloader\u001b[0m\u001b[0;34m,\u001b[0m \u001b[0mmodel\u001b[0m\u001b[0;34m,\u001b[0m \u001b[0mloss_fn\u001b[0m\u001b[0;34m,\u001b[0m \u001b[0mto_NCHW\u001b[0m \u001b[0;34m=\u001b[0m \u001b[0mto_NCHW\u001b[0m\u001b[0;34m)\u001b[0m\u001b[0;34m\u001b[0m\u001b[0;34m\u001b[0m\u001b[0m\n\u001b[1;32m      6\u001b[0m         \u001b[0;31m#print(\"Done!\")\u001b[0m\u001b[0;34m\u001b[0m\u001b[0;34m\u001b[0m\u001b[0;34m\u001b[0m\u001b[0m\n",
      "\u001b[0;32m/tmp/ipykernel_4545/2120308267.py\u001b[0m in \u001b[0;36mtrain\u001b[0;34m(dataloader, model, loss_fn, optimizer, to_NCHW)\u001b[0m\n\u001b[1;32m     14\u001b[0m         \u001b[0;31m# Backpropagation\u001b[0m\u001b[0;34m\u001b[0m\u001b[0;34m\u001b[0m\u001b[0;34m\u001b[0m\u001b[0m\n\u001b[1;32m     15\u001b[0m         \u001b[0moptimizer\u001b[0m\u001b[0;34m.\u001b[0m\u001b[0mzero_grad\u001b[0m\u001b[0;34m(\u001b[0m\u001b[0;34m)\u001b[0m\u001b[0;34m\u001b[0m\u001b[0;34m\u001b[0m\u001b[0m\n\u001b[0;32m---> 16\u001b[0;31m         \u001b[0mloss\u001b[0m\u001b[0;34m.\u001b[0m\u001b[0mbackward\u001b[0m\u001b[0;34m(\u001b[0m\u001b[0;34m)\u001b[0m\u001b[0;34m\u001b[0m\u001b[0;34m\u001b[0m\u001b[0m\n\u001b[0m\u001b[1;32m     17\u001b[0m         \u001b[0moptimizer\u001b[0m\u001b[0;34m.\u001b[0m\u001b[0mstep\u001b[0m\u001b[0;34m(\u001b[0m\u001b[0;34m)\u001b[0m\u001b[0;34m\u001b[0m\u001b[0;34m\u001b[0m\u001b[0m\n\u001b[1;32m     18\u001b[0m \u001b[0;34m\u001b[0m\u001b[0m\n",
      "\u001b[0;32m~/.local/lib/python3.8/site-packages/torch/_tensor.py\u001b[0m in \u001b[0;36mbackward\u001b[0;34m(self, gradient, retain_graph, create_graph, inputs)\u001b[0m\n\u001b[1;32m    305\u001b[0m                 \u001b[0mcreate_graph\u001b[0m\u001b[0;34m=\u001b[0m\u001b[0mcreate_graph\u001b[0m\u001b[0;34m,\u001b[0m\u001b[0;34m\u001b[0m\u001b[0;34m\u001b[0m\u001b[0m\n\u001b[1;32m    306\u001b[0m                 inputs=inputs)\n\u001b[0;32m--> 307\u001b[0;31m         \u001b[0mtorch\u001b[0m\u001b[0;34m.\u001b[0m\u001b[0mautograd\u001b[0m\u001b[0;34m.\u001b[0m\u001b[0mbackward\u001b[0m\u001b[0;34m(\u001b[0m\u001b[0mself\u001b[0m\u001b[0;34m,\u001b[0m \u001b[0mgradient\u001b[0m\u001b[0;34m,\u001b[0m \u001b[0mretain_graph\u001b[0m\u001b[0;34m,\u001b[0m \u001b[0mcreate_graph\u001b[0m\u001b[0;34m,\u001b[0m \u001b[0minputs\u001b[0m\u001b[0;34m=\u001b[0m\u001b[0minputs\u001b[0m\u001b[0;34m)\u001b[0m\u001b[0;34m\u001b[0m\u001b[0;34m\u001b[0m\u001b[0m\n\u001b[0m\u001b[1;32m    308\u001b[0m \u001b[0;34m\u001b[0m\u001b[0m\n\u001b[1;32m    309\u001b[0m     \u001b[0;32mdef\u001b[0m \u001b[0mregister_hook\u001b[0m\u001b[0;34m(\u001b[0m\u001b[0mself\u001b[0m\u001b[0;34m,\u001b[0m \u001b[0mhook\u001b[0m\u001b[0;34m)\u001b[0m\u001b[0;34m:\u001b[0m\u001b[0;34m\u001b[0m\u001b[0;34m\u001b[0m\u001b[0m\n",
      "\u001b[0;32m~/.local/lib/python3.8/site-packages/torch/autograd/__init__.py\u001b[0m in \u001b[0;36mbackward\u001b[0;34m(tensors, grad_tensors, retain_graph, create_graph, grad_variables, inputs)\u001b[0m\n\u001b[1;32m    152\u001b[0m         \u001b[0mretain_graph\u001b[0m \u001b[0;34m=\u001b[0m \u001b[0mcreate_graph\u001b[0m\u001b[0;34m\u001b[0m\u001b[0;34m\u001b[0m\u001b[0m\n\u001b[1;32m    153\u001b[0m \u001b[0;34m\u001b[0m\u001b[0m\n\u001b[0;32m--> 154\u001b[0;31m     Variable._execution_engine.run_backward(\n\u001b[0m\u001b[1;32m    155\u001b[0m         \u001b[0mtensors\u001b[0m\u001b[0;34m,\u001b[0m \u001b[0mgrad_tensors_\u001b[0m\u001b[0;34m,\u001b[0m \u001b[0mretain_graph\u001b[0m\u001b[0;34m,\u001b[0m \u001b[0mcreate_graph\u001b[0m\u001b[0;34m,\u001b[0m \u001b[0minputs\u001b[0m\u001b[0;34m,\u001b[0m\u001b[0;34m\u001b[0m\u001b[0;34m\u001b[0m\u001b[0m\n\u001b[1;32m    156\u001b[0m         allow_unreachable=True, accumulate_grad=True)  # allow_unreachable flag\n",
      "\u001b[0;31mKeyboardInterrupt\u001b[0m: "
     ]
    }
   ],
   "source": [
    "loss_fn = nn.CrossEntropyLoss()\n",
    "optimizer = torch.optim.SGD(model_conv3.parameters(), lr=0.0001)\n",
    "learning_cycle(100, model_conv3, loss_fn, optimizer, to_NCHW=True)"
   ]
  },
  {
   "cell_type": "code",
   "execution_count": 158,
   "metadata": {},
   "outputs": [
    {
     "data": {
      "text/plain": [
       "0.9140769230769231"
      ]
     },
     "execution_count": 158,
     "metadata": {},
     "output_type": "execute_result"
    }
   ],
   "source": [
    "get_model_accuracy(final_test_dataloader, model_conv3, to_NCHW=True)"
   ]
  },
  {
   "cell_type": "code",
   "execution_count": 159,
   "metadata": {},
   "outputs": [],
   "source": [
    "#torch.save(model_conv3.state_dict(), \"my_models/model91conv3.pth\")"
   ]
  },
  {
   "cell_type": "code",
   "execution_count": null,
   "metadata": {},
   "outputs": [],
   "source": []
  },
  {
   "cell_type": "code",
   "execution_count": null,
   "metadata": {},
   "outputs": [],
   "source": []
  },
  {
   "cell_type": "markdown",
   "metadata": {},
   "source": [
    "# 3"
   ]
  },
  {
   "cell_type": "markdown",
   "metadata": {},
   "source": [
    "здесь загрузим пару моделей из обученных мной и продемонстрируем результаты на тестовых данных"
   ]
  },
  {
   "cell_type": "code",
   "execution_count": 91,
   "metadata": {},
   "outputs": [
    {
     "data": {
      "text/plain": [
       "<All keys matched successfully>"
      ]
     },
     "execution_count": 91,
     "metadata": {},
     "output_type": "execute_result"
    }
   ],
   "source": [
    "model90 = NeuralNetwork2()\n",
    "model90.load_state_dict(torch.load(\"my_models/model90.pth\"))"
   ]
  },
  {
   "cell_type": "code",
   "execution_count": 92,
   "metadata": {},
   "outputs": [
    {
     "data": {
      "text/plain": [
       "0.9027692307692308"
      ]
     },
     "execution_count": 92,
     "metadata": {},
     "output_type": "execute_result"
    }
   ],
   "source": [
    "get_model_accuracy(final_test_dataloader, model90)"
   ]
  },
  {
   "cell_type": "markdown",
   "metadata": {},
   "source": [
    "### Задание 1  \n",
    "  \n",
    "*Вес в общей оценке - 0.35*  \n",
    "  \n",
    "1. Постройте и обучите модели с 2-мя и 3-мя полносвязными (dense) скрытыми слоями.  \n",
    "При моделировании необходимо попробовать разные параметры нейронной сети - число нейронов на каждом слое, learning rate, batch size, функции активации, регуляризации и т.д. Оцените качество моделей с различными параметрами, проведите сравнительный анализ. \n",
    "2. Для наилучшей модели постройте confusion matrix результатов предсказаний модели на тестовых данных.  \n",
    "Насколько равномерно обучилась ваша модель? Приведите буквы с самой лучшей и с самой худшей точностью детекции.\n",
    "3. Найдите 10 пар букв, которые чаще всего путаются между собой, дайте возможное объяснение. Приведите примеры с картинками, которые были детектированы с ошибкой.\n",
    "4. Возьмите первую букву вашей фамилии и укажите её точность детекции. С какими буквами ваша модель чаще всего путает эту букву?     "
   ]
  },
  {
   "cell_type": "markdown",
   "metadata": {},
   "source": [
    "### Задание 2  \n",
    "  \n",
    "*Вес в общей оценке - 0.35*  \n",
    "  \n",
    "1. Постройте и обучите модели нейронной сети с 1-м, 2-мя и 3-мя сверточными слоями.  \n",
    "Попробуйте различные значения параметров сверток и числа фильтров на каждом слое. Оцените качество моделей с различными параметрами, проведите сравнительный анализ.  \n",
    "2. Для наилучшей конфигурации из предыдущего пункта, сравните, как меняется качество модели при увеличении размера батча при использовании BatchNorm и GroupNorm.    "
   ]
  },
  {
   "cell_type": "markdown",
   "metadata": {},
   "source": [
    "### Задание 3    \n",
    "  \n",
    "Обучите модель с точностью (accuracy) на тестовых данных:  \n",
    "- `>= 0.85`    +1 балл\n",
    "- `>= 0.95`    +2 балла\n",
    "- `>= 0.99`    +3 балла  "
   ]
  },
  {
   "cell_type": "markdown",
   "metadata": {},
   "source": [
    "## Бонусные задания"
   ]
  },
  {
   "cell_type": "markdown",
   "metadata": {},
   "source": [
    "**Задание 1 (1 балл).**  \n",
    "\n",
    "Напишите на листке белой бумаги (маркером или ручкой) от 5 разных букв (можно больше 5 букв в целом с повторениями, но должно быть минимум 5 разных) английского алфавита (в датасете есть как прописные, так и строчные буквы). Сфотографируйте букву и приведите её картинку к размеру $28\\times28$ и, желательно, к чёрно-белой палитре цветов. Передайте получившиеся изображения вашей модели и выполните предсказание, оцените результат.  \n",
    "  \n",
    "**Tips:**  \n",
    "- В датасете все буквы занимают практически всё пространство картинки по высоте или ширине (или вместе). Если ваша буква будет слишком маленькой или большой, это может повлиять на результат детекции.\n",
    "- Помните, что буква должна быть белого цвета, а фон - чёрного.\n",
    "- Описание ваших действий при выполнении этого задания (что вы использовали, чтобы привести картинку к нужному виду) категорически приветствуется :)"
   ]
  },
  {
   "cell_type": "markdown",
   "metadata": {},
   "source": [
    "# B1"
   ]
  },
  {
   "cell_type": "markdown",
   "metadata": {},
   "source": [
    "я написал все буквы черной ручкой на белом листочке, больше всего меня интересовали q и p"
   ]
  },
  {
   "cell_type": "markdown",
   "metadata": {},
   "source": []
  },
  {
   "cell_type": "code",
   "execution_count": 77,
   "metadata": {},
   "outputs": [
    {
     "data": {
      "text/plain": [
       "<All keys matched successfully>"
      ]
     },
     "execution_count": 77,
     "metadata": {},
     "output_type": "execute_result"
    }
   ],
   "source": [
    "model90 = Conv3NeuralNetwork()\n",
    "model90.load_state_dict(torch.load(\"my_models/model91conv3.pth\"))"
   ]
  },
  {
   "cell_type": "code",
   "execution_count": 12,
   "metadata": {},
   "outputs": [],
   "source": [
    "mX,my = get_data_and_targets_lst(\"custom_images\")"
   ]
  },
  {
   "cell_type": "code",
   "execution_count": 13,
   "metadata": {},
   "outputs": [
    {
     "data": {
      "text/plain": [
       "[16, 25, 0, 12, 15]"
      ]
     },
     "execution_count": 13,
     "metadata": {},
     "output_type": "execute_result"
    }
   ],
   "source": [
    "my"
   ]
  },
  {
   "cell_type": "code",
   "execution_count": 18,
   "metadata": {},
   "outputs": [
    {
     "name": "stdout",
     "output_type": "stream",
     "text": [
      "torch.Size([1080, 1012, 3])\n",
      "torch.Size([958, 1080, 3])\n",
      "torch.Size([1043, 1080, 3])\n",
      "torch.Size([936, 1080, 3])\n",
      "torch.Size([1034, 1080, 3])\n"
     ]
    }
   ],
   "source": [
    "for el in mX:\n",
    "    print(el.shape)"
   ]
  },
  {
   "cell_type": "code",
   "execution_count": 19,
   "metadata": {},
   "outputs": [],
   "source": [
    "import cv2"
   ]
  },
  {
   "cell_type": "code",
   "execution_count": 39,
   "metadata": {},
   "outputs": [
    {
     "data": {
      "image/png": "[encoded data removed]",
      "text/plain": [
       "<Figure size 432x288 with 1 Axes>"
      ]
     },
     "metadata": {
      "needs_background": "light"
     },
     "output_type": "display_data"
    }
   ],
   "source": [
    "image = plt.imread('custom_images/m.jpg')\n",
    "plt.imshow(image)\n",
    "\n",
    "plt.show()"
   ]
  },
  {
   "cell_type": "code",
   "execution_count": 86,
   "metadata": {},
   "outputs": [
    {
     "data": {
      "image/png": "[encoded data removed]",
      "text/plain": [
       "<Figure size 432x288 with 1 Axes>"
      ]
     },
     "metadata": {
      "needs_background": "light"
     },
     "output_type": "display_data"
    }
   ],
   "source": [
    "image = cv2.imread('custom_images/m.jpg')\n",
    "#gray = cv2.cvtColor(image, cv2.COLOR_RGB2GRAY)\n",
    "image = cv2.resize(image, (28,28), interpolation=cv2.INTER_AREA)\n",
    "image = cv2.cvtColor(image, cv2.COLOR_RGB2GRAY)\n",
    "image= np.invert(image)\n",
    "plt.imshow(image, cmap='gray')\n",
    "plt.show()"
   ]
  },
  {
   "cell_type": "code",
   "execution_count": 94,
   "metadata": {},
   "outputs": [],
   "source": []
  },
  {
   "cell_type": "code",
   "execution_count": 95,
   "metadata": {},
   "outputs": [
    {
     "data": {
      "text/plain": [
       "[[[array([117, 116, 116, 116, 115, 114, 114, 113, 112, 112, 113, 113, 112,\n",
       "          112, 111, 111, 111, 112, 111, 111, 111, 111, 110, 111, 111, 111,\n",
       "          111, 110], dtype=uint8),\n",
       "   array([117, 116, 116, 116, 115, 114, 114, 113, 112, 112, 113, 113, 112,\n",
       "          112, 111, 111, 111, 112, 111, 111, 111, 111, 110, 111, 111, 111,\n",
       "          111, 110], dtype=uint8),\n",
       "   array([117, 116, 116, 116, 115, 114, 114, 113, 112, 112, 113, 113, 112,\n",
       "          112, 111, 111, 111, 112, 111, 111, 111, 111, 110, 111, 111, 111,\n",
       "          111, 110], dtype=uint8)],\n",
       "  [array([117, 116, 116, 116, 115, 114, 114, 113, 112, 112, 113, 113, 112,\n",
       "          112, 111, 111, 111, 112, 111, 111, 111, 111, 110, 111, 111, 111,\n",
       "          111, 110], dtype=uint8),\n",
       "   array([117, 116, 116, 116, 115, 114, 114, 113, 112, 112, 113, 113, 112,\n",
       "          112, 111, 111, 111, 112, 111, 111, 111, 111, 110, 111, 111, 111,\n",
       "          111, 110], dtype=uint8),\n",
       "   array([117, 116, 116, 116, 115, 114, 114, 113, 112, 112, 113, 113, 112,\n",
       "          112, 111, 111, 111, 112, 111, 111, 111, 111, 110, 111, 111, 111,\n",
       "          111, 110], dtype=uint8)],\n",
       "  [array([117, 116, 116, 116, 115, 114, 114, 113, 112, 112, 113, 113, 112,\n",
       "          112, 111, 111, 111, 112, 111, 111, 111, 111, 110, 111, 111, 111,\n",
       "          111, 110], dtype=uint8),\n",
       "   array([117, 116, 116, 116, 115, 114, 114, 113, 112, 112, 113, 113, 112,\n",
       "          112, 111, 111, 111, 112, 111, 111, 111, 111, 110, 111, 111, 111,\n",
       "          111, 110], dtype=uint8),\n",
       "   array([117, 116, 116, 116, 115, 114, 114, 113, 112, 112, 113, 113, 112,\n",
       "          112, 111, 111, 111, 112, 111, 111, 111, 111, 110, 111, 111, 111,\n",
       "          111, 110], dtype=uint8)]],\n",
       " [[array([117, 116, 115, 115, 115, 114, 113, 112, 111, 111, 112, 111, 111,\n",
       "          110, 110, 111, 110, 111, 109, 110, 111, 110, 110, 110, 110, 110,\n",
       "          109, 109], dtype=uint8),\n",
       "   array([117, 116, 115, 115, 115, 114, 113, 112, 111, 111, 112, 111, 111,\n",
       "          110, 110, 111, 110, 111, 109, 110, 111, 110, 110, 110, 110, 110,\n",
       "          109, 109], dtype=uint8),\n",
       "   array([117, 116, 115, 115, 115, 114, 113, 112, 111, 111, 112, 111, 111,\n",
       "          110, 110, 111, 110, 111, 109, 110, 111, 110, 110, 110, 110, 110,\n",
       "          109, 109], dtype=uint8)],\n",
       "  [array([117, 116, 115, 115, 115, 114, 113, 112, 111, 111, 112, 111, 111,\n",
       "          110, 110, 111, 110, 111, 109, 110, 111, 110, 110, 110, 110, 110,\n",
       "          109, 109], dtype=uint8),\n",
       "   array([117, 116, 115, 115, 115, 114, 113, 112, 111, 111, 112, 111, 111,\n",
       "          110, 110, 111, 110, 111, 109, 110, 111, 110, 110, 110, 110, 110,\n",
       "          109, 109], dtype=uint8),\n",
       "   array([117, 116, 115, 115, 115, 114, 113, 112, 111, 111, 112, 111, 111,\n",
       "          110, 110, 111, 110, 111, 109, 110, 111, 110, 110, 110, 110, 110,\n",
       "          109, 109], dtype=uint8)],\n",
       "  [array([117, 116, 115, 115, 115, 114, 113, 112, 111, 111, 112, 111, 111,\n",
       "          110, 110, 111, 110, 111, 109, 110, 111, 110, 110, 110, 110, 110,\n",
       "          109, 109], dtype=uint8),\n",
       "   array([117, 116, 115, 115, 115, 114, 113, 112, 111, 111, 112, 111, 111,\n",
       "          110, 110, 111, 110, 111, 109, 110, 111, 110, 110, 110, 110, 110,\n",
       "          109, 109], dtype=uint8),\n",
       "   array([117, 116, 115, 115, 115, 114, 113, 112, 111, 111, 112, 111, 111,\n",
       "          110, 110, 111, 110, 111, 109, 110, 111, 110, 110, 110, 110, 110,\n",
       "          109, 109], dtype=uint8)]],\n",
       " [[array([117, 115, 114, 113, 114, 113, 112, 112, 111, 111, 111, 111, 109,\n",
       "          109, 110, 111, 109, 109, 110, 109, 110, 111, 110, 110, 109, 109,\n",
       "          109, 109], dtype=uint8),\n",
       "   array([117, 115, 114, 113, 114, 113, 112, 112, 111, 111, 111, 111, 109,\n",
       "          109, 110, 111, 109, 109, 110, 109, 110, 111, 110, 110, 109, 109,\n",
       "          109, 109], dtype=uint8),\n",
       "   array([117, 115, 114, 113, 114, 113, 112, 112, 111, 111, 111, 111, 109,\n",
       "          109, 110, 111, 109, 109, 110, 109, 110, 111, 110, 110, 109, 109,\n",
       "          109, 109], dtype=uint8)],\n",
       "  [array([117, 115, 114, 113, 114, 113, 112, 112, 111, 111, 111, 111, 109,\n",
       "          109, 110, 111, 109, 109, 110, 109, 110, 111, 110, 110, 109, 109,\n",
       "          109, 109], dtype=uint8),\n",
       "   array([117, 115, 114, 113, 114, 113, 112, 112, 111, 111, 111, 111, 109,\n",
       "          109, 110, 111, 109, 109, 110, 109, 110, 111, 110, 110, 109, 109,\n",
       "          109, 109], dtype=uint8),\n",
       "   array([117, 115, 114, 113, 114, 113, 112, 112, 111, 111, 111, 111, 109,\n",
       "          109, 110, 111, 109, 109, 110, 109, 110, 111, 110, 110, 109, 109,\n",
       "          109, 109], dtype=uint8)],\n",
       "  [array([117, 115, 114, 113, 114, 113, 112, 112, 111, 111, 111, 111, 109,\n",
       "          109, 110, 111, 109, 109, 110, 109, 110, 111, 110, 110, 109, 109,\n",
       "          109, 109], dtype=uint8),\n",
       "   array([117, 115, 114, 113, 114, 113, 112, 112, 111, 111, 111, 111, 109,\n",
       "          109, 110, 111, 109, 109, 110, 109, 110, 111, 110, 110, 109, 109,\n",
       "          109, 109], dtype=uint8),\n",
       "   array([117, 115, 114, 113, 114, 113, 112, 112, 111, 111, 111, 111, 109,\n",
       "          109, 110, 111, 109, 109, 110, 109, 110, 111, 110, 110, 109, 109,\n",
       "          109, 109], dtype=uint8)]],\n",
       " [[array([117, 116, 114, 113, 112, 112, 111, 111, 110, 110, 110, 109, 109,\n",
       "          109, 109, 110, 109, 109, 109, 110, 109, 110, 109, 109, 109, 109,\n",
       "          108, 108], dtype=uint8),\n",
       "   array([117, 116, 114, 113, 112, 112, 111, 111, 110, 110, 110, 109, 109,\n",
       "          109, 109, 110, 109, 109, 109, 110, 109, 110, 109, 109, 109, 109,\n",
       "          108, 108], dtype=uint8),\n",
       "   array([117, 116, 114, 113, 112, 112, 111, 111, 110, 110, 110, 109, 109,\n",
       "          109, 109, 110, 109, 109, 109, 110, 109, 110, 109, 109, 109, 109,\n",
       "          108, 108], dtype=uint8)],\n",
       "  [array([117, 116, 114, 113, 112, 112, 111, 111, 110, 110, 110, 109, 109,\n",
       "          109, 109, 110, 109, 109, 109, 110, 109, 110, 109, 109, 109, 109,\n",
       "          108, 108], dtype=uint8),\n",
       "   array([117, 116, 114, 113, 112, 112, 111, 111, 110, 110, 110, 109, 109,\n",
       "          109, 109, 110, 109, 109, 109, 110, 109, 110, 109, 109, 109, 109,\n",
       "          108, 108], dtype=uint8),\n",
       "   array([117, 116, 114, 113, 112, 112, 111, 111, 110, 110, 110, 109, 109,\n",
       "          109, 109, 110, 109, 109, 109, 110, 109, 110, 109, 109, 109, 109,\n",
       "          108, 108], dtype=uint8)],\n",
       "  [array([117, 116, 114, 113, 112, 112, 111, 111, 110, 110, 110, 109, 109,\n",
       "          109, 109, 110, 109, 109, 109, 110, 109, 110, 109, 109, 109, 109,\n",
       "          108, 108], dtype=uint8),\n",
       "   array([117, 116, 114, 113, 112, 112, 111, 111, 110, 110, 110, 109, 109,\n",
       "          109, 109, 110, 109, 109, 109, 110, 109, 110, 109, 109, 109, 109,\n",
       "          108, 108], dtype=uint8),\n",
       "   array([117, 116, 114, 113, 112, 112, 111, 111, 110, 110, 110, 109, 109,\n",
       "          109, 109, 110, 109, 109, 109, 110, 109, 110, 109, 109, 109, 109,\n",
       "          108, 108], dtype=uint8)]],\n",
       " [[array([117, 116, 114, 113, 112, 111, 110, 109, 109, 109, 109, 109, 109,\n",
       "          108, 108, 108, 109, 109, 109, 109, 108, 109, 109, 108, 108, 108,\n",
       "          109, 107], dtype=uint8),\n",
       "   array([117, 116, 114, 113, 112, 111, 110, 109, 109, 109, 109, 109, 109,\n",
       "          108, 108, 108, 109, 109, 109, 109, 108, 109, 109, 108, 108, 108,\n",
       "          109, 107], dtype=uint8),\n",
       "   array([117, 116, 114, 113, 112, 111, 110, 109, 109, 109, 109, 109, 109,\n",
       "          108, 108, 108, 109, 109, 109, 109, 108, 109, 109, 108, 108, 108,\n",
       "          109, 107], dtype=uint8)],\n",
       "  [array([117, 116, 114, 113, 112, 111, 110, 109, 109, 109, 109, 109, 109,\n",
       "          108, 108, 108, 109, 109, 109, 109, 108, 109, 109, 108, 108, 108,\n",
       "          109, 107], dtype=uint8),\n",
       "   array([117, 116, 114, 113, 112, 111, 110, 109, 109, 109, 109, 109, 109,\n",
       "          108, 108, 108, 109, 109, 109, 109, 108, 109, 109, 108, 108, 108,\n",
       "          109, 107], dtype=uint8),\n",
       "   array([117, 116, 114, 113, 112, 111, 110, 109, 109, 109, 109, 109, 109,\n",
       "          108, 108, 108, 109, 109, 109, 109, 108, 109, 109, 108, 108, 108,\n",
       "          109, 107], dtype=uint8)],\n",
       "  [array([117, 116, 114, 113, 112, 111, 110, 109, 109, 109, 109, 109, 109,\n",
       "          108, 108, 108, 109, 109, 109, 109, 108, 109, 109, 108, 108, 108,\n",
       "          109, 107], dtype=uint8),\n",
       "   array([117, 116, 114, 113, 112, 111, 110, 109, 109, 109, 109, 109, 109,\n",
       "          108, 108, 108, 109, 109, 109, 109, 108, 109, 109, 108, 108, 108,\n",
       "          109, 107], dtype=uint8),\n",
       "   array([117, 116, 114, 113, 112, 111, 110, 109, 109, 109, 109, 109, 109,\n",
       "          108, 108, 108, 109, 109, 109, 109, 108, 109, 109, 108, 108, 108,\n",
       "          109, 107], dtype=uint8)]],\n",
       " [[array([116, 114, 114, 113, 111, 111, 109, 109, 108, 108, 108, 108, 108,\n",
       "          108, 107, 108, 108, 108, 108, 108, 109, 109, 108, 108, 108, 108,\n",
       "          107, 108], dtype=uint8),\n",
       "   array([116, 114, 114, 113, 111, 111, 109, 109, 108, 108, 108, 108, 108,\n",
       "          108, 107, 108, 108, 108, 108, 108, 109, 109, 108, 108, 108, 108,\n",
       "          107, 108], dtype=uint8),\n",
       "   array([116, 114, 114, 113, 111, 111, 109, 109, 108, 108, 108, 108, 108,\n",
       "          108, 107, 108, 108, 108, 108, 108, 109, 109, 108, 108, 108, 108,\n",
       "          107, 108], dtype=uint8)],\n",
       "  [array([116, 114, 114, 113, 111, 111, 109, 109, 108, 108, 108, 108, 108,\n",
       "          108, 107, 108, 108, 108, 108, 108, 109, 109, 108, 108, 108, 108,\n",
       "          107, 108], dtype=uint8),\n",
       "   array([116, 114, 114, 113, 111, 111, 109, 109, 108, 108, 108, 108, 108,\n",
       "          108, 107, 108, 108, 108, 108, 108, 109, 109, 108, 108, 108, 108,\n",
       "          107, 108], dtype=uint8),\n",
       "   array([116, 114, 114, 113, 111, 111, 109, 109, 108, 108, 108, 108, 108,\n",
       "          108, 107, 108, 108, 108, 108, 108, 109, 109, 108, 108, 108, 108,\n",
       "          107, 108], dtype=uint8)],\n",
       "  [array([116, 114, 114, 113, 111, 111, 109, 109, 108, 108, 108, 108, 108,\n",
       "          108, 107, 108, 108, 108, 108, 108, 109, 109, 108, 108, 108, 108,\n",
       "          107, 108], dtype=uint8),\n",
       "   array([116, 114, 114, 113, 111, 111, 109, 109, 108, 108, 108, 108, 108,\n",
       "          108, 107, 108, 108, 108, 108, 108, 109, 109, 108, 108, 108, 108,\n",
       "          107, 108], dtype=uint8),\n",
       "   array([116, 114, 114, 113, 111, 111, 109, 109, 108, 108, 108, 108, 108,\n",
       "          108, 107, 108, 108, 108, 108, 108, 109, 109, 108, 108, 108, 108,\n",
       "          107, 108], dtype=uint8)]],\n",
       " [[array([116, 114, 112, 112, 111, 111, 109, 109, 108, 109, 148, 116, 108,\n",
       "          108, 106, 108, 123, 109, 108, 108, 108, 109, 108, 108, 109, 108,\n",
       "          108, 107], dtype=uint8),\n",
       "   array([116, 114, 112, 112, 111, 111, 109, 109, 108, 109, 148, 116, 108,\n",
       "          108, 106, 108, 123, 109, 108, 108, 108, 109, 108, 108, 109, 108,\n",
       "          108, 107], dtype=uint8),\n",
       "   array([116, 114, 112, 112, 111, 111, 109, 109, 108, 109, 148, 116, 108,\n",
       "          108, 106, 108, 123, 109, 108, 108, 108, 109, 108, 108, 109, 108,\n",
       "          108, 107], dtype=uint8)],\n",
       "  [array([116, 114, 112, 112, 111, 111, 109, 109, 108, 109, 148, 116, 108,\n",
       "          108, 106, 108, 123, 109, 108, 108, 108, 109, 108, 108, 109, 108,\n",
       "          108, 107], dtype=uint8),\n",
       "   array([116, 114, 112, 112, 111, 111, 109, 109, 108, 109, 148, 116, 108,\n",
       "          108, 106, 108, 123, 109, 108, 108, 108, 109, 108, 108, 109, 108,\n",
       "          108, 107], dtype=uint8),\n",
       "   array([116, 114, 112, 112, 111, 111, 109, 109, 108, 109, 148, 116, 108,\n",
       "          108, 106, 108, 123, 109, 108, 108, 108, 109, 108, 108, 109, 108,\n",
       "          108, 107], dtype=uint8)],\n",
       "  [array([116, 114, 112, 112, 111, 111, 109, 109, 108, 109, 148, 116, 108,\n",
       "          108, 106, 108, 123, 109, 108, 108, 108, 109, 108, 108, 109, 108,\n",
       "          108, 107], dtype=uint8),\n",
       "   array([116, 114, 112, 112, 111, 111, 109, 109, 108, 109, 148, 116, 108,\n",
       "          108, 106, 108, 123, 109, 108, 108, 108, 109, 108, 108, 109, 108,\n",
       "          108, 107], dtype=uint8),\n",
       "   array([116, 114, 112, 112, 111, 111, 109, 109, 108, 109, 148, 116, 108,\n",
       "          108, 106, 108, 123, 109, 108, 108, 108, 109, 108, 108, 109, 108,\n",
       "          108, 107], dtype=uint8)]],\n",
       " [[array([115, 114, 112, 111, 110, 110, 109, 108, 107, 140, 204, 187, 124,\n",
       "          107, 106, 171, 209, 152, 109, 109, 108, 108, 108, 107, 108, 108,\n",
       "          108, 107], dtype=uint8),\n",
       "   array([115, 114, 112, 111, 110, 110, 109, 108, 107, 140, 204, 187, 124,\n",
       "          107, 106, 171, 209, 152, 109, 109, 108, 108, 108, 107, 108, 108,\n",
       "          108, 107], dtype=uint8),\n",
       "   array([115, 114, 112, 111, 110, 110, 109, 108, 107, 140, 204, 187, 124,\n",
       "          107, 106, 171, 209, 152, 109, 109, 108, 108, 108, 107, 108, 108,\n",
       "          108, 107], dtype=uint8)],\n",
       "  [array([115, 114, 112, 111, 110, 110, 109, 108, 107, 140, 204, 187, 124,\n",
       "          107, 106, 171, 209, 152, 109, 109, 108, 108, 108, 107, 108, 108,\n",
       "          108, 107], dtype=uint8),\n",
       "   array([115, 114, 112, 111, 110, 110, 109, 108, 107, 140, 204, 187, 124,\n",
       "          107, 106, 171, 209, 152, 109, 109, 108, 108, 108, 107, 108, 108,\n",
       "          108, 107], dtype=uint8),\n",
       "   array([115, 114, 112, 111, 110, 110, 109, 108, 107, 140, 204, 187, 124,\n",
       "          107, 106, 171, 209, 152, 109, 109, 108, 108, 108, 107, 108, 108,\n",
       "          108, 107], dtype=uint8)],\n",
       "  [array([115, 114, 112, 111, 110, 110, 109, 108, 107, 140, 204, 187, 124,\n",
       "          107, 106, 171, 209, 152, 109, 109, 108, 108, 108, 107, 108, 108,\n",
       "          108, 107], dtype=uint8),\n",
       "   array([115, 114, 112, 111, 110, 110, 109, 108, 107, 140, 204, 187, 124,\n",
       "          107, 106, 171, 209, 152, 109, 109, 108, 108, 108, 107, 108, 108,\n",
       "          108, 107], dtype=uint8),\n",
       "   array([115, 114, 112, 111, 110, 110, 109, 108, 107, 140, 204, 187, 124,\n",
       "          107, 106, 171, 209, 152, 109, 109, 108, 108, 108, 107, 108, 108,\n",
       "          108, 107], dtype=uint8)]],\n",
       " [[array([113, 113, 112, 110, 109, 109, 108, 107, 107, 197, 215, 213, 154,\n",
       "          107, 119, 213, 212, 182, 111, 109, 109, 109, 107, 107, 107, 108,\n",
       "          107, 107], dtype=uint8),\n",
       "   array([113, 113, 112, 110, 109, 109, 108, 107, 107, 197, 215, 213, 154,\n",
       "          107, 119, 213, 212, 182, 111, 109, 109, 109, 107, 107, 107, 108,\n",
       "          107, 107], dtype=uint8),\n",
       "   array([113, 113, 112, 110, 109, 109, 108, 107, 107, 197, 215, 213, 154,\n",
       "          107, 119, 213, 212, 182, 111, 109, 109, 109, 107, 107, 107, 108,\n",
       "          107, 107], dtype=uint8)],\n",
       "  [array([113, 113, 112, 110, 109, 109, 108, 107, 107, 197, 215, 213, 154,\n",
       "          107, 119, 213, 212, 182, 111, 109, 109, 109, 107, 107, 107, 108,\n",
       "          107, 107], dtype=uint8),\n",
       "   array([113, 113, 112, 110, 109, 109, 108, 107, 107, 197, 215, 213, 154,\n",
       "          107, 119, 213, 212, 182, 111, 109, 109, 109, 107, 107, 107, 108,\n",
       "          107, 107], dtype=uint8),\n",
       "   array([113, 113, 112, 110, 109, 109, 108, 107, 107, 197, 215, 213, 154,\n",
       "          107, 119, 213, 212, 182, 111, 109, 109, 109, 107, 107, 107, 108,\n",
       "          107, 107], dtype=uint8)],\n",
       "  [array([113, 113, 112, 110, 109, 109, 108, 107, 107, 197, 215, 213, 154,\n",
       "          107, 119, 213, 212, 182, 111, 109, 109, 109, 107, 107, 107, 108,\n",
       "          107, 107], dtype=uint8),\n",
       "   array([113, 113, 112, 110, 109, 109, 108, 107, 107, 197, 215, 213, 154,\n",
       "          107, 119, 213, 212, 182, 111, 109, 109, 109, 107, 107, 107, 108,\n",
       "          107, 107], dtype=uint8),\n",
       "   array([113, 113, 112, 110, 109, 109, 108, 107, 107, 197, 215, 213, 154,\n",
       "          107, 119, 213, 212, 182, 111, 109, 109, 109, 107, 107, 107, 108,\n",
       "          107, 107], dtype=uint8)]],\n",
       " [[array([112, 111, 110, 109, 108, 108, 108, 106, 112, 214, 219, 217, 183,\n",
       "          107, 153, 217, 211, 210, 126, 109, 108, 108, 107, 107, 107, 107,\n",
       "          107, 106], dtype=uint8),\n",
       "   array([112, 111, 110, 109, 108, 108, 108, 106, 112, 214, 219, 217, 183,\n",
       "          107, 153, 217, 211, 210, 126, 109, 108, 108, 107, 107, 107, 107,\n",
       "          107, 106], dtype=uint8),\n",
       "   array([112, 111, 110, 109, 108, 108, 108, 106, 112, 214, 219, 217, 183,\n",
       "          107, 153, 217, 211, 210, 126, 109, 108, 108, 107, 107, 107, 107,\n",
       "          107, 106], dtype=uint8)],\n",
       "  [array([112, 111, 110, 109, 108, 108, 108, 106, 112, 214, 219, 217, 183,\n",
       "          107, 153, 217, 211, 210, 126, 109, 108, 108, 107, 107, 107, 107,\n",
       "          107, 106], dtype=uint8),\n",
       "   array([112, 111, 110, 109, 108, 108, 108, 106, 112, 214, 219, 217, 183,\n",
       "          107, 153, 217, 211, 210, 126, 109, 108, 108, 107, 107, 107, 107,\n",
       "          107, 106], dtype=uint8),\n",
       "   array([112, 111, 110, 109, 108, 108, 108, 106, 112, 214, 219, 217, 183,\n",
       "          107, 153, 217, 211, 210, 126, 109, 108, 108, 107, 107, 107, 107,\n",
       "          107, 106], dtype=uint8)],\n",
       "  [array([112, 111, 110, 109, 108, 108, 108, 106, 112, 214, 219, 217, 183,\n",
       "          107, 153, 217, 211, 210, 126, 109, 108, 108, 107, 107, 107, 107,\n",
       "          107, 106], dtype=uint8),\n",
       "   array([112, 111, 110, 109, 108, 108, 108, 106, 112, 214, 219, 217, 183,\n",
       "          107, 153, 217, 211, 210, 126, 109, 108, 108, 107, 107, 107, 107,\n",
       "          107, 106], dtype=uint8),\n",
       "   array([112, 111, 110, 109, 108, 108, 108, 106, 112, 214, 219, 217, 183,\n",
       "          107, 153, 217, 211, 210, 126, 109, 108, 108, 107, 107, 107, 107,\n",
       "          107, 106], dtype=uint8)]],\n",
       " [[array([112, 110, 109, 109, 108, 107, 106, 107, 139, 219, 209, 211, 212,\n",
       "          115, 192, 213, 206, 213, 166, 110, 109, 108, 107, 106, 107, 107,\n",
       "          106, 107], dtype=uint8),\n",
       "   array([112, 110, 109, 109, 108, 107, 106, 107, 139, 219, 209, 211, 212,\n",
       "          115, 192, 213, 206, 213, 166, 110, 109, 108, 107, 106, 107, 107,\n",
       "          106, 107], dtype=uint8),\n",
       "   array([112, 110, 109, 109, 108, 107, 106, 107, 139, 219, 209, 211, 212,\n",
       "          115, 192, 213, 206, 213, 166, 110, 109, 108, 107, 106, 107, 107,\n",
       "          106, 107], dtype=uint8)],\n",
       "  [array([112, 110, 109, 109, 108, 107, 106, 107, 139, 219, 209, 211, 212,\n",
       "          115, 192, 213, 206, 213, 166, 110, 109, 108, 107, 106, 107, 107,\n",
       "          106, 107], dtype=uint8),\n",
       "   array([112, 110, 109, 109, 108, 107, 106, 107, 139, 219, 209, 211, 212,\n",
       "          115, 192, 213, 206, 213, 166, 110, 109, 108, 107, 106, 107, 107,\n",
       "          106, 107], dtype=uint8),\n",
       "   array([112, 110, 109, 109, 108, 107, 106, 107, 139, 219, 209, 211, 212,\n",
       "          115, 192, 213, 206, 213, 166, 110, 109, 108, 107, 106, 107, 107,\n",
       "          106, 107], dtype=uint8)],\n",
       "  [array([112, 110, 109, 109, 108, 107, 106, 107, 139, 219, 209, 211, 212,\n",
       "          115, 192, 213, 206, 213, 166, 110, 109, 108, 107, 106, 107, 107,\n",
       "          106, 107], dtype=uint8),\n",
       "   array([112, 110, 109, 109, 108, 107, 106, 107, 139, 219, 209, 211, 212,\n",
       "          115, 192, 213, 206, 213, 166, 110, 109, 108, 107, 106, 107, 107,\n",
       "          106, 107], dtype=uint8),\n",
       "   array([112, 110, 109, 109, 108, 107, 106, 107, 139, 219, 209, 211, 212,\n",
       "          115, 192, 213, 206, 213, 166, 110, 109, 108, 107, 106, 107, 107,\n",
       "          106, 107], dtype=uint8)]],\n",
       " [[array([111, 110, 109, 108, 108, 107, 107, 107, 175, 220, 212, 183, 216,\n",
       "          162, 215, 196, 167, 213, 206, 113, 108, 107, 106, 106, 106, 107,\n",
       "          106, 106], dtype=uint8),\n",
       "   array([111, 110, 109, 108, 108, 107, 107, 107, 175, 220, 212, 183, 216,\n",
       "          162, 215, 196, 167, 213, 206, 113, 108, 107, 106, 106, 106, 107,\n",
       "          106, 106], dtype=uint8),\n",
       "   array([111, 110, 109, 108, 108, 107, 107, 107, 175, 220, 212, 183, 216,\n",
       "          162, 215, 196, 167, 213, 206, 113, 108, 107, 106, 106, 106, 107,\n",
       "          106, 106], dtype=uint8)],\n",
       "  [array([111, 110, 109, 108, 108, 107, 107, 107, 175, 220, 212, 183, 216,\n",
       "          162, 215, 196, 167, 213, 206, 113, 108, 107, 106, 106, 106, 107,\n",
       "          106, 106], dtype=uint8),\n",
       "   array([111, 110, 109, 108, 108, 107, 107, 107, 175, 220, 212, 183, 216,\n",
       "          162, 215, 196, 167, 213, 206, 113, 108, 107, 106, 106, 106, 107,\n",
       "          106, 106], dtype=uint8),\n",
       "   array([111, 110, 109, 108, 108, 107, 107, 107, 175, 220, 212, 183, 216,\n",
       "          162, 215, 196, 167, 213, 206, 113, 108, 107, 106, 106, 106, 107,\n",
       "          106, 106], dtype=uint8)],\n",
       "  [array([111, 110, 109, 108, 108, 107, 107, 107, 175, 220, 212, 183, 216,\n",
       "          162, 215, 196, 167, 213, 206, 113, 108, 107, 106, 106, 106, 107,\n",
       "          106, 106], dtype=uint8),\n",
       "   array([111, 110, 109, 108, 108, 107, 107, 107, 175, 220, 212, 183, 216,\n",
       "          162, 215, 196, 167, 213, 206, 113, 108, 107, 106, 106, 106, 107,\n",
       "          106, 106], dtype=uint8),\n",
       "   array([111, 110, 109, 108, 108, 107, 107, 107, 175, 220, 212, 183, 216,\n",
       "          162, 215, 196, 167, 213, 206, 113, 108, 107, 106, 106, 106, 107,\n",
       "          106, 106], dtype=uint8)]],\n",
       " [[array([111, 110, 108, 108, 107, 106, 106, 115, 211, 219, 183, 139, 219,\n",
       "          214, 211, 157, 136, 212, 214, 146, 109, 108, 107, 106, 106, 107,\n",
       "          107, 106], dtype=uint8),\n",
       "   array([111, 110, 108, 108, 107, 106, 106, 115, 211, 219, 183, 139, 219,\n",
       "          214, 211, 157, 136, 212, 214, 146, 109, 108, 107, 106, 106, 107,\n",
       "          107, 106], dtype=uint8),\n",
       "   array([111, 110, 108, 108, 107, 106, 106, 115, 211, 219, 183, 139, 219,\n",
       "          214, 211, 157, 136, 212, 214, 146, 109, 108, 107, 106, 106, 107,\n",
       "          107, 106], dtype=uint8)],\n",
       "  [array([111, 110, 108, 108, 107, 106, 106, 115, 211, 219, 183, 139, 219,\n",
       "          214, 211, 157, 136, 212, 214, 146, 109, 108, 107, 106, 106, 107,\n",
       "          107, 106], dtype=uint8),\n",
       "   array([111, 110, 108, 108, 107, 106, 106, 115, 211, 219, 183, 139, 219,\n",
       "          214, 211, 157, 136, 212, 214, 146, 109, 108, 107, 106, 106, 107,\n",
       "          107, 106], dtype=uint8),\n",
       "   array([111, 110, 108, 108, 107, 106, 106, 115, 211, 219, 183, 139, 219,\n",
       "          214, 211, 157, 136, 212, 214, 146, 109, 108, 107, 106, 106, 107,\n",
       "          107, 106], dtype=uint8)],\n",
       "  [array([111, 110, 108, 108, 107, 106, 106, 115, 211, 219, 183, 139, 219,\n",
       "          214, 211, 157, 136, 212, 214, 146, 109, 108, 107, 106, 106, 107,\n",
       "          107, 106], dtype=uint8),\n",
       "   array([111, 110, 108, 108, 107, 106, 106, 115, 211, 219, 183, 139, 219,\n",
       "          214, 211, 157, 136, 212, 214, 146, 109, 108, 107, 106, 106, 107,\n",
       "          107, 106], dtype=uint8),\n",
       "   array([111, 110, 108, 108, 107, 106, 106, 115, 211, 219, 183, 139, 219,\n",
       "          214, 211, 157, 136, 212, 214, 146, 109, 108, 107, 106, 106, 107,\n",
       "          107, 106], dtype=uint8)]],\n",
       " [[array([110, 109, 107, 107, 107, 107, 106, 148, 215, 217, 151, 115, 219,\n",
       "          223, 208, 122, 109, 203, 215, 180, 108, 108, 107, 107, 107, 107,\n",
       "          107, 106], dtype=uint8),\n",
       "   array([110, 109, 107, 107, 107, 107, 106, 148, 215, 217, 151, 115, 219,\n",
       "          223, 208, 122, 109, 203, 215, 180, 108, 108, 107, 107, 107, 107,\n",
       "          107, 106], dtype=uint8),\n",
       "   array([110, 109, 107, 107, 107, 107, 106, 148, 215, 217, 151, 115, 219,\n",
       "          223, 208, 122, 109, 203, 215, 180, 108, 108, 107, 107, 107, 107,\n",
       "          107, 106], dtype=uint8)],\n",
       "  [array([110, 109, 107, 107, 107, 107, 106, 148, 215, 217, 151, 115, 219,\n",
       "          223, 208, 122, 109, 203, 215, 180, 108, 108, 107, 107, 107, 107,\n",
       "          107, 106], dtype=uint8),\n",
       "   array([110, 109, 107, 107, 107, 107, 106, 148, 215, 217, 151, 115, 219,\n",
       "          223, 208, 122, 109, 203, 215, 180, 108, 108, 107, 107, 107, 107,\n",
       "          107, 106], dtype=uint8),\n",
       "   array([110, 109, 107, 107, 107, 107, 106, 148, 215, 217, 151, 115, 219,\n",
       "          223, 208, 122, 109, 203, 215, 180, 108, 108, 107, 107, 107, 107,\n",
       "          107, 106], dtype=uint8)],\n",
       "  [array([110, 109, 107, 107, 107, 107, 106, 148, 215, 217, 151, 115, 219,\n",
       "          223, 208, 122, 109, 203, 215, 180, 108, 108, 107, 107, 107, 107,\n",
       "          107, 106], dtype=uint8),\n",
       "   array([110, 109, 107, 107, 107, 107, 106, 148, 215, 217, 151, 115, 219,\n",
       "          223, 208, 122, 109, 203, 215, 180, 108, 108, 107, 107, 107, 107,\n",
       "          107, 106], dtype=uint8),\n",
       "   array([110, 109, 107, 107, 107, 107, 106, 148, 215, 217, 151, 115, 219,\n",
       "          223, 208, 122, 109, 203, 215, 180, 108, 108, 107, 107, 107, 107,\n",
       "          107, 106], dtype=uint8)]],\n",
       " [[array([110, 109, 108, 107, 106, 106, 106, 171, 216, 215, 114, 107, 192,\n",
       "          220, 180, 107, 107, 161, 214, 209, 116, 109, 109, 107, 107, 107,\n",
       "          107, 106], dtype=uint8),\n",
       "   array([110, 109, 108, 107, 106, 106, 106, 171, 216, 215, 114, 107, 192,\n",
       "          220, 180, 107, 107, 161, 214, 209, 116, 109, 109, 107, 107, 107,\n",
       "          107, 106], dtype=uint8),\n",
       "   array([110, 109, 108, 107, 106, 106, 106, 171, 216, 215, 114, 107, 192,\n",
       "          220, 180, 107, 107, 161, 214, 209, 116, 109, 109, 107, 107, 107,\n",
       "          107, 106], dtype=uint8)],\n",
       "  [array([110, 109, 108, 107, 106, 106, 106, 171, 216, 215, 114, 107, 192,\n",
       "          220, 180, 107, 107, 161, 214, 209, 116, 109, 109, 107, 107, 107,\n",
       "          107, 106], dtype=uint8),\n",
       "   array([110, 109, 108, 107, 106, 106, 106, 171, 216, 215, 114, 107, 192,\n",
       "          220, 180, 107, 107, 161, 214, 209, 116, 109, 109, 107, 107, 107,\n",
       "          107, 106], dtype=uint8),\n",
       "   array([110, 109, 108, 107, 106, 106, 106, 171, 216, 215, 114, 107, 192,\n",
       "          220, 180, 107, 107, 161, 214, 209, 116, 109, 109, 107, 107, 107,\n",
       "          107, 106], dtype=uint8)],\n",
       "  [array([110, 109, 108, 107, 106, 106, 106, 171, 216, 215, 114, 107, 192,\n",
       "          220, 180, 107, 107, 161, 214, 209, 116, 109, 109, 107, 107, 107,\n",
       "          107, 106], dtype=uint8),\n",
       "   array([110, 109, 108, 107, 106, 106, 106, 171, 216, 215, 114, 107, 192,\n",
       "          220, 180, 107, 107, 161, 214, 209, 116, 109, 109, 107, 107, 107,\n",
       "          107, 106], dtype=uint8),\n",
       "   array([110, 109, 108, 107, 106, 106, 106, 171, 216, 215, 114, 107, 192,\n",
       "          220, 180, 107, 107, 161, 214, 209, 116, 109, 109, 107, 107, 107,\n",
       "          107, 106], dtype=uint8)]],\n",
       " [[array([109, 109, 108, 107, 106, 107, 107, 197, 221, 184, 107, 107, 161,\n",
       "          216, 141, 107, 106, 121, 212, 213, 147, 109, 108, 108, 107, 107,\n",
       "          106, 106], dtype=uint8),\n",
       "   array([109, 109, 108, 107, 106, 107, 107, 197, 221, 184, 107, 107, 161,\n",
       "          216, 141, 107, 106, 121, 212, 213, 147, 109, 108, 108, 107, 107,\n",
       "          106, 106], dtype=uint8),\n",
       "   array([109, 109, 108, 107, 106, 107, 107, 197, 221, 184, 107, 107, 161,\n",
       "          216, 141, 107, 106, 121, 212, 213, 147, 109, 108, 108, 107, 107,\n",
       "          106, 106], dtype=uint8)],\n",
       "  [array([109, 109, 108, 107, 106, 107, 107, 197, 221, 184, 107, 107, 161,\n",
       "          216, 141, 107, 106, 121, 212, 213, 147, 109, 108, 108, 107, 107,\n",
       "          106, 106], dtype=uint8),\n",
       "   array([109, 109, 108, 107, 106, 107, 107, 197, 221, 184, 107, 107, 161,\n",
       "          216, 141, 107, 106, 121, 212, 213, 147, 109, 108, 108, 107, 107,\n",
       "          106, 106], dtype=uint8),\n",
       "   array([109, 109, 108, 107, 106, 107, 107, 197, 221, 184, 107, 107, 161,\n",
       "          216, 141, 107, 106, 121, 212, 213, 147, 109, 108, 108, 107, 107,\n",
       "          106, 106], dtype=uint8)],\n",
       "  [array([109, 109, 108, 107, 106, 107, 107, 197, 221, 184, 107, 107, 161,\n",
       "          216, 141, 107, 106, 121, 212, 213, 147, 109, 108, 108, 107, 107,\n",
       "          106, 106], dtype=uint8),\n",
       "   array([109, 109, 108, 107, 106, 107, 107, 197, 221, 184, 107, 107, 161,\n",
       "          216, 141, 107, 106, 121, 212, 213, 147, 109, 108, 108, 107, 107,\n",
       "          106, 106], dtype=uint8),\n",
       "   array([109, 109, 108, 107, 106, 107, 107, 197, 221, 184, 107, 107, 161,\n",
       "          216, 141, 107, 106, 121, 212, 213, 147, 109, 108, 108, 107, 107,\n",
       "          106, 106], dtype=uint8)]],\n",
       " [[array([109, 109, 107, 107, 107, 107, 119, 214, 222, 153, 107, 107, 133,\n",
       "          150, 109, 106, 106, 106, 185, 212, 180, 110, 109, 108, 106, 105,\n",
       "          105, 105], dtype=uint8),\n",
       "   array([109, 109, 107, 107, 107, 107, 119, 214, 222, 153, 107, 107, 133,\n",
       "          150, 109, 106, 106, 106, 185, 212, 180, 110, 109, 108, 106, 105,\n",
       "          105, 105], dtype=uint8),\n",
       "   array([109, 109, 107, 107, 107, 107, 119, 214, 222, 153, 107, 107, 133,\n",
       "          150, 109, 106, 106, 106, 185, 212, 180, 110, 109, 108, 106, 105,\n",
       "          105, 105], dtype=uint8)],\n",
       "  [array([109, 109, 107, 107, 107, 107, 119, 214, 222, 153, 107, 107, 133,\n",
       "          150, 109, 106, 106, 106, 185, 212, 180, 110, 109, 108, 106, 105,\n",
       "          105, 105], dtype=uint8),\n",
       "   array([109, 109, 107, 107, 107, 107, 119, 214, 222, 153, 107, 107, 133,\n",
       "          150, 109, 106, 106, 106, 185, 212, 180, 110, 109, 108, 106, 105,\n",
       "          105, 105], dtype=uint8),\n",
       "   array([109, 109, 107, 107, 107, 107, 119, 214, 222, 153, 107, 107, 133,\n",
       "          150, 109, 106, 106, 106, 185, 212, 180, 110, 109, 108, 106, 105,\n",
       "          105, 105], dtype=uint8)],\n",
       "  [array([109, 109, 107, 107, 107, 107, 119, 214, 222, 153, 107, 107, 133,\n",
       "          150, 109, 106, 106, 106, 185, 212, 180, 110, 109, 108, 106, 105,\n",
       "          105, 105], dtype=uint8),\n",
       "   array([109, 109, 107, 107, 107, 107, 119, 214, 222, 153, 107, 107, 133,\n",
       "          150, 109, 106, 106, 106, 185, 212, 180, 110, 109, 108, 106, 105,\n",
       "          105, 105], dtype=uint8),\n",
       "   array([109, 109, 107, 107, 107, 107, 119, 214, 222, 153, 107, 107, 133,\n",
       "          150, 109, 106, 106, 106, 185, 212, 180, 110, 109, 108, 106, 105,\n",
       "          105, 105], dtype=uint8)]],\n",
       " [[array([110, 109, 108, 107, 107, 106, 147, 219, 214, 127, 107, 106, 106,\n",
       "          106, 106, 106, 105, 106, 148, 209, 207, 115, 108, 108, 107, 107,\n",
       "          105, 105], dtype=uint8),\n",
       "   array([110, 109, 108, 107, 107, 106, 147, 219, 214, 127, 107, 106, 106,\n",
       "          106, 106, 106, 105, 106, 148, 209, 207, 115, 108, 108, 107, 107,\n",
       "          105, 105], dtype=uint8),\n",
       "   array([110, 109, 108, 107, 107, 106, 147, 219, 214, 127, 107, 106, 106,\n",
       "          106, 106, 106, 105, 106, 148, 209, 207, 115, 108, 108, 107, 107,\n",
       "          105, 105], dtype=uint8)],\n",
       "  [array([110, 109, 108, 107, 107, 106, 147, 219, 214, 127, 107, 106, 106,\n",
       "          106, 106, 106, 105, 106, 148, 209, 207, 115, 108, 108, 107, 107,\n",
       "          105, 105], dtype=uint8),\n",
       "   array([110, 109, 108, 107, 107, 106, 147, 219, 214, 127, 107, 106, 106,\n",
       "          106, 106, 106, 105, 106, 148, 209, 207, 115, 108, 108, 107, 107,\n",
       "          105, 105], dtype=uint8),\n",
       "   array([110, 109, 108, 107, 107, 106, 147, 219, 214, 127, 107, 106, 106,\n",
       "          106, 106, 106, 105, 106, 148, 209, 207, 115, 108, 108, 107, 107,\n",
       "          105, 105], dtype=uint8)],\n",
       "  [array([110, 109, 108, 107, 107, 106, 147, 219, 214, 127, 107, 106, 106,\n",
       "          106, 106, 106, 105, 106, 148, 209, 207, 115, 108, 108, 107, 107,\n",
       "          105, 105], dtype=uint8),\n",
       "   array([110, 109, 108, 107, 107, 106, 147, 219, 214, 127, 107, 106, 106,\n",
       "          106, 106, 106, 105, 106, 148, 209, 207, 115, 108, 108, 107, 107,\n",
       "          105, 105], dtype=uint8),\n",
       "   array([110, 109, 108, 107, 107, 106, 147, 219, 214, 127, 107, 106, 106,\n",
       "          106, 106, 106, 105, 106, 148, 209, 207, 115, 108, 108, 107, 107,\n",
       "          105, 105], dtype=uint8)]],\n",
       " [[array([110, 110, 109, 108, 106, 107, 179, 220, 207, 110, 107, 107, 105,\n",
       "          106, 106, 106, 107, 105, 112, 203, 206, 148, 109, 108, 107, 106,\n",
       "          106, 105], dtype=uint8),\n",
       "   array([110, 110, 109, 108, 106, 107, 179, 220, 207, 110, 107, 107, 105,\n",
       "          106, 106, 106, 107, 105, 112, 203, 206, 148, 109, 108, 107, 106,\n",
       "          106, 105], dtype=uint8),\n",
       "   array([110, 110, 109, 108, 106, 107, 179, 220, 207, 110, 107, 107, 105,\n",
       "          106, 106, 106, 107, 105, 112, 203, 206, 148, 109, 108, 107, 106,\n",
       "          106, 105], dtype=uint8)],\n",
       "  [array([110, 110, 109, 108, 106, 107, 179, 220, 207, 110, 107, 107, 105,\n",
       "          106, 106, 106, 107, 105, 112, 203, 206, 148, 109, 108, 107, 106,\n",
       "          106, 105], dtype=uint8),\n",
       "   array([110, 110, 109, 108, 106, 107, 179, 220, 207, 110, 107, 107, 105,\n",
       "          106, 106, 106, 107, 105, 112, 203, 206, 148, 109, 108, 107, 106,\n",
       "          106, 105], dtype=uint8),\n",
       "   array([110, 110, 109, 108, 106, 107, 179, 220, 207, 110, 107, 107, 105,\n",
       "          106, 106, 106, 107, 105, 112, 203, 206, 148, 109, 108, 107, 106,\n",
       "          106, 105], dtype=uint8)],\n",
       "  [array([110, 110, 109, 108, 106, 107, 179, 220, 207, 110, 107, 107, 105,\n",
       "          106, 106, 106, 107, 105, 112, 203, 206, 148, 109, 108, 107, 106,\n",
       "          106, 105], dtype=uint8),\n",
       "   array([110, 110, 109, 108, 106, 107, 179, 220, 207, 110, 107, 107, 105,\n",
       "          106, 106, 106, 107, 105, 112, 203, 206, 148, 109, 108, 107, 106,\n",
       "          106, 105], dtype=uint8),\n",
       "   array([110, 110, 109, 108, 106, 107, 179, 220, 207, 110, 107, 107, 105,\n",
       "          106, 106, 106, 107, 105, 112, 203, 206, 148, 109, 108, 107, 106,\n",
       "          106, 105], dtype=uint8)]],\n",
       " [[array([109, 108, 108, 107, 107, 108, 202, 216, 186, 108, 108, 108, 106,\n",
       "          107, 106, 105, 106, 106, 106, 172, 211, 201, 110, 107, 106, 106,\n",
       "          106, 105], dtype=uint8),\n",
       "   array([109, 108, 108, 107, 107, 108, 202, 216, 186, 108, 108, 108, 106,\n",
       "          107, 106, 105, 106, 106, 106, 172, 211, 201, 110, 107, 106, 106,\n",
       "          106, 105], dtype=uint8),\n",
       "   array([109, 108, 108, 107, 107, 108, 202, 216, 186, 108, 108, 108, 106,\n",
       "          107, 106, 105, 106, 106, 106, 172, 211, 201, 110, 107, 106, 106,\n",
       "          106, 105], dtype=uint8)],\n",
       "  [array([109, 108, 108, 107, 107, 108, 202, 216, 186, 108, 108, 108, 106,\n",
       "          107, 106, 105, 106, 106, 106, 172, 211, 201, 110, 107, 106, 106,\n",
       "          106, 105], dtype=uint8),\n",
       "   array([109, 108, 108, 107, 107, 108, 202, 216, 186, 108, 108, 108, 106,\n",
       "          107, 106, 105, 106, 106, 106, 172, 211, 201, 110, 107, 106, 106,\n",
       "          106, 105], dtype=uint8),\n",
       "   array([109, 108, 108, 107, 107, 108, 202, 216, 186, 108, 108, 108, 106,\n",
       "          107, 106, 105, 106, 106, 106, 172, 211, 201, 110, 107, 106, 106,\n",
       "          106, 105], dtype=uint8)],\n",
       "  [array([109, 108, 108, 107, 107, 108, 202, 216, 186, 108, 108, 108, 106,\n",
       "          107, 106, 105, 106, 106, 106, 172, 211, 201, 110, 107, 106, 106,\n",
       "          106, 105], dtype=uint8),\n",
       "   array([109, 108, 108, 107, 107, 108, 202, 216, 186, 108, 108, 108, 106,\n",
       "          107, 106, 105, 106, 106, 106, 172, 211, 201, 110, 107, 106, 106,\n",
       "          106, 105], dtype=uint8),\n",
       "   array([109, 108, 108, 107, 107, 108, 202, 216, 186, 108, 108, 108, 106,\n",
       "          107, 106, 105, 106, 106, 106, 172, 211, 201, 110, 107, 106, 106,\n",
       "          106, 105], dtype=uint8)]],\n",
       " [[array([110, 108, 107, 107, 107, 110, 213, 218, 162, 108, 108, 108, 107,\n",
       "          106, 106, 106, 106, 106, 107, 111, 181, 188, 109, 107, 106, 106,\n",
       "          105, 105], dtype=uint8),\n",
       "   array([110, 108, 107, 107, 107, 110, 213, 218, 162, 108, 108, 108, 107,\n",
       "          106, 106, 106, 106, 106, 107, 111, 181, 188, 109, 107, 106, 106,\n",
       "          105, 105], dtype=uint8),\n",
       "   array([110, 108, 107, 107, 107, 110, 213, 218, 162, 108, 108, 108, 107,\n",
       "          106, 106, 106, 106, 106, 107, 111, 181, 188, 109, 107, 106, 106,\n",
       "          105, 105], dtype=uint8)],\n",
       "  [array([110, 108, 107, 107, 107, 110, 213, 218, 162, 108, 108, 108, 107,\n",
       "          106, 106, 106, 106, 106, 107, 111, 181, 188, 109, 107, 106, 106,\n",
       "          105, 105], dtype=uint8),\n",
       "   array([110, 108, 107, 107, 107, 110, 213, 218, 162, 108, 108, 108, 107,\n",
       "          106, 106, 106, 106, 106, 107, 111, 181, 188, 109, 107, 106, 106,\n",
       "          105, 105], dtype=uint8),\n",
       "   array([110, 108, 107, 107, 107, 110, 213, 218, 162, 108, 108, 108, 107,\n",
       "          106, 106, 106, 106, 106, 107, 111, 181, 188, 109, 107, 106, 106,\n",
       "          105, 105], dtype=uint8)],\n",
       "  [array([110, 108, 107, 107, 107, 110, 213, 218, 162, 108, 108, 108, 107,\n",
       "          106, 106, 106, 106, 106, 107, 111, 181, 188, 109, 107, 106, 106,\n",
       "          105, 105], dtype=uint8),\n",
       "   array([110, 108, 107, 107, 107, 110, 213, 218, 162, 108, 108, 108, 107,\n",
       "          106, 106, 106, 106, 106, 107, 111, 181, 188, 109, 107, 106, 106,\n",
       "          105, 105], dtype=uint8),\n",
       "   array([110, 108, 107, 107, 107, 110, 213, 218, 162, 108, 108, 108, 107,\n",
       "          106, 106, 106, 106, 106, 107, 111, 181, 188, 109, 107, 106, 106,\n",
       "          105, 105], dtype=uint8)]],\n",
       " [[array([110, 109, 108, 107, 107, 108, 197, 194, 131, 108, 108, 108, 107,\n",
       "          107, 106, 106, 106, 106, 107, 107, 107, 109, 106, 105, 106, 105,\n",
       "          105, 105], dtype=uint8),\n",
       "   array([110, 109, 108, 107, 107, 108, 197, 194, 131, 108, 108, 108, 107,\n",
       "          107, 106, 106, 106, 106, 107, 107, 107, 109, 106, 105, 106, 105,\n",
       "          105, 105], dtype=uint8),\n",
       "   array([110, 109, 108, 107, 107, 108, 197, 194, 131, 108, 108, 108, 107,\n",
       "          107, 106, 106, 106, 106, 107, 107, 107, 109, 106, 105, 106, 105,\n",
       "          105, 105], dtype=uint8)],\n",
       "  [array([110, 109, 108, 107, 107, 108, 197, 194, 131, 108, 108, 108, 107,\n",
       "          107, 106, 106, 106, 106, 107, 107, 107, 109, 106, 105, 106, 105,\n",
       "          105, 105], dtype=uint8),\n",
       "   array([110, 109, 108, 107, 107, 108, 197, 194, 131, 108, 108, 108, 107,\n",
       "          107, 106, 106, 106, 106, 107, 107, 107, 109, 106, 105, 106, 105,\n",
       "          105, 105], dtype=uint8),\n",
       "   array([110, 109, 108, 107, 107, 108, 197, 194, 131, 108, 108, 108, 107,\n",
       "          107, 106, 106, 106, 106, 107, 107, 107, 109, 106, 105, 106, 105,\n",
       "          105, 105], dtype=uint8)],\n",
       "  [array([110, 109, 108, 107, 107, 108, 197, 194, 131, 108, 108, 108, 107,\n",
       "          107, 106, 106, 106, 106, 107, 107, 107, 109, 106, 105, 106, 105,\n",
       "          105, 105], dtype=uint8),\n",
       "   array([110, 109, 108, 107, 107, 108, 197, 194, 131, 108, 108, 108, 107,\n",
       "          107, 106, 106, 106, 106, 107, 107, 107, 109, 106, 105, 106, 105,\n",
       "          105, 105], dtype=uint8),\n",
       "   array([110, 109, 108, 107, 107, 108, 197, 194, 131, 108, 108, 108, 107,\n",
       "          107, 106, 106, 106, 106, 107, 107, 107, 109, 106, 105, 106, 105,\n",
       "          105, 105], dtype=uint8)]],\n",
       " [[array([111, 110, 108, 108, 108, 118, 214, 147, 109, 107, 107, 106, 106,\n",
       "          106, 106, 106, 106, 105, 106, 107, 106, 105, 105, 105, 104, 105,\n",
       "          105, 104], dtype=uint8),\n",
       "   array([111, 110, 108, 108, 108, 118, 214, 147, 109, 107, 107, 106, 106,\n",
       "          106, 106, 106, 106, 105, 106, 107, 106, 105, 105, 105, 104, 105,\n",
       "          105, 104], dtype=uint8),\n",
       "   array([111, 110, 108, 108, 108, 118, 214, 147, 109, 107, 107, 106, 106,\n",
       "          106, 106, 106, 106, 105, 106, 107, 106, 105, 105, 105, 104, 105,\n",
       "          105, 104], dtype=uint8)],\n",
       "  [array([111, 110, 108, 108, 108, 118, 214, 147, 109, 107, 107, 106, 106,\n",
       "          106, 106, 106, 106, 105, 106, 107, 106, 105, 105, 105, 104, 105,\n",
       "          105, 104], dtype=uint8),\n",
       "   array([111, 110, 108, 108, 108, 118, 214, 147, 109, 107, 107, 106, 106,\n",
       "          106, 106, 106, 106, 105, 106, 107, 106, 105, 105, 105, 104, 105,\n",
       "          105, 104], dtype=uint8),\n",
       "   array([111, 110, 108, 108, 108, 118, 214, 147, 109, 107, 107, 106, 106,\n",
       "          106, 106, 106, 106, 105, 106, 107, 106, 105, 105, 105, 104, 105,\n",
       "          105, 104], dtype=uint8)],\n",
       "  [array([111, 110, 108, 108, 108, 118, 214, 147, 109, 107, 107, 106, 106,\n",
       "          106, 106, 106, 106, 105, 106, 107, 106, 105, 105, 105, 104, 105,\n",
       "          105, 104], dtype=uint8),\n",
       "   array([111, 110, 108, 108, 108, 118, 214, 147, 109, 107, 107, 106, 106,\n",
       "          106, 106, 106, 106, 105, 106, 107, 106, 105, 105, 105, 104, 105,\n",
       "          105, 104], dtype=uint8),\n",
       "   array([111, 110, 108, 108, 108, 118, 214, 147, 109, 107, 107, 106, 106,\n",
       "          106, 106, 106, 106, 105, 106, 107, 106, 105, 105, 105, 104, 105,\n",
       "          105, 104], dtype=uint8)]],\n",
       " [[array([111, 111, 110, 108, 109, 110, 123, 109, 107, 107, 106, 105, 107,\n",
       "          107, 105, 106, 105, 105, 105, 106, 105, 106, 105, 104, 104, 105,\n",
       "          105, 105], dtype=uint8),\n",
       "   array([111, 111, 110, 108, 109, 110, 123, 109, 107, 107, 106, 105, 107,\n",
       "          107, 105, 106, 105, 105, 105, 106, 105, 106, 105, 104, 104, 105,\n",
       "          105, 105], dtype=uint8),\n",
       "   array([111, 111, 110, 108, 109, 110, 123, 109, 107, 107, 106, 105, 107,\n",
       "          107, 105, 106, 105, 105, 105, 106, 105, 106, 105, 104, 104, 105,\n",
       "          105, 105], dtype=uint8)],\n",
       "  [array([111, 111, 110, 108, 109, 110, 123, 109, 107, 107, 106, 105, 107,\n",
       "          107, 105, 106, 105, 105, 105, 106, 105, 106, 105, 104, 104, 105,\n",
       "          105, 105], dtype=uint8),\n",
       "   array([111, 111, 110, 108, 109, 110, 123, 109, 107, 107, 106, 105, 107,\n",
       "          107, 105, 106, 105, 105, 105, 106, 105, 106, 105, 104, 104, 105,\n",
       "          105, 105], dtype=uint8),\n",
       "   array([111, 111, 110, 108, 109, 110, 123, 109, 107, 107, 106, 105, 107,\n",
       "          107, 105, 106, 105, 105, 105, 106, 105, 106, 105, 104, 104, 105,\n",
       "          105, 105], dtype=uint8)],\n",
       "  [array([111, 111, 110, 108, 109, 110, 123, 109, 107, 107, 106, 105, 107,\n",
       "          107, 105, 106, 105, 105, 105, 106, 105, 106, 105, 104, 104, 105,\n",
       "          105, 105], dtype=uint8),\n",
       "   array([111, 111, 110, 108, 109, 110, 123, 109, 107, 107, 106, 105, 107,\n",
       "          107, 105, 106, 105, 105, 105, 106, 105, 106, 105, 104, 104, 105,\n",
       "          105, 105], dtype=uint8),\n",
       "   array([111, 111, 110, 108, 109, 110, 123, 109, 107, 107, 106, 105, 107,\n",
       "          107, 105, 106, 105, 105, 105, 106, 105, 106, 105, 104, 104, 105,\n",
       "          105, 105], dtype=uint8)]],\n",
       " [[array([111, 110, 109, 109, 109, 109, 108, 107, 106, 107, 107, 108, 106,\n",
       "          106, 106, 105, 105, 105, 105, 105, 104, 106, 104, 104, 105, 104,\n",
       "          105, 104], dtype=uint8),\n",
       "   array([111, 110, 109, 109, 109, 109, 108, 107, 106, 107, 107, 108, 106,\n",
       "          106, 106, 105, 105, 105, 105, 105, 104, 106, 104, 104, 105, 104,\n",
       "          105, 104], dtype=uint8),\n",
       "   array([111, 110, 109, 109, 109, 109, 108, 107, 106, 107, 107, 108, 106,\n",
       "          106, 106, 105, 105, 105, 105, 105, 104, 106, 104, 104, 105, 104,\n",
       "          105, 104], dtype=uint8)],\n",
       "  [array([111, 110, 109, 109, 109, 109, 108, 107, 106, 107, 107, 108, 106,\n",
       "          106, 106, 105, 105, 105, 105, 105, 104, 106, 104, 104, 105, 104,\n",
       "          105, 104], dtype=uint8),\n",
       "   array([111, 110, 109, 109, 109, 109, 108, 107, 106, 107, 107, 108, 106,\n",
       "          106, 106, 105, 105, 105, 105, 105, 104, 106, 104, 104, 105, 104,\n",
       "          105, 104], dtype=uint8),\n",
       "   array([111, 110, 109, 109, 109, 109, 108, 107, 106, 107, 107, 108, 106,\n",
       "          106, 106, 105, 105, 105, 105, 105, 104, 106, 104, 104, 105, 104,\n",
       "          105, 104], dtype=uint8)],\n",
       "  [array([111, 110, 109, 109, 109, 109, 108, 107, 106, 107, 107, 108, 106,\n",
       "          106, 106, 105, 105, 105, 105, 105, 104, 106, 104, 104, 105, 104,\n",
       "          105, 104], dtype=uint8),\n",
       "   array([111, 110, 109, 109, 109, 109, 108, 107, 106, 107, 107, 108, 106,\n",
       "          106, 106, 105, 105, 105, 105, 105, 104, 106, 104, 104, 105, 104,\n",
       "          105, 104], dtype=uint8),\n",
       "   array([111, 110, 109, 109, 109, 109, 108, 107, 106, 107, 107, 108, 106,\n",
       "          106, 106, 105, 105, 105, 105, 105, 104, 106, 104, 104, 105, 104,\n",
       "          105, 104], dtype=uint8)]],\n",
       " [[array([112, 111, 109, 109, 109, 109, 108, 107, 107, 106, 106, 106, 105,\n",
       "          106, 106, 105, 105, 105, 105, 105, 106, 105, 104, 105, 105, 104,\n",
       "          103, 104], dtype=uint8),\n",
       "   array([112, 111, 109, 109, 109, 109, 108, 107, 107, 106, 106, 106, 105,\n",
       "          106, 106, 105, 105, 105, 105, 105, 106, 105, 104, 105, 105, 104,\n",
       "          103, 104], dtype=uint8),\n",
       "   array([112, 111, 109, 109, 109, 109, 108, 107, 107, 106, 106, 106, 105,\n",
       "          106, 106, 105, 105, 105, 105, 105, 106, 105, 104, 105, 105, 104,\n",
       "          103, 104], dtype=uint8)],\n",
       "  [array([112, 111, 109, 109, 109, 109, 108, 107, 107, 106, 106, 106, 105,\n",
       "          106, 106, 105, 105, 105, 105, 105, 106, 105, 104, 105, 105, 104,\n",
       "          103, 104], dtype=uint8),\n",
       "   array([112, 111, 109, 109, 109, 109, 108, 107, 107, 106, 106, 106, 105,\n",
       "          106, 106, 105, 105, 105, 105, 105, 106, 105, 104, 105, 105, 104,\n",
       "          103, 104], dtype=uint8),\n",
       "   array([112, 111, 109, 109, 109, 109, 108, 107, 107, 106, 106, 106, 105,\n",
       "          106, 106, 105, 105, 105, 105, 105, 106, 105, 104, 105, 105, 104,\n",
       "          103, 104], dtype=uint8)],\n",
       "  [array([112, 111, 109, 109, 109, 109, 108, 107, 107, 106, 106, 106, 105,\n",
       "          106, 106, 105, 105, 105, 105, 105, 106, 105, 104, 105, 105, 104,\n",
       "          103, 104], dtype=uint8),\n",
       "   array([112, 111, 109, 109, 109, 109, 108, 107, 107, 106, 106, 106, 105,\n",
       "          106, 106, 105, 105, 105, 105, 105, 106, 105, 104, 105, 105, 104,\n",
       "          103, 104], dtype=uint8),\n",
       "   array([112, 111, 109, 109, 109, 109, 108, 107, 107, 106, 106, 106, 105,\n",
       "          106, 106, 105, 105, 105, 105, 105, 106, 105, 104, 105, 105, 104,\n",
       "          103, 104], dtype=uint8)]],\n",
       " [[array([112, 110, 109, 109, 109, 109, 109, 107, 107, 106, 105, 106, 106,\n",
       "          105, 105, 105, 104, 105, 105, 105, 105, 103, 103, 104, 103, 102,\n",
       "          102, 103], dtype=uint8),\n",
       "   array([112, 110, 109, 109, 109, 109, 109, 107, 107, 106, 105, 106, 106,\n",
       "          105, 105, 105, 104, 105, 105, 105, 105, 103, 103, 104, 103, 102,\n",
       "          102, 103], dtype=uint8),\n",
       "   array([112, 110, 109, 109, 109, 109, 109, 107, 107, 106, 105, 106, 106,\n",
       "          105, 105, 105, 104, 105, 105, 105, 105, 103, 103, 104, 103, 102,\n",
       "          102, 103], dtype=uint8)],\n",
       "  [array([112, 110, 109, 109, 109, 109, 109, 107, 107, 106, 105, 106, 106,\n",
       "          105, 105, 105, 104, 105, 105, 105, 105, 103, 103, 104, 103, 102,\n",
       "          102, 103], dtype=uint8),\n",
       "   array([112, 110, 109, 109, 109, 109, 109, 107, 107, 106, 105, 106, 106,\n",
       "          105, 105, 105, 104, 105, 105, 105, 105, 103, 103, 104, 103, 102,\n",
       "          102, 103], dtype=uint8),\n",
       "   array([112, 110, 109, 109, 109, 109, 109, 107, 107, 106, 105, 106, 106,\n",
       "          105, 105, 105, 104, 105, 105, 105, 105, 103, 103, 104, 103, 102,\n",
       "          102, 103], dtype=uint8)],\n",
       "  [array([112, 110, 109, 109, 109, 109, 109, 107, 107, 106, 105, 106, 106,\n",
       "          105, 105, 105, 104, 105, 105, 105, 105, 103, 103, 104, 103, 102,\n",
       "          102, 103], dtype=uint8),\n",
       "   array([112, 110, 109, 109, 109, 109, 109, 107, 107, 106, 105, 106, 106,\n",
       "          105, 105, 105, 104, 105, 105, 105, 105, 103, 103, 104, 103, 102,\n",
       "          102, 103], dtype=uint8),\n",
       "   array([112, 110, 109, 109, 109, 109, 109, 107, 107, 106, 105, 106, 106,\n",
       "          105, 105, 105, 104, 105, 105, 105, 105, 103, 103, 104, 103, 102,\n",
       "          102, 103], dtype=uint8)]],\n",
       " [[array([111, 111, 110, 109, 108, 108, 109, 107, 107, 107, 106, 106, 106,\n",
       "          105, 105, 105, 105, 105, 105, 104, 104, 103, 103, 103, 103, 103,\n",
       "          103, 103], dtype=uint8),\n",
       "   array([111, 111, 110, 109, 108, 108, 109, 107, 107, 107, 106, 106, 106,\n",
       "          105, 105, 105, 105, 105, 105, 104, 104, 103, 103, 103, 103, 103,\n",
       "          103, 103], dtype=uint8),\n",
       "   array([111, 111, 110, 109, 108, 108, 109, 107, 107, 107, 106, 106, 106,\n",
       "          105, 105, 105, 105, 105, 105, 104, 104, 103, 103, 103, 103, 103,\n",
       "          103, 103], dtype=uint8)],\n",
       "  [array([111, 111, 110, 109, 108, 108, 109, 107, 107, 107, 106, 106, 106,\n",
       "          105, 105, 105, 105, 105, 105, 104, 104, 103, 103, 103, 103, 103,\n",
       "          103, 103], dtype=uint8),\n",
       "   array([111, 111, 110, 109, 108, 108, 109, 107, 107, 107, 106, 106, 106,\n",
       "          105, 105, 105, 105, 105, 105, 104, 104, 103, 103, 103, 103, 103,\n",
       "          103, 103], dtype=uint8),\n",
       "   array([111, 111, 110, 109, 108, 108, 109, 107, 107, 107, 106, 106, 106,\n",
       "          105, 105, 105, 105, 105, 105, 104, 104, 103, 103, 103, 103, 103,\n",
       "          103, 103], dtype=uint8)],\n",
       "  [array([111, 111, 110, 109, 108, 108, 109, 107, 107, 107, 106, 106, 106,\n",
       "          105, 105, 105, 105, 105, 105, 104, 104, 103, 103, 103, 103, 103,\n",
       "          103, 103], dtype=uint8),\n",
       "   array([111, 111, 110, 109, 108, 108, 109, 107, 107, 107, 106, 106, 106,\n",
       "          105, 105, 105, 105, 105, 105, 104, 104, 103, 103, 103, 103, 103,\n",
       "          103, 103], dtype=uint8),\n",
       "   array([111, 111, 110, 109, 108, 108, 109, 107, 107, 107, 106, 106, 106,\n",
       "          105, 105, 105, 105, 105, 105, 104, 104, 103, 103, 103, 103, 103,\n",
       "          103, 103], dtype=uint8)]]]"
      ]
     },
     "execution_count": 95,
     "metadata": {},
     "output_type": "execute_result"
    }
   ],
   "source": [
    "image"
   ]
  },
  {
   "cell_type": "code",
   "execution_count": null,
   "metadata": {},
   "outputs": [],
   "source": []
  },
  {
   "cell_type": "markdown",
   "metadata": {},
   "source": [
    "**Задание 2 (1 балл):**    \n",
    "  \n",
    "Используйте transfer learning подход для решения задачи - дообучите какую-либо модель, предобученную на ImageNet, для классификации рукописных букв. Оцените качество решения.  \n",
    "В качестве предобученой модели можно взять одну из [torchvision models](https://pytorch.org/vision/stable/models.html)."
   ]
  },
  {
   "cell_type": "markdown",
   "metadata": {},
   "source": [
    "**Задание 3 (1 балл):**  \n",
    "  \n",
    "Добавьте вывод значений функции потерь и accuracy в tensorboard.  \n",
    "Метрики нужно выводить и для обучающей, и для тестовой выборки."
   ]
  }
 ],
 "metadata": {
  "kernelspec": {
   "display_name": "Python 3 (ipykernel)",
   "language": "python",
   "name": "python3"
  },
  "language_info": {
   "codemirror_mode": {
    "name": "ipython",
    "version": 3
   },
   "file_extension": ".py",
   "mimetype": "text/x-python",
   "name": "python",
   "nbconvert_exporter": "python",
   "pygments_lexer": "ipython3",
   "version": "3.8.10"
  }
 },
 "nbformat": 4,
 "nbformat_minor": 2
}
