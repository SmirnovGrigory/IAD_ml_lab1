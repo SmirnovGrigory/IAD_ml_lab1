{
 "cells": [
  {
   "cell_type": "markdown",
   "metadata": {},
   "source": [
    "# <center> Майнор \"Интеллектуальный анализ данных\" </center>"
   ]
  },
  {
   "cell_type": "markdown",
   "metadata": {},
   "source": [
    "# <center> Курс \"Современные методы машинного обучения\" </center>"
   ]
  },
  {
   "cell_type": "markdown",
   "metadata": {},
   "source": [
    "# <center> Лабораторная работа №1. Image Classification. </center>"
   ]
  },
  {
   "cell_type": "markdown",
   "metadata": {},
   "source": [
    "В данной лабораторной работе вам предлагается обучить модель на основе нейронной сети для распознавания рукописных букв английского алфавита."
   ]
  },
  {
   "cell_type": "markdown",
   "metadata": {},
   "source": [
    "## Данные"
   ]
  },
  {
   "cell_type": "markdown",
   "metadata": {},
   "source": [
    "Данные представлены двумя датасетами: обучающим (`train`) и тестовым (`test`). Изображения для каждого датасета находятся в `images.zip`.  \n",
    "  \n",
    "Обучающая выборка состоит из 65000 изображений - по 2500 изображений для каждой буквы.  \n",
    "Тестовая выборка состоит из 13000 изображений - по 500 изображений для каждой буквы.  \n",
    "  \n",
    "Все изображения - монохромные (но в формате RGB), размерности $28 \\times 28$ пикселей, в формате JPEG. \n",
    "В названии каждого файла содержатся буква, которая представлена на изображении, и уникальный номер изображения: `a_00002.jpg`.  \n",
    "  \n",
    "**NB:** Все изображения представлены в перевернутом виде, для корректного отображения их нужно сначала транспонировать. "
   ]
  },
  {
   "cell_type": "code",
   "execution_count": 1,
   "metadata": {},
   "outputs": [],
   "source": [
    "import numpy as np\n",
    "import matplotlib.pyplot as plt\n",
    "import torch"
   ]
  },
  {
   "cell_type": "code",
   "execution_count": 2,
   "metadata": {},
   "outputs": [
    {
     "name": "stdout",
     "output_type": "stream",
     "text": [
      "(28, 28, 3)\n"
     ]
    }
   ],
   "source": [
    "pic = plt.imread('images/train/a/a_00002.jpg')\n",
    "print(pic.shape)"
   ]
  },
  {
   "cell_type": "code",
   "execution_count": 3,
   "metadata": {},
   "outputs": [],
   "source": [
    "pic = np.transpose(pic, axes=(1, 0, 2))"
   ]
  },
  {
   "cell_type": "code",
   "execution_count": 4,
   "metadata": {},
   "outputs": [
    {
     "data": {
      "image/png": "[encoded data removed]",
      "text/plain": [
       "<Figure size 144x144 with 1 Axes>"
      ]
     },
     "metadata": {
      "needs_background": "light"
     },
     "output_type": "display_data"
    }
   ],
   "source": [
    "plt.figure(figsize=(2,2))\n",
    "plt.imshow(pic)\n",
    "plt.show()"
   ]
  },
  {
   "cell_type": "code",
   "execution_count": 5,
   "metadata": {
    "scrolled": true
   },
   "outputs": [],
   "source": [
    "#torch.tensor(pic)"
   ]
  },
  {
   "cell_type": "markdown",
   "metadata": {},
   "source": [
    "Ваша задача - создать и обучить модель на основе нейронной сети, которая будет предсказывать букву на картинке.  \n",
    "Обучение необходимо проводить на данных из `train`, качество модели проверять на данных из `test`.  \n",
    "Целевая метрика - accuracy.  \n",
    "Для моделирования необходимо использовать `pytorch`."
   ]
  },
  {
   "cell_type": "markdown",
   "metadata": {},
   "source": [
    "## Основные задания"
   ]
  },
  {
   "cell_type": "markdown",
   "metadata": {},
   "source": [
    "импортнем все необходимое и создадим датасет с необходимыми преобразованиями"
   ]
  },
  {
   "cell_type": "code",
   "execution_count": 6,
   "metadata": {},
   "outputs": [],
   "source": [
    "import os\n",
    "import time\n",
    "from sklearn.model_selection import train_test_split\n",
    "from torch import nn\n",
    "from torch.utils.data import DataLoader"
   ]
  },
  {
   "cell_type": "code",
   "execution_count": 7,
   "metadata": {},
   "outputs": [],
   "source": [
    "def get_data_and_targets_lst(path):\n",
    "    data=[]\n",
    "    targets=[]\n",
    "    for root, currentDirectory, files in os.walk(path):\n",
    "        for file in files:\n",
    "            pic = plt.imread(os.path.join(root, file))\n",
    "            pic = torch.tensor(np.transpose(pic, axes=(1, 0, 2)))\n",
    "            pic = torch.div(pic, 255)\n",
    "            target = ord(file[0]) - ord('a')\n",
    "            data.append(pic)\n",
    "            targets.append(target)\n",
    "    return data,targets"
   ]
  },
  {
   "cell_type": "code",
   "execution_count": 8,
   "metadata": {},
   "outputs": [],
   "source": [
    "class MyDataset(torch.utils.data.Dataset): \n",
    "    \n",
    "    def __init__(self, x, y):\n",
    "        self.x=x\n",
    "        self.y=y\n",
    "        \n",
    "    def __len__(self):\n",
    "        return len(self.x)\n",
    "    \n",
    "    def __getitem__(self, idx):\n",
    "        #return {'sample': self.x[idx], 'target': self.y[idx]}\n",
    "        return self.x[idx],self.y[idx]"
   ]
  },
  {
   "cell_type": "code",
   "execution_count": 9,
   "metadata": {},
   "outputs": [],
   "source": [
    "X,y = get_data_and_targets_lst(\"images/train\")"
   ]
  },
  {
   "cell_type": "markdown",
   "metadata": {},
   "source": [
    "Да, я знаю про ImageFolder только узнал про него под конец сдачи лабы и не успел заиспользовать. Буду юзать в следующих лабах."
   ]
  },
  {
   "cell_type": "code",
   "execution_count": 10,
   "metadata": {},
   "outputs": [
    {
     "data": {
      "text/plain": [
       "torch.float32"
      ]
     },
     "execution_count": 10,
     "metadata": {},
     "output_type": "execute_result"
    }
   ],
   "source": [
    "X[60000].dtype"
   ]
  },
  {
   "cell_type": "code",
   "execution_count": 11,
   "metadata": {},
   "outputs": [
    {
     "name": "stdout",
     "output_type": "stream",
     "text": [
      "15\n"
     ]
    },
    {
     "data": {
      "image/png": "[encoded data removed]",
      "text/plain": [
       "<Figure size 432x288 with 1 Axes>"
      ]
     },
     "metadata": {
      "needs_background": "light"
     },
     "output_type": "display_data"
    }
   ],
   "source": [
    "plt.imshow(X[60000])\n",
    "print(y[60000])"
   ]
  },
  {
   "cell_type": "code",
   "execution_count": 12,
   "metadata": {},
   "outputs": [
    {
     "data": {
      "text/plain": [
       "65000"
      ]
     },
     "execution_count": 12,
     "metadata": {},
     "output_type": "execute_result"
    }
   ],
   "source": [
    "len(y)"
   ]
  },
  {
   "cell_type": "markdown",
   "metadata": {},
   "source": [
    "разобьем трейн выборку на трейн и тест. Да, здесь получается небольшая тавтология"
   ]
  },
  {
   "cell_type": "code",
   "execution_count": 13,
   "metadata": {},
   "outputs": [],
   "source": [
    "X_train, X_test, y_train, y_test = train_test_split(X,y, test_size=0.2)"
   ]
  },
  {
   "cell_type": "code",
   "execution_count": 14,
   "metadata": {},
   "outputs": [
    {
     "data": {
      "text/plain": [
       "(13000, 13000)"
      ]
     },
     "execution_count": 14,
     "metadata": {},
     "output_type": "execute_result"
    }
   ],
   "source": [
    "len(X_test), len(y_test)"
   ]
  },
  {
   "cell_type": "code",
   "execution_count": 15,
   "metadata": {},
   "outputs": [],
   "source": [
    "train_dataset = MyDataset(X_train, y_train)\n",
    "test_dataset = MyDataset(X_test, y_test)\n",
    "#train_dataset.__getitem__(40000)"
   ]
  },
  {
   "cell_type": "code",
   "execution_count": 16,
   "metadata": {},
   "outputs": [
    {
     "name": "stdout",
     "output_type": "stream",
     "text": [
      "0\n",
      "tensor([15, 18, 24, 13, 15, 14,  1, 17, 18, 12, 15,  7, 22,  5, 17, 18, 24, 15,\n",
      "        19, 13, 24,  9, 10, 17,  0, 14, 10, 18,  7, 10, 20, 20,  3,  6,  5, 23,\n",
      "        16,  2, 16,  9,  2,  9,  5, 11, 17,  9, 22, 10,  9, 16, 11, 22,  0,  6,\n",
      "         9,  8, 10, 10, 16,  9, 11,  1, 13, 20])\n",
      "Shape of X [N, C, H, W]:  torch.Size([64, 28, 28, 3])\n",
      "Shape of y:  torch.Size([64]) torch.int64\n"
     ]
    }
   ],
   "source": [
    "batch_size=64\n",
    "train_dataloader = DataLoader(train_dataset, batch_size=batch_size)\n",
    "test_dataloader = DataLoader(test_dataset, batch_size=batch_size)\n",
    "for batch, (X, y) in enumerate(train_dataloader):\n",
    "    print(batch)\n",
    "    print(y)\n",
    "    print(\"Shape of X [N, C, H, W]: \", X.shape)\n",
    "    #NHWC now\n",
    "    print(\"Shape of y: \", y.shape, y.dtype)\n",
    "    break"
   ]
  },
  {
   "cell_type": "code",
   "execution_count": 17,
   "metadata": {},
   "outputs": [
    {
     "name": "stdout",
     "output_type": "stream",
     "text": [
      "Using cpu device\n"
     ]
    }
   ],
   "source": [
    "device = \"cuda\" if torch.cuda.is_available() else \"cpu\"\n",
    "print(\"Using {} device\".format(device))"
   ]
  },
  {
   "cell_type": "markdown",
   "metadata": {},
   "source": [
    "определяем, необходимые для цикла обучения, функции"
   ]
  },
  {
   "cell_type": "code",
   "execution_count": 18,
   "metadata": {},
   "outputs": [],
   "source": [
    "def train(dataloader, model, loss_fn, optimizer, to_NCHW = False):\n",
    "    size = len(dataloader.dataset)\n",
    "    model.train()\n",
    "    for batch, (X, y) in enumerate(dataloader):\n",
    "        if to_NCHW:\n",
    "            X = X.permute(0, 3, 1, 2)\n",
    "        X, y = X.to(device), y.to(device)\n",
    "\n",
    "        # Compute prediction error\n",
    "        pred = model(X)\n",
    "        #print(pred.shape)\n",
    "        loss = loss_fn(pred, y)\n",
    "\n",
    "        # Backpropagation\n",
    "        optimizer.zero_grad()\n",
    "        loss.backward()\n",
    "        optimizer.step()\n",
    "\n",
    "        if batch % 100 == 0:\n",
    "            loss, current = loss.item(), batch * len(X)\n",
    "            print(f\"loss: {loss:>7f}  [{current:>5d}/{size:>5d}]\")"
   ]
  },
  {
   "cell_type": "code",
   "execution_count": 19,
   "metadata": {},
   "outputs": [],
   "source": [
    "def test(dataloader, model, loss_fn, to_NCHW = False):\n",
    "    size = len(dataloader.dataset)\n",
    "    num_batches = len(dataloader)\n",
    "    model.eval()\n",
    "    test_loss, correct = 0, 0\n",
    "    with torch.no_grad():\n",
    "        for X, y in dataloader:\n",
    "            if to_NCHW:\n",
    "                X = X.permute(0, 3, 1, 2)\n",
    "            X, y = X.to(device), y.to(device)\n",
    "            pred = model(X)\n",
    "            #print(pred.shape)\n",
    "            #print(loss_fn(pred, y).item())\n",
    "            test_loss += loss_fn(pred, y).item()\n",
    "            correct += (pred.argmax(1) == y).type(torch.float).sum().item()\n",
    "    test_loss /= num_batches\n",
    "    correct /= size\n",
    "    print(f\"Test Error: \\n Accuracy: {(100*correct):>0.1f}%, Avg loss: {test_loss:>8f}\")"
   ]
  },
  {
   "cell_type": "code",
   "execution_count": 20,
   "metadata": {},
   "outputs": [],
   "source": [
    "def get_model_accuracy(dataloader, model, to_NCHW = False):\n",
    "    size = len(dataloader.dataset)\n",
    "    correct = 0\n",
    "    with torch.no_grad():\n",
    "        for X, y in dataloader:\n",
    "            if to_NCHW:\n",
    "                X = X.permute(0, 3, 1, 2)\n",
    "            X, y = X.to(device), y.to(device)\n",
    "            pred = model(X)\n",
    "            correct += (pred.argmax(1) == y).type(torch.float).sum().item()\n",
    "    return correct / size       "
   ]
  },
  {
   "cell_type": "code",
   "execution_count": 21,
   "metadata": {},
   "outputs": [],
   "source": [
    "def get_all_model_predictions(dataloader, model):\n",
    "    size = len(dataloader.dataset)\n",
    "    correct = 0\n",
    "    predictions = []\n",
    "    with torch.no_grad():\n",
    "        for X, y in dataloader:\n",
    "            X, y = X.to(device), y.to(device)\n",
    "            pred = model(X)\n",
    "            predictions.extend(pred.argmax(1))\n",
    "#             if len(pred.argmax(1))>1:\n",
    "#                 print(pred.argmax(1))\n",
    "    return list(map(lambda x : x.item(), predictions)) "
   ]
  },
  {
   "cell_type": "code",
   "execution_count": 22,
   "metadata": {},
   "outputs": [],
   "source": [
    "def learning_cycle(epochs, model, loss_fn, optimizer, to_NCHW = False):\n",
    "    for t in range(epochs):\n",
    "        print(f\"\\nEpoch {t+1}\\n-------------------------------\")\n",
    "        starttm = time.time()\n",
    "        train(train_dataloader, model, loss_fn, optimizer, to_NCHW = to_NCHW)\n",
    "        test(test_dataloader, model, loss_fn, to_NCHW = to_NCHW)\n",
    "        endtm = time.time()\n",
    "        print(f\"Time: {(endtm - starttm):>0.3f}\")\n",
    "        #print(\"Done!\")\n",
    "    "
   ]
  },
  {
   "cell_type": "markdown",
   "metadata": {},
   "source": [
    "# 1.1"
   ]
  },
  {
   "cell_type": "markdown",
   "metadata": {},
   "source": [
    "попробуем создать первую модель"
   ]
  },
  {
   "cell_type": "code",
   "execution_count": 23,
   "metadata": {},
   "outputs": [],
   "source": [
    "class NeuralNetwork(nn.Module):\n",
    "    def __init__(self):\n",
    "        super(NeuralNetwork, self).__init__()\n",
    "        self.flatten = nn.Flatten()\n",
    "        self.linear_relu_stack = nn.Sequential(\n",
    "            nn.Linear(28*28*3, 512),\n",
    "            nn.ReLU(),\n",
    "            nn.Linear(512, 512),\n",
    "            nn.ReLU(),\n",
    "            nn.Linear(512, 26),\n",
    "        )\n",
    "\n",
    "    def forward(self, x):\n",
    "        x = self.flatten(x)\n",
    "        logits = self.linear_relu_stack(x)\n",
    "        return logits"
   ]
  },
  {
   "cell_type": "code",
   "execution_count": 24,
   "metadata": {},
   "outputs": [],
   "source": [
    "model_lin3 = NeuralNetwork()"
   ]
  },
  {
   "cell_type": "code",
   "execution_count": 69,
   "metadata": {
    "scrolled": true
   },
   "outputs": [
    {
     "name": "stdout",
     "output_type": "stream",
     "text": [
      "\n",
      "Epoch 1\n",
      "-------------------------------\n",
      "loss: 3.266612  [    0/52000]\n",
      "loss: 3.256333  [ 6400/52000]\n",
      "loss: 3.259235  [12800/52000]\n",
      "loss: 3.254102  [19200/52000]\n",
      "loss: 3.247063  [25600/52000]\n",
      "loss: 3.242960  [32000/52000]\n",
      "loss: 3.236003  [38400/52000]\n",
      "loss: 3.242297  [44800/52000]\n",
      "loss: 3.241168  [51200/52000]\n",
      "Test Error: \n",
      " Accuracy: 9.4%, Avg loss: 3.230580 \n",
      "\n",
      "Time: 5.189\n",
      "\n",
      "Epoch 2\n",
      "-------------------------------\n",
      "loss: 3.239915  [    0/52000]\n",
      "loss: 3.229204  [ 6400/52000]\n",
      "loss: 3.225756  [12800/52000]\n",
      "loss: 3.219895  [19200/52000]\n",
      "loss: 3.206959  [25600/52000]\n",
      "loss: 3.216455  [32000/52000]\n",
      "loss: 3.196655  [38400/52000]\n",
      "loss: 3.203277  [44800/52000]\n",
      "loss: 3.201773  [51200/52000]\n",
      "Test Error: \n",
      " Accuracy: 13.1%, Avg loss: 3.191783 \n",
      "\n",
      "Time: 4.093\n",
      "\n",
      "Epoch 3\n",
      "-------------------------------\n",
      "loss: 3.205072  [    0/52000]\n",
      "loss: 3.191389  [ 6400/52000]\n",
      "loss: 3.178328  [12800/52000]\n",
      "loss: 3.170667  [19200/52000]\n",
      "loss: 3.148660  [25600/52000]\n",
      "loss: 3.177988  [32000/52000]\n",
      "loss: 3.138831  [38400/52000]\n",
      "loss: 3.144259  [44800/52000]\n",
      "loss: 3.145738  [51200/52000]\n",
      "Test Error: \n",
      " Accuracy: 17.1%, Avg loss: 3.133310 \n",
      "\n",
      "Time: 5.578\n",
      "\n",
      "Epoch 4\n",
      "-------------------------------\n",
      "loss: 3.152885  [    0/52000]\n",
      "loss: 3.135961  [ 6400/52000]\n",
      "loss: 3.105923  [12800/52000]\n",
      "loss: 3.096047  [19200/52000]\n",
      "loss: 3.061960  [25600/52000]\n",
      "loss: 3.118715  [32000/52000]\n",
      "loss: 3.051402  [38400/52000]\n",
      "loss: 3.051927  [44800/52000]\n",
      "loss: 3.065107  [51200/52000]\n",
      "Test Error: \n",
      " Accuracy: 22.7%, Avg loss: 3.045426 \n",
      "\n",
      "Time: 6.173\n",
      "\n",
      "Epoch 5\n",
      "-------------------------------\n",
      "loss: 3.070496  [    0/52000]\n",
      "loss: 3.053285  [ 6400/52000]\n",
      "loss: 2.996192  [12800/52000]\n",
      "loss: 2.982302  [19200/52000]\n",
      "loss: 2.935264  [25600/52000]\n",
      "loss: 3.025570  [32000/52000]\n",
      "loss: 2.921146  [38400/52000]\n",
      "loss: 2.914067  [44800/52000]\n",
      "loss: 2.949065  [51200/52000]\n",
      "Test Error: \n",
      " Accuracy: 31.0%, Avg loss: 2.914405 \n",
      "\n",
      "Time: 5.762\n",
      "\n",
      "Epoch 6\n",
      "-------------------------------\n",
      "loss: 2.940921  [    0/52000]\n",
      "loss: 2.928087  [ 6400/52000]\n",
      "loss: 2.836009  [12800/52000]\n",
      "loss: 2.815207  [19200/52000]\n",
      "loss: 2.755226  [25600/52000]\n",
      "loss: 2.880153  [32000/52000]\n",
      "loss: 2.730715  [38400/52000]\n",
      "loss: 2.722009  [44800/52000]\n",
      "loss: 2.787723  [51200/52000]\n",
      "Test Error: \n",
      " Accuracy: 38.2%, Avg loss: 2.729030 \n",
      "\n",
      "Time: 4.475\n",
      "\n",
      "Epoch 7\n",
      "-------------------------------\n",
      "loss: 2.749472  [    0/52000]\n",
      "loss: 2.750396  [ 6400/52000]\n",
      "loss: 2.622133  [12800/52000]\n",
      "loss: 2.596772  [19200/52000]\n",
      "loss: 2.520354  [25600/52000]\n",
      "loss: 2.682903  [32000/52000]\n",
      "loss: 2.482876  [38400/52000]\n",
      "loss: 2.485907  [44800/52000]\n",
      "loss: 2.586043  [51200/52000]\n",
      "Test Error: \n",
      " Accuracy: 42.6%, Avg loss: 2.499834 \n",
      "\n",
      "Time: 4.304\n",
      "\n",
      "Epoch 8\n",
      "-------------------------------\n",
      "loss: 2.511968  [    0/52000]\n",
      "loss: 2.537122  [ 6400/52000]\n",
      "loss: 2.380113  [12800/52000]\n",
      "loss: 2.358294  [19200/52000]\n",
      "loss: 2.261753  [25600/52000]\n",
      "loss: 2.466125  [32000/52000]\n",
      "loss: 2.214645  [38400/52000]\n",
      "loss: 2.240673  [44800/52000]\n",
      "loss: 2.369817  [51200/52000]\n",
      "Test Error: \n",
      " Accuracy: 46.3%, Avg loss: 2.263626 \n",
      "\n",
      "Time: 4.375\n",
      "\n",
      "Epoch 9\n",
      "-------------------------------\n",
      "loss: 2.267937  [    0/52000]\n",
      "loss: 2.328246  [ 6400/52000]\n",
      "loss: 2.142447  [12800/52000]\n",
      "loss: 2.141275  [19200/52000]\n",
      "loss: 2.022217  [25600/52000]\n",
      "loss: 2.263347  [32000/52000]\n",
      "loss: 1.966453  [38400/52000]\n",
      "loss: 2.015805  [44800/52000]\n",
      "loss: 2.169704  [51200/52000]\n",
      "Test Error: \n",
      " Accuracy: 49.1%, Avg loss: 2.052984 \n",
      "\n",
      "Time: 4.297\n",
      "\n",
      "Epoch 10\n",
      "-------------------------------\n",
      "loss: 2.052545  [    0/52000]\n",
      "loss: 2.148594  [ 6400/52000]\n",
      "loss: 1.928539  [12800/52000]\n",
      "loss: 1.965048  [19200/52000]\n",
      "loss: 1.823313  [25600/52000]\n",
      "loss: 2.092887  [32000/52000]\n",
      "loss: 1.758904  [38400/52000]\n",
      "loss: 1.827351  [44800/52000]\n",
      "loss: 2.004116  [51200/52000]\n",
      "Test Error: \n",
      " Accuracy: 51.8%, Avg loss: 1.881609 \n",
      "\n",
      "Time: 4.852\n",
      "\n",
      "Epoch 11\n",
      "-------------------------------\n",
      "loss: 1.876618  [    0/52000]\n",
      "loss: 2.006084  [ 6400/52000]\n",
      "loss: 1.750870  [12800/52000]\n",
      "loss: 1.830326  [19200/52000]\n",
      "loss: 1.669432  [25600/52000]\n",
      "loss: 1.958340  [32000/52000]\n",
      "loss: 1.595259  [38400/52000]\n",
      "loss: 1.678304  [44800/52000]\n",
      "loss: 1.874192  [51200/52000]\n",
      "Test Error: \n",
      " Accuracy: 53.8%, Avg loss: 1.748223 \n",
      "\n",
      "Time: 6.615\n",
      "\n",
      "Epoch 12\n",
      "-------------------------------\n",
      "loss: 1.735016  [    0/52000]\n",
      "loss: 1.897000  [ 6400/52000]\n",
      "loss: 1.609830  [12800/52000]\n",
      "loss: 1.729648  [19200/52000]\n",
      "loss: 1.553311  [25600/52000]\n",
      "loss: 1.853022  [32000/52000]\n",
      "loss: 1.468458  [38400/52000]\n",
      "loss: 1.562676  [44800/52000]\n",
      "loss: 1.773783  [51200/52000]\n",
      "Test Error: \n",
      " Accuracy: 55.2%, Avg loss: 1.645366 \n",
      "\n",
      "Time: 5.743\n",
      "\n",
      "Epoch 13\n",
      "-------------------------------\n",
      "loss: 1.619990  [    0/52000]\n",
      "loss: 1.813240  [ 6400/52000]\n",
      "loss: 1.499779  [12800/52000]\n",
      "loss: 1.653208  [19200/52000]\n",
      "loss: 1.465210  [25600/52000]\n",
      "loss: 1.768532  [32000/52000]\n",
      "loss: 1.369635  [38400/52000]\n",
      "loss: 1.472339  [44800/52000]\n",
      "loss: 1.695494  [51200/52000]\n",
      "Test Error: \n",
      " Accuracy: 56.6%, Avg loss: 1.565304 \n",
      "\n",
      "Time: 5.666\n",
      "\n",
      "Epoch 14\n",
      "-------------------------------\n",
      "loss: 1.525724  [    0/52000]\n",
      "loss: 1.747999  [ 6400/52000]\n",
      "loss: 1.413829  [12800/52000]\n",
      "loss: 1.592652  [19200/52000]\n",
      "loss: 1.397385  [25600/52000]\n",
      "loss: 1.697868  [32000/52000]\n",
      "loss: 1.291335  [38400/52000]\n",
      "loss: 1.400601  [44800/52000]\n",
      "loss: 1.633119  [51200/52000]\n",
      "Test Error: \n",
      " Accuracy: 57.8%, Avg loss: 1.501816 \n",
      "\n",
      "Time: 6.058\n",
      "\n",
      "Epoch 15\n",
      "-------------------------------\n",
      "loss: 1.448100  [    0/52000]\n",
      "loss: 1.695135  [ 6400/52000]\n",
      "loss: 1.344793  [12800/52000]\n",
      "loss: 1.542849  [19200/52000]\n",
      "loss: 1.343838  [25600/52000]\n",
      "loss: 1.635992  [32000/52000]\n",
      "loss: 1.228539  [38400/52000]\n",
      "loss: 1.342481  [44800/52000]\n",
      "loss: 1.581647  [51200/52000]\n",
      "Test Error: \n",
      " Accuracy: 58.6%, Avg loss: 1.450336 \n",
      "\n",
      "Time: 5.305\n",
      "\n",
      "Epoch 16\n",
      "-------------------------------\n",
      "loss: 1.384011  [    0/52000]\n",
      "loss: 1.650819  [ 6400/52000]\n",
      "loss: 1.288367  [12800/52000]\n",
      "loss: 1.500697  [19200/52000]\n",
      "loss: 1.300725  [25600/52000]\n",
      "loss: 1.580531  [32000/52000]\n",
      "loss: 1.177787  [38400/52000]\n",
      "loss: 1.294234  [44800/52000]\n",
      "loss: 1.538289  [51200/52000]\n",
      "Test Error: \n",
      " Accuracy: 59.5%, Avg loss: 1.407700 \n",
      "\n",
      "Time: 4.631\n",
      "\n",
      "Epoch 17\n",
      "-------------------------------\n",
      "loss: 1.330605  [    0/52000]\n",
      "loss: 1.612933  [ 6400/52000]\n",
      "loss: 1.241688  [12800/52000]\n",
      "loss: 1.463875  [19200/52000]\n",
      "loss: 1.264820  [25600/52000]\n",
      "loss: 1.529801  [32000/52000]\n",
      "loss: 1.136383  [38400/52000]\n",
      "loss: 1.252794  [44800/52000]\n",
      "loss: 1.500717  [51200/52000]\n",
      "Test Error: \n",
      " Accuracy: 60.4%, Avg loss: 1.371608 \n",
      "\n",
      "Time: 4.815\n",
      "\n",
      "Epoch 18\n",
      "-------------------------------\n",
      "loss: 1.285709  [    0/52000]\n",
      "loss: 1.579877  [ 6400/52000]\n",
      "loss: 1.202472  [12800/52000]\n",
      "loss: 1.430733  [19200/52000]\n",
      "loss: 1.234427  [25600/52000]\n",
      "loss: 1.483303  [32000/52000]\n",
      "loss: 1.102469  [38400/52000]\n",
      "loss: 1.216830  [44800/52000]\n",
      "loss: 1.467143  [51200/52000]\n",
      "Test Error: \n",
      " Accuracy: 61.3%, Avg loss: 1.340509 \n",
      "\n",
      "Time: 4.757\n",
      "\n",
      "Epoch 19\n",
      "-------------------------------\n",
      "loss: 1.247434  [    0/52000]\n",
      "loss: 1.550561  [ 6400/52000]\n",
      "loss: 1.169418  [12800/52000]\n",
      "loss: 1.400580  [19200/52000]\n",
      "loss: 1.208339  [25600/52000]\n",
      "loss: 1.440719  [32000/52000]\n",
      "loss: 1.074230  [38400/52000]\n",
      "loss: 1.185263  [44800/52000]\n",
      "loss: 1.436747  [51200/52000]\n",
      "Test Error: \n",
      " Accuracy: 62.0%, Avg loss: 1.313309 \n",
      "\n",
      "Time: 6.730\n",
      "\n",
      "Epoch 20\n",
      "-------------------------------\n",
      "loss: 1.214739  [    0/52000]\n",
      "loss: 1.524242  [ 6400/52000]\n",
      "loss: 1.141117  [12800/52000]\n",
      "loss: 1.372999  [19200/52000]\n",
      "loss: 1.185519  [25600/52000]\n",
      "loss: 1.401464  [32000/52000]\n",
      "loss: 1.050099  [38400/52000]\n",
      "loss: 1.157341  [44800/52000]\n",
      "loss: 1.409074  [51200/52000]\n",
      "Test Error: \n",
      " Accuracy: 62.6%, Avg loss: 1.289211 \n",
      "\n",
      "Time: 6.054\n"
     ]
    }
   ],
   "source": [
    "loss_fn = nn.CrossEntropyLoss()\n",
    "optimizer = torch.optim.SGD(model_lin3.parameters(), lr=0.001)\n",
    "learning_cycle(20, model_lin3, loss_fn, optimizer)"
   ]
  },
  {
   "cell_type": "markdown",
   "metadata": {},
   "source": [
    "учиться довольно медленно но +-стабильно"
   ]
  },
  {
   "cell_type": "code",
   "execution_count": 70,
   "metadata": {},
   "outputs": [
    {
     "data": {
      "text/plain": [
       "torch.Size([28, 28, 3])"
      ]
     },
     "execution_count": 70,
     "metadata": {},
     "output_type": "execute_result"
    }
   ],
   "source": [
    "X_train[0].shape"
   ]
  },
  {
   "cell_type": "code",
   "execution_count": 71,
   "metadata": {},
   "outputs": [],
   "source": [
    "pred = model_lin3(X_train[30000].reshape([1,28,28,3]))"
   ]
  },
  {
   "cell_type": "code",
   "execution_count": 72,
   "metadata": {},
   "outputs": [
    {
     "data": {
      "text/plain": [
       "(tensor([[ 4.0236,  3.4986, -3.8633,  2.0159, -0.5040,  2.0477,  2.8750,  3.9883,\n",
       "          -1.9280, -0.9951, -1.0995, -1.9759, -4.1903,  0.3366, -0.7856,  1.9234,\n",
       "           1.9889, -0.5599,  1.9155,  1.4569, -2.7263, -3.8149, -3.2514,  0.4331,\n",
       "          -0.4101,  0.8618]], grad_fn=<AddmmBackward0>),\n",
       " 0)"
      ]
     },
     "execution_count": 72,
     "metadata": {},
     "output_type": "execute_result"
    }
   ],
   "source": [
    "pred,y_train[30000]"
   ]
  },
  {
   "cell_type": "markdown",
   "metadata": {},
   "source": [
    "ради эксперимента создадим сеточку с двумя линейными слоями"
   ]
  },
  {
   "cell_type": "code",
   "execution_count": 26,
   "metadata": {},
   "outputs": [],
   "source": [
    "class NeuralNetwork2(nn.Module):\n",
    "    def __init__(self):\n",
    "        super(NeuralNetwork2, self).__init__()\n",
    "        self.flatten = nn.Flatten()\n",
    "        self.linear_sigmoid_stack = nn.Sequential(\n",
    "            nn.Linear(28*28*3, 512),\n",
    "            nn.Sigmoid(),\n",
    "            nn.Linear(512, 26),\n",
    "        )\n",
    "\n",
    "    def forward(self, x):\n",
    "        x = self.flatten(x)\n",
    "        logits = self.linear_sigmoid_stack(x)\n",
    "        return logits"
   ]
  },
  {
   "cell_type": "code",
   "execution_count": 74,
   "metadata": {},
   "outputs": [],
   "source": [
    "model_lin2 = NeuralNetwork2()"
   ]
  },
  {
   "cell_type": "code",
   "execution_count": 75,
   "metadata": {
    "scrolled": false
   },
   "outputs": [
    {
     "name": "stdout",
     "output_type": "stream",
     "text": [
      "\n",
      "Epoch 1\n",
      "-------------------------------\n",
      "loss: 3.315619  [    0/52000]\n",
      "loss: 3.240739  [ 6400/52000]\n",
      "loss: 3.162058  [12800/52000]\n",
      "loss: 3.144874  [19200/52000]\n",
      "loss: 3.084694  [25600/52000]\n",
      "loss: 3.097035  [32000/52000]\n",
      "loss: 2.998588  [38400/52000]\n",
      "loss: 2.957730  [44800/52000]\n",
      "loss: 2.949143  [51200/52000]\n",
      "Test Error: \n",
      " Accuracy: 35.7%, Avg loss: 2.907947 \n",
      "\n",
      "Time: 3.678\n",
      "\n",
      "Epoch 2\n",
      "-------------------------------\n",
      "loss: 2.927711  [    0/52000]\n",
      "loss: 2.876177  [ 6400/52000]\n",
      "loss: 2.735786  [12800/52000]\n",
      "loss: 2.688974  [19200/52000]\n",
      "loss: 2.562118  [25600/52000]\n",
      "loss: 2.652033  [32000/52000]\n",
      "loss: 2.424753  [38400/52000]\n",
      "loss: 2.392004  [44800/52000]\n",
      "loss: 2.449893  [51200/52000]\n",
      "Test Error: \n",
      " Accuracy: 47.1%, Avg loss: 2.356137 \n",
      "\n",
      "Time: 3.654\n",
      "\n",
      "Epoch 3\n",
      "-------------------------------\n",
      "loss: 2.382523  [    0/52000]\n",
      "loss: 2.357459  [ 6400/52000]\n",
      "loss: 2.153194  [12800/52000]\n",
      "loss: 2.156525  [19200/52000]\n",
      "loss: 1.994506  [25600/52000]\n",
      "loss: 2.191278  [32000/52000]\n",
      "loss: 1.889658  [38400/52000]\n",
      "loss: 1.906163  [44800/52000]\n",
      "loss: 2.033194  [51200/52000]\n",
      "Test Error: \n",
      " Accuracy: 52.8%, Avg loss: 1.924335 \n",
      "\n",
      "Time: 5.761\n",
      "\n",
      "Epoch 4\n",
      "-------------------------------\n",
      "loss: 1.937705  [    0/52000]\n",
      "loss: 2.002246  [ 6400/52000]\n",
      "loss: 1.734430  [12800/52000]\n",
      "loss: 1.822093  [19200/52000]\n",
      "loss: 1.641749  [25600/52000]\n",
      "loss: 1.889097  [32000/52000]\n",
      "loss: 1.558106  [38400/52000]\n",
      "loss: 1.603818  [44800/52000]\n",
      "loss: 1.782004  [51200/52000]\n",
      "Test Error: \n",
      " Accuracy: 56.2%, Avg loss: 1.670186 \n",
      "\n",
      "Time: 4.140\n",
      "\n",
      "Epoch 5\n",
      "-------------------------------\n",
      "loss: 1.664827  [    0/52000]\n",
      "loss: 1.801539  [ 6400/52000]\n",
      "loss: 1.488650  [12800/52000]\n",
      "loss: 1.634706  [19200/52000]\n",
      "loss: 1.445088  [25600/52000]\n",
      "loss: 1.704769  [32000/52000]\n",
      "loss: 1.360547  [38400/52000]\n",
      "loss: 1.423795  [44800/52000]\n",
      "loss: 1.634945  [51200/52000]\n",
      "Test Error: \n",
      " Accuracy: 58.2%, Avg loss: 1.519457 \n",
      "\n",
      "Time: 5.168\n",
      "\n",
      "Epoch 6\n",
      "-------------------------------\n",
      "loss: 1.495358  [    0/52000]\n",
      "loss: 1.677661  [ 6400/52000]\n",
      "loss: 1.340546  [12800/52000]\n",
      "loss: 1.518531  [19200/52000]\n",
      "loss: 1.328734  [25600/52000]\n",
      "loss: 1.580199  [32000/52000]\n",
      "loss: 1.235114  [38400/52000]\n",
      "loss: 1.310394  [44800/52000]\n",
      "loss: 1.539467  [51200/52000]\n",
      "Test Error: \n",
      " Accuracy: 60.2%, Avg loss: 1.421813 \n",
      "\n",
      "Time: 4.866\n",
      "\n",
      "Epoch 7\n",
      "-------------------------------\n",
      "loss: 1.382119  [    0/52000]\n",
      "loss: 1.590558  [ 6400/52000]\n",
      "loss: 1.243564  [12800/52000]\n",
      "loss: 1.436021  [19200/52000]\n",
      "loss: 1.253474  [25600/52000]\n",
      "loss: 1.486788  [32000/52000]\n",
      "loss: 1.150010  [38400/52000]\n",
      "loss: 1.233613  [44800/52000]\n",
      "loss: 1.470479  [51200/52000]\n",
      "Test Error: \n",
      " Accuracy: 61.5%, Avg loss: 1.352929 \n",
      "\n",
      "Time: 5.590\n",
      "\n",
      "Epoch 8\n",
      "-------------------------------\n",
      "loss: 1.301246  [    0/52000]\n",
      "loss: 1.524126  [ 6400/52000]\n",
      "loss: 1.175399  [12800/52000]\n",
      "loss: 1.371760  [19200/52000]\n",
      "loss: 1.200628  [25600/52000]\n",
      "loss: 1.412680  [32000/52000]\n",
      "loss: 1.088952  [38400/52000]\n",
      "loss: 1.178350  [44800/52000]\n",
      "loss: 1.416672  [51200/52000]\n",
      "Test Error: \n",
      " Accuracy: 62.8%, Avg loss: 1.301142 \n",
      "\n",
      "Time: 4.495\n",
      "\n",
      "Epoch 9\n",
      "-------------------------------\n",
      "loss: 1.240726  [    0/52000]\n",
      "loss: 1.471349  [ 6400/52000]\n",
      "loss: 1.124869  [12800/52000]\n",
      "loss: 1.319113  [19200/52000]\n",
      "loss: 1.160803  [25600/52000]\n",
      "loss: 1.352263  [32000/52000]\n",
      "loss: 1.042846  [38400/52000]\n",
      "loss: 1.136536  [44800/52000]\n"
     ]
    },
    {
     "ename": "KeyboardInterrupt",
     "evalue": "",
     "output_type": "error",
     "traceback": [
      "\u001b[0;31m---------------------------------------------------------------------------\u001b[0m",
      "\u001b[0;31mKeyboardInterrupt\u001b[0m                         Traceback (most recent call last)",
      "\u001b[0;32m/tmp/ipykernel_5132/1814203811.py\u001b[0m in \u001b[0;36m<module>\u001b[0;34m\u001b[0m\n\u001b[1;32m      1\u001b[0m \u001b[0mloss_fn\u001b[0m \u001b[0;34m=\u001b[0m \u001b[0mnn\u001b[0m\u001b[0;34m.\u001b[0m\u001b[0mCrossEntropyLoss\u001b[0m\u001b[0;34m(\u001b[0m\u001b[0;34m)\u001b[0m\u001b[0;34m\u001b[0m\u001b[0;34m\u001b[0m\u001b[0m\n\u001b[1;32m      2\u001b[0m \u001b[0moptimizer2\u001b[0m \u001b[0;34m=\u001b[0m \u001b[0mtorch\u001b[0m\u001b[0;34m.\u001b[0m\u001b[0moptim\u001b[0m\u001b[0;34m.\u001b[0m\u001b[0mSGD\u001b[0m\u001b[0;34m(\u001b[0m\u001b[0mmodel_lin2\u001b[0m\u001b[0;34m.\u001b[0m\u001b[0mparameters\u001b[0m\u001b[0;34m(\u001b[0m\u001b[0;34m)\u001b[0m\u001b[0;34m,\u001b[0m \u001b[0mlr\u001b[0m\u001b[0;34m=\u001b[0m\u001b[0;36m0.01\u001b[0m\u001b[0;34m)\u001b[0m\u001b[0;34m\u001b[0m\u001b[0;34m\u001b[0m\u001b[0m\n\u001b[0;32m----> 3\u001b[0;31m \u001b[0mlearning_cycle\u001b[0m\u001b[0;34m(\u001b[0m\u001b[0;36m100\u001b[0m\u001b[0;34m,\u001b[0m \u001b[0mmodel_lin2\u001b[0m\u001b[0;34m,\u001b[0m \u001b[0mloss_fn\u001b[0m\u001b[0;34m,\u001b[0m \u001b[0moptimizer2\u001b[0m\u001b[0;34m)\u001b[0m\u001b[0;34m\u001b[0m\u001b[0;34m\u001b[0m\u001b[0m\n\u001b[0m",
      "\u001b[0;32m/tmp/ipykernel_5132/1980290054.py\u001b[0m in \u001b[0;36mlearning_cycle\u001b[0;34m(epochs, model, loss_fn, optimizer, to_NCHW)\u001b[0m\n\u001b[1;32m      3\u001b[0m         \u001b[0mprint\u001b[0m\u001b[0;34m(\u001b[0m\u001b[0;34mf\"\\nEpoch {t+1}\\n-------------------------------\"\u001b[0m\u001b[0;34m)\u001b[0m\u001b[0;34m\u001b[0m\u001b[0;34m\u001b[0m\u001b[0m\n\u001b[1;32m      4\u001b[0m         \u001b[0mstarttm\u001b[0m \u001b[0;34m=\u001b[0m \u001b[0mtime\u001b[0m\u001b[0;34m.\u001b[0m\u001b[0mtime\u001b[0m\u001b[0;34m(\u001b[0m\u001b[0;34m)\u001b[0m\u001b[0;34m\u001b[0m\u001b[0;34m\u001b[0m\u001b[0m\n\u001b[0;32m----> 5\u001b[0;31m         \u001b[0mtrain\u001b[0m\u001b[0;34m(\u001b[0m\u001b[0mtrain_dataloader\u001b[0m\u001b[0;34m,\u001b[0m \u001b[0mmodel\u001b[0m\u001b[0;34m,\u001b[0m \u001b[0mloss_fn\u001b[0m\u001b[0;34m,\u001b[0m \u001b[0moptimizer\u001b[0m\u001b[0;34m,\u001b[0m \u001b[0mto_NCHW\u001b[0m \u001b[0;34m=\u001b[0m \u001b[0mto_NCHW\u001b[0m\u001b[0;34m)\u001b[0m\u001b[0;34m\u001b[0m\u001b[0;34m\u001b[0m\u001b[0m\n\u001b[0m\u001b[1;32m      6\u001b[0m         \u001b[0mtest\u001b[0m\u001b[0;34m(\u001b[0m\u001b[0mtest_dataloader\u001b[0m\u001b[0;34m,\u001b[0m \u001b[0mmodel\u001b[0m\u001b[0;34m,\u001b[0m \u001b[0mloss_fn\u001b[0m\u001b[0;34m,\u001b[0m \u001b[0mto_NCHW\u001b[0m \u001b[0;34m=\u001b[0m \u001b[0mto_NCHW\u001b[0m\u001b[0;34m)\u001b[0m\u001b[0;34m\u001b[0m\u001b[0;34m\u001b[0m\u001b[0m\n\u001b[1;32m      7\u001b[0m         \u001b[0mendtm\u001b[0m \u001b[0;34m=\u001b[0m \u001b[0mtime\u001b[0m\u001b[0;34m.\u001b[0m\u001b[0mtime\u001b[0m\u001b[0;34m(\u001b[0m\u001b[0;34m)\u001b[0m\u001b[0;34m\u001b[0m\u001b[0;34m\u001b[0m\u001b[0m\n",
      "\u001b[0;32m/tmp/ipykernel_5132/2120308267.py\u001b[0m in \u001b[0;36mtrain\u001b[0;34m(dataloader, model, loss_fn, optimizer, to_NCHW)\u001b[0m\n\u001b[1;32m      8\u001b[0m \u001b[0;34m\u001b[0m\u001b[0m\n\u001b[1;32m      9\u001b[0m         \u001b[0;31m# Compute prediction error\u001b[0m\u001b[0;34m\u001b[0m\u001b[0;34m\u001b[0m\u001b[0;34m\u001b[0m\u001b[0m\n\u001b[0;32m---> 10\u001b[0;31m         \u001b[0mpred\u001b[0m \u001b[0;34m=\u001b[0m \u001b[0mmodel\u001b[0m\u001b[0;34m(\u001b[0m\u001b[0mX\u001b[0m\u001b[0;34m)\u001b[0m\u001b[0;34m\u001b[0m\u001b[0;34m\u001b[0m\u001b[0m\n\u001b[0m\u001b[1;32m     11\u001b[0m         \u001b[0;31m#print(pred.shape)\u001b[0m\u001b[0;34m\u001b[0m\u001b[0;34m\u001b[0m\u001b[0;34m\u001b[0m\u001b[0m\n\u001b[1;32m     12\u001b[0m         \u001b[0mloss\u001b[0m \u001b[0;34m=\u001b[0m \u001b[0mloss_fn\u001b[0m\u001b[0;34m(\u001b[0m\u001b[0mpred\u001b[0m\u001b[0;34m,\u001b[0m \u001b[0my\u001b[0m\u001b[0;34m)\u001b[0m\u001b[0;34m\u001b[0m\u001b[0;34m\u001b[0m\u001b[0m\n",
      "\u001b[0;32m~/.local/lib/python3.8/site-packages/torch/nn/modules/module.py\u001b[0m in \u001b[0;36m_call_impl\u001b[0;34m(self, *input, **kwargs)\u001b[0m\n\u001b[1;32m   1100\u001b[0m         if not (self._backward_hooks or self._forward_hooks or self._forward_pre_hooks or _global_backward_hooks\n\u001b[1;32m   1101\u001b[0m                 or _global_forward_hooks or _global_forward_pre_hooks):\n\u001b[0;32m-> 1102\u001b[0;31m             \u001b[0;32mreturn\u001b[0m \u001b[0mforward_call\u001b[0m\u001b[0;34m(\u001b[0m\u001b[0;34m*\u001b[0m\u001b[0minput\u001b[0m\u001b[0;34m,\u001b[0m \u001b[0;34m**\u001b[0m\u001b[0mkwargs\u001b[0m\u001b[0;34m)\u001b[0m\u001b[0;34m\u001b[0m\u001b[0;34m\u001b[0m\u001b[0m\n\u001b[0m\u001b[1;32m   1103\u001b[0m         \u001b[0;31m# Do not call functions when jit is used\u001b[0m\u001b[0;34m\u001b[0m\u001b[0;34m\u001b[0m\u001b[0;34m\u001b[0m\u001b[0m\n\u001b[1;32m   1104\u001b[0m         \u001b[0mfull_backward_hooks\u001b[0m\u001b[0;34m,\u001b[0m \u001b[0mnon_full_backward_hooks\u001b[0m \u001b[0;34m=\u001b[0m \u001b[0;34m[\u001b[0m\u001b[0;34m]\u001b[0m\u001b[0;34m,\u001b[0m \u001b[0;34m[\u001b[0m\u001b[0;34m]\u001b[0m\u001b[0;34m\u001b[0m\u001b[0;34m\u001b[0m\u001b[0m\n",
      "\u001b[0;32m/tmp/ipykernel_5132/2160683274.py\u001b[0m in \u001b[0;36mforward\u001b[0;34m(self, x)\u001b[0m\n\u001b[1;32m     11\u001b[0m     \u001b[0;32mdef\u001b[0m \u001b[0mforward\u001b[0m\u001b[0;34m(\u001b[0m\u001b[0mself\u001b[0m\u001b[0;34m,\u001b[0m \u001b[0mx\u001b[0m\u001b[0;34m)\u001b[0m\u001b[0;34m:\u001b[0m\u001b[0;34m\u001b[0m\u001b[0;34m\u001b[0m\u001b[0m\n\u001b[1;32m     12\u001b[0m         \u001b[0mx\u001b[0m \u001b[0;34m=\u001b[0m \u001b[0mself\u001b[0m\u001b[0;34m.\u001b[0m\u001b[0mflatten\u001b[0m\u001b[0;34m(\u001b[0m\u001b[0mx\u001b[0m\u001b[0;34m)\u001b[0m\u001b[0;34m\u001b[0m\u001b[0;34m\u001b[0m\u001b[0m\n\u001b[0;32m---> 13\u001b[0;31m         \u001b[0mlogits\u001b[0m \u001b[0;34m=\u001b[0m \u001b[0mself\u001b[0m\u001b[0;34m.\u001b[0m\u001b[0mlinear_sigmoid_stack\u001b[0m\u001b[0;34m(\u001b[0m\u001b[0mx\u001b[0m\u001b[0;34m)\u001b[0m\u001b[0;34m\u001b[0m\u001b[0;34m\u001b[0m\u001b[0m\n\u001b[0m\u001b[1;32m     14\u001b[0m         \u001b[0;32mreturn\u001b[0m \u001b[0mlogits\u001b[0m\u001b[0;34m\u001b[0m\u001b[0;34m\u001b[0m\u001b[0m\n",
      "\u001b[0;32m~/.local/lib/python3.8/site-packages/torch/nn/modules/module.py\u001b[0m in \u001b[0;36m_call_impl\u001b[0;34m(self, *input, **kwargs)\u001b[0m\n\u001b[1;32m   1100\u001b[0m         if not (self._backward_hooks or self._forward_hooks or self._forward_pre_hooks or _global_backward_hooks\n\u001b[1;32m   1101\u001b[0m                 or _global_forward_hooks or _global_forward_pre_hooks):\n\u001b[0;32m-> 1102\u001b[0;31m             \u001b[0;32mreturn\u001b[0m \u001b[0mforward_call\u001b[0m\u001b[0;34m(\u001b[0m\u001b[0;34m*\u001b[0m\u001b[0minput\u001b[0m\u001b[0;34m,\u001b[0m \u001b[0;34m**\u001b[0m\u001b[0mkwargs\u001b[0m\u001b[0;34m)\u001b[0m\u001b[0;34m\u001b[0m\u001b[0;34m\u001b[0m\u001b[0m\n\u001b[0m\u001b[1;32m   1103\u001b[0m         \u001b[0;31m# Do not call functions when jit is used\u001b[0m\u001b[0;34m\u001b[0m\u001b[0;34m\u001b[0m\u001b[0;34m\u001b[0m\u001b[0m\n\u001b[1;32m   1104\u001b[0m         \u001b[0mfull_backward_hooks\u001b[0m\u001b[0;34m,\u001b[0m \u001b[0mnon_full_backward_hooks\u001b[0m \u001b[0;34m=\u001b[0m \u001b[0;34m[\u001b[0m\u001b[0;34m]\u001b[0m\u001b[0;34m,\u001b[0m \u001b[0;34m[\u001b[0m\u001b[0;34m]\u001b[0m\u001b[0;34m\u001b[0m\u001b[0;34m\u001b[0m\u001b[0m\n",
      "\u001b[0;32m~/.local/lib/python3.8/site-packages/torch/nn/modules/container.py\u001b[0m in \u001b[0;36mforward\u001b[0;34m(self, input)\u001b[0m\n\u001b[1;32m    139\u001b[0m     \u001b[0;32mdef\u001b[0m \u001b[0mforward\u001b[0m\u001b[0;34m(\u001b[0m\u001b[0mself\u001b[0m\u001b[0;34m,\u001b[0m \u001b[0minput\u001b[0m\u001b[0;34m)\u001b[0m\u001b[0;34m:\u001b[0m\u001b[0;34m\u001b[0m\u001b[0;34m\u001b[0m\u001b[0m\n\u001b[1;32m    140\u001b[0m         \u001b[0;32mfor\u001b[0m \u001b[0mmodule\u001b[0m \u001b[0;32min\u001b[0m \u001b[0mself\u001b[0m\u001b[0;34m:\u001b[0m\u001b[0;34m\u001b[0m\u001b[0;34m\u001b[0m\u001b[0m\n\u001b[0;32m--> 141\u001b[0;31m             \u001b[0minput\u001b[0m \u001b[0;34m=\u001b[0m \u001b[0mmodule\u001b[0m\u001b[0;34m(\u001b[0m\u001b[0minput\u001b[0m\u001b[0;34m)\u001b[0m\u001b[0;34m\u001b[0m\u001b[0;34m\u001b[0m\u001b[0m\n\u001b[0m\u001b[1;32m    142\u001b[0m         \u001b[0;32mreturn\u001b[0m \u001b[0minput\u001b[0m\u001b[0;34m\u001b[0m\u001b[0;34m\u001b[0m\u001b[0m\n\u001b[1;32m    143\u001b[0m \u001b[0;34m\u001b[0m\u001b[0m\n",
      "\u001b[0;32m~/.local/lib/python3.8/site-packages/torch/nn/modules/module.py\u001b[0m in \u001b[0;36m_call_impl\u001b[0;34m(self, *input, **kwargs)\u001b[0m\n\u001b[1;32m   1100\u001b[0m         if not (self._backward_hooks or self._forward_hooks or self._forward_pre_hooks or _global_backward_hooks\n\u001b[1;32m   1101\u001b[0m                 or _global_forward_hooks or _global_forward_pre_hooks):\n\u001b[0;32m-> 1102\u001b[0;31m             \u001b[0;32mreturn\u001b[0m \u001b[0mforward_call\u001b[0m\u001b[0;34m(\u001b[0m\u001b[0;34m*\u001b[0m\u001b[0minput\u001b[0m\u001b[0;34m,\u001b[0m \u001b[0;34m**\u001b[0m\u001b[0mkwargs\u001b[0m\u001b[0;34m)\u001b[0m\u001b[0;34m\u001b[0m\u001b[0;34m\u001b[0m\u001b[0m\n\u001b[0m\u001b[1;32m   1103\u001b[0m         \u001b[0;31m# Do not call functions when jit is used\u001b[0m\u001b[0;34m\u001b[0m\u001b[0;34m\u001b[0m\u001b[0;34m\u001b[0m\u001b[0m\n\u001b[1;32m   1104\u001b[0m         \u001b[0mfull_backward_hooks\u001b[0m\u001b[0;34m,\u001b[0m \u001b[0mnon_full_backward_hooks\u001b[0m \u001b[0;34m=\u001b[0m \u001b[0;34m[\u001b[0m\u001b[0;34m]\u001b[0m\u001b[0;34m,\u001b[0m \u001b[0;34m[\u001b[0m\u001b[0;34m]\u001b[0m\u001b[0;34m\u001b[0m\u001b[0;34m\u001b[0m\u001b[0m\n",
      "\u001b[0;32m~/.local/lib/python3.8/site-packages/torch/nn/modules/linear.py\u001b[0m in \u001b[0;36mforward\u001b[0;34m(self, input)\u001b[0m\n\u001b[1;32m    101\u001b[0m \u001b[0;34m\u001b[0m\u001b[0m\n\u001b[1;32m    102\u001b[0m     \u001b[0;32mdef\u001b[0m \u001b[0mforward\u001b[0m\u001b[0;34m(\u001b[0m\u001b[0mself\u001b[0m\u001b[0;34m,\u001b[0m \u001b[0minput\u001b[0m\u001b[0;34m:\u001b[0m \u001b[0mTensor\u001b[0m\u001b[0;34m)\u001b[0m \u001b[0;34m->\u001b[0m \u001b[0mTensor\u001b[0m\u001b[0;34m:\u001b[0m\u001b[0;34m\u001b[0m\u001b[0;34m\u001b[0m\u001b[0m\n\u001b[0;32m--> 103\u001b[0;31m         \u001b[0;32mreturn\u001b[0m \u001b[0mF\u001b[0m\u001b[0;34m.\u001b[0m\u001b[0mlinear\u001b[0m\u001b[0;34m(\u001b[0m\u001b[0minput\u001b[0m\u001b[0;34m,\u001b[0m \u001b[0mself\u001b[0m\u001b[0;34m.\u001b[0m\u001b[0mweight\u001b[0m\u001b[0;34m,\u001b[0m \u001b[0mself\u001b[0m\u001b[0;34m.\u001b[0m\u001b[0mbias\u001b[0m\u001b[0;34m)\u001b[0m\u001b[0;34m\u001b[0m\u001b[0;34m\u001b[0m\u001b[0m\n\u001b[0m\u001b[1;32m    104\u001b[0m \u001b[0;34m\u001b[0m\u001b[0m\n\u001b[1;32m    105\u001b[0m     \u001b[0;32mdef\u001b[0m \u001b[0mextra_repr\u001b[0m\u001b[0;34m(\u001b[0m\u001b[0mself\u001b[0m\u001b[0;34m)\u001b[0m \u001b[0;34m->\u001b[0m \u001b[0mstr\u001b[0m\u001b[0;34m:\u001b[0m\u001b[0;34m\u001b[0m\u001b[0;34m\u001b[0m\u001b[0m\n",
      "\u001b[0;32m~/.local/lib/python3.8/site-packages/torch/nn/functional.py\u001b[0m in \u001b[0;36mlinear\u001b[0;34m(input, weight, bias)\u001b[0m\n\u001b[1;32m   1846\u001b[0m     \u001b[0;32mif\u001b[0m \u001b[0mhas_torch_function_variadic\u001b[0m\u001b[0;34m(\u001b[0m\u001b[0minput\u001b[0m\u001b[0;34m,\u001b[0m \u001b[0mweight\u001b[0m\u001b[0;34m,\u001b[0m \u001b[0mbias\u001b[0m\u001b[0;34m)\u001b[0m\u001b[0;34m:\u001b[0m\u001b[0;34m\u001b[0m\u001b[0;34m\u001b[0m\u001b[0m\n\u001b[1;32m   1847\u001b[0m         \u001b[0;32mreturn\u001b[0m \u001b[0mhandle_torch_function\u001b[0m\u001b[0;34m(\u001b[0m\u001b[0mlinear\u001b[0m\u001b[0;34m,\u001b[0m \u001b[0;34m(\u001b[0m\u001b[0minput\u001b[0m\u001b[0;34m,\u001b[0m \u001b[0mweight\u001b[0m\u001b[0;34m,\u001b[0m \u001b[0mbias\u001b[0m\u001b[0;34m)\u001b[0m\u001b[0;34m,\u001b[0m \u001b[0minput\u001b[0m\u001b[0;34m,\u001b[0m \u001b[0mweight\u001b[0m\u001b[0;34m,\u001b[0m \u001b[0mbias\u001b[0m\u001b[0;34m=\u001b[0m\u001b[0mbias\u001b[0m\u001b[0;34m)\u001b[0m\u001b[0;34m\u001b[0m\u001b[0;34m\u001b[0m\u001b[0m\n\u001b[0;32m-> 1848\u001b[0;31m     \u001b[0;32mreturn\u001b[0m \u001b[0mtorch\u001b[0m\u001b[0;34m.\u001b[0m\u001b[0m_C\u001b[0m\u001b[0;34m.\u001b[0m\u001b[0m_nn\u001b[0m\u001b[0;34m.\u001b[0m\u001b[0mlinear\u001b[0m\u001b[0;34m(\u001b[0m\u001b[0minput\u001b[0m\u001b[0;34m,\u001b[0m \u001b[0mweight\u001b[0m\u001b[0;34m,\u001b[0m \u001b[0mbias\u001b[0m\u001b[0;34m)\u001b[0m\u001b[0;34m\u001b[0m\u001b[0;34m\u001b[0m\u001b[0m\n\u001b[0m\u001b[1;32m   1849\u001b[0m \u001b[0;34m\u001b[0m\u001b[0m\n\u001b[1;32m   1850\u001b[0m \u001b[0;34m\u001b[0m\u001b[0m\n",
      "\u001b[0;31mKeyboardInterrupt\u001b[0m: "
     ]
    }
   ],
   "source": [
    "loss_fn = nn.CrossEntropyLoss()\n",
    "optimizer2 = torch.optim.SGD(model_lin2.parameters(), lr=0.01)\n",
    "learning_cycle(10, model_lin2, loss_fn, optimizer2)"
   ]
  },
  {
   "cell_type": "markdown",
   "metadata": {},
   "source": [
    "судя по всему более простая модель только с двумя линейными слоями и учится значительно быстрее и выдает результаты далеко не хуже с точки зрения метрик"
   ]
  },
  {
   "cell_type": "markdown",
   "metadata": {},
   "source": [
    "так же большое значение играет здесь learning rate "
   ]
  },
  {
   "cell_type": "markdown",
   "metadata": {},
   "source": [
    "прогоним на тестовой выборке"
   ]
  },
  {
   "cell_type": "code",
   "execution_count": 29,
   "metadata": {},
   "outputs": [],
   "source": [
    "Xt,yt = get_data_and_targets_lst(\"images/test\")"
   ]
  },
  {
   "cell_type": "code",
   "execution_count": 30,
   "metadata": {},
   "outputs": [],
   "source": [
    "final_test_dataset = MyDataset(Xt, yt)\n",
    "final_test_dataloader = DataLoader(final_test_dataset, batch_size=batch_size)"
   ]
  },
  {
   "cell_type": "code",
   "execution_count": 78,
   "metadata": {},
   "outputs": [
    {
     "data": {
      "text/plain": [
       "0.625"
      ]
     },
     "execution_count": 78,
     "metadata": {},
     "output_type": "execute_result"
    }
   ],
   "source": [
    "get_model_accuracy(final_test_dataloader, model_lin3)"
   ]
  },
  {
   "cell_type": "code",
   "execution_count": 79,
   "metadata": {},
   "outputs": [
    {
     "data": {
      "text/plain": [
       "0.6367692307692308"
      ]
     },
     "execution_count": 79,
     "metadata": {},
     "output_type": "execute_result"
    }
   ],
   "source": [
    "get_model_accuracy(final_test_dataloader, model_lin2)"
   ]
  },
  {
   "cell_type": "code",
   "execution_count": 179,
   "metadata": {},
   "outputs": [],
   "source": [
    "#torch.save(model_lin2.state_dict(), \"my_models/model90.pth\")"
   ]
  },
  {
   "cell_type": "code",
   "execution_count": 181,
   "metadata": {},
   "outputs": [
    {
     "data": {
      "text/plain": [
       "<All keys matched successfully>"
      ]
     },
     "execution_count": 181,
     "metadata": {},
     "output_type": "execute_result"
    }
   ],
   "source": [
    "# model_lin2 = NeuralNetwork2()\n",
    "# model_lin2.load_state_dict(torch.load(\"my_models/model90.pth\"))"
   ]
  },
  {
   "cell_type": "markdown",
   "metadata": {},
   "source": [
    "# 1.2"
   ]
  },
  {
   "cell_type": "code",
   "execution_count": 80,
   "metadata": {},
   "outputs": [],
   "source": [
    "from sklearn.metrics import confusion_matrix\n",
    "import seaborn as sns\n",
    "import pandas as pd"
   ]
  },
  {
   "cell_type": "markdown",
   "metadata": {},
   "source": [
    "достанем одну из обученных мной линейных моделей"
   ]
  },
  {
   "cell_type": "code",
   "execution_count": 27,
   "metadata": {},
   "outputs": [
    {
     "data": {
      "text/plain": [
       "<All keys matched successfully>"
      ]
     },
     "execution_count": 27,
     "metadata": {},
     "output_type": "execute_result"
    }
   ],
   "source": [
    "model_lin2 = NeuralNetwork2()\n",
    "model_lin2.load_state_dict(torch.load(\"my_models/model90.pth\"))"
   ]
  },
  {
   "cell_type": "code",
   "execution_count": 28,
   "metadata": {},
   "outputs": [
    {
     "ename": "NameError",
     "evalue": "name 'final_test_dataloader' is not defined",
     "output_type": "error",
     "traceback": [
      "\u001b[0;31m---------------------------------------------------------------------------\u001b[0m",
      "\u001b[0;31mNameError\u001b[0m                                 Traceback (most recent call last)",
      "\u001b[0;32m/tmp/ipykernel_4913/1950562360.py\u001b[0m in \u001b[0;36m<module>\u001b[0;34m\u001b[0m\n\u001b[0;32m----> 1\u001b[0;31m \u001b[0mpredictions\u001b[0m \u001b[0;34m=\u001b[0m \u001b[0mget_all_model_predictions\u001b[0m\u001b[0;34m(\u001b[0m\u001b[0mfinal_test_dataloader\u001b[0m\u001b[0;34m,\u001b[0m \u001b[0mmodel_lin2\u001b[0m\u001b[0;34m)\u001b[0m\u001b[0;34m\u001b[0m\u001b[0;34m\u001b[0m\u001b[0m\n\u001b[0m\u001b[1;32m      2\u001b[0m \u001b[0mlen\u001b[0m\u001b[0;34m(\u001b[0m\u001b[0mpredictions\u001b[0m\u001b[0;34m)\u001b[0m\u001b[0;34m\u001b[0m\u001b[0;34m\u001b[0m\u001b[0m\n",
      "\u001b[0;31mNameError\u001b[0m: name 'final_test_dataloader' is not defined"
     ]
    }
   ],
   "source": [
    "predictions = get_all_model_predictions(final_test_dataloader, model_lin2)\n",
    "len(predictions)"
   ]
  },
  {
   "cell_type": "code",
   "execution_count": 82,
   "metadata": {},
   "outputs": [
    {
     "name": "stdout",
     "output_type": "stream",
     "text": [
      "500.0\n"
     ]
    }
   ],
   "source": [
    "print(13000/26)"
   ]
  },
  {
   "cell_type": "code",
   "execution_count": 83,
   "metadata": {},
   "outputs": [],
   "source": [
    "cf_matrix = confusion_matrix(yt, predictions)"
   ]
  },
  {
   "cell_type": "code",
   "execution_count": 84,
   "metadata": {},
   "outputs": [
    {
     "data": {
      "text/plain": [
       "<AxesSubplot:>"
      ]
     },
     "execution_count": 84,
     "metadata": {},
     "output_type": "execute_result"
    },
    {
     "data": {
      "image/png": "[encoded data removed]",
      "text/plain": [
       "<Figure size 1224x936 with 2 Axes>"
      ]
     },
     "metadata": {
      "needs_background": "light"
     },
     "output_type": "display_data"
    }
   ],
   "source": [
    "plt.figure(figsize=(17,13))\n",
    "sns.heatmap(cf_matrix, annot=True)"
   ]
  },
  {
   "cell_type": "code",
   "execution_count": 85,
   "metadata": {},
   "outputs": [
    {
     "data": {
      "text/plain": [
       "<BarContainer object of 26 artists>"
      ]
     },
     "execution_count": 85,
     "metadata": {},
     "output_type": "execute_result"
    },
    {
     "data": {
      "image/png": "[encoded data removed]",
      "text/plain": [
       "<Figure size 1080x720 with 1 Axes>"
      ]
     },
     "metadata": {
      "needs_background": "light"
     },
     "output_type": "display_data"
    }
   ],
   "source": [
    "plt.figure(figsize=(15,10))\n",
    "letters_stat = [cf_matrix[i][i] for i in range(26)]\n",
    "plt.bar([chr(i+97) for i in range(26)], letters_stat)"
   ]
  },
  {
   "cell_type": "markdown",
   "metadata": {},
   "source": [
    "буквы с наибольшей и наименьшей статистикой угадывания"
   ]
  },
  {
   "cell_type": "code",
   "execution_count": 86,
   "metadata": {},
   "outputs": [
    {
     "data": {
      "text/plain": [
       "('m', 0.878)"
      ]
     },
     "execution_count": 86,
     "metadata": {},
     "output_type": "execute_result"
    }
   ],
   "source": [
    "chr(np.array(letters_stat).argmax() + 97), max(letters_stat)/500"
   ]
  },
  {
   "cell_type": "code",
   "execution_count": 87,
   "metadata": {},
   "outputs": [
    {
     "data": {
      "text/plain": [
       "('t', 0.376)"
      ]
     },
     "execution_count": 87,
     "metadata": {},
     "output_type": "execute_result"
    }
   ],
   "source": [
    "chr(np.array(letters_stat).argmin() + 97), min(letters_stat)/500"
   ]
  },
  {
   "cell_type": "markdown",
   "metadata": {},
   "source": [
    "если прогонять на самой лучшей модели - то лучше всего угадывается \"o\" хуже всего - \"i\""
   ]
  },
  {
   "cell_type": "markdown",
   "metadata": {},
   "source": [
    "предположительно, потому что у О очень простая структура (просто кружок) и что гораздо более важное - заглавная и строчная версия буквы никак не отличаются, чего не скажешь о \"i\"  или, например об \"q\""
   ]
  },
  {
   "cell_type": "markdown",
   "metadata": {},
   "source": [
    "# 1.3"
   ]
  },
  {
   "cell_type": "code",
   "execution_count": 88,
   "metadata": {},
   "outputs": [],
   "source": [
    "def get_confusing_letters(cf_matrix, amount=10):\n",
    "    matrix = cf_matrix.copy()\n",
    "    for i in range(26):\n",
    "        matrix[i][i] = 0\n",
    "    confusion = []\n",
    "    for i in range(26):\n",
    "        for j in range(26):\n",
    "            if len(confusion)<amount:\n",
    "                confusion.append((matrix[i][j],chr(i+97),chr(j+97)))\n",
    "            elif min(confusion, key=lambda el: el[0])[0] < matrix[i][j]:\n",
    "                confusion = sorted(confusion, key=lambda el: el[0])\n",
    "                confusion[0] = (matrix[i][j],chr(i+97),chr(j+97))\n",
    "    return sorted(confusion, key=lambda el: el[0])"
   ]
  },
  {
   "cell_type": "code",
   "execution_count": 89,
   "metadata": {},
   "outputs": [
    {
     "data": {
      "text/plain": [
       "[(37, 'f', 'p'),\n",
       " (40, 'v', 'u'),\n",
       " (40, 'u', 'w'),\n",
       " (42, 't', 'y'),\n",
       " (43, 'p', 'f'),\n",
       " (43, 'n', 'w'),\n",
       " (45, 'd', 'b'),\n",
       " (48, 'x', 'k'),\n",
       " (49, 'r', 'k'),\n",
       " (51, 'y', 't'),\n",
       " (51, 'd', 'o'),\n",
       " (54, 'g', 'q'),\n",
       " (56, 't', 'r'),\n",
       " (57, 'j', 'd'),\n",
       " (68, 't', 'f'),\n",
       " (69, 'h', 'n'),\n",
       " (73, 'a', 'n'),\n",
       " (77, 'q', 'g'),\n",
       " (83, 'i', 'l'),\n",
       " (187, 'l', 'i')]"
      ]
     },
     "execution_count": 89,
     "metadata": {},
     "output_type": "execute_result"
    }
   ],
   "source": [
    "get_confusing_letters(cf_matrix, 20)"
   ]
  },
  {
   "cell_type": "code",
   "execution_count": null,
   "metadata": {},
   "outputs": [],
   "source": []
  },
  {
   "cell_type": "code",
   "execution_count": null,
   "metadata": {},
   "outputs": [],
   "source": []
  },
  {
   "cell_type": "code",
   "execution_count": null,
   "metadata": {},
   "outputs": [],
   "source": []
  },
  {
   "cell_type": "markdown",
   "metadata": {},
   "source": [
    "# 1.4 "
   ]
  },
  {
   "cell_type": "code",
   "execution_count": 90,
   "metadata": {},
   "outputs": [
    {
     "data": {
      "text/plain": [
       "0.762"
      ]
     },
     "execution_count": 90,
     "metadata": {},
     "output_type": "execute_result"
    }
   ],
   "source": [
    "sind = ord(\"s\") - 97\n",
    "cf_matrix[sind][sind]/500"
   ]
  },
  {
   "cell_type": "code",
   "execution_count": 91,
   "metadata": {},
   "outputs": [
    {
     "data": {
      "text/plain": [
       "18"
      ]
     },
     "execution_count": 91,
     "metadata": {},
     "output_type": "execute_result"
    }
   ],
   "source": [
    "sind"
   ]
  },
  {
   "cell_type": "markdown",
   "metadata": {},
   "source": [
    "судя по confusion_matrix чаще всего модель путает букву \"s\" с буквами под номерами 6 и 9"
   ]
  },
  {
   "cell_type": "code",
   "execution_count": 92,
   "metadata": {},
   "outputs": [
    {
     "data": {
      "text/plain": [
       "('g', 'j')"
      ]
     },
     "execution_count": 92,
     "metadata": {},
     "output_type": "execute_result"
    }
   ],
   "source": [
    "chr(97+6), chr(97+9)"
   ]
  },
  {
   "cell_type": "code",
   "execution_count": null,
   "metadata": {},
   "outputs": [],
   "source": []
  },
  {
   "cell_type": "markdown",
   "metadata": {},
   "source": [
    "# 2"
   ]
  },
  {
   "cell_type": "code",
   "execution_count": 93,
   "metadata": {},
   "outputs": [],
   "source": [
    "conv1 = nn.Conv2d(3, 6, 5)\n",
    "pool = nn.MaxPool2d(2, 2)\n",
    "conv2 = nn.Conv2d(6, 18, 5)"
   ]
  },
  {
   "cell_type": "code",
   "execution_count": 94,
   "metadata": {},
   "outputs": [
    {
     "name": "stdout",
     "output_type": "stream",
     "text": [
      "torch.Size([64, 3, 28, 28])\n",
      "torch.Size([64, 6, 24, 24])\n",
      "torch.Size([64, 6, 12, 12])\n",
      "torch.Size([64, 18, 8, 8])\n",
      "torch.Size([64, 18, 4, 4])\n"
     ]
    }
   ],
   "source": [
    "for batch, (X, y) in enumerate(train_dataloader):\n",
    "    X = X.permute(0, 3, 1, 2)\n",
    "    print(X.shape)\n",
    "    X = conv1(X)\n",
    "    print(X.shape)\n",
    "    X = pool(X)\n",
    "    print(X.shape)\n",
    "    X = conv2(X)\n",
    "    print(X.shape)\n",
    "    X = pool(X)\n",
    "    print(X.shape)\n",
    "    break"
   ]
  },
  {
   "cell_type": "code",
   "execution_count": 95,
   "metadata": {},
   "outputs": [],
   "source": [
    "class Conv2NeuralNetwork(nn.Module):\n",
    "    def __init__(self):\n",
    "        super(Conv2NeuralNetwork, self).__init__()\n",
    "        self.convolution_relu_stack = nn.Sequential(\n",
    "            nn.Conv2d(3, 6, 5),\n",
    "            nn.ReLU(),\n",
    "            nn.MaxPool2d(2, 2),\n",
    "            \n",
    "            nn.Conv2d(6, 18, 5),\n",
    "            nn.ReLU(),\n",
    "            nn.MaxPool2d(2, 2),\n",
    "        )\n",
    "        \n",
    "        self.flatten = nn.Flatten()\n",
    "        self.linear_relu_stack = nn.Sequential(\n",
    "            nn.Linear(18*4*4,120),\n",
    "            nn.ReLU(),\n",
    "            nn.Linear(120,26)\n",
    "        )\n",
    "    def forward(self, x):\n",
    "        x = self.convolution_relu_stack(x)\n",
    "        x = self.flatten(x)\n",
    "        logits = self.linear_relu_stack(x)\n",
    "        return logits"
   ]
  },
  {
   "cell_type": "code",
   "execution_count": 96,
   "metadata": {},
   "outputs": [
    {
     "name": "stdout",
     "output_type": "stream",
     "text": [
      "torch.Size([64, 26])\n"
     ]
    }
   ],
   "source": [
    "for batch, (X, y) in enumerate(train_dataloader):\n",
    "    c = Conv2NeuralNetwork()\n",
    "    print(c(X.permute(0, 3, 1, 2)).shape)\n",
    "    break"
   ]
  },
  {
   "cell_type": "code",
   "execution_count": 97,
   "metadata": {},
   "outputs": [],
   "source": [
    "model_conv2 = Conv2NeuralNetwork()"
   ]
  },
  {
   "cell_type": "code",
   "execution_count": 98,
   "metadata": {
    "scrolled": true
   },
   "outputs": [
    {
     "name": "stdout",
     "output_type": "stream",
     "text": [
      "\n",
      "Epoch 1\n",
      "-------------------------------\n",
      "loss: 3.266120  [    0/52000]\n",
      "loss: 3.258565  [ 6400/52000]\n",
      "loss: 3.266794  [12800/52000]\n",
      "loss: 3.261568  [19200/52000]\n",
      "loss: 3.245223  [25600/52000]\n",
      "loss: 3.261362  [32000/52000]\n",
      "loss: 3.247818  [38400/52000]\n",
      "loss: 3.244194  [44800/52000]\n",
      "loss: 3.256661  [51200/52000]\n",
      "Test Error: \n",
      " Accuracy: 4.2%, Avg loss: 3.256540 \n",
      "\n",
      "Time: 3.430\n",
      "\n",
      "Epoch 2\n",
      "-------------------------------\n",
      "loss: 3.263640  [    0/52000]\n",
      "loss: 3.257252  [ 6400/52000]\n",
      "loss: 3.264859  [12800/52000]\n",
      "loss: 3.259072  [19200/52000]\n",
      "loss: 3.242941  [25600/52000]\n",
      "loss: 3.259433  [32000/52000]\n",
      "loss: 3.245409  [38400/52000]\n",
      "loss: 3.241144  [44800/52000]\n",
      "loss: 3.255289  [51200/52000]\n",
      "Test Error: \n",
      " Accuracy: 6.1%, Avg loss: 3.253584 \n",
      "\n",
      "Time: 3.288\n",
      "\n",
      "Epoch 3\n",
      "-------------------------------\n",
      "loss: 3.260544  [    0/52000]\n",
      "loss: 3.255657  [ 6400/52000]\n",
      "loss: 3.262324  [12800/52000]\n",
      "loss: 3.255222  [19200/52000]\n",
      "loss: 3.238937  [25600/52000]\n",
      "loss: 3.256399  [32000/52000]\n",
      "loss: 3.241636  [38400/52000]\n",
      "loss: 3.236102  [44800/52000]\n",
      "loss: 3.252795  [51200/52000]\n",
      "Test Error: \n",
      " Accuracy: 8.2%, Avg loss: 3.248853 \n",
      "\n",
      "Time: 4.118\n",
      "\n",
      "Epoch 4\n",
      "-------------------------------\n",
      "loss: 3.255684  [    0/52000]\n",
      "loss: 3.252152  [ 6400/52000]\n",
      "loss: 3.258331  [12800/52000]\n",
      "loss: 3.248319  [19200/52000]\n",
      "loss: 3.230929  [25600/52000]\n",
      "loss: 3.250346  [32000/52000]\n",
      "loss: 3.233568  [38400/52000]\n",
      "loss: 3.225262  [44800/52000]\n",
      "loss: 3.247184  [51200/52000]\n",
      "Test Error: \n",
      " Accuracy: 10.5%, Avg loss: 3.239295 \n",
      "\n",
      "Time: 4.936\n",
      "\n",
      "Epoch 5\n",
      "-------------------------------\n",
      "loss: 3.246640  [    0/52000]\n",
      "loss: 3.244349  [ 6400/52000]\n",
      "loss: 3.249343  [12800/52000]\n",
      "loss: 3.232015  [19200/52000]\n",
      "loss: 3.213385  [25600/52000]\n",
      "loss: 3.236522  [32000/52000]\n",
      "loss: 3.213554  [38400/52000]\n",
      "loss: 3.199756  [44800/52000]\n",
      "loss: 3.230283  [51200/52000]\n",
      "Test Error: \n",
      " Accuracy: 12.8%, Avg loss: 3.215422 \n",
      "\n",
      "Time: 4.093\n",
      "\n",
      "Epoch 6\n",
      "-------------------------------\n",
      "loss: 3.223106  [    0/52000]\n",
      "loss: 3.220477  [ 6400/52000]\n",
      "loss: 3.221678  [12800/52000]\n",
      "loss: 3.188162  [19200/52000]\n",
      "loss: 3.163943  [25600/52000]\n",
      "loss: 3.193405  [32000/52000]\n",
      "loss: 3.148944  [38400/52000]\n",
      "loss: 3.121674  [44800/52000]\n",
      "loss: 3.160894  [51200/52000]\n",
      "Test Error: \n",
      " Accuracy: 17.6%, Avg loss: 3.133217 \n",
      "\n",
      "Time: 5.587\n",
      "\n",
      "Epoch 7\n",
      "-------------------------------\n",
      "loss: 3.145340  [    0/52000]\n",
      "loss: 3.130427  [ 6400/52000]\n",
      "loss: 3.100598  [12800/52000]\n",
      "loss: 3.030445  [19200/52000]\n",
      "loss: 2.965945  [25600/52000]\n",
      "loss: 3.002966  [32000/52000]\n",
      "loss: 2.860739  [38400/52000]\n",
      "loss: 2.792798  [44800/52000]\n",
      "loss: 2.788007  [51200/52000]\n",
      "Test Error: \n",
      " Accuracy: 33.0%, Avg loss: 2.721542 \n",
      "\n",
      "Time: 3.574\n",
      "\n",
      "Epoch 8\n",
      "-------------------------------\n",
      "loss: 2.726589  [    0/52000]\n",
      "loss: 2.661525  [ 6400/52000]\n",
      "loss: 2.476523  [12800/52000]\n",
      "loss: 2.408692  [19200/52000]\n",
      "loss: 2.122319  [25600/52000]\n",
      "loss: 2.329185  [32000/52000]\n",
      "loss: 1.975727  [38400/52000]\n",
      "loss: 1.934290  [44800/52000]\n",
      "loss: 2.082143  [51200/52000]\n",
      "Test Error: \n",
      " Accuracy: 47.4%, Avg loss: 1.911292 \n",
      "\n",
      "Time: 4.026\n",
      "\n",
      "Epoch 9\n",
      "-------------------------------\n",
      "loss: 1.832110  [    0/52000]\n",
      "loss: 1.952048  [ 6400/52000]\n",
      "loss: 1.637147  [12800/52000]\n",
      "loss: 1.786746  [19200/52000]\n",
      "loss: 1.466494  [25600/52000]\n",
      "loss: 1.804429  [32000/52000]\n",
      "loss: 1.417731  [38400/52000]\n",
      "loss: 1.492181  [44800/52000]\n",
      "loss: 1.738354  [51200/52000]\n",
      "Test Error: \n",
      " Accuracy: 55.5%, Avg loss: 1.527841 \n",
      "\n",
      "Time: 4.749\n",
      "\n",
      "Epoch 10\n",
      "-------------------------------\n",
      "loss: 1.450587  [    0/52000]\n",
      "loss: 1.597383  [ 6400/52000]\n",
      "loss: 1.272013  [12800/52000]\n",
      "loss: 1.448501  [19200/52000]\n",
      "loss: 1.255972  [25600/52000]\n",
      "loss: 1.465882  [32000/52000]\n",
      "loss: 1.151791  [38400/52000]\n",
      "loss: 1.250218  [44800/52000]\n",
      "loss: 1.514975  [51200/52000]\n",
      "Test Error: \n",
      " Accuracy: 60.3%, Avg loss: 1.319872 \n",
      "\n",
      "Time: 4.447\n",
      "\n",
      "Epoch 11\n",
      "-------------------------------\n",
      "loss: 1.275916  [    0/52000]\n",
      "loss: 1.371253  [ 6400/52000]\n",
      "loss: 1.080627  [12800/52000]\n",
      "loss: 1.254257  [19200/52000]\n",
      "loss: 1.131376  [25600/52000]\n",
      "loss: 1.262829  [32000/52000]\n",
      "loss: 1.022127  [38400/52000]\n",
      "loss: 1.098307  [44800/52000]\n",
      "loss: 1.354858  [51200/52000]\n",
      "Test Error: \n",
      " Accuracy: 63.9%, Avg loss: 1.194235 \n",
      "\n",
      "Time: 3.899\n",
      "\n",
      "Epoch 12\n",
      "-------------------------------\n",
      "loss: 1.171461  [    0/52000]\n",
      "loss: 1.241061  [ 6400/52000]\n",
      "loss: 0.978106  [12800/52000]\n",
      "loss: 1.147031  [19200/52000]\n",
      "loss: 1.038761  [25600/52000]\n",
      "loss: 1.139904  [32000/52000]\n",
      "loss: 0.937512  [38400/52000]\n",
      "loss: 1.005706  [44800/52000]\n",
      "loss: 1.238085  [51200/52000]\n",
      "Test Error: \n",
      " Accuracy: 66.6%, Avg loss: 1.106779 \n",
      "\n",
      "Time: 3.836\n",
      "\n",
      "Epoch 13\n",
      "-------------------------------\n",
      "loss: 1.096422  [    0/52000]\n",
      "loss: 1.157519  [ 6400/52000]\n",
      "loss: 0.898934  [12800/52000]\n",
      "loss: 1.064869  [19200/52000]\n",
      "loss: 0.979854  [25600/52000]\n",
      "loss: 1.043792  [32000/52000]\n",
      "loss: 0.865422  [38400/52000]\n",
      "loss: 0.934778  [44800/52000]\n",
      "loss: 1.159363  [51200/52000]\n",
      "Test Error: \n",
      " Accuracy: 68.6%, Avg loss: 1.040166 \n",
      "\n",
      "Time: 4.110\n",
      "\n",
      "Epoch 14\n",
      "-------------------------------\n",
      "loss: 1.034749  [    0/52000]\n",
      "loss: 1.093287  [ 6400/52000]\n",
      "loss: 0.844962  [12800/52000]\n",
      "loss: 0.994983  [19200/52000]\n",
      "loss: 0.932315  [25600/52000]\n",
      "loss: 0.970355  [32000/52000]\n",
      "loss: 0.799050  [38400/52000]\n",
      "loss: 0.878994  [44800/52000]\n",
      "loss: 1.088947  [51200/52000]\n",
      "Test Error: \n",
      " Accuracy: 70.2%, Avg loss: 0.984015 \n",
      "\n",
      "Time: 3.723\n",
      "\n",
      "Epoch 15\n",
      "-------------------------------\n",
      "loss: 0.983638  [    0/52000]\n",
      "loss: 1.041983  [ 6400/52000]\n",
      "loss: 0.791972  [12800/52000]\n",
      "loss: 0.928919  [19200/52000]\n",
      "loss: 0.894046  [25600/52000]\n",
      "loss: 0.907315  [32000/52000]\n",
      "loss: 0.730808  [38400/52000]\n",
      "loss: 0.826998  [44800/52000]\n",
      "loss: 1.030096  [51200/52000]\n",
      "Test Error: \n",
      " Accuracy: 71.8%, Avg loss: 0.934801 \n",
      "\n",
      "Time: 3.652\n",
      "\n",
      "Epoch 16\n",
      "-------------------------------\n",
      "loss: 0.931723  [    0/52000]\n",
      "loss: 1.006051  [ 6400/52000]\n",
      "loss: 0.750080  [12800/52000]\n",
      "loss: 0.861464  [19200/52000]\n",
      "loss: 0.852228  [25600/52000]\n",
      "loss: 0.852518  [32000/52000]\n",
      "loss: 0.666568  [38400/52000]\n",
      "loss: 0.787152  [44800/52000]\n",
      "loss: 0.974026  [51200/52000]\n",
      "Test Error: \n",
      " Accuracy: 73.0%, Avg loss: 0.890122 \n",
      "\n",
      "Time: 3.316\n",
      "\n",
      "Epoch 17\n",
      "-------------------------------\n",
      "loss: 0.883447  [    0/52000]\n",
      "loss: 0.977207  [ 6400/52000]\n",
      "loss: 0.703659  [12800/52000]\n",
      "loss: 0.802615  [19200/52000]\n",
      "loss: 0.808804  [25600/52000]\n",
      "loss: 0.806684  [32000/52000]\n",
      "loss: 0.611254  [38400/52000]\n",
      "loss: 0.751766  [44800/52000]\n",
      "loss: 0.924373  [51200/52000]\n",
      "Test Error: \n",
      " Accuracy: 74.3%, Avg loss: 0.849030 \n",
      "\n",
      "Time: 3.652\n",
      "\n",
      "Epoch 18\n",
      "-------------------------------\n",
      "loss: 0.837939  [    0/52000]\n",
      "loss: 0.951190  [ 6400/52000]\n",
      "loss: 0.651171  [12800/52000]\n",
      "loss: 0.751887  [19200/52000]\n",
      "loss: 0.772322  [25600/52000]\n",
      "loss: 0.767116  [32000/52000]\n",
      "loss: 0.560875  [38400/52000]\n",
      "loss: 0.720379  [44800/52000]\n",
      "loss: 0.870635  [51200/52000]\n",
      "Test Error: \n",
      " Accuracy: 75.5%, Avg loss: 0.811359 \n",
      "\n",
      "Time: 3.813\n",
      "\n",
      "Epoch 19\n",
      "-------------------------------\n",
      "loss: 0.791873  [    0/52000]\n",
      "loss: 0.926542  [ 6400/52000]\n",
      "loss: 0.611196  [12800/52000]\n",
      "loss: 0.703929  [19200/52000]\n",
      "loss: 0.739191  [25600/52000]\n",
      "loss: 0.723434  [32000/52000]\n",
      "loss: 0.515740  [38400/52000]\n",
      "loss: 0.692042  [44800/52000]\n",
      "loss: 0.824291  [51200/52000]\n",
      "Test Error: \n",
      " Accuracy: 76.4%, Avg loss: 0.777323 \n",
      "\n",
      "Time: 3.499\n",
      "\n",
      "Epoch 20\n",
      "-------------------------------\n",
      "loss: 0.754761  [    0/52000]\n",
      "loss: 0.904951  [ 6400/52000]\n",
      "loss: 0.569755  [12800/52000]\n",
      "loss: 0.662197  [19200/52000]\n",
      "loss: 0.704373  [25600/52000]\n",
      "loss: 0.686332  [32000/52000]\n",
      "loss: 0.470717  [38400/52000]\n",
      "loss: 0.663313  [44800/52000]\n",
      "loss: 0.783094  [51200/52000]\n",
      "Test Error: \n",
      " Accuracy: 77.4%, Avg loss: 0.746902 \n",
      "\n",
      "Time: 3.350\n"
     ]
    }
   ],
   "source": [
    "loss_fn = nn.CrossEntropyLoss()\n",
    "optimizer = torch.optim.SGD(model_conv2.parameters(), lr=0.001)\n",
    "learning_cycle(20, model_conv2, loss_fn, optimizer, to_NCHW=True)"
   ]
  },
  {
   "cell_type": "markdown",
   "metadata": {},
   "source": [
    "модель учится лучше линейной, но по опыту сильно лучших результатов (более 92 процентов акьюраси она не достигнет)"
   ]
  },
  {
   "cell_type": "markdown",
   "metadata": {},
   "source": [
    "когда я только начинал разбираться в лабе - я прогонял линейные модели по сотням эпох и вяснил, что при должном усердии они тоже могут дойти до 90% но на это уйдет значительно больше эпох. Побороть отметку в 91.2 или около того мне пока не удалось"
   ]
  },
  {
   "cell_type": "code",
   "execution_count": 100,
   "metadata": {},
   "outputs": [],
   "source": [
    "conv1 = nn.Conv2d(3, 8, 3)\n",
    "pool = nn.MaxPool2d(2, 2)\n",
    "conv2 = nn.Conv2d(8, 16, 4)\n",
    "conv3 = nn.Conv2d(16, 18, 2)"
   ]
  },
  {
   "cell_type": "code",
   "execution_count": 101,
   "metadata": {},
   "outputs": [
    {
     "name": "stdout",
     "output_type": "stream",
     "text": [
      "torch.Size([64, 3, 28, 28])\n",
      "torch.Size([64, 8, 26, 26])\n",
      "torch.Size([64, 8, 13, 13])\n",
      "torch.Size([64, 16, 10, 10])\n",
      "torch.Size([64, 16, 5, 5])\n",
      "torch.Size([64, 18, 4, 4])\n",
      "torch.Size([64, 18, 2, 2])\n"
     ]
    }
   ],
   "source": [
    "for batch, (X, y) in enumerate(train_dataloader):\n",
    "    X = X.permute(0, 3, 1, 2)\n",
    "    print(X.shape)\n",
    "    X = conv1(X)\n",
    "    print(X.shape)\n",
    "    X = pool(X)\n",
    "    print(X.shape)\n",
    "    X = conv2(X)\n",
    "    print(X.shape)\n",
    "    X = pool(X)\n",
    "    print(X.shape)\n",
    "    X = conv3(X)\n",
    "    print(X.shape)\n",
    "    X = pool(X)\n",
    "    print(X.shape)\n",
    "    break"
   ]
  },
  {
   "cell_type": "code",
   "execution_count": 64,
   "metadata": {},
   "outputs": [],
   "source": [
    "class Conv3NeuralNetwork(nn.Module):\n",
    "    def __init__(self):\n",
    "        super(Conv3NeuralNetwork, self).__init__()\n",
    "        self.convolution_relu_stack = nn.Sequential(\n",
    "            nn.Conv2d(3, 8, 3),\n",
    "            nn.MaxPool2d(2, 2),\n",
    "            nn.Conv2d(8, 16, 4),\n",
    "            nn.MaxPool2d(2, 2),\n",
    "            nn.Conv2d(16, 18, 2),\n",
    "            nn.MaxPool2d(2, 2),\n",
    "        )\n",
    "        \n",
    "        self.flatten = nn.Flatten()\n",
    "        self.linear_relu_stack = nn.Sequential(\n",
    "            nn.Linear(18*2*2,64),\n",
    "            nn.ReLU(),\n",
    "            nn.Linear(64,48),\n",
    "            nn.ReLU(),\n",
    "            nn.Linear(48,26),\n",
    "        )\n",
    "    def forward(self, x):\n",
    "        x = self.convolution_relu_stack(x)\n",
    "        x = self.flatten(x)\n",
    "        logits = self.linear_relu_stack(x)\n",
    "        return logits"
   ]
  },
  {
   "cell_type": "code",
   "execution_count": 110,
   "metadata": {},
   "outputs": [],
   "source": [
    "model_conv3 = Conv3NeuralNetwork()"
   ]
  },
  {
   "cell_type": "code",
   "execution_count": 111,
   "metadata": {},
   "outputs": [
    {
     "name": "stdout",
     "output_type": "stream",
     "text": [
      "\n",
      "Epoch 1\n",
      "-------------------------------\n",
      "loss: 3.261536  [    0/52000]\n",
      "loss: 3.266057  [ 6400/52000]\n",
      "loss: 3.275798  [12800/52000]\n",
      "loss: 3.268349  [19200/52000]\n",
      "loss: 3.249639  [25600/52000]\n",
      "loss: 3.252008  [32000/52000]\n",
      "loss: 3.248871  [38400/52000]\n",
      "loss: 3.261035  [44800/52000]\n",
      "loss: 3.262128  [51200/52000]\n",
      "Test Error: \n",
      " Accuracy: 6.1%, Avg loss: 3.250494 \n",
      "\n",
      "Time: 3.592\n",
      "\n",
      "Epoch 2\n",
      "-------------------------------\n",
      "loss: 3.254905  [    0/52000]\n",
      "loss: 3.254326  [ 6400/52000]\n",
      "loss: 3.255819  [12800/52000]\n",
      "loss: 3.233713  [19200/52000]\n",
      "loss: 3.221758  [25600/52000]\n",
      "loss: 3.241464  [32000/52000]\n",
      "loss: 3.201316  [38400/52000]\n",
      "loss: 3.184546  [44800/52000]\n",
      "loss: 3.136757  [51200/52000]\n",
      "Test Error: \n",
      " Accuracy: 12.4%, Avg loss: 3.110081 \n",
      "\n",
      "Time: 3.606\n"
     ]
    }
   ],
   "source": [
    "loss_fn = nn.CrossEntropyLoss()\n",
    "optimizer = torch.optim.SGD(model_conv3.parameters(), lr=0.01)\n",
    "learning_cycle(20, model_conv3, loss_fn, optimizer, to_NCHW=True)"
   ]
  },
  {
   "cell_type": "code",
   "execution_count": 158,
   "metadata": {},
   "outputs": [
    {
     "data": {
      "text/plain": [
       "0.9140769230769231"
      ]
     },
     "execution_count": 158,
     "metadata": {},
     "output_type": "execute_result"
    }
   ],
   "source": [
    "get_model_accuracy(final_test_dataloader, model_conv3, to_NCHW=True)"
   ]
  },
  {
   "cell_type": "code",
   "execution_count": 159,
   "metadata": {},
   "outputs": [],
   "source": [
    "#torch.save(model_conv3.state_dict(), \"my_models/model91conv3.pth\")"
   ]
  },
  {
   "cell_type": "code",
   "execution_count": 122,
   "metadata": {},
   "outputs": [],
   "source": [
    "class Conv1NeuralNetwork(nn.Module):\n",
    "    def __init__(self):\n",
    "        super(Conv1NeuralNetwork, self).__init__()\n",
    "        self.convolution_relu_stack = nn.Sequential(\n",
    "            nn.Conv2d(3, 6, 5),\n",
    "            nn.ReLU(),\n",
    "            nn.MaxPool2d(2, 2),\n",
    "        )\n",
    "        \n",
    "        self.flatten = nn.Flatten()\n",
    "        self.linear_relu_stack = nn.Sequential(\n",
    "            nn.Linear(24*24*6,1024),\n",
    "            nn.ReLU(),\n",
    "            nn.Linear(1024,26)\n",
    "        )\n",
    "    def forward(self, x):\n",
    "        x = self.convolution_relu_stack(x)\n",
    "        x = self.flatten(x)\n",
    "        logits = self.linear_relu_stack(x)\n",
    "        return logits"
   ]
  },
  {
   "cell_type": "markdown",
   "metadata": {},
   "source": [
    "на этом этапе тренировать сетку с одной сверткой уже не интересно, потому что очевидно, что результаты она покажет ощутимо хуже"
   ]
  },
  {
   "cell_type": "code",
   "execution_count": 33,
   "metadata": {},
   "outputs": [],
   "source": [
    "class Conv3NeuralNetworkBN(nn.Module):\n",
    "    def __init__(self):\n",
    "        super(Conv3NeuralNetworkBN, self).__init__()\n",
    "        self.convolution_relu_stack = nn.Sequential(\n",
    "            nn.Conv2d(3, 8, 3),\n",
    "            nn.MaxPool2d(2, 2),\n",
    "            nn.BatchNorm2d(8),\n",
    "            nn.Conv2d(8, 16, 4),\n",
    "            nn.MaxPool2d(2, 2),\n",
    "            nn.Conv2d(16, 18, 2),\n",
    "            nn.MaxPool2d(2, 2),\n",
    "        )\n",
    "        \n",
    "        self.flatten = nn.Flatten()\n",
    "        self.linear_relu_stack = nn.Sequential(\n",
    "            nn.Linear(18*2*2,64),\n",
    "            nn.ReLU(),\n",
    "            nn.Linear(64,48),\n",
    "            nn.ReLU(),\n",
    "            nn.Linear(48,26),\n",
    "        )\n",
    "    def forward(self, x):\n",
    "        x = self.convolution_relu_stack(x)\n",
    "        x = self.flatten(x)\n",
    "        logits = self.linear_relu_stack(x)\n",
    "        return logits"
   ]
  },
  {
   "cell_type": "markdown",
   "metadata": {},
   "source": [
    "Ни одну сетку у меня не получилось доучить более чем на 91 процента accuracy"
   ]
  },
  {
   "cell_type": "markdown",
   "metadata": {},
   "source": [
    "следующим этапом будут эксперименты с размером батча"
   ]
  },
  {
   "cell_type": "code",
   "execution_count": 38,
   "metadata": {},
   "outputs": [],
   "source": [
    "class Conv3NeuralNetworkGN(nn.Module):\n",
    "    def __init__(self):\n",
    "        super(Conv3NeuralNetworkGN, self).__init__()\n",
    "        self.convolution_relu_stack = nn.Sequential(\n",
    "            nn.Conv2d(3, 8, 3),\n",
    "            nn.MaxPool2d(2, 2),\n",
    "            nn.GroupNorm(4,8),\n",
    "            nn.Conv2d(8, 16, 4),\n",
    "            nn.MaxPool2d(2, 2),\n",
    "            nn.Conv2d(16, 18, 2),\n",
    "            nn.MaxPool2d(2, 2),\n",
    "        )\n",
    "        \n",
    "        self.flatten = nn.Flatten()\n",
    "        self.linear_relu_stack = nn.Sequential(\n",
    "            nn.Linear(18*2*2,64),\n",
    "            nn.ReLU(),\n",
    "            nn.Linear(64,48),\n",
    "            nn.ReLU(),\n",
    "            nn.Linear(48,26),\n",
    "        )\n",
    "    def forward(self, x):\n",
    "        x = self.convolution_relu_stack(x)\n",
    "        x = self.flatten(x)\n",
    "        logits = self.linear_relu_stack(x)\n",
    "        return logits"
   ]
  },
  {
   "cell_type": "code",
   "execution_count": 39,
   "metadata": {},
   "outputs": [],
   "source": [
    "model_conv3 = Conv3NeuralNetworkGN()"
   ]
  },
  {
   "cell_type": "code",
   "execution_count": 40,
   "metadata": {},
   "outputs": [
    {
     "name": "stdout",
     "output_type": "stream",
     "text": [
      "\n",
      "Epoch 1\n",
      "-------------------------------\n",
      "loss: 3.258589  [    0/52000]\n",
      "loss: 3.261430  [25800/52000]\n",
      "loss: 3.246637  [51600/52000]\n",
      "Test Error: \n",
      " Accuracy: 4.6%, Avg loss: 3.255873\n",
      "Time: 3.623\n",
      "\n",
      "Epoch 2\n",
      "-------------------------------\n",
      "loss: 3.252535  [    0/52000]\n",
      "loss: 3.252947  [25800/52000]\n",
      "loss: 3.236967  [51600/52000]\n",
      "Test Error: \n",
      " Accuracy: 7.5%, Avg loss: 3.246127\n",
      "Time: 3.398\n",
      "\n",
      "Epoch 3\n",
      "-------------------------------\n",
      "loss: 3.244915  [    0/52000]\n",
      "loss: 3.238783  [25800/52000]\n",
      "loss: 3.215874  [51600/52000]\n"
     ]
    },
    {
     "ename": "KeyboardInterrupt",
     "evalue": "",
     "output_type": "error",
     "traceback": [
      "\u001b[0;31m---------------------------------------------------------------------------\u001b[0m",
      "\u001b[0;31mKeyboardInterrupt\u001b[0m                         Traceback (most recent call last)",
      "\u001b[0;32m/tmp/ipykernel_4913/641670722.py\u001b[0m in \u001b[0;36m<module>\u001b[0;34m\u001b[0m\n\u001b[1;32m      1\u001b[0m \u001b[0mloss_fn\u001b[0m \u001b[0;34m=\u001b[0m \u001b[0mnn\u001b[0m\u001b[0;34m.\u001b[0m\u001b[0mCrossEntropyLoss\u001b[0m\u001b[0;34m(\u001b[0m\u001b[0;34m)\u001b[0m\u001b[0;34m\u001b[0m\u001b[0;34m\u001b[0m\u001b[0m\n\u001b[1;32m      2\u001b[0m \u001b[0moptimizer\u001b[0m \u001b[0;34m=\u001b[0m \u001b[0mtorch\u001b[0m\u001b[0;34m.\u001b[0m\u001b[0moptim\u001b[0m\u001b[0;34m.\u001b[0m\u001b[0mSGD\u001b[0m\u001b[0;34m(\u001b[0m\u001b[0mmodel_conv3\u001b[0m\u001b[0;34m.\u001b[0m\u001b[0mparameters\u001b[0m\u001b[0;34m(\u001b[0m\u001b[0;34m)\u001b[0m\u001b[0;34m,\u001b[0m \u001b[0mlr\u001b[0m\u001b[0;34m=\u001b[0m\u001b[0;36m0.01\u001b[0m\u001b[0;34m)\u001b[0m\u001b[0;34m\u001b[0m\u001b[0;34m\u001b[0m\u001b[0m\n\u001b[0;32m----> 3\u001b[0;31m \u001b[0mlearning_cycle\u001b[0m\u001b[0;34m(\u001b[0m\u001b[0;36m100\u001b[0m\u001b[0;34m,\u001b[0m \u001b[0mmodel_conv3\u001b[0m\u001b[0;34m,\u001b[0m \u001b[0mloss_fn\u001b[0m\u001b[0;34m,\u001b[0m \u001b[0moptimizer\u001b[0m\u001b[0;34m,\u001b[0m \u001b[0mto_NCHW\u001b[0m\u001b[0;34m=\u001b[0m\u001b[0;32mTrue\u001b[0m\u001b[0;34m)\u001b[0m\u001b[0;34m\u001b[0m\u001b[0;34m\u001b[0m\u001b[0m\n\u001b[0m",
      "\u001b[0;32m/tmp/ipykernel_4913/1980290054.py\u001b[0m in \u001b[0;36mlearning_cycle\u001b[0;34m(epochs, model, loss_fn, optimizer, to_NCHW)\u001b[0m\n\u001b[1;32m      4\u001b[0m         \u001b[0mstarttm\u001b[0m \u001b[0;34m=\u001b[0m \u001b[0mtime\u001b[0m\u001b[0;34m.\u001b[0m\u001b[0mtime\u001b[0m\u001b[0;34m(\u001b[0m\u001b[0;34m)\u001b[0m\u001b[0;34m\u001b[0m\u001b[0;34m\u001b[0m\u001b[0m\n\u001b[1;32m      5\u001b[0m         \u001b[0mtrain\u001b[0m\u001b[0;34m(\u001b[0m\u001b[0mtrain_dataloader\u001b[0m\u001b[0;34m,\u001b[0m \u001b[0mmodel\u001b[0m\u001b[0;34m,\u001b[0m \u001b[0mloss_fn\u001b[0m\u001b[0;34m,\u001b[0m \u001b[0moptimizer\u001b[0m\u001b[0;34m,\u001b[0m \u001b[0mto_NCHW\u001b[0m \u001b[0;34m=\u001b[0m \u001b[0mto_NCHW\u001b[0m\u001b[0;34m)\u001b[0m\u001b[0;34m\u001b[0m\u001b[0;34m\u001b[0m\u001b[0m\n\u001b[0;32m----> 6\u001b[0;31m         \u001b[0mtest\u001b[0m\u001b[0;34m(\u001b[0m\u001b[0mtest_dataloader\u001b[0m\u001b[0;34m,\u001b[0m \u001b[0mmodel\u001b[0m\u001b[0;34m,\u001b[0m \u001b[0mloss_fn\u001b[0m\u001b[0;34m,\u001b[0m \u001b[0mto_NCHW\u001b[0m \u001b[0;34m=\u001b[0m \u001b[0mto_NCHW\u001b[0m\u001b[0;34m)\u001b[0m\u001b[0;34m\u001b[0m\u001b[0;34m\u001b[0m\u001b[0m\n\u001b[0m\u001b[1;32m      7\u001b[0m         \u001b[0mendtm\u001b[0m \u001b[0;34m=\u001b[0m \u001b[0mtime\u001b[0m\u001b[0;34m.\u001b[0m\u001b[0mtime\u001b[0m\u001b[0;34m(\u001b[0m\u001b[0;34m)\u001b[0m\u001b[0;34m\u001b[0m\u001b[0;34m\u001b[0m\u001b[0m\n\u001b[1;32m      8\u001b[0m         \u001b[0mprint\u001b[0m\u001b[0;34m(\u001b[0m\u001b[0;34mf\"Time: {(endtm - starttm):>0.3f}\"\u001b[0m\u001b[0;34m)\u001b[0m\u001b[0;34m\u001b[0m\u001b[0;34m\u001b[0m\u001b[0m\n",
      "\u001b[0;32m/tmp/ipykernel_4913/162844610.py\u001b[0m in \u001b[0;36mtest\u001b[0;34m(dataloader, model, loss_fn, to_NCHW)\u001b[0m\n\u001b[1;32m      9\u001b[0m                 \u001b[0mX\u001b[0m \u001b[0;34m=\u001b[0m \u001b[0mX\u001b[0m\u001b[0;34m.\u001b[0m\u001b[0mpermute\u001b[0m\u001b[0;34m(\u001b[0m\u001b[0;36m0\u001b[0m\u001b[0;34m,\u001b[0m \u001b[0;36m3\u001b[0m\u001b[0;34m,\u001b[0m \u001b[0;36m1\u001b[0m\u001b[0;34m,\u001b[0m \u001b[0;36m2\u001b[0m\u001b[0;34m)\u001b[0m\u001b[0;34m\u001b[0m\u001b[0;34m\u001b[0m\u001b[0m\n\u001b[1;32m     10\u001b[0m             \u001b[0mX\u001b[0m\u001b[0;34m,\u001b[0m \u001b[0my\u001b[0m \u001b[0;34m=\u001b[0m \u001b[0mX\u001b[0m\u001b[0;34m.\u001b[0m\u001b[0mto\u001b[0m\u001b[0;34m(\u001b[0m\u001b[0mdevice\u001b[0m\u001b[0;34m)\u001b[0m\u001b[0;34m,\u001b[0m \u001b[0my\u001b[0m\u001b[0;34m.\u001b[0m\u001b[0mto\u001b[0m\u001b[0;34m(\u001b[0m\u001b[0mdevice\u001b[0m\u001b[0;34m)\u001b[0m\u001b[0;34m\u001b[0m\u001b[0;34m\u001b[0m\u001b[0m\n\u001b[0;32m---> 11\u001b[0;31m             \u001b[0mpred\u001b[0m \u001b[0;34m=\u001b[0m \u001b[0mmodel\u001b[0m\u001b[0;34m(\u001b[0m\u001b[0mX\u001b[0m\u001b[0;34m)\u001b[0m\u001b[0;34m\u001b[0m\u001b[0;34m\u001b[0m\u001b[0m\n\u001b[0m\u001b[1;32m     12\u001b[0m             \u001b[0;31m#print(pred.shape)\u001b[0m\u001b[0;34m\u001b[0m\u001b[0;34m\u001b[0m\u001b[0;34m\u001b[0m\u001b[0m\n\u001b[1;32m     13\u001b[0m             \u001b[0;31m#print(loss_fn(pred, y).item())\u001b[0m\u001b[0;34m\u001b[0m\u001b[0;34m\u001b[0m\u001b[0;34m\u001b[0m\u001b[0m\n",
      "\u001b[0;32m~/.local/lib/python3.8/site-packages/torch/nn/modules/module.py\u001b[0m in \u001b[0;36m_call_impl\u001b[0;34m(self, *input, **kwargs)\u001b[0m\n\u001b[1;32m   1100\u001b[0m         if not (self._backward_hooks or self._forward_hooks or self._forward_pre_hooks or _global_backward_hooks\n\u001b[1;32m   1101\u001b[0m                 or _global_forward_hooks or _global_forward_pre_hooks):\n\u001b[0;32m-> 1102\u001b[0;31m             \u001b[0;32mreturn\u001b[0m \u001b[0mforward_call\u001b[0m\u001b[0;34m(\u001b[0m\u001b[0;34m*\u001b[0m\u001b[0minput\u001b[0m\u001b[0;34m,\u001b[0m \u001b[0;34m**\u001b[0m\u001b[0mkwargs\u001b[0m\u001b[0;34m)\u001b[0m\u001b[0;34m\u001b[0m\u001b[0;34m\u001b[0m\u001b[0m\n\u001b[0m\u001b[1;32m   1103\u001b[0m         \u001b[0;31m# Do not call functions when jit is used\u001b[0m\u001b[0;34m\u001b[0m\u001b[0;34m\u001b[0m\u001b[0;34m\u001b[0m\u001b[0m\n\u001b[1;32m   1104\u001b[0m         \u001b[0mfull_backward_hooks\u001b[0m\u001b[0;34m,\u001b[0m \u001b[0mnon_full_backward_hooks\u001b[0m \u001b[0;34m=\u001b[0m \u001b[0;34m[\u001b[0m\u001b[0;34m]\u001b[0m\u001b[0;34m,\u001b[0m \u001b[0;34m[\u001b[0m\u001b[0;34m]\u001b[0m\u001b[0;34m\u001b[0m\u001b[0;34m\u001b[0m\u001b[0m\n",
      "\u001b[0;32m/tmp/ipykernel_4913/410964391.py\u001b[0m in \u001b[0;36mforward\u001b[0;34m(self, x)\u001b[0m\n\u001b[1;32m     21\u001b[0m         )\n\u001b[1;32m     22\u001b[0m     \u001b[0;32mdef\u001b[0m \u001b[0mforward\u001b[0m\u001b[0;34m(\u001b[0m\u001b[0mself\u001b[0m\u001b[0;34m,\u001b[0m \u001b[0mx\u001b[0m\u001b[0;34m)\u001b[0m\u001b[0;34m:\u001b[0m\u001b[0;34m\u001b[0m\u001b[0;34m\u001b[0m\u001b[0m\n\u001b[0;32m---> 23\u001b[0;31m         \u001b[0mx\u001b[0m \u001b[0;34m=\u001b[0m \u001b[0mself\u001b[0m\u001b[0;34m.\u001b[0m\u001b[0mconvolution_relu_stack\u001b[0m\u001b[0;34m(\u001b[0m\u001b[0mx\u001b[0m\u001b[0;34m)\u001b[0m\u001b[0;34m\u001b[0m\u001b[0;34m\u001b[0m\u001b[0m\n\u001b[0m\u001b[1;32m     24\u001b[0m         \u001b[0mx\u001b[0m \u001b[0;34m=\u001b[0m \u001b[0mself\u001b[0m\u001b[0;34m.\u001b[0m\u001b[0mflatten\u001b[0m\u001b[0;34m(\u001b[0m\u001b[0mx\u001b[0m\u001b[0;34m)\u001b[0m\u001b[0;34m\u001b[0m\u001b[0;34m\u001b[0m\u001b[0m\n\u001b[1;32m     25\u001b[0m         \u001b[0mlogits\u001b[0m \u001b[0;34m=\u001b[0m \u001b[0mself\u001b[0m\u001b[0;34m.\u001b[0m\u001b[0mlinear_relu_stack\u001b[0m\u001b[0;34m(\u001b[0m\u001b[0mx\u001b[0m\u001b[0;34m)\u001b[0m\u001b[0;34m\u001b[0m\u001b[0;34m\u001b[0m\u001b[0m\n",
      "\u001b[0;32m~/.local/lib/python3.8/site-packages/torch/nn/modules/module.py\u001b[0m in \u001b[0;36m_call_impl\u001b[0;34m(self, *input, **kwargs)\u001b[0m\n\u001b[1;32m   1100\u001b[0m         if not (self._backward_hooks or self._forward_hooks or self._forward_pre_hooks or _global_backward_hooks\n\u001b[1;32m   1101\u001b[0m                 or _global_forward_hooks or _global_forward_pre_hooks):\n\u001b[0;32m-> 1102\u001b[0;31m             \u001b[0;32mreturn\u001b[0m \u001b[0mforward_call\u001b[0m\u001b[0;34m(\u001b[0m\u001b[0;34m*\u001b[0m\u001b[0minput\u001b[0m\u001b[0;34m,\u001b[0m \u001b[0;34m**\u001b[0m\u001b[0mkwargs\u001b[0m\u001b[0;34m)\u001b[0m\u001b[0;34m\u001b[0m\u001b[0;34m\u001b[0m\u001b[0m\n\u001b[0m\u001b[1;32m   1103\u001b[0m         \u001b[0;31m# Do not call functions when jit is used\u001b[0m\u001b[0;34m\u001b[0m\u001b[0;34m\u001b[0m\u001b[0;34m\u001b[0m\u001b[0m\n\u001b[1;32m   1104\u001b[0m         \u001b[0mfull_backward_hooks\u001b[0m\u001b[0;34m,\u001b[0m \u001b[0mnon_full_backward_hooks\u001b[0m \u001b[0;34m=\u001b[0m \u001b[0;34m[\u001b[0m\u001b[0;34m]\u001b[0m\u001b[0;34m,\u001b[0m \u001b[0;34m[\u001b[0m\u001b[0;34m]\u001b[0m\u001b[0;34m\u001b[0m\u001b[0;34m\u001b[0m\u001b[0m\n",
      "\u001b[0;32m~/.local/lib/python3.8/site-packages/torch/nn/modules/container.py\u001b[0m in \u001b[0;36mforward\u001b[0;34m(self, input)\u001b[0m\n\u001b[1;32m    139\u001b[0m     \u001b[0;32mdef\u001b[0m \u001b[0mforward\u001b[0m\u001b[0;34m(\u001b[0m\u001b[0mself\u001b[0m\u001b[0;34m,\u001b[0m \u001b[0minput\u001b[0m\u001b[0;34m)\u001b[0m\u001b[0;34m:\u001b[0m\u001b[0;34m\u001b[0m\u001b[0;34m\u001b[0m\u001b[0m\n\u001b[1;32m    140\u001b[0m         \u001b[0;32mfor\u001b[0m \u001b[0mmodule\u001b[0m \u001b[0;32min\u001b[0m \u001b[0mself\u001b[0m\u001b[0;34m:\u001b[0m\u001b[0;34m\u001b[0m\u001b[0;34m\u001b[0m\u001b[0m\n\u001b[0;32m--> 141\u001b[0;31m             \u001b[0minput\u001b[0m \u001b[0;34m=\u001b[0m \u001b[0mmodule\u001b[0m\u001b[0;34m(\u001b[0m\u001b[0minput\u001b[0m\u001b[0;34m)\u001b[0m\u001b[0;34m\u001b[0m\u001b[0;34m\u001b[0m\u001b[0m\n\u001b[0m\u001b[1;32m    142\u001b[0m         \u001b[0;32mreturn\u001b[0m \u001b[0minput\u001b[0m\u001b[0;34m\u001b[0m\u001b[0;34m\u001b[0m\u001b[0m\n\u001b[1;32m    143\u001b[0m \u001b[0;34m\u001b[0m\u001b[0m\n",
      "\u001b[0;32m~/.local/lib/python3.8/site-packages/torch/nn/modules/module.py\u001b[0m in \u001b[0;36m_call_impl\u001b[0;34m(self, *input, **kwargs)\u001b[0m\n\u001b[1;32m   1100\u001b[0m         if not (self._backward_hooks or self._forward_hooks or self._forward_pre_hooks or _global_backward_hooks\n\u001b[1;32m   1101\u001b[0m                 or _global_forward_hooks or _global_forward_pre_hooks):\n\u001b[0;32m-> 1102\u001b[0;31m             \u001b[0;32mreturn\u001b[0m \u001b[0mforward_call\u001b[0m\u001b[0;34m(\u001b[0m\u001b[0;34m*\u001b[0m\u001b[0minput\u001b[0m\u001b[0;34m,\u001b[0m \u001b[0;34m**\u001b[0m\u001b[0mkwargs\u001b[0m\u001b[0;34m)\u001b[0m\u001b[0;34m\u001b[0m\u001b[0;34m\u001b[0m\u001b[0m\n\u001b[0m\u001b[1;32m   1103\u001b[0m         \u001b[0;31m# Do not call functions when jit is used\u001b[0m\u001b[0;34m\u001b[0m\u001b[0;34m\u001b[0m\u001b[0;34m\u001b[0m\u001b[0m\n\u001b[1;32m   1104\u001b[0m         \u001b[0mfull_backward_hooks\u001b[0m\u001b[0;34m,\u001b[0m \u001b[0mnon_full_backward_hooks\u001b[0m \u001b[0;34m=\u001b[0m \u001b[0;34m[\u001b[0m\u001b[0;34m]\u001b[0m\u001b[0;34m,\u001b[0m \u001b[0;34m[\u001b[0m\u001b[0;34m]\u001b[0m\u001b[0;34m\u001b[0m\u001b[0;34m\u001b[0m\u001b[0m\n",
      "\u001b[0;32m~/.local/lib/python3.8/site-packages/torch/nn/modules/pooling.py\u001b[0m in \u001b[0;36mforward\u001b[0;34m(self, input)\u001b[0m\n\u001b[1;32m    160\u001b[0m \u001b[0;34m\u001b[0m\u001b[0m\n\u001b[1;32m    161\u001b[0m     \u001b[0;32mdef\u001b[0m \u001b[0mforward\u001b[0m\u001b[0;34m(\u001b[0m\u001b[0mself\u001b[0m\u001b[0;34m,\u001b[0m \u001b[0minput\u001b[0m\u001b[0;34m:\u001b[0m \u001b[0mTensor\u001b[0m\u001b[0;34m)\u001b[0m \u001b[0;34m->\u001b[0m \u001b[0mTensor\u001b[0m\u001b[0;34m:\u001b[0m\u001b[0;34m\u001b[0m\u001b[0;34m\u001b[0m\u001b[0m\n\u001b[0;32m--> 162\u001b[0;31m         return F.max_pool2d(input, self.kernel_size, self.stride,\n\u001b[0m\u001b[1;32m    163\u001b[0m                             \u001b[0mself\u001b[0m\u001b[0;34m.\u001b[0m\u001b[0mpadding\u001b[0m\u001b[0;34m,\u001b[0m \u001b[0mself\u001b[0m\u001b[0;34m.\u001b[0m\u001b[0mdilation\u001b[0m\u001b[0;34m,\u001b[0m \u001b[0mself\u001b[0m\u001b[0;34m.\u001b[0m\u001b[0mceil_mode\u001b[0m\u001b[0;34m,\u001b[0m\u001b[0;34m\u001b[0m\u001b[0;34m\u001b[0m\u001b[0m\n\u001b[1;32m    164\u001b[0m                             self.return_indices)\n",
      "\u001b[0;32m~/.local/lib/python3.8/site-packages/torch/_jit_internal.py\u001b[0m in \u001b[0;36mfn\u001b[0;34m(*args, **kwargs)\u001b[0m\n\u001b[1;32m    420\u001b[0m             \u001b[0;32mreturn\u001b[0m \u001b[0mif_true\u001b[0m\u001b[0;34m(\u001b[0m\u001b[0;34m*\u001b[0m\u001b[0margs\u001b[0m\u001b[0;34m,\u001b[0m \u001b[0;34m**\u001b[0m\u001b[0mkwargs\u001b[0m\u001b[0;34m)\u001b[0m\u001b[0;34m\u001b[0m\u001b[0;34m\u001b[0m\u001b[0m\n\u001b[1;32m    421\u001b[0m         \u001b[0;32melse\u001b[0m\u001b[0;34m:\u001b[0m\u001b[0;34m\u001b[0m\u001b[0;34m\u001b[0m\u001b[0m\n\u001b[0;32m--> 422\u001b[0;31m             \u001b[0;32mreturn\u001b[0m \u001b[0mif_false\u001b[0m\u001b[0;34m(\u001b[0m\u001b[0;34m*\u001b[0m\u001b[0margs\u001b[0m\u001b[0;34m,\u001b[0m \u001b[0;34m**\u001b[0m\u001b[0mkwargs\u001b[0m\u001b[0;34m)\u001b[0m\u001b[0;34m\u001b[0m\u001b[0;34m\u001b[0m\u001b[0m\n\u001b[0m\u001b[1;32m    423\u001b[0m \u001b[0;34m\u001b[0m\u001b[0m\n\u001b[1;32m    424\u001b[0m     \u001b[0;32mif\u001b[0m \u001b[0mif_true\u001b[0m\u001b[0;34m.\u001b[0m\u001b[0m__doc__\u001b[0m \u001b[0;32mis\u001b[0m \u001b[0;32mNone\u001b[0m \u001b[0;32mand\u001b[0m \u001b[0mif_false\u001b[0m\u001b[0;34m.\u001b[0m\u001b[0m__doc__\u001b[0m \u001b[0;32mis\u001b[0m \u001b[0;32mnot\u001b[0m \u001b[0;32mNone\u001b[0m\u001b[0;34m:\u001b[0m\u001b[0;34m\u001b[0m\u001b[0;34m\u001b[0m\u001b[0m\n",
      "\u001b[0;32m~/.local/lib/python3.8/site-packages/torch/nn/functional.py\u001b[0m in \u001b[0;36m_max_pool2d\u001b[0;34m(input, kernel_size, stride, padding, dilation, ceil_mode, return_indices)\u001b[0m\n\u001b[1;32m    717\u001b[0m     \u001b[0;32mif\u001b[0m \u001b[0mstride\u001b[0m \u001b[0;32mis\u001b[0m \u001b[0;32mNone\u001b[0m\u001b[0;34m:\u001b[0m\u001b[0;34m\u001b[0m\u001b[0;34m\u001b[0m\u001b[0m\n\u001b[1;32m    718\u001b[0m         \u001b[0mstride\u001b[0m \u001b[0;34m=\u001b[0m \u001b[0mtorch\u001b[0m\u001b[0;34m.\u001b[0m\u001b[0mjit\u001b[0m\u001b[0;34m.\u001b[0m\u001b[0mannotate\u001b[0m\u001b[0;34m(\u001b[0m\u001b[0mList\u001b[0m\u001b[0;34m[\u001b[0m\u001b[0mint\u001b[0m\u001b[0;34m]\u001b[0m\u001b[0;34m,\u001b[0m \u001b[0;34m[\u001b[0m\u001b[0;34m]\u001b[0m\u001b[0;34m)\u001b[0m\u001b[0;34m\u001b[0m\u001b[0;34m\u001b[0m\u001b[0m\n\u001b[0;32m--> 719\u001b[0;31m     \u001b[0;32mreturn\u001b[0m \u001b[0mtorch\u001b[0m\u001b[0;34m.\u001b[0m\u001b[0mmax_pool2d\u001b[0m\u001b[0;34m(\u001b[0m\u001b[0minput\u001b[0m\u001b[0;34m,\u001b[0m \u001b[0mkernel_size\u001b[0m\u001b[0;34m,\u001b[0m \u001b[0mstride\u001b[0m\u001b[0;34m,\u001b[0m \u001b[0mpadding\u001b[0m\u001b[0;34m,\u001b[0m \u001b[0mdilation\u001b[0m\u001b[0;34m,\u001b[0m \u001b[0mceil_mode\u001b[0m\u001b[0;34m)\u001b[0m\u001b[0;34m\u001b[0m\u001b[0;34m\u001b[0m\u001b[0m\n\u001b[0m\u001b[1;32m    720\u001b[0m \u001b[0;34m\u001b[0m\u001b[0m\n\u001b[1;32m    721\u001b[0m \u001b[0;34m\u001b[0m\u001b[0m\n",
      "\u001b[0;31mKeyboardInterrupt\u001b[0m: "
     ]
    }
   ],
   "source": [
    "loss_fn = nn.CrossEntropyLoss()\n",
    "optimizer = torch.optim.SGD(model_conv3.parameters(), lr=0.01)\n",
    "learning_cycle(100, model_conv3, loss_fn, optimizer, to_NCHW=True)"
   ]
  },
  {
   "cell_type": "code",
   "execution_count": 41,
   "metadata": {},
   "outputs": [],
   "source": [
    "batch_size=258\n",
    "train_dataloader = DataLoader(train_dataset, batch_size=batch_size)\n",
    "test_dataloader = DataLoader(test_dataset, batch_size=batch_size)"
   ]
  },
  {
   "cell_type": "code",
   "execution_count": 42,
   "metadata": {},
   "outputs": [],
   "source": [
    "model_conv3 = Conv3NeuralNetworkBN()"
   ]
  },
  {
   "cell_type": "code",
   "execution_count": 43,
   "metadata": {},
   "outputs": [
    {
     "name": "stdout",
     "output_type": "stream",
     "text": [
      "\n",
      "Epoch 1\n",
      "-------------------------------\n",
      "loss: 3.268945  [    0/52000]\n",
      "loss: 3.253118  [25800/52000]\n",
      "loss: 3.244647  [51600/52000]\n",
      "Test Error: \n",
      " Accuracy: 4.4%, Avg loss: 3.245353\n",
      "Time: 3.807\n",
      "\n",
      "Epoch 2\n",
      "-------------------------------\n",
      "loss: 3.254236  [    0/52000]\n",
      "loss: 3.234674  [25800/52000]\n",
      "loss: 3.213822  [51600/52000]\n",
      "Test Error: \n",
      " Accuracy: 7.6%, Avg loss: 3.212752\n",
      "Time: 3.304\n",
      "\n",
      "Epoch 3\n",
      "-------------------------------\n",
      "loss: 3.224687  [    0/52000]\n",
      "loss: 3.175315  [25800/52000]\n",
      "loss: 3.057386  [51600/52000]\n",
      "Test Error: \n",
      " Accuracy: 11.0%, Avg loss: 3.053830\n",
      "Time: 4.720\n",
      "\n",
      "Epoch 4\n",
      "-------------------------------\n",
      "loss: 3.080420  [    0/52000]\n",
      "loss: 2.813241  [25800/52000]\n",
      "loss: 2.369036  [51600/52000]\n",
      "Test Error: \n",
      " Accuracy: 31.4%, Avg loss: 2.368050\n",
      "Time: 3.598\n",
      "\n",
      "Epoch 5\n",
      "-------------------------------\n",
      "loss: 2.437104  [    0/52000]\n",
      "loss: 2.072988  [25800/52000]\n",
      "loss: 1.676896  [51600/52000]\n",
      "Test Error: \n",
      " Accuracy: 47.6%, Avg loss: 1.739804\n",
      "Time: 4.427\n",
      "\n",
      "Epoch 6\n",
      "-------------------------------\n",
      "loss: 1.815677  [    0/52000]\n",
      "loss: 1.620848  [25800/52000]\n",
      "loss: 1.344944  [51600/52000]\n",
      "Test Error: \n",
      " Accuracy: 56.0%, Avg loss: 1.418525\n",
      "Time: 4.138\n",
      "\n",
      "Epoch 7\n",
      "-------------------------------\n",
      "loss: 1.490569  [    0/52000]\n",
      "loss: 1.330139  [25800/52000]\n",
      "loss: 1.130015  [51600/52000]\n",
      "Test Error: \n",
      " Accuracy: 61.9%, Avg loss: 1.211005\n",
      "Time: 6.964\n",
      "\n",
      "Epoch 8\n",
      "-------------------------------\n",
      "loss: 1.290204  [    0/52000]\n",
      "loss: 1.112138  [25800/52000]\n",
      "loss: 0.959915  [51600/52000]\n",
      "Test Error: \n",
      " Accuracy: 66.2%, Avg loss: 1.068671\n",
      "Time: 4.888\n",
      "\n",
      "Epoch 9\n",
      "-------------------------------\n",
      "loss: 1.129124  [    0/52000]\n",
      "loss: 0.940132  [25800/52000]\n",
      "loss: 0.834842  [51600/52000]\n",
      "Test Error: \n",
      " Accuracy: 69.3%, Avg loss: 0.964042\n",
      "Time: 3.793\n",
      "\n",
      "Epoch 10\n",
      "-------------------------------\n",
      "loss: 0.994430  [    0/52000]\n",
      "loss: 0.798189  [25800/52000]\n",
      "loss: 0.749523  [51600/52000]\n",
      "Test Error: \n",
      " Accuracy: 72.0%, Avg loss: 0.885399\n",
      "Time: 3.554\n",
      "\n",
      "Epoch 11\n",
      "-------------------------------\n",
      "loss: 0.885833  [    0/52000]\n",
      "loss: 0.695655  [25800/52000]\n",
      "loss: 0.688872  [51600/52000]\n",
      "Test Error: \n",
      " Accuracy: 73.9%, Avg loss: 0.826625\n",
      "Time: 4.398\n",
      "\n",
      "Epoch 12\n",
      "-------------------------------\n",
      "loss: 0.804058  [    0/52000]\n",
      "loss: 0.626496  [25800/52000]\n",
      "loss: 0.643790  [51600/52000]\n",
      "Test Error: \n",
      " Accuracy: 75.6%, Avg loss: 0.770780\n",
      "Time: 5.229\n",
      "\n",
      "Epoch 13\n",
      "-------------------------------\n",
      "loss: 0.736092  [    0/52000]\n",
      "loss: 0.577302  [25800/52000]\n",
      "loss: 0.607724  [51600/52000]\n",
      "Test Error: \n",
      " Accuracy: 76.8%, Avg loss: 0.734736\n",
      "Time: 4.852\n",
      "\n",
      "Epoch 14\n",
      "-------------------------------\n",
      "loss: 0.685477  [    0/52000]\n",
      "loss: 0.540958  [25800/52000]\n",
      "loss: 0.577110  [51600/52000]\n",
      "Test Error: \n",
      " Accuracy: 77.9%, Avg loss: 0.702100\n",
      "Time: 4.058\n",
      "\n",
      "Epoch 15\n",
      "-------------------------------\n",
      "loss: 0.643902  [    0/52000]\n",
      "loss: 0.514134  [25800/52000]\n",
      "loss: 0.550679  [51600/52000]\n",
      "Test Error: \n",
      " Accuracy: 78.9%, Avg loss: 0.671795\n",
      "Time: 3.988\n",
      "\n",
      "Epoch 16\n",
      "-------------------------------\n",
      "loss: 0.608358  [    0/52000]\n",
      "loss: 0.491345  [25800/52000]\n",
      "loss: 0.528113  [51600/52000]\n",
      "Test Error: \n",
      " Accuracy: 79.5%, Avg loss: 0.645849\n",
      "Time: 5.357\n",
      "\n",
      "Epoch 17\n",
      "-------------------------------\n",
      "loss: 0.576303  [    0/52000]\n",
      "loss: 0.475288  [25800/52000]\n",
      "loss: 0.507360  [51600/52000]\n",
      "Test Error: \n",
      " Accuracy: 80.2%, Avg loss: 0.624601\n",
      "Time: 6.261\n",
      "\n",
      "Epoch 18\n",
      "-------------------------------\n",
      "loss: 0.548392  [    0/52000]\n",
      "loss: 0.457521  [25800/52000]\n",
      "loss: 0.486154  [51600/52000]\n",
      "Test Error: \n",
      " Accuracy: 80.9%, Avg loss: 0.599607\n",
      "Time: 5.265\n",
      "\n",
      "Epoch 19\n",
      "-------------------------------\n",
      "loss: 0.522721  [    0/52000]\n"
     ]
    },
    {
     "ename": "KeyboardInterrupt",
     "evalue": "",
     "output_type": "error",
     "traceback": [
      "\u001b[0;31m---------------------------------------------------------------------------\u001b[0m",
      "\u001b[0;31mKeyboardInterrupt\u001b[0m                         Traceback (most recent call last)",
      "\u001b[0;32m/tmp/ipykernel_4913/3605614151.py\u001b[0m in \u001b[0;36m<module>\u001b[0;34m\u001b[0m\n\u001b[1;32m      1\u001b[0m \u001b[0mloss_fn\u001b[0m \u001b[0;34m=\u001b[0m \u001b[0mnn\u001b[0m\u001b[0;34m.\u001b[0m\u001b[0mCrossEntropyLoss\u001b[0m\u001b[0;34m(\u001b[0m\u001b[0;34m)\u001b[0m\u001b[0;34m\u001b[0m\u001b[0;34m\u001b[0m\u001b[0m\n\u001b[1;32m      2\u001b[0m \u001b[0moptimizer\u001b[0m \u001b[0;34m=\u001b[0m \u001b[0mtorch\u001b[0m\u001b[0;34m.\u001b[0m\u001b[0moptim\u001b[0m\u001b[0;34m.\u001b[0m\u001b[0mSGD\u001b[0m\u001b[0;34m(\u001b[0m\u001b[0mmodel_conv3\u001b[0m\u001b[0;34m.\u001b[0m\u001b[0mparameters\u001b[0m\u001b[0;34m(\u001b[0m\u001b[0;34m)\u001b[0m\u001b[0;34m,\u001b[0m \u001b[0mlr\u001b[0m\u001b[0;34m=\u001b[0m\u001b[0;36m0.01\u001b[0m\u001b[0;34m)\u001b[0m\u001b[0;34m\u001b[0m\u001b[0;34m\u001b[0m\u001b[0m\n\u001b[0;32m----> 3\u001b[0;31m \u001b[0mlearning_cycle\u001b[0m\u001b[0;34m(\u001b[0m\u001b[0;36m20\u001b[0m\u001b[0;34m,\u001b[0m \u001b[0mmodel_conv3\u001b[0m\u001b[0;34m,\u001b[0m \u001b[0mloss_fn\u001b[0m\u001b[0;34m,\u001b[0m \u001b[0moptimizer\u001b[0m\u001b[0;34m,\u001b[0m \u001b[0mto_NCHW\u001b[0m\u001b[0;34m=\u001b[0m\u001b[0;32mTrue\u001b[0m\u001b[0;34m)\u001b[0m\u001b[0;34m\u001b[0m\u001b[0;34m\u001b[0m\u001b[0m\n\u001b[0m",
      "\u001b[0;32m/tmp/ipykernel_4913/1980290054.py\u001b[0m in \u001b[0;36mlearning_cycle\u001b[0;34m(epochs, model, loss_fn, optimizer, to_NCHW)\u001b[0m\n\u001b[1;32m      3\u001b[0m         \u001b[0mprint\u001b[0m\u001b[0;34m(\u001b[0m\u001b[0;34mf\"\\nEpoch {t+1}\\n-------------------------------\"\u001b[0m\u001b[0;34m)\u001b[0m\u001b[0;34m\u001b[0m\u001b[0;34m\u001b[0m\u001b[0m\n\u001b[1;32m      4\u001b[0m         \u001b[0mstarttm\u001b[0m \u001b[0;34m=\u001b[0m \u001b[0mtime\u001b[0m\u001b[0;34m.\u001b[0m\u001b[0mtime\u001b[0m\u001b[0;34m(\u001b[0m\u001b[0;34m)\u001b[0m\u001b[0;34m\u001b[0m\u001b[0;34m\u001b[0m\u001b[0m\n\u001b[0;32m----> 5\u001b[0;31m         \u001b[0mtrain\u001b[0m\u001b[0;34m(\u001b[0m\u001b[0mtrain_dataloader\u001b[0m\u001b[0;34m,\u001b[0m \u001b[0mmodel\u001b[0m\u001b[0;34m,\u001b[0m \u001b[0mloss_fn\u001b[0m\u001b[0;34m,\u001b[0m \u001b[0moptimizer\u001b[0m\u001b[0;34m,\u001b[0m \u001b[0mto_NCHW\u001b[0m \u001b[0;34m=\u001b[0m \u001b[0mto_NCHW\u001b[0m\u001b[0;34m)\u001b[0m\u001b[0;34m\u001b[0m\u001b[0;34m\u001b[0m\u001b[0m\n\u001b[0m\u001b[1;32m      6\u001b[0m         \u001b[0mtest\u001b[0m\u001b[0;34m(\u001b[0m\u001b[0mtest_dataloader\u001b[0m\u001b[0;34m,\u001b[0m \u001b[0mmodel\u001b[0m\u001b[0;34m,\u001b[0m \u001b[0mloss_fn\u001b[0m\u001b[0;34m,\u001b[0m \u001b[0mto_NCHW\u001b[0m \u001b[0;34m=\u001b[0m \u001b[0mto_NCHW\u001b[0m\u001b[0;34m)\u001b[0m\u001b[0;34m\u001b[0m\u001b[0;34m\u001b[0m\u001b[0m\n\u001b[1;32m      7\u001b[0m         \u001b[0mendtm\u001b[0m \u001b[0;34m=\u001b[0m \u001b[0mtime\u001b[0m\u001b[0;34m.\u001b[0m\u001b[0mtime\u001b[0m\u001b[0;34m(\u001b[0m\u001b[0;34m)\u001b[0m\u001b[0;34m\u001b[0m\u001b[0;34m\u001b[0m\u001b[0m\n",
      "\u001b[0;32m/tmp/ipykernel_4913/2120308267.py\u001b[0m in \u001b[0;36mtrain\u001b[0;34m(dataloader, model, loss_fn, optimizer, to_NCHW)\u001b[0m\n\u001b[1;32m      8\u001b[0m \u001b[0;34m\u001b[0m\u001b[0m\n\u001b[1;32m      9\u001b[0m         \u001b[0;31m# Compute prediction error\u001b[0m\u001b[0;34m\u001b[0m\u001b[0;34m\u001b[0m\u001b[0;34m\u001b[0m\u001b[0m\n\u001b[0;32m---> 10\u001b[0;31m         \u001b[0mpred\u001b[0m \u001b[0;34m=\u001b[0m \u001b[0mmodel\u001b[0m\u001b[0;34m(\u001b[0m\u001b[0mX\u001b[0m\u001b[0;34m)\u001b[0m\u001b[0;34m\u001b[0m\u001b[0;34m\u001b[0m\u001b[0m\n\u001b[0m\u001b[1;32m     11\u001b[0m         \u001b[0;31m#print(pred.shape)\u001b[0m\u001b[0;34m\u001b[0m\u001b[0;34m\u001b[0m\u001b[0;34m\u001b[0m\u001b[0m\n\u001b[1;32m     12\u001b[0m         \u001b[0mloss\u001b[0m \u001b[0;34m=\u001b[0m \u001b[0mloss_fn\u001b[0m\u001b[0;34m(\u001b[0m\u001b[0mpred\u001b[0m\u001b[0;34m,\u001b[0m \u001b[0my\u001b[0m\u001b[0;34m)\u001b[0m\u001b[0;34m\u001b[0m\u001b[0;34m\u001b[0m\u001b[0m\n",
      "\u001b[0;32m~/.local/lib/python3.8/site-packages/torch/nn/modules/module.py\u001b[0m in \u001b[0;36m_call_impl\u001b[0;34m(self, *input, **kwargs)\u001b[0m\n\u001b[1;32m   1100\u001b[0m         if not (self._backward_hooks or self._forward_hooks or self._forward_pre_hooks or _global_backward_hooks\n\u001b[1;32m   1101\u001b[0m                 or _global_forward_hooks or _global_forward_pre_hooks):\n\u001b[0;32m-> 1102\u001b[0;31m             \u001b[0;32mreturn\u001b[0m \u001b[0mforward_call\u001b[0m\u001b[0;34m(\u001b[0m\u001b[0;34m*\u001b[0m\u001b[0minput\u001b[0m\u001b[0;34m,\u001b[0m \u001b[0;34m**\u001b[0m\u001b[0mkwargs\u001b[0m\u001b[0;34m)\u001b[0m\u001b[0;34m\u001b[0m\u001b[0;34m\u001b[0m\u001b[0m\n\u001b[0m\u001b[1;32m   1103\u001b[0m         \u001b[0;31m# Do not call functions when jit is used\u001b[0m\u001b[0;34m\u001b[0m\u001b[0;34m\u001b[0m\u001b[0;34m\u001b[0m\u001b[0m\n\u001b[1;32m   1104\u001b[0m         \u001b[0mfull_backward_hooks\u001b[0m\u001b[0;34m,\u001b[0m \u001b[0mnon_full_backward_hooks\u001b[0m \u001b[0;34m=\u001b[0m \u001b[0;34m[\u001b[0m\u001b[0;34m]\u001b[0m\u001b[0;34m,\u001b[0m \u001b[0;34m[\u001b[0m\u001b[0;34m]\u001b[0m\u001b[0;34m\u001b[0m\u001b[0;34m\u001b[0m\u001b[0m\n",
      "\u001b[0;32m/tmp/ipykernel_4913/3720093540.py\u001b[0m in \u001b[0;36mforward\u001b[0;34m(self, x)\u001b[0m\n\u001b[1;32m     21\u001b[0m         )\n\u001b[1;32m     22\u001b[0m     \u001b[0;32mdef\u001b[0m \u001b[0mforward\u001b[0m\u001b[0;34m(\u001b[0m\u001b[0mself\u001b[0m\u001b[0;34m,\u001b[0m \u001b[0mx\u001b[0m\u001b[0;34m)\u001b[0m\u001b[0;34m:\u001b[0m\u001b[0;34m\u001b[0m\u001b[0;34m\u001b[0m\u001b[0m\n\u001b[0;32m---> 23\u001b[0;31m         \u001b[0mx\u001b[0m \u001b[0;34m=\u001b[0m \u001b[0mself\u001b[0m\u001b[0;34m.\u001b[0m\u001b[0mconvolution_relu_stack\u001b[0m\u001b[0;34m(\u001b[0m\u001b[0mx\u001b[0m\u001b[0;34m)\u001b[0m\u001b[0;34m\u001b[0m\u001b[0;34m\u001b[0m\u001b[0m\n\u001b[0m\u001b[1;32m     24\u001b[0m         \u001b[0mx\u001b[0m \u001b[0;34m=\u001b[0m \u001b[0mself\u001b[0m\u001b[0;34m.\u001b[0m\u001b[0mflatten\u001b[0m\u001b[0;34m(\u001b[0m\u001b[0mx\u001b[0m\u001b[0;34m)\u001b[0m\u001b[0;34m\u001b[0m\u001b[0;34m\u001b[0m\u001b[0m\n\u001b[1;32m     25\u001b[0m         \u001b[0mlogits\u001b[0m \u001b[0;34m=\u001b[0m \u001b[0mself\u001b[0m\u001b[0;34m.\u001b[0m\u001b[0mlinear_relu_stack\u001b[0m\u001b[0;34m(\u001b[0m\u001b[0mx\u001b[0m\u001b[0;34m)\u001b[0m\u001b[0;34m\u001b[0m\u001b[0;34m\u001b[0m\u001b[0m\n",
      "\u001b[0;32m~/.local/lib/python3.8/site-packages/torch/nn/modules/module.py\u001b[0m in \u001b[0;36m_call_impl\u001b[0;34m(self, *input, **kwargs)\u001b[0m\n\u001b[1;32m   1100\u001b[0m         if not (self._backward_hooks or self._forward_hooks or self._forward_pre_hooks or _global_backward_hooks\n\u001b[1;32m   1101\u001b[0m                 or _global_forward_hooks or _global_forward_pre_hooks):\n\u001b[0;32m-> 1102\u001b[0;31m             \u001b[0;32mreturn\u001b[0m \u001b[0mforward_call\u001b[0m\u001b[0;34m(\u001b[0m\u001b[0;34m*\u001b[0m\u001b[0minput\u001b[0m\u001b[0;34m,\u001b[0m \u001b[0;34m**\u001b[0m\u001b[0mkwargs\u001b[0m\u001b[0;34m)\u001b[0m\u001b[0;34m\u001b[0m\u001b[0;34m\u001b[0m\u001b[0m\n\u001b[0m\u001b[1;32m   1103\u001b[0m         \u001b[0;31m# Do not call functions when jit is used\u001b[0m\u001b[0;34m\u001b[0m\u001b[0;34m\u001b[0m\u001b[0;34m\u001b[0m\u001b[0m\n\u001b[1;32m   1104\u001b[0m         \u001b[0mfull_backward_hooks\u001b[0m\u001b[0;34m,\u001b[0m \u001b[0mnon_full_backward_hooks\u001b[0m \u001b[0;34m=\u001b[0m \u001b[0;34m[\u001b[0m\u001b[0;34m]\u001b[0m\u001b[0;34m,\u001b[0m \u001b[0;34m[\u001b[0m\u001b[0;34m]\u001b[0m\u001b[0;34m\u001b[0m\u001b[0;34m\u001b[0m\u001b[0m\n",
      "\u001b[0;32m~/.local/lib/python3.8/site-packages/torch/nn/modules/container.py\u001b[0m in \u001b[0;36mforward\u001b[0;34m(self, input)\u001b[0m\n\u001b[1;32m    139\u001b[0m     \u001b[0;32mdef\u001b[0m \u001b[0mforward\u001b[0m\u001b[0;34m(\u001b[0m\u001b[0mself\u001b[0m\u001b[0;34m,\u001b[0m \u001b[0minput\u001b[0m\u001b[0;34m)\u001b[0m\u001b[0;34m:\u001b[0m\u001b[0;34m\u001b[0m\u001b[0;34m\u001b[0m\u001b[0m\n\u001b[1;32m    140\u001b[0m         \u001b[0;32mfor\u001b[0m \u001b[0mmodule\u001b[0m \u001b[0;32min\u001b[0m \u001b[0mself\u001b[0m\u001b[0;34m:\u001b[0m\u001b[0;34m\u001b[0m\u001b[0;34m\u001b[0m\u001b[0m\n\u001b[0;32m--> 141\u001b[0;31m             \u001b[0minput\u001b[0m \u001b[0;34m=\u001b[0m \u001b[0mmodule\u001b[0m\u001b[0;34m(\u001b[0m\u001b[0minput\u001b[0m\u001b[0;34m)\u001b[0m\u001b[0;34m\u001b[0m\u001b[0;34m\u001b[0m\u001b[0m\n\u001b[0m\u001b[1;32m    142\u001b[0m         \u001b[0;32mreturn\u001b[0m \u001b[0minput\u001b[0m\u001b[0;34m\u001b[0m\u001b[0;34m\u001b[0m\u001b[0m\n\u001b[1;32m    143\u001b[0m \u001b[0;34m\u001b[0m\u001b[0m\n",
      "\u001b[0;32m~/.local/lib/python3.8/site-packages/torch/nn/modules/module.py\u001b[0m in \u001b[0;36m_call_impl\u001b[0;34m(self, *input, **kwargs)\u001b[0m\n\u001b[1;32m   1100\u001b[0m         if not (self._backward_hooks or self._forward_hooks or self._forward_pre_hooks or _global_backward_hooks\n\u001b[1;32m   1101\u001b[0m                 or _global_forward_hooks or _global_forward_pre_hooks):\n\u001b[0;32m-> 1102\u001b[0;31m             \u001b[0;32mreturn\u001b[0m \u001b[0mforward_call\u001b[0m\u001b[0;34m(\u001b[0m\u001b[0;34m*\u001b[0m\u001b[0minput\u001b[0m\u001b[0;34m,\u001b[0m \u001b[0;34m**\u001b[0m\u001b[0mkwargs\u001b[0m\u001b[0;34m)\u001b[0m\u001b[0;34m\u001b[0m\u001b[0;34m\u001b[0m\u001b[0m\n\u001b[0m\u001b[1;32m   1103\u001b[0m         \u001b[0;31m# Do not call functions when jit is used\u001b[0m\u001b[0;34m\u001b[0m\u001b[0;34m\u001b[0m\u001b[0;34m\u001b[0m\u001b[0m\n\u001b[1;32m   1104\u001b[0m         \u001b[0mfull_backward_hooks\u001b[0m\u001b[0;34m,\u001b[0m \u001b[0mnon_full_backward_hooks\u001b[0m \u001b[0;34m=\u001b[0m \u001b[0;34m[\u001b[0m\u001b[0;34m]\u001b[0m\u001b[0;34m,\u001b[0m \u001b[0;34m[\u001b[0m\u001b[0;34m]\u001b[0m\u001b[0;34m\u001b[0m\u001b[0;34m\u001b[0m\u001b[0m\n",
      "\u001b[0;32m~/.local/lib/python3.8/site-packages/torch/nn/modules/conv.py\u001b[0m in \u001b[0;36mforward\u001b[0;34m(self, input)\u001b[0m\n\u001b[1;32m    444\u001b[0m \u001b[0;34m\u001b[0m\u001b[0m\n\u001b[1;32m    445\u001b[0m     \u001b[0;32mdef\u001b[0m \u001b[0mforward\u001b[0m\u001b[0;34m(\u001b[0m\u001b[0mself\u001b[0m\u001b[0;34m,\u001b[0m \u001b[0minput\u001b[0m\u001b[0;34m:\u001b[0m \u001b[0mTensor\u001b[0m\u001b[0;34m)\u001b[0m \u001b[0;34m->\u001b[0m \u001b[0mTensor\u001b[0m\u001b[0;34m:\u001b[0m\u001b[0;34m\u001b[0m\u001b[0;34m\u001b[0m\u001b[0m\n\u001b[0;32m--> 446\u001b[0;31m         \u001b[0;32mreturn\u001b[0m \u001b[0mself\u001b[0m\u001b[0;34m.\u001b[0m\u001b[0m_conv_forward\u001b[0m\u001b[0;34m(\u001b[0m\u001b[0minput\u001b[0m\u001b[0;34m,\u001b[0m \u001b[0mself\u001b[0m\u001b[0;34m.\u001b[0m\u001b[0mweight\u001b[0m\u001b[0;34m,\u001b[0m \u001b[0mself\u001b[0m\u001b[0;34m.\u001b[0m\u001b[0mbias\u001b[0m\u001b[0;34m)\u001b[0m\u001b[0;34m\u001b[0m\u001b[0;34m\u001b[0m\u001b[0m\n\u001b[0m\u001b[1;32m    447\u001b[0m \u001b[0;34m\u001b[0m\u001b[0m\n\u001b[1;32m    448\u001b[0m \u001b[0;32mclass\u001b[0m \u001b[0mConv3d\u001b[0m\u001b[0;34m(\u001b[0m\u001b[0m_ConvNd\u001b[0m\u001b[0;34m)\u001b[0m\u001b[0;34m:\u001b[0m\u001b[0;34m\u001b[0m\u001b[0;34m\u001b[0m\u001b[0m\n",
      "\u001b[0;32m~/.local/lib/python3.8/site-packages/torch/nn/modules/conv.py\u001b[0m in \u001b[0;36m_conv_forward\u001b[0;34m(self, input, weight, bias)\u001b[0m\n\u001b[1;32m    440\u001b[0m                             \u001b[0mweight\u001b[0m\u001b[0;34m,\u001b[0m \u001b[0mbias\u001b[0m\u001b[0;34m,\u001b[0m \u001b[0mself\u001b[0m\u001b[0;34m.\u001b[0m\u001b[0mstride\u001b[0m\u001b[0;34m,\u001b[0m\u001b[0;34m\u001b[0m\u001b[0;34m\u001b[0m\u001b[0m\n\u001b[1;32m    441\u001b[0m                             _pair(0), self.dilation, self.groups)\n\u001b[0;32m--> 442\u001b[0;31m         return F.conv2d(input, weight, bias, self.stride,\n\u001b[0m\u001b[1;32m    443\u001b[0m                         self.padding, self.dilation, self.groups)\n\u001b[1;32m    444\u001b[0m \u001b[0;34m\u001b[0m\u001b[0m\n",
      "\u001b[0;31mKeyboardInterrupt\u001b[0m: "
     ]
    }
   ],
   "source": [
    "loss_fn = nn.CrossEntropyLoss()\n",
    "optimizer = torch.optim.SGD(model_conv3.parameters(), lr=0.01)\n",
    "learning_cycle(20, model_conv3, loss_fn, optimizer, to_NCHW=True)"
   ]
  },
  {
   "cell_type": "code",
   "execution_count": 34,
   "metadata": {},
   "outputs": [
    {
     "name": "stdout",
     "output_type": "stream",
     "text": [
      "Epoch 1\n",
      "-------------------------------\n",
      "loss: 0.257824  [    0/52000]\n",
      "loss: 0.329321  [25800/52000]\n",
      "loss: 0.313272  [51600/52000]\n",
      "Test Error: \n",
      " Accuracy: 89.4%, Avg loss: 0.321442 \n",
      "\n",
      "Epoch 2\n",
      "-------------------------------\n",
      "loss: 0.262274  [    0/52000]\n",
      "loss: 0.327841  [25800/52000]\n",
      "loss: 0.312864  [51600/52000]\n",
      "Test Error: \n",
      " Accuracy: 89.4%, Avg loss: 0.320899 \n",
      "\n",
      "Epoch 3\n",
      "-------------------------------\n",
      "loss: 0.262055  [    0/52000]\n",
      "loss: 0.327272  [25800/52000]\n",
      "loss: 0.312225  [51600/52000]\n",
      "Test Error: \n",
      " Accuracy: 89.4%, Avg loss: 0.320536 \n",
      "\n",
      "Epoch 4\n",
      "-------------------------------\n",
      "loss: 0.261726  [    0/52000]\n",
      "loss: 0.326914  [25800/52000]\n",
      "loss: 0.311740  [51600/52000]\n",
      "Test Error: \n",
      " Accuracy: 89.4%, Avg loss: 0.320223 \n",
      "\n",
      "Epoch 5\n",
      "-------------------------------\n",
      "loss: 0.261486  [    0/52000]\n",
      "loss: 0.326612  [25800/52000]\n",
      "loss: 0.311202  [51600/52000]\n",
      "Test Error: \n",
      " Accuracy: 89.4%, Avg loss: 0.319933 \n",
      "\n",
      "Epoch 6\n",
      "-------------------------------\n",
      "loss: 0.261245  [    0/52000]\n",
      "loss: 0.326288  [25800/52000]\n",
      "loss: 0.310636  [51600/52000]\n",
      "Test Error: \n",
      " Accuracy: 89.4%, Avg loss: 0.319643 \n",
      "\n",
      "Epoch 7\n",
      "-------------------------------\n",
      "loss: 0.260848  [    0/52000]\n",
      "loss: 0.326007  [25800/52000]\n",
      "loss: 0.310088  [51600/52000]\n",
      "Test Error: \n",
      " Accuracy: 89.4%, Avg loss: 0.319367 \n",
      "\n",
      "Epoch 8\n",
      "-------------------------------\n",
      "loss: 0.260467  [    0/52000]\n",
      "loss: 0.325702  [25800/52000]\n",
      "loss: 0.309445  [51600/52000]\n",
      "Test Error: \n",
      " Accuracy: 89.4%, Avg loss: 0.319096 \n",
      "\n",
      "Epoch 9\n",
      "-------------------------------\n",
      "loss: 0.260177  [    0/52000]\n",
      "loss: 0.325305  [25800/52000]\n",
      "loss: 0.308972  [51600/52000]\n",
      "Test Error: \n",
      " Accuracy: 89.4%, Avg loss: 0.318844 \n",
      "\n",
      "Epoch 10\n",
      "-------------------------------\n",
      "loss: 0.259830  [    0/52000]\n",
      "loss: 0.324920  [25800/52000]\n",
      "loss: 0.308400  [51600/52000]\n",
      "Test Error: \n",
      " Accuracy: 89.4%, Avg loss: 0.318584 \n",
      "\n",
      "Epoch 11\n",
      "-------------------------------\n",
      "loss: 0.259436  [    0/52000]\n",
      "loss: 0.324551  [25800/52000]\n",
      "loss: 0.307853  [51600/52000]\n",
      "Test Error: \n",
      " Accuracy: 89.4%, Avg loss: 0.318336 \n",
      "\n",
      "Epoch 12\n",
      "-------------------------------\n",
      "loss: 0.259057  [    0/52000]\n",
      "loss: 0.324209  [25800/52000]\n",
      "loss: 0.307358  [51600/52000]\n",
      "Test Error: \n",
      " Accuracy: 89.4%, Avg loss: 0.318092 \n",
      "\n",
      "Epoch 13\n",
      "-------------------------------\n",
      "loss: 0.258682  [    0/52000]\n",
      "loss: 0.323856  [25800/52000]\n",
      "loss: 0.306878  [51600/52000]\n",
      "Test Error: \n",
      " Accuracy: 89.4%, Avg loss: 0.317841 \n",
      "\n",
      "Epoch 14\n",
      "-------------------------------\n",
      "loss: 0.258298  [    0/52000]\n",
      "loss: 0.323522  [25800/52000]\n",
      "loss: 0.306332  [51600/52000]\n",
      "Test Error: \n",
      " Accuracy: 89.4%, Avg loss: 0.317601 \n",
      "\n",
      "Epoch 15\n",
      "-------------------------------\n",
      "loss: 0.257938  [    0/52000]\n",
      "loss: 0.323152  [25800/52000]\n",
      "loss: 0.305822  [51600/52000]\n",
      "Test Error: \n",
      " Accuracy: 89.4%, Avg loss: 0.317349 \n",
      "\n",
      "Epoch 16\n",
      "-------------------------------\n",
      "loss: 0.257529  [    0/52000]\n",
      "loss: 0.322799  [25800/52000]\n",
      "loss: 0.305296  [51600/52000]\n",
      "Test Error: \n",
      " Accuracy: 89.4%, Avg loss: 0.317106 \n",
      "\n",
      "Epoch 17\n",
      "-------------------------------\n",
      "loss: 0.257056  [    0/52000]\n",
      "loss: 0.322423  [25800/52000]\n",
      "loss: 0.304805  [51600/52000]\n",
      "Test Error: \n",
      " Accuracy: 89.4%, Avg loss: 0.316866 \n",
      "\n",
      "Epoch 18\n",
      "-------------------------------\n",
      "loss: 0.256616  [    0/52000]\n"
     ]
    },
    {
     "ename": "KeyboardInterrupt",
     "evalue": "",
     "output_type": "error",
     "traceback": [
      "\u001b[0;31m---------------------------------------------------------------------------\u001b[0m",
      "\u001b[0;31mKeyboardInterrupt\u001b[0m                         Traceback (most recent call last)",
      "\u001b[0;32m/tmp/ipykernel_5818/1523254136.py\u001b[0m in \u001b[0;36m<module>\u001b[0;34m\u001b[0m\n\u001b[1;32m      1\u001b[0m \u001b[0mloss_fn\u001b[0m \u001b[0;34m=\u001b[0m \u001b[0mnn\u001b[0m\u001b[0;34m.\u001b[0m\u001b[0mCrossEntropyLoss\u001b[0m\u001b[0;34m(\u001b[0m\u001b[0;34m)\u001b[0m\u001b[0;34m\u001b[0m\u001b[0;34m\u001b[0m\u001b[0m\n\u001b[1;32m      2\u001b[0m \u001b[0moptimizer\u001b[0m \u001b[0;34m=\u001b[0m \u001b[0mtorch\u001b[0m\u001b[0;34m.\u001b[0m\u001b[0moptim\u001b[0m\u001b[0;34m.\u001b[0m\u001b[0mSGD\u001b[0m\u001b[0;34m(\u001b[0m\u001b[0mmodel_conv3\u001b[0m\u001b[0;34m.\u001b[0m\u001b[0mparameters\u001b[0m\u001b[0;34m(\u001b[0m\u001b[0;34m)\u001b[0m\u001b[0;34m,\u001b[0m \u001b[0mlr\u001b[0m\u001b[0;34m=\u001b[0m\u001b[0;36m0.001\u001b[0m\u001b[0;34m)\u001b[0m\u001b[0;34m\u001b[0m\u001b[0;34m\u001b[0m\u001b[0m\n\u001b[0;32m----> 3\u001b[0;31m \u001b[0mlearning_cycle\u001b[0m\u001b[0;34m(\u001b[0m\u001b[0;36m20\u001b[0m\u001b[0;34m,\u001b[0m \u001b[0mmodel_conv3\u001b[0m\u001b[0;34m,\u001b[0m \u001b[0mloss_fn\u001b[0m\u001b[0;34m,\u001b[0m \u001b[0moptimizer\u001b[0m\u001b[0;34m,\u001b[0m \u001b[0mto_NCHW\u001b[0m\u001b[0;34m=\u001b[0m\u001b[0;32mTrue\u001b[0m\u001b[0;34m)\u001b[0m\u001b[0;34m\u001b[0m\u001b[0;34m\u001b[0m\u001b[0m\n\u001b[0m",
      "\u001b[0;32m/tmp/ipykernel_5818/3964237817.py\u001b[0m in \u001b[0;36mlearning_cycle\u001b[0;34m(epochs, model, loss_fn, optimizer, to_NCHW)\u001b[0m\n\u001b[1;32m      2\u001b[0m     \u001b[0;32mfor\u001b[0m \u001b[0mt\u001b[0m \u001b[0;32min\u001b[0m \u001b[0mrange\u001b[0m\u001b[0;34m(\u001b[0m\u001b[0mepochs\u001b[0m\u001b[0;34m)\u001b[0m\u001b[0;34m:\u001b[0m\u001b[0;34m\u001b[0m\u001b[0;34m\u001b[0m\u001b[0m\n\u001b[1;32m      3\u001b[0m         \u001b[0mprint\u001b[0m\u001b[0;34m(\u001b[0m\u001b[0;34mf\"Epoch {t+1}\\n-------------------------------\"\u001b[0m\u001b[0;34m)\u001b[0m\u001b[0;34m\u001b[0m\u001b[0;34m\u001b[0m\u001b[0m\n\u001b[0;32m----> 4\u001b[0;31m         \u001b[0mtrain\u001b[0m\u001b[0;34m(\u001b[0m\u001b[0mtrain_dataloader\u001b[0m\u001b[0;34m,\u001b[0m \u001b[0mmodel\u001b[0m\u001b[0;34m,\u001b[0m \u001b[0mloss_fn\u001b[0m\u001b[0;34m,\u001b[0m \u001b[0moptimizer\u001b[0m\u001b[0;34m,\u001b[0m \u001b[0mto_NCHW\u001b[0m \u001b[0;34m=\u001b[0m \u001b[0mto_NCHW\u001b[0m\u001b[0;34m)\u001b[0m\u001b[0;34m\u001b[0m\u001b[0;34m\u001b[0m\u001b[0m\n\u001b[0m\u001b[1;32m      5\u001b[0m         \u001b[0mtest\u001b[0m\u001b[0;34m(\u001b[0m\u001b[0mtest_dataloader\u001b[0m\u001b[0;34m,\u001b[0m \u001b[0mmodel\u001b[0m\u001b[0;34m,\u001b[0m \u001b[0mloss_fn\u001b[0m\u001b[0;34m,\u001b[0m \u001b[0mto_NCHW\u001b[0m \u001b[0;34m=\u001b[0m \u001b[0mto_NCHW\u001b[0m\u001b[0;34m)\u001b[0m\u001b[0;34m\u001b[0m\u001b[0;34m\u001b[0m\u001b[0m\n\u001b[1;32m      6\u001b[0m         \u001b[0;31m#print(\"Done!\")\u001b[0m\u001b[0;34m\u001b[0m\u001b[0;34m\u001b[0m\u001b[0;34m\u001b[0m\u001b[0m\n",
      "\u001b[0;32m/tmp/ipykernel_5818/2120308267.py\u001b[0m in \u001b[0;36mtrain\u001b[0;34m(dataloader, model, loss_fn, optimizer, to_NCHW)\u001b[0m\n\u001b[1;32m     14\u001b[0m         \u001b[0;31m# Backpropagation\u001b[0m\u001b[0;34m\u001b[0m\u001b[0;34m\u001b[0m\u001b[0;34m\u001b[0m\u001b[0m\n\u001b[1;32m     15\u001b[0m         \u001b[0moptimizer\u001b[0m\u001b[0;34m.\u001b[0m\u001b[0mzero_grad\u001b[0m\u001b[0;34m(\u001b[0m\u001b[0;34m)\u001b[0m\u001b[0;34m\u001b[0m\u001b[0;34m\u001b[0m\u001b[0m\n\u001b[0;32m---> 16\u001b[0;31m         \u001b[0mloss\u001b[0m\u001b[0;34m.\u001b[0m\u001b[0mbackward\u001b[0m\u001b[0;34m(\u001b[0m\u001b[0;34m)\u001b[0m\u001b[0;34m\u001b[0m\u001b[0;34m\u001b[0m\u001b[0m\n\u001b[0m\u001b[1;32m     17\u001b[0m         \u001b[0moptimizer\u001b[0m\u001b[0;34m.\u001b[0m\u001b[0mstep\u001b[0m\u001b[0;34m(\u001b[0m\u001b[0;34m)\u001b[0m\u001b[0;34m\u001b[0m\u001b[0;34m\u001b[0m\u001b[0m\n\u001b[1;32m     18\u001b[0m \u001b[0;34m\u001b[0m\u001b[0m\n",
      "\u001b[0;32m~/.local/lib/python3.8/site-packages/torch/_tensor.py\u001b[0m in \u001b[0;36mbackward\u001b[0;34m(self, gradient, retain_graph, create_graph, inputs)\u001b[0m\n\u001b[1;32m    305\u001b[0m                 \u001b[0mcreate_graph\u001b[0m\u001b[0;34m=\u001b[0m\u001b[0mcreate_graph\u001b[0m\u001b[0;34m,\u001b[0m\u001b[0;34m\u001b[0m\u001b[0;34m\u001b[0m\u001b[0m\n\u001b[1;32m    306\u001b[0m                 inputs=inputs)\n\u001b[0;32m--> 307\u001b[0;31m         \u001b[0mtorch\u001b[0m\u001b[0;34m.\u001b[0m\u001b[0mautograd\u001b[0m\u001b[0;34m.\u001b[0m\u001b[0mbackward\u001b[0m\u001b[0;34m(\u001b[0m\u001b[0mself\u001b[0m\u001b[0;34m,\u001b[0m \u001b[0mgradient\u001b[0m\u001b[0;34m,\u001b[0m \u001b[0mretain_graph\u001b[0m\u001b[0;34m,\u001b[0m \u001b[0mcreate_graph\u001b[0m\u001b[0;34m,\u001b[0m \u001b[0minputs\u001b[0m\u001b[0;34m=\u001b[0m\u001b[0minputs\u001b[0m\u001b[0;34m)\u001b[0m\u001b[0;34m\u001b[0m\u001b[0;34m\u001b[0m\u001b[0m\n\u001b[0m\u001b[1;32m    308\u001b[0m \u001b[0;34m\u001b[0m\u001b[0m\n\u001b[1;32m    309\u001b[0m     \u001b[0;32mdef\u001b[0m \u001b[0mregister_hook\u001b[0m\u001b[0;34m(\u001b[0m\u001b[0mself\u001b[0m\u001b[0;34m,\u001b[0m \u001b[0mhook\u001b[0m\u001b[0;34m)\u001b[0m\u001b[0;34m:\u001b[0m\u001b[0;34m\u001b[0m\u001b[0;34m\u001b[0m\u001b[0m\n",
      "\u001b[0;32m~/.local/lib/python3.8/site-packages/torch/autograd/__init__.py\u001b[0m in \u001b[0;36mbackward\u001b[0;34m(tensors, grad_tensors, retain_graph, create_graph, grad_variables, inputs)\u001b[0m\n\u001b[1;32m    152\u001b[0m         \u001b[0mretain_graph\u001b[0m \u001b[0;34m=\u001b[0m \u001b[0mcreate_graph\u001b[0m\u001b[0;34m\u001b[0m\u001b[0;34m\u001b[0m\u001b[0m\n\u001b[1;32m    153\u001b[0m \u001b[0;34m\u001b[0m\u001b[0m\n\u001b[0;32m--> 154\u001b[0;31m     Variable._execution_engine.run_backward(\n\u001b[0m\u001b[1;32m    155\u001b[0m         \u001b[0mtensors\u001b[0m\u001b[0;34m,\u001b[0m \u001b[0mgrad_tensors_\u001b[0m\u001b[0;34m,\u001b[0m \u001b[0mretain_graph\u001b[0m\u001b[0;34m,\u001b[0m \u001b[0mcreate_graph\u001b[0m\u001b[0;34m,\u001b[0m \u001b[0minputs\u001b[0m\u001b[0;34m,\u001b[0m\u001b[0;34m\u001b[0m\u001b[0;34m\u001b[0m\u001b[0m\n\u001b[1;32m    156\u001b[0m         allow_unreachable=True, accumulate_grad=True)  # allow_unreachable flag\n",
      "\u001b[0;31mKeyboardInterrupt\u001b[0m: "
     ]
    }
   ],
   "source": [
    "loss_fn = nn.CrossEntropyLoss()\n",
    "optimizer = torch.optim.SGD(model_conv3.parameters(), lr=0.001)\n",
    "learning_cycle(20, model_conv3, loss_fn, optimizer, to_NCHW=True)"
   ]
  },
  {
   "cell_type": "code",
   "execution_count": null,
   "metadata": {},
   "outputs": [],
   "source": []
  },
  {
   "cell_type": "code",
   "execution_count": null,
   "metadata": {},
   "outputs": [],
   "source": []
  },
  {
   "cell_type": "code",
   "execution_count": null,
   "metadata": {},
   "outputs": [],
   "source": []
  },
  {
   "cell_type": "markdown",
   "metadata": {},
   "source": [
    "# 3"
   ]
  },
  {
   "cell_type": "markdown",
   "metadata": {},
   "source": [
    "здесь загрузим пару моделей из обученных мной и продемонстрируем результаты на тестовых данных"
   ]
  },
  {
   "cell_type": "code",
   "execution_count": 91,
   "metadata": {},
   "outputs": [
    {
     "data": {
      "text/plain": [
       "<All keys matched successfully>"
      ]
     },
     "execution_count": 91,
     "metadata": {},
     "output_type": "execute_result"
    }
   ],
   "source": [
    "model90 = NeuralNetwork2()\n",
    "model90.load_state_dict(torch.load(\"my_models/model90.pth\"))"
   ]
  },
  {
   "cell_type": "code",
   "execution_count": 92,
   "metadata": {},
   "outputs": [
    {
     "data": {
      "text/plain": [
       "0.9027692307692308"
      ]
     },
     "execution_count": 92,
     "metadata": {},
     "output_type": "execute_result"
    }
   ],
   "source": [
    "get_model_accuracy(final_test_dataloader, model90)"
   ]
  },
  {
   "cell_type": "markdown",
   "metadata": {},
   "source": [
    "### Задание 1  \n",
    "  \n",
    "*Вес в общей оценке - 0.35*  \n",
    "  \n",
    "1. Постройте и обучите модели с 2-мя и 3-мя полносвязными (dense) скрытыми слоями.  \n",
    "При моделировании необходимо попробовать разные параметры нейронной сети - число нейронов на каждом слое, learning rate, batch size, функции активации, регуляризации и т.д. Оцените качество моделей с различными параметрами, проведите сравнительный анализ. \n",
    "2. Для наилучшей модели постройте confusion matrix результатов предсказаний модели на тестовых данных.  \n",
    "Насколько равномерно обучилась ваша модель? Приведите буквы с самой лучшей и с самой худшей точностью детекции.\n",
    "3. Найдите 10 пар букв, которые чаще всего путаются между собой, дайте возможное объяснение. Приведите примеры с картинками, которые были детектированы с ошибкой.\n",
    "4. Возьмите первую букву вашей фамилии и укажите её точность детекции. С какими буквами ваша модель чаще всего путает эту букву?     "
   ]
  },
  {
   "cell_type": "markdown",
   "metadata": {},
   "source": [
    "### Задание 2  \n",
    "  \n",
    "*Вес в общей оценке - 0.35*  \n",
    "  \n",
    "1. Постройте и обучите модели нейронной сети с 1-м, 2-мя и 3-мя сверточными слоями.  \n",
    "Попробуйте различные значения параметров сверток и числа фильтров на каждом слое. Оцените качество моделей с различными параметрами, проведите сравнительный анализ.  \n",
    "2. Для наилучшей конфигурации из предыдущего пункта, сравните, как меняется качество модели при увеличении размера батча при использовании BatchNorm и GroupNorm.    "
   ]
  },
  {
   "cell_type": "markdown",
   "metadata": {},
   "source": [
    "### Задание 3    \n",
    "  \n",
    "Обучите модель с точностью (accuracy) на тестовых данных:  \n",
    "- `>= 0.85`    +1 балл\n",
    "- `>= 0.95`    +2 балла\n",
    "- `>= 0.99`    +3 балла  "
   ]
  },
  {
   "cell_type": "markdown",
   "metadata": {},
   "source": [
    "## Бонусные задания"
   ]
  },
  {
   "cell_type": "markdown",
   "metadata": {},
   "source": [
    "**Задание 1 (1 балл).**  \n",
    "\n",
    "Напишите на листке белой бумаги (маркером или ручкой) от 5 разных букв (можно больше 5 букв в целом с повторениями, но должно быть минимум 5 разных) английского алфавита (в датасете есть как прописные, так и строчные буквы). Сфотографируйте букву и приведите её картинку к размеру $28\\times28$ и, желательно, к чёрно-белой палитре цветов. Передайте получившиеся изображения вашей модели и выполните предсказание, оцените результат.  \n",
    "  \n",
    "**Tips:**  \n",
    "- В датасете все буквы занимают практически всё пространство картинки по высоте или ширине (или вместе). Если ваша буква будет слишком маленькой или большой, это может повлиять на результат детекции.\n",
    "- Помните, что буква должна быть белого цвета, а фон - чёрного.\n",
    "- Описание ваших действий при выполнении этого задания (что вы использовали, чтобы привести картинку к нужному виду) категорически приветствуется :)"
   ]
  },
  {
   "cell_type": "markdown",
   "metadata": {},
   "source": [
    "# B1"
   ]
  },
  {
   "cell_type": "markdown",
   "metadata": {},
   "source": [
    "я написал все буквы черной ручкой на белом листочке, больше всего меня интересовали q и p"
   ]
  },
  {
   "cell_type": "code",
   "execution_count": 65,
   "metadata": {},
   "outputs": [
    {
     "data": {
      "text/plain": [
       "<All keys matched successfully>"
      ]
     },
     "execution_count": 65,
     "metadata": {},
     "output_type": "execute_result"
    }
   ],
   "source": [
    "model90 = Conv3NeuralNetwork()\n",
    "model90.load_state_dict(torch.load(\"my_models/model91conv3.pth\"))"
   ]
  },
  {
   "cell_type": "code",
   "execution_count": 66,
   "metadata": {},
   "outputs": [
    {
     "data": {
      "text/plain": [
       "<All keys matched successfully>"
      ]
     },
     "execution_count": 66,
     "metadata": {},
     "output_type": "execute_result"
    }
   ],
   "source": [
    "model90n = NeuralNetwork2()\n",
    "model90n.load_state_dict(torch.load(\"my_models/model90.pth\"))"
   ]
  },
  {
   "cell_type": "code",
   "execution_count": 67,
   "metadata": {},
   "outputs": [],
   "source": [
    "mX,my = get_data_and_targets_lst(\"custom_images\")"
   ]
  },
  {
   "cell_type": "code",
   "execution_count": 68,
   "metadata": {},
   "outputs": [
    {
     "data": {
      "text/plain": [
       "[16, 25, 0, 12, 15]"
      ]
     },
     "execution_count": 68,
     "metadata": {},
     "output_type": "execute_result"
    }
   ],
   "source": [
    "my"
   ]
  },
  {
   "cell_type": "code",
   "execution_count": 69,
   "metadata": {},
   "outputs": [
    {
     "name": "stdout",
     "output_type": "stream",
     "text": [
      "torch.Size([1080, 1012, 3])\n",
      "torch.Size([958, 1080, 3])\n",
      "torch.Size([1043, 1080, 3])\n",
      "torch.Size([936, 1080, 3])\n",
      "torch.Size([1034, 1080, 3])\n"
     ]
    }
   ],
   "source": [
    "for el in mX:\n",
    "    print(el.shape)"
   ]
  },
  {
   "cell_type": "code",
   "execution_count": 70,
   "metadata": {},
   "outputs": [],
   "source": [
    "import cv2"
   ]
  },
  {
   "cell_type": "code",
   "execution_count": 71,
   "metadata": {},
   "outputs": [
    {
     "data": {
      "image/png": "[encoded data removed]",
      "text/plain": [
       "<Figure size 432x288 with 1 Axes>"
      ]
     },
     "metadata": {
      "needs_background": "light"
     },
     "output_type": "display_data"
    }
   ],
   "source": [
    "image = plt.imread('custom_images/m.jpg')\n",
    "plt.imshow(image)\n",
    "\n",
    "plt.show()"
   ]
  },
  {
   "cell_type": "code",
   "execution_count": 72,
   "metadata": {
    "scrolled": true
   },
   "outputs": [
    {
     "data": {
      "image/png": "[encoded data removed]",
      "text/plain": [
       "<Figure size 432x288 with 1 Axes>"
      ]
     },
     "metadata": {
      "needs_background": "light"
     },
     "output_type": "display_data"
    }
   ],
   "source": [
    "image = cv2.imread('custom_images/q.jpg')\n",
    "#gray = cv2.cvtColor(image, cv2.COLOR_RGB2GRAY)\n",
    "image = cv2.resize(image, (28,28), interpolation=cv2.INTER_AREA)\n",
    "image = cv2.cvtColor(image, cv2.COLOR_RGB2GRAY)\n",
    "image= np.invert(image)\n",
    "plt.imshow(image)\n",
    "plt.show()"
   ]
  },
  {
   "cell_type": "code",
   "execution_count": 73,
   "metadata": {},
   "outputs": [],
   "source": [
    "result = np.zeros([28, 28, 3])"
   ]
  },
  {
   "cell_type": "code",
   "execution_count": 74,
   "metadata": {},
   "outputs": [],
   "source": [
    "for i in range(28):\n",
    "    for j in range(28):\n",
    "        result[i][j][0] = image[i][j]/255\n",
    "        result[i][j][1] = image[i][j]/255\n",
    "        result[i][j][2] = image[i][j]/255"
   ]
  },
  {
   "cell_type": "code",
   "execution_count": 75,
   "metadata": {},
   "outputs": [
    {
     "data": {
      "text/plain": [
       "torch.float32"
      ]
     },
     "execution_count": 75,
     "metadata": {},
     "output_type": "execute_result"
    }
   ],
   "source": [
    "result = torch.from_numpy(result)\n",
    "result = result.float()\n",
    "result.dtype"
   ]
  },
  {
   "cell_type": "code",
   "execution_count": 76,
   "metadata": {},
   "outputs": [],
   "source": [
    "res_tens = model90(result.reshape([1,3,28,28]))"
   ]
  },
  {
   "cell_type": "code",
   "execution_count": 77,
   "metadata": {},
   "outputs": [
    {
     "data": {
      "text/plain": [
       "tensor([16])"
      ]
     },
     "execution_count": 77,
     "metadata": {},
     "output_type": "execute_result"
    }
   ],
   "source": [
    "res_tens.argmax(1)"
   ]
  },
  {
   "cell_type": "code",
   "execution_count": 78,
   "metadata": {},
   "outputs": [
    {
     "data": {
      "image/png": "[encoded data removed]",
      "text/plain": [
       "<Figure size 432x288 with 1 Axes>"
      ]
     },
     "metadata": {
      "needs_background": "light"
     },
     "output_type": "display_data"
    }
   ],
   "source": [
    "image = plt.imread('custom_images/0m.jpg')\n",
    "plt.imshow(image)\n",
    "\n",
    "plt.show()"
   ]
  },
  {
   "cell_type": "code",
   "execution_count": 100,
   "metadata": {},
   "outputs": [
    {
     "data": {
      "image/png": "[encoded data removed]",
      "text/plain": [
       "<Figure size 432x288 with 1 Axes>"
      ]
     },
     "metadata": {
      "needs_background": "light"
     },
     "output_type": "display_data"
    }
   ],
   "source": [
    "image = cv2.imread('custom_images/0m.jpg')\n",
    "\n",
    "image = cv2.resize(image, (28,28), interpolation=cv2.INTER_AREA)\n",
    "#image = cv2.cvtColor(image, cv2.COLOR_RGB2GRAY)\n",
    "image= np.invert(image)\n",
    "plt.imshow(image)\n",
    "plt.show()"
   ]
  },
  {
   "cell_type": "code",
   "execution_count": 106,
   "metadata": {},
   "outputs": [],
   "source": [
    "image = torch.tensor(image)\n",
    "image = torch.div(image, 255)"
   ]
  },
  {
   "cell_type": "code",
   "execution_count": 112,
   "metadata": {},
   "outputs": [
    {
     "data": {
      "text/plain": [
       "tensor([3])"
      ]
     },
     "execution_count": 112,
     "metadata": {},
     "output_type": "execute_result"
    }
   ],
   "source": [
    "res_tens = model90(image.reshape([1,3,28,28]))\n",
    "res_tens.argmax(1)"
   ]
  },
  {
   "cell_type": "code",
   "execution_count": 111,
   "metadata": {},
   "outputs": [
    {
     "data": {
      "text/plain": [
       "12"
      ]
     },
     "execution_count": 111,
     "metadata": {},
     "output_type": "execute_result"
    }
   ],
   "source": [
    "ord(\"m\") - 97"
   ]
  },
  {
   "cell_type": "markdown",
   "metadata": {},
   "source": [
    "**Задание 2 (1 балл):**    \n",
    "  \n",
    "Используйте transfer learning подход для решения задачи - дообучите какую-либо модель, предобученную на ImageNet, для классификации рукописных букв. Оцените качество решения.  \n",
    "В качестве предобученой модели можно взять одну из [torchvision models](https://pytorch.org/vision/stable/models.html)."
   ]
  },
  {
   "cell_type": "code",
   "execution_count": 119,
   "metadata": {},
   "outputs": [],
   "source": [
    "import torchvision.models as models"
   ]
  },
  {
   "cell_type": "code",
   "execution_count": 120,
   "metadata": {},
   "outputs": [],
   "source": [
    "resnet = models.resnet18(pretrained=True)"
   ]
  },
  {
   "cell_type": "code",
   "execution_count": 121,
   "metadata": {},
   "outputs": [
    {
     "data": {
      "text/plain": [
       "0.0005384615384615384"
      ]
     },
     "execution_count": 121,
     "metadata": {},
     "output_type": "execute_result"
    }
   ],
   "source": [
    "get_model_accuracy(final_test_dataloader, resnet, to_NCHW=True)"
   ]
  },
  {
   "cell_type": "code",
   "execution_count": 118,
   "metadata": {},
   "outputs": [
    {
     "name": "stdout",
     "output_type": "stream",
     "text": [
      "\n",
      "Epoch 1\n",
      "-------------------------------\n",
      "loss: 0.231464  [    0/52000]\n"
     ]
    },
    {
     "ename": "KeyboardInterrupt",
     "evalue": "",
     "output_type": "error",
     "traceback": [
      "\u001b[0;31m---------------------------------------------------------------------------\u001b[0m",
      "\u001b[0;31mKeyboardInterrupt\u001b[0m                         Traceback (most recent call last)",
      "\u001b[0;32m/tmp/ipykernel_4913/1265135165.py\u001b[0m in \u001b[0;36m<module>\u001b[0;34m\u001b[0m\n\u001b[1;32m      1\u001b[0m \u001b[0mloss_fn\u001b[0m \u001b[0;34m=\u001b[0m \u001b[0mnn\u001b[0m\u001b[0;34m.\u001b[0m\u001b[0mCrossEntropyLoss\u001b[0m\u001b[0;34m(\u001b[0m\u001b[0;34m)\u001b[0m\u001b[0;34m\u001b[0m\u001b[0;34m\u001b[0m\u001b[0m\n\u001b[1;32m      2\u001b[0m \u001b[0moptimizer\u001b[0m \u001b[0;34m=\u001b[0m \u001b[0mtorch\u001b[0m\u001b[0;34m.\u001b[0m\u001b[0moptim\u001b[0m\u001b[0;34m.\u001b[0m\u001b[0mSGD\u001b[0m\u001b[0;34m(\u001b[0m\u001b[0mresnet\u001b[0m\u001b[0;34m.\u001b[0m\u001b[0mparameters\u001b[0m\u001b[0;34m(\u001b[0m\u001b[0;34m)\u001b[0m\u001b[0;34m,\u001b[0m \u001b[0mlr\u001b[0m\u001b[0;34m=\u001b[0m\u001b[0;36m0.01\u001b[0m\u001b[0;34m)\u001b[0m\u001b[0;34m\u001b[0m\u001b[0;34m\u001b[0m\u001b[0m\n\u001b[0;32m----> 3\u001b[0;31m \u001b[0mlearning_cycle\u001b[0m\u001b[0;34m(\u001b[0m\u001b[0;36m5\u001b[0m\u001b[0;34m,\u001b[0m \u001b[0mresnet\u001b[0m\u001b[0;34m,\u001b[0m \u001b[0mloss_fn\u001b[0m\u001b[0;34m,\u001b[0m \u001b[0moptimizer\u001b[0m\u001b[0;34m,\u001b[0m \u001b[0mto_NCHW\u001b[0m\u001b[0;34m=\u001b[0m\u001b[0;32mTrue\u001b[0m\u001b[0;34m)\u001b[0m\u001b[0;34m\u001b[0m\u001b[0;34m\u001b[0m\u001b[0m\n\u001b[0m",
      "\u001b[0;32m/tmp/ipykernel_4913/1980290054.py\u001b[0m in \u001b[0;36mlearning_cycle\u001b[0;34m(epochs, model, loss_fn, optimizer, to_NCHW)\u001b[0m\n\u001b[1;32m      3\u001b[0m         \u001b[0mprint\u001b[0m\u001b[0;34m(\u001b[0m\u001b[0;34mf\"\\nEpoch {t+1}\\n-------------------------------\"\u001b[0m\u001b[0;34m)\u001b[0m\u001b[0;34m\u001b[0m\u001b[0;34m\u001b[0m\u001b[0m\n\u001b[1;32m      4\u001b[0m         \u001b[0mstarttm\u001b[0m \u001b[0;34m=\u001b[0m \u001b[0mtime\u001b[0m\u001b[0;34m.\u001b[0m\u001b[0mtime\u001b[0m\u001b[0;34m(\u001b[0m\u001b[0;34m)\u001b[0m\u001b[0;34m\u001b[0m\u001b[0;34m\u001b[0m\u001b[0m\n\u001b[0;32m----> 5\u001b[0;31m         \u001b[0mtrain\u001b[0m\u001b[0;34m(\u001b[0m\u001b[0mtrain_dataloader\u001b[0m\u001b[0;34m,\u001b[0m \u001b[0mmodel\u001b[0m\u001b[0;34m,\u001b[0m \u001b[0mloss_fn\u001b[0m\u001b[0;34m,\u001b[0m \u001b[0moptimizer\u001b[0m\u001b[0;34m,\u001b[0m \u001b[0mto_NCHW\u001b[0m \u001b[0;34m=\u001b[0m \u001b[0mto_NCHW\u001b[0m\u001b[0;34m)\u001b[0m\u001b[0;34m\u001b[0m\u001b[0;34m\u001b[0m\u001b[0m\n\u001b[0m\u001b[1;32m      6\u001b[0m         \u001b[0mtest\u001b[0m\u001b[0;34m(\u001b[0m\u001b[0mtest_dataloader\u001b[0m\u001b[0;34m,\u001b[0m \u001b[0mmodel\u001b[0m\u001b[0;34m,\u001b[0m \u001b[0mloss_fn\u001b[0m\u001b[0;34m,\u001b[0m \u001b[0mto_NCHW\u001b[0m \u001b[0;34m=\u001b[0m \u001b[0mto_NCHW\u001b[0m\u001b[0;34m)\u001b[0m\u001b[0;34m\u001b[0m\u001b[0;34m\u001b[0m\u001b[0m\n\u001b[1;32m      7\u001b[0m         \u001b[0mendtm\u001b[0m \u001b[0;34m=\u001b[0m \u001b[0mtime\u001b[0m\u001b[0;34m.\u001b[0m\u001b[0mtime\u001b[0m\u001b[0;34m(\u001b[0m\u001b[0;34m)\u001b[0m\u001b[0;34m\u001b[0m\u001b[0;34m\u001b[0m\u001b[0m\n",
      "\u001b[0;32m/tmp/ipykernel_4913/2120308267.py\u001b[0m in \u001b[0;36mtrain\u001b[0;34m(dataloader, model, loss_fn, optimizer, to_NCHW)\u001b[0m\n\u001b[1;32m     14\u001b[0m         \u001b[0;31m# Backpropagation\u001b[0m\u001b[0;34m\u001b[0m\u001b[0;34m\u001b[0m\u001b[0;34m\u001b[0m\u001b[0m\n\u001b[1;32m     15\u001b[0m         \u001b[0moptimizer\u001b[0m\u001b[0;34m.\u001b[0m\u001b[0mzero_grad\u001b[0m\u001b[0;34m(\u001b[0m\u001b[0;34m)\u001b[0m\u001b[0;34m\u001b[0m\u001b[0;34m\u001b[0m\u001b[0m\n\u001b[0;32m---> 16\u001b[0;31m         \u001b[0mloss\u001b[0m\u001b[0;34m.\u001b[0m\u001b[0mbackward\u001b[0m\u001b[0;34m(\u001b[0m\u001b[0;34m)\u001b[0m\u001b[0;34m\u001b[0m\u001b[0;34m\u001b[0m\u001b[0m\n\u001b[0m\u001b[1;32m     17\u001b[0m         \u001b[0moptimizer\u001b[0m\u001b[0;34m.\u001b[0m\u001b[0mstep\u001b[0m\u001b[0;34m(\u001b[0m\u001b[0;34m)\u001b[0m\u001b[0;34m\u001b[0m\u001b[0;34m\u001b[0m\u001b[0m\n\u001b[1;32m     18\u001b[0m \u001b[0;34m\u001b[0m\u001b[0m\n",
      "\u001b[0;32m~/.local/lib/python3.8/site-packages/torch/_tensor.py\u001b[0m in \u001b[0;36mbackward\u001b[0;34m(self, gradient, retain_graph, create_graph, inputs)\u001b[0m\n\u001b[1;32m    305\u001b[0m                 \u001b[0mcreate_graph\u001b[0m\u001b[0;34m=\u001b[0m\u001b[0mcreate_graph\u001b[0m\u001b[0;34m,\u001b[0m\u001b[0;34m\u001b[0m\u001b[0;34m\u001b[0m\u001b[0m\n\u001b[1;32m    306\u001b[0m                 inputs=inputs)\n\u001b[0;32m--> 307\u001b[0;31m         \u001b[0mtorch\u001b[0m\u001b[0;34m.\u001b[0m\u001b[0mautograd\u001b[0m\u001b[0;34m.\u001b[0m\u001b[0mbackward\u001b[0m\u001b[0;34m(\u001b[0m\u001b[0mself\u001b[0m\u001b[0;34m,\u001b[0m \u001b[0mgradient\u001b[0m\u001b[0;34m,\u001b[0m \u001b[0mretain_graph\u001b[0m\u001b[0;34m,\u001b[0m \u001b[0mcreate_graph\u001b[0m\u001b[0;34m,\u001b[0m \u001b[0minputs\u001b[0m\u001b[0;34m=\u001b[0m\u001b[0minputs\u001b[0m\u001b[0;34m)\u001b[0m\u001b[0;34m\u001b[0m\u001b[0;34m\u001b[0m\u001b[0m\n\u001b[0m\u001b[1;32m    308\u001b[0m \u001b[0;34m\u001b[0m\u001b[0m\n\u001b[1;32m    309\u001b[0m     \u001b[0;32mdef\u001b[0m \u001b[0mregister_hook\u001b[0m\u001b[0;34m(\u001b[0m\u001b[0mself\u001b[0m\u001b[0;34m,\u001b[0m \u001b[0mhook\u001b[0m\u001b[0;34m)\u001b[0m\u001b[0;34m:\u001b[0m\u001b[0;34m\u001b[0m\u001b[0;34m\u001b[0m\u001b[0m\n",
      "\u001b[0;32m~/.local/lib/python3.8/site-packages/torch/autograd/__init__.py\u001b[0m in \u001b[0;36mbackward\u001b[0;34m(tensors, grad_tensors, retain_graph, create_graph, grad_variables, inputs)\u001b[0m\n\u001b[1;32m    152\u001b[0m         \u001b[0mretain_graph\u001b[0m \u001b[0;34m=\u001b[0m \u001b[0mcreate_graph\u001b[0m\u001b[0;34m\u001b[0m\u001b[0;34m\u001b[0m\u001b[0m\n\u001b[1;32m    153\u001b[0m \u001b[0;34m\u001b[0m\u001b[0m\n\u001b[0;32m--> 154\u001b[0;31m     Variable._execution_engine.run_backward(\n\u001b[0m\u001b[1;32m    155\u001b[0m         \u001b[0mtensors\u001b[0m\u001b[0;34m,\u001b[0m \u001b[0mgrad_tensors_\u001b[0m\u001b[0;34m,\u001b[0m \u001b[0mretain_graph\u001b[0m\u001b[0;34m,\u001b[0m \u001b[0mcreate_graph\u001b[0m\u001b[0;34m,\u001b[0m \u001b[0minputs\u001b[0m\u001b[0;34m,\u001b[0m\u001b[0;34m\u001b[0m\u001b[0;34m\u001b[0m\u001b[0m\n\u001b[1;32m    156\u001b[0m         allow_unreachable=True, accumulate_grad=True)  # allow_unreachable flag\n",
      "\u001b[0;31mKeyboardInterrupt\u001b[0m: "
     ]
    }
   ],
   "source": [
    "loss_fn = nn.CrossEntropyLoss()\n",
    "optimizer = torch.optim.SGD(resnet.parameters(), lr=0.01)\n",
    "learning_cycle(5, resnet, loss_fn, optimizer, to_NCHW=True)"
   ]
  },
  {
   "cell_type": "code",
   "execution_count": 122,
   "metadata": {},
   "outputs": [],
   "source": [
    "resnet = models.resnet18(pretrained=False)"
   ]
  },
  {
   "cell_type": "code",
   "execution_count": null,
   "metadata": {},
   "outputs": [
    {
     "name": "stdout",
     "output_type": "stream",
     "text": [
      "\n",
      "Epoch 1\n",
      "-------------------------------\n",
      "loss: 7.061723  [    0/52000]\n",
      "loss: 0.665672  [25800/52000]\n",
      "loss: 0.403107  [51600/52000]\n",
      "Test Error: \n",
      " Accuracy: 86.1%, Avg loss: 0.463714\n",
      "Time: 265.822\n",
      "\n",
      "Epoch 2\n",
      "-------------------------------\n",
      "loss: 0.416906  [    0/52000]\n"
     ]
    }
   ],
   "source": [
    "loss_fn = nn.CrossEntropyLoss()\n",
    "optimizer = torch.optim.SGD(resnet.parameters(), lr=0.01)\n",
    "learning_cycle(5, resnet, loss_fn, optimizer, to_NCHW=True)"
   ]
  },
  {
   "cell_type": "code",
   "execution_count": null,
   "metadata": {},
   "outputs": [],
   "source": [
    "get_model_accuracy(final_test_dataloader, resnet, to_NCHW=True)"
   ]
  },
  {
   "cell_type": "markdown",
   "metadata": {},
   "source": [
    "**Задание 3 (1 балл):**  \n",
    "  \n",
    "Добавьте вывод значений функции потерь и accuracy в tensorboard.  \n",
    "Метрики нужно выводить и для обучающей, и для тестовой выборки."
   ]
  }
 ],
 "metadata": {
  "kernelspec": {
   "display_name": "Python 3 (ipykernel)",
   "language": "python",
   "name": "python3"
  },
  "language_info": {
   "codemirror_mode": {
    "name": "ipython",
    "version": 3
   },
   "file_extension": ".py",
   "mimetype": "text/x-python",
   "name": "python",
   "nbconvert_exporter": "python",
   "pygments_lexer": "ipython3",
   "version": "3.8.10"
  }
 },
 "nbformat": 4,
 "nbformat_minor": 2
}
