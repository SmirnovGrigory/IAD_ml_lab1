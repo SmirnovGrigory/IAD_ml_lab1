{
 "cells": [
  {
   "cell_type": "markdown",
   "metadata": {},
   "source": [
    "# <center> Майнор \"Интеллектуальный анализ данных\" </center>"
   ]
  },
  {
   "cell_type": "markdown",
   "metadata": {},
   "source": [
    "# <center> Курс \"Современные методы машинного обучения\" </center>"
   ]
  },
  {
   "cell_type": "markdown",
   "metadata": {},
   "source": [
    "# <center> Лабораторная работа №1. Image Classification. </center>"
   ]
  },
  {
   "cell_type": "markdown",
   "metadata": {},
   "source": [
    "В данной лабораторной работе вам предлагается обучить модель на основе нейронной сети для распознавания рукописных букв английского алфавита."
   ]
  },
  {
   "cell_type": "markdown",
   "metadata": {},
   "source": [
    "## Данные"
   ]
  },
  {
   "cell_type": "markdown",
   "metadata": {},
   "source": [
    "Данные представлены двумя датасетами: обучающим (`train`) и тестовым (`test`). Изображения для каждого датасета находятся в `images.zip`.  \n",
    "  \n",
    "Обучающая выборка состоит из 65000 изображений - по 2500 изображений для каждой буквы.  \n",
    "Тестовая выборка состоит из 13000 изображений - по 500 изображений для каждой буквы.  \n",
    "  \n",
    "Все изображения - монохромные (но в формате RGB), размерности $28 \\times 28$ пикселей, в формате JPEG. \n",
    "В названии каждого файла содержатся буква, которая представлена на изображении, и уникальный номер изображения: `a_00002.jpg`.  \n",
    "  \n",
    "**NB:** Все изображения представлены в перевернутом виде, для корректного отображения их нужно сначала транспонировать. "
   ]
  },
  {
   "cell_type": "code",
   "execution_count": 1,
   "metadata": {},
   "outputs": [],
   "source": [
    "import numpy as np\n",
    "import matplotlib.pyplot as plt\n",
    "import torch"
   ]
  },
  {
   "cell_type": "code",
   "execution_count": 2,
   "metadata": {},
   "outputs": [
    {
     "name": "stdout",
     "output_type": "stream",
     "text": [
      "(28, 28, 3)\n"
     ]
    }
   ],
   "source": [
    "pic = plt.imread('images/train/a/a_00002.jpg')\n",
    "print(pic.shape)"
   ]
  },
  {
   "cell_type": "code",
   "execution_count": 3,
   "metadata": {},
   "outputs": [],
   "source": [
    "pic = np.transpose(pic, axes=(1, 0, 2))"
   ]
  },
  {
   "cell_type": "code",
   "execution_count": 4,
   "metadata": {},
   "outputs": [
    {
     "data": {
      "image/png": "[encoded data removed]",
      "text/plain": [
       "<Figure size 144x144 with 1 Axes>"
      ]
     },
     "metadata": {
      "needs_background": "light"
     },
     "output_type": "display_data"
    }
   ],
   "source": [
    "plt.figure(figsize=(2,2))\n",
    "plt.imshow(pic)\n",
    "plt.show()"
   ]
  },
  {
   "cell_type": "code",
   "execution_count": 5,
   "metadata": {
    "scrolled": true
   },
   "outputs": [],
   "source": [
    "#torch.tensor(pic)"
   ]
  },
  {
   "cell_type": "markdown",
   "metadata": {},
   "source": [
    "Ваша задача - создать и обучить модель на основе нейронной сети, которая будет предсказывать букву на картинке.  \n",
    "Обучение необходимо проводить на данных из `train`, качество модели проверять на данных из `test`.  \n",
    "Целевая метрика - accuracy.  \n",
    "Для моделирования необходимо использовать `pytorch`."
   ]
  },
  {
   "cell_type": "markdown",
   "metadata": {},
   "source": [
    "## Основные задания"
   ]
  },
  {
   "cell_type": "markdown",
   "metadata": {},
   "source": [
    "импортнем все необходимое и создадим датасет с необходимыми преобразованиями"
   ]
  },
  {
   "cell_type": "code",
   "execution_count": 6,
   "metadata": {},
   "outputs": [],
   "source": [
    "import os\n",
    "import time\n",
    "from sklearn.model_selection import train_test_split\n",
    "from torch import nn\n",
    "from torch.utils.data import DataLoader"
   ]
  },
  {
   "cell_type": "code",
   "execution_count": 7,
   "metadata": {},
   "outputs": [],
   "source": [
    "def get_data_and_targets_lst(path):\n",
    "    data=[]\n",
    "    targets=[]\n",
    "    for root, currentDirectory, files in os.walk(path):\n",
    "        for file in files:\n",
    "            pic = plt.imread(os.path.join(root, file))\n",
    "            pic = torch.tensor(np.transpose(pic, axes=(1, 0, 2)))\n",
    "            pic = torch.div(pic, 255)\n",
    "            target = ord(file[0]) - ord('a')\n",
    "            data.append(pic)\n",
    "            targets.append(target)\n",
    "    return data,targets"
   ]
  },
  {
   "cell_type": "code",
   "execution_count": 8,
   "metadata": {},
   "outputs": [],
   "source": [
    "class MyDataset(torch.utils.data.Dataset): \n",
    "    \n",
    "    def __init__(self, x, y):\n",
    "        self.x=x\n",
    "        self.y=y\n",
    "        \n",
    "    def __len__(self):\n",
    "        return len(self.x)\n",
    "    \n",
    "    def __getitem__(self, idx):\n",
    "        #return {'sample': self.x[idx], 'target': self.y[idx]}\n",
    "        return self.x[idx],self.y[idx]"
   ]
  },
  {
   "cell_type": "code",
   "execution_count": 9,
   "metadata": {},
   "outputs": [],
   "source": [
    "X,y = get_data_and_targets_lst(\"images/train\")"
   ]
  },
  {
   "cell_type": "markdown",
   "metadata": {},
   "source": [
    "Да, я знаю про ImageFolder только узнал про него под конец сдачи лабы и не успел заиспользовать. Буду юзать в следующих лабах."
   ]
  },
  {
   "cell_type": "code",
   "execution_count": 10,
   "metadata": {},
   "outputs": [
    {
     "data": {
      "text/plain": [
       "torch.float32"
      ]
     },
     "execution_count": 10,
     "metadata": {},
     "output_type": "execute_result"
    }
   ],
   "source": [
    "X[60000].dtype"
   ]
  },
  {
   "cell_type": "code",
   "execution_count": 11,
   "metadata": {},
   "outputs": [
    {
     "name": "stdout",
     "output_type": "stream",
     "text": [
      "15\n"
     ]
    },
    {
     "data": {
      "image/png": "[encoded data removed]",
      "text/plain": [
       "<Figure size 432x288 with 1 Axes>"
      ]
     },
     "metadata": {
      "needs_background": "light"
     },
     "output_type": "display_data"
    }
   ],
   "source": [
    "plt.imshow(X[60000])\n",
    "print(y[60000])"
   ]
  },
  {
   "cell_type": "code",
   "execution_count": 12,
   "metadata": {},
   "outputs": [
    {
     "data": {
      "text/plain": [
       "65000"
      ]
     },
     "execution_count": 12,
     "metadata": {},
     "output_type": "execute_result"
    }
   ],
   "source": [
    "len(y)"
   ]
  },
  {
   "cell_type": "markdown",
   "metadata": {},
   "source": [
    "разобьем трейн выборку на трейн и тест. Да, здесь получается небольшая тавтология"
   ]
  },
  {
   "cell_type": "code",
   "execution_count": 13,
   "metadata": {},
   "outputs": [],
   "source": [
    "X_train, X_test, y_train, y_test = train_test_split(X,y, test_size=0.2)"
   ]
  },
  {
   "cell_type": "code",
   "execution_count": 14,
   "metadata": {},
   "outputs": [
    {
     "data": {
      "text/plain": [
       "(13000, 13000)"
      ]
     },
     "execution_count": 14,
     "metadata": {},
     "output_type": "execute_result"
    }
   ],
   "source": [
    "len(X_test), len(y_test)"
   ]
  },
  {
   "cell_type": "code",
   "execution_count": 15,
   "metadata": {},
   "outputs": [],
   "source": [
    "train_dataset = MyDataset(X_train, y_train)\n",
    "test_dataset = MyDataset(X_test, y_test)\n",
    "#train_dataset.__getitem__(40000)"
   ]
  },
  {
   "cell_type": "code",
   "execution_count": 16,
   "metadata": {},
   "outputs": [
    {
     "name": "stdout",
     "output_type": "stream",
     "text": [
      "0\n",
      "tensor([ 6, 16, 14,  7, 19,  8, 22, 20,  7,  4,  7, 25, 24,  7, 14, 12,  0, 16,\n",
      "         1,  5,  5,  1, 15, 25,  7,  4,  9, 18, 14,  6,  8,  7,  3, 20,  2, 22,\n",
      "         5,  7, 17, 25, 14, 12, 15, 25,  2, 16,  6, 15, 11, 16, 17,  8,  0, 23,\n",
      "        17, 11,  0, 14, 11,  0,  0,  2,  4, 18])\n",
      "Shape of X [N, C, H, W]:  torch.Size([64, 28, 28, 3])\n",
      "Shape of y:  torch.Size([64]) torch.int64\n"
     ]
    }
   ],
   "source": [
    "batch_size=64\n",
    "train_dataloader = DataLoader(train_dataset, batch_size=batch_size)\n",
    "test_dataloader = DataLoader(test_dataset, batch_size=batch_size)\n",
    "for batch, (X, y) in enumerate(train_dataloader):\n",
    "    print(batch)\n",
    "    print(y)\n",
    "    print(\"Shape of X [N, C, H, W]: \", X.shape)\n",
    "    #NHWC now\n",
    "    print(\"Shape of y: \", y.shape, y.dtype)\n",
    "    break"
   ]
  },
  {
   "cell_type": "code",
   "execution_count": 17,
   "metadata": {},
   "outputs": [
    {
     "name": "stdout",
     "output_type": "stream",
     "text": [
      "Using cpu device\n"
     ]
    }
   ],
   "source": [
    "device = \"cuda\" if torch.cuda.is_available() else \"cpu\"\n",
    "print(\"Using {} device\".format(device))"
   ]
  },
  {
   "cell_type": "markdown",
   "metadata": {},
   "source": [
    "определяем, необходимые для цикла обучения, функции"
   ]
  },
  {
   "cell_type": "code",
   "execution_count": 18,
   "metadata": {},
   "outputs": [],
   "source": [
    "def train(dataloader, model, loss_fn, optimizer, to_NCHW = False):\n",
    "    size = len(dataloader.dataset)\n",
    "    model.train()\n",
    "    for batch, (X, y) in enumerate(dataloader):\n",
    "        if to_NCHW:\n",
    "            X = X.permute(0, 3, 1, 2)\n",
    "        X, y = X.to(device), y.to(device)\n",
    "\n",
    "        # Compute prediction error\n",
    "        pred = model(X)\n",
    "        #print(pred.shape)\n",
    "        loss = loss_fn(pred, y)\n",
    "\n",
    "        # Backpropagation\n",
    "        optimizer.zero_grad()\n",
    "        loss.backward()\n",
    "        optimizer.step()\n",
    "\n",
    "        if batch % 100 == 0:\n",
    "            loss, current = loss.item(), batch * len(X)\n",
    "            print(f\"loss: {loss:>7f}  [{current:>5d}/{size:>5d}]\")"
   ]
  },
  {
   "cell_type": "code",
   "execution_count": 19,
   "metadata": {},
   "outputs": [],
   "source": [
    "def test(dataloader, model, loss_fn, to_NCHW = False):\n",
    "    size = len(dataloader.dataset)\n",
    "    num_batches = len(dataloader)\n",
    "    model.eval()\n",
    "    test_loss, correct = 0, 0\n",
    "    with torch.no_grad():\n",
    "        for X, y in dataloader:\n",
    "            if to_NCHW:\n",
    "                X = X.permute(0, 3, 1, 2)\n",
    "            X, y = X.to(device), y.to(device)\n",
    "            pred = model(X)\n",
    "            #print(pred.shape)\n",
    "            #print(loss_fn(pred, y).item())\n",
    "            test_loss += loss_fn(pred, y).item()\n",
    "            correct += (pred.argmax(1) == y).type(torch.float).sum().item()\n",
    "    test_loss /= num_batches\n",
    "    correct /= size\n",
    "    print(f\"Test Error: \\n Accuracy: {(100*correct):>0.1f}%, Avg loss: {test_loss:>8f}\")"
   ]
  },
  {
   "cell_type": "code",
   "execution_count": 20,
   "metadata": {},
   "outputs": [],
   "source": [
    "def get_model_accuracy(dataloader, model, to_NCHW = False):\n",
    "    size = len(dataloader.dataset)\n",
    "    correct = 0\n",
    "    with torch.no_grad():\n",
    "        for X, y in dataloader:\n",
    "            if to_NCHW:\n",
    "                X = X.permute(0, 3, 1, 2)\n",
    "            X, y = X.to(device), y.to(device)\n",
    "            pred = model(X)\n",
    "            correct += (pred.argmax(1) == y).type(torch.float).sum().item()\n",
    "    return correct / size       "
   ]
  },
  {
   "cell_type": "code",
   "execution_count": 21,
   "metadata": {},
   "outputs": [],
   "source": [
    "def get_all_model_predictions(dataloader, model):\n",
    "    size = len(dataloader.dataset)\n",
    "    correct = 0\n",
    "    predictions = []\n",
    "    with torch.no_grad():\n",
    "        for X, y in dataloader:\n",
    "            X, y = X.to(device), y.to(device)\n",
    "            pred = model(X)\n",
    "            predictions.extend(pred.argmax(1))\n",
    "#             if len(pred.argmax(1))>1:\n",
    "#                 print(pred.argmax(1))\n",
    "    return list(map(lambda x : x.item(), predictions)) "
   ]
  },
  {
   "cell_type": "code",
   "execution_count": 22,
   "metadata": {},
   "outputs": [],
   "source": [
    "def learning_cycle(epochs, model, loss_fn, optimizer, to_NCHW = False):\n",
    "    for t in range(epochs):\n",
    "        print(f\"\\nEpoch {t+1}\\n-------------------------------\")\n",
    "        starttm = time.time()\n",
    "        train(train_dataloader, model, loss_fn, optimizer, to_NCHW = to_NCHW)\n",
    "        test(test_dataloader, model, loss_fn, to_NCHW = to_NCHW)\n",
    "        endtm = time.time()\n",
    "        print(f\"Time: {(endtm - starttm):>0.3f}\")\n",
    "        #print(\"Done!\")\n",
    "    "
   ]
  },
  {
   "cell_type": "markdown",
   "metadata": {},
   "source": [
    "# 1.1"
   ]
  },
  {
   "cell_type": "markdown",
   "metadata": {},
   "source": [
    "попробуем создать первую модель"
   ]
  },
  {
   "cell_type": "code",
   "execution_count": 23,
   "metadata": {},
   "outputs": [],
   "source": [
    "class NeuralNetwork(nn.Module):\n",
    "    def __init__(self):\n",
    "        super(NeuralNetwork, self).__init__()\n",
    "        self.flatten = nn.Flatten()\n",
    "        self.linear_relu_stack = nn.Sequential(\n",
    "            nn.Linear(28*28*3, 1024),\n",
    "            nn.ReLU(),\n",
    "            nn.Linear(1024, 512),\n",
    "            nn.ReLU(),\n",
    "            nn.Linear(512, 256),\n",
    "            nn.ReLU(),\n",
    "            nn.Linear(256, 26),\n",
    "        )\n",
    "\n",
    "    def forward(self, x):\n",
    "        x = self.flatten(x)\n",
    "        logits = self.linear_relu_stack(x)\n",
    "        return logits"
   ]
  },
  {
   "cell_type": "code",
   "execution_count": 24,
   "metadata": {},
   "outputs": [],
   "source": [
    "model_lin3 = NeuralNetwork()"
   ]
  },
  {
   "cell_type": "code",
   "execution_count": 25,
   "metadata": {
    "scrolled": true
   },
   "outputs": [
    {
     "name": "stdout",
     "output_type": "stream",
     "text": [
      "\n",
      "Epoch 1\n",
      "-------------------------------\n",
      "loss: 3.255079  [    0/52000]\n",
      "loss: 3.245245  [ 6400/52000]\n",
      "loss: 3.247203  [12800/52000]\n",
      "loss: 3.242728  [19200/52000]\n",
      "loss: 3.229711  [25600/52000]\n",
      "loss: 3.211757  [32000/52000]\n",
      "loss: 3.175838  [38400/52000]\n",
      "loss: 3.133849  [44800/52000]\n",
      "loss: 3.106009  [51200/52000]\n",
      "Test Error: \n",
      " Accuracy: 21.7%, Avg loss: 3.067684\n",
      "Time: 16.463\n",
      "\n",
      "Epoch 2\n",
      "-------------------------------\n",
      "loss: 3.045726  [    0/52000]\n",
      "loss: 2.921689  [ 6400/52000]\n",
      "loss: 2.774934  [12800/52000]\n",
      "loss: 2.647703  [19200/52000]\n",
      "loss: 2.393272  [25600/52000]\n",
      "loss: 2.363592  [32000/52000]\n",
      "loss: 1.848715  [38400/52000]\n",
      "loss: 2.008251  [44800/52000]\n",
      "loss: 1.824672  [51200/52000]\n",
      "Test Error: \n",
      " Accuracy: 51.2%, Avg loss: 1.710188\n",
      "Time: 16.521\n",
      "\n",
      "Epoch 3\n",
      "-------------------------------\n",
      "loss: 1.689673  [    0/52000]\n",
      "loss: 1.323161  [ 6400/52000]\n",
      "loss: 1.712483  [12800/52000]\n",
      "loss: 1.670516  [19200/52000]\n",
      "loss: 1.521037  [25600/52000]\n",
      "loss: 1.564165  [32000/52000]\n",
      "loss: 1.242678  [38400/52000]\n",
      "loss: 1.544571  [44800/52000]\n",
      "loss: 1.545507  [51200/52000]\n",
      "Test Error: \n",
      " Accuracy: 60.9%, Avg loss: 1.335395\n",
      "Time: 14.075\n",
      "\n",
      "Epoch 4\n",
      "-------------------------------\n",
      "loss: 1.268440  [    0/52000]\n",
      "loss: 1.005765  [ 6400/52000]\n",
      "loss: 1.528931  [12800/52000]\n",
      "loss: 1.454815  [19200/52000]\n",
      "loss: 1.270948  [25600/52000]\n",
      "loss: 1.304171  [32000/52000]\n",
      "loss: 0.995607  [38400/52000]\n",
      "loss: 1.297225  [44800/52000]\n",
      "loss: 1.427952  [51200/52000]\n",
      "Test Error: \n",
      " Accuracy: 66.0%, Avg loss: 1.157554\n",
      "Time: 13.940\n",
      "\n",
      "Epoch 5\n",
      "-------------------------------\n",
      "loss: 1.079476  [    0/52000]\n",
      "loss: 0.828975  [ 6400/52000]\n",
      "loss: 1.370198  [12800/52000]\n",
      "loss: 1.277917  [19200/52000]\n",
      "loss: 1.095064  [25600/52000]\n",
      "loss: 1.147325  [32000/52000]\n",
      "loss: 0.830495  [38400/52000]\n",
      "loss: 1.083858  [44800/52000]\n",
      "loss: 1.304651  [51200/52000]\n",
      "Test Error: \n",
      " Accuracy: 70.0%, Avg loss: 1.023208\n",
      "Time: 13.633\n",
      "\n",
      "Epoch 6\n",
      "-------------------------------\n",
      "loss: 0.939113  [    0/52000]\n",
      "loss: 0.711528  [ 6400/52000]\n",
      "loss: 1.213715  [12800/52000]\n",
      "loss: 1.135079  [19200/52000]\n",
      "loss: 0.926305  [25600/52000]\n",
      "loss: 1.022032  [32000/52000]\n",
      "loss: 0.704666  [38400/52000]\n",
      "loss: 0.882663  [44800/52000]\n",
      "loss: 1.158064  [51200/52000]\n",
      "Test Error: \n",
      " Accuracy: 73.1%, Avg loss: 0.905725\n",
      "Time: 16.435\n",
      "\n",
      "Epoch 7\n",
      "-------------------------------\n",
      "loss: 0.816071  [    0/52000]\n",
      "loss: 0.630219  [ 6400/52000]\n",
      "loss: 1.054662  [12800/52000]\n",
      "loss: 1.011489  [19200/52000]\n",
      "loss: 0.789451  [25600/52000]\n",
      "loss: 0.914249  [32000/52000]\n",
      "loss: 0.603281  [38400/52000]\n",
      "loss: 0.705299  [44800/52000]\n",
      "loss: 1.020222  [51200/52000]\n",
      "Test Error: \n",
      " Accuracy: 76.1%, Avg loss: 0.808373\n",
      "Time: 13.743\n",
      "\n",
      "Epoch 8\n",
      "-------------------------------\n",
      "loss: 0.712790  [    0/52000]\n",
      "loss: 0.568075  [ 6400/52000]\n",
      "loss: 0.902141  [12800/52000]\n",
      "loss: 0.905074  [19200/52000]\n",
      "loss: 0.687456  [25600/52000]\n",
      "loss: 0.815390  [32000/52000]\n",
      "loss: 0.526616  [38400/52000]\n",
      "loss: 0.565534  [44800/52000]\n",
      "loss: 0.911935  [51200/52000]\n",
      "Test Error: \n",
      " Accuracy: 78.3%, Avg loss: 0.732840\n",
      "Time: 13.985\n",
      "\n",
      "Epoch 9\n",
      "-------------------------------\n",
      "loss: 0.635583  [    0/52000]\n",
      "loss: 0.518059  [ 6400/52000]\n",
      "loss: 0.779147  [12800/52000]\n",
      "loss: 0.814817  [19200/52000]\n",
      "loss: 0.618313  [25600/52000]\n",
      "loss: 0.744797  [32000/52000]\n",
      "loss: 0.467172  [38400/52000]\n",
      "loss: 0.461024  [44800/52000]\n",
      "loss: 0.828715  [51200/52000]\n",
      "Test Error: \n",
      " Accuracy: 80.1%, Avg loss: 0.674356\n",
      "Time: 14.341\n",
      "\n",
      "Epoch 10\n",
      "-------------------------------\n",
      "loss: 0.572662  [    0/52000]\n",
      "loss: 0.477122  [ 6400/52000]\n",
      "loss: 0.681793  [12800/52000]\n",
      "loss: 0.739590  [19200/52000]\n",
      "loss: 0.573832  [25600/52000]\n",
      "loss: 0.694442  [32000/52000]\n",
      "loss: 0.416744  [38400/52000]\n",
      "loss: 0.387797  [44800/52000]\n",
      "loss: 0.763084  [51200/52000]\n",
      "Test Error: \n",
      " Accuracy: 81.5%, Avg loss: 0.628311\n",
      "Time: 13.284\n",
      "\n",
      "Epoch 11\n",
      "-------------------------------\n",
      "loss: 0.520760  [    0/52000]\n",
      "loss: 0.446436  [ 6400/52000]\n",
      "loss: 0.605797  [12800/52000]\n",
      "loss: 0.676383  [19200/52000]\n",
      "loss: 0.546848  [25600/52000]\n",
      "loss: 0.655352  [32000/52000]\n",
      "loss: 0.374345  [38400/52000]\n",
      "loss: 0.337315  [44800/52000]\n",
      "loss: 0.710454  [51200/52000]\n",
      "Test Error: \n",
      " Accuracy: 82.6%, Avg loss: 0.591183\n",
      "Time: 14.288\n",
      "\n",
      "Epoch 12\n",
      "-------------------------------\n",
      "loss: 0.473473  [    0/52000]\n",
      "loss: 0.422900  [ 6400/52000]\n",
      "loss: 0.548972  [12800/52000]\n",
      "loss: 0.616996  [19200/52000]\n",
      "loss: 0.528573  [25600/52000]\n",
      "loss: 0.625465  [32000/52000]\n",
      "loss: 0.339691  [38400/52000]\n",
      "loss: 0.299516  [44800/52000]\n",
      "loss: 0.664457  [51200/52000]\n",
      "Test Error: \n",
      " Accuracy: 83.3%, Avg loss: 0.560488\n",
      "Time: 13.513\n",
      "\n",
      "Epoch 13\n",
      "-------------------------------\n",
      "loss: 0.429191  [    0/52000]\n",
      "loss: 0.405586  [ 6400/52000]\n",
      "loss: 0.502820  [12800/52000]\n",
      "loss: 0.568653  [19200/52000]\n",
      "loss: 0.513752  [25600/52000]\n",
      "loss: 0.596907  [32000/52000]\n",
      "loss: 0.309512  [38400/52000]\n",
      "loss: 0.270584  [44800/52000]\n",
      "loss: 0.620329  [51200/52000]\n",
      "Test Error: \n",
      " Accuracy: 84.1%, Avg loss: 0.534617\n",
      "Time: 13.709\n",
      "\n",
      "Epoch 14\n",
      "-------------------------------\n",
      "loss: 0.392825  [    0/52000]\n",
      "loss: 0.390809  [ 6400/52000]\n",
      "loss: 0.464111  [12800/52000]\n",
      "loss: 0.526939  [19200/52000]\n",
      "loss: 0.503729  [25600/52000]\n",
      "loss: 0.570016  [32000/52000]\n",
      "loss: 0.286613  [38400/52000]\n",
      "loss: 0.247277  [44800/52000]\n",
      "loss: 0.581006  [51200/52000]\n",
      "Test Error: \n",
      " Accuracy: 84.6%, Avg loss: 0.512423\n",
      "Time: 13.334\n",
      "\n",
      "Epoch 15\n",
      "-------------------------------\n",
      "loss: 0.360511  [    0/52000]\n",
      "loss: 0.378464  [ 6400/52000]\n",
      "loss: 0.431570  [12800/52000]\n",
      "loss: 0.490056  [19200/52000]\n",
      "loss: 0.494689  [25600/52000]\n",
      "loss: 0.544767  [32000/52000]\n",
      "loss: 0.264336  [38400/52000]\n",
      "loss: 0.228730  [44800/52000]\n",
      "loss: 0.541285  [51200/52000]\n",
      "Test Error: \n",
      " Accuracy: 85.1%, Avg loss: 0.492864\n",
      "Time: 13.237\n",
      "\n",
      "Epoch 16\n",
      "-------------------------------\n",
      "loss: 0.330796  [    0/52000]\n",
      "loss: 0.365643  [ 6400/52000]\n",
      "loss: 0.404542  [12800/52000]\n",
      "loss: 0.459837  [19200/52000]\n",
      "loss: 0.485104  [25600/52000]\n",
      "loss: 0.519707  [32000/52000]\n",
      "loss: 0.243748  [38400/52000]\n",
      "loss: 0.214107  [44800/52000]\n",
      "loss: 0.501471  [51200/52000]\n",
      "Test Error: \n",
      " Accuracy: 85.5%, Avg loss: 0.476057\n",
      "Time: 13.326\n",
      "\n",
      "Epoch 17\n",
      "-------------------------------\n",
      "loss: 0.303531  [    0/52000]\n",
      "loss: 0.353347  [ 6400/52000]\n",
      "loss: 0.382467  [12800/52000]\n",
      "loss: 0.432042  [19200/52000]\n",
      "loss: 0.477455  [25600/52000]\n",
      "loss: 0.495044  [32000/52000]\n",
      "loss: 0.224740  [38400/52000]\n",
      "loss: 0.202356  [44800/52000]\n",
      "loss: 0.464790  [51200/52000]\n",
      "Test Error: \n",
      " Accuracy: 85.9%, Avg loss: 0.461903\n",
      "Time: 13.417\n",
      "\n",
      "Epoch 18\n",
      "-------------------------------\n",
      "loss: 0.282061  [    0/52000]\n",
      "loss: 0.342210  [ 6400/52000]\n",
      "loss: 0.363007  [12800/52000]\n",
      "loss: 0.408912  [19200/52000]\n",
      "loss: 0.465130  [25600/52000]\n",
      "loss: 0.469570  [32000/52000]\n",
      "loss: 0.208537  [38400/52000]\n",
      "loss: 0.192385  [44800/52000]\n",
      "loss: 0.431795  [51200/52000]\n",
      "Test Error: \n",
      " Accuracy: 86.3%, Avg loss: 0.448881\n",
      "Time: 13.998\n",
      "\n",
      "Epoch 19\n",
      "-------------------------------\n",
      "loss: 0.261873  [    0/52000]\n",
      "loss: 0.330460  [ 6400/52000]\n",
      "loss: 0.345994  [12800/52000]\n",
      "loss: 0.389777  [19200/52000]\n",
      "loss: 0.455759  [25600/52000]\n",
      "loss: 0.447038  [32000/52000]\n",
      "loss: 0.193124  [38400/52000]\n",
      "loss: 0.183311  [44800/52000]\n",
      "loss: 0.400770  [51200/52000]\n",
      "Test Error: \n",
      " Accuracy: 86.6%, Avg loss: 0.437699\n",
      "Time: 13.329\n",
      "\n",
      "Epoch 20\n",
      "-------------------------------\n",
      "loss: 0.244924  [    0/52000]\n",
      "loss: 0.321130  [ 6400/52000]\n",
      "loss: 0.329652  [12800/52000]\n",
      "loss: 0.374386  [19200/52000]\n",
      "loss: 0.443711  [25600/52000]\n",
      "loss: 0.424357  [32000/52000]\n",
      "loss: 0.179620  [38400/52000]\n",
      "loss: 0.176291  [44800/52000]\n",
      "loss: 0.369845  [51200/52000]\n",
      "Test Error: \n",
      " Accuracy: 86.8%, Avg loss: 0.427700\n",
      "Time: 13.847\n"
     ]
    }
   ],
   "source": [
    "loss_fn = nn.CrossEntropyLoss()\n",
    "optimizer = torch.optim.SGD(model_lin3.parameters(), lr=0.01)\n",
    "learning_cycle(20, model_lin3, loss_fn, optimizer)"
   ]
  },
  {
   "cell_type": "markdown",
   "metadata": {},
   "source": [
    "учиться довольно медленно но +-стабильно"
   ]
  },
  {
   "cell_type": "code",
   "execution_count": 26,
   "metadata": {},
   "outputs": [
    {
     "data": {
      "text/plain": [
       "torch.Size([28, 28, 3])"
      ]
     },
     "execution_count": 26,
     "metadata": {},
     "output_type": "execute_result"
    }
   ],
   "source": [
    "X_train[0].shape"
   ]
  },
  {
   "cell_type": "code",
   "execution_count": 27,
   "metadata": {},
   "outputs": [],
   "source": [
    "pred = model_lin3(X_train[30000].reshape([1,28,28,3]))"
   ]
  },
  {
   "cell_type": "code",
   "execution_count": 28,
   "metadata": {},
   "outputs": [
    {
     "data": {
      "text/plain": [
       "(tensor([[  2.1948,   5.8896,  13.2519,   4.2528,  13.3028,  -6.2386,   0.7841,\n",
       "           -8.1126,   2.2034,  -1.2103,   0.8520,   4.6672,  -6.9980,  -2.2155,\n",
       "            4.5022, -14.6413,   0.2363,   2.8631,   3.2576,   7.0897,  -4.5050,\n",
       "           -9.6243,  -8.6572,  -4.0066,  -5.7131,   7.4510]],\n",
       "        grad_fn=<AddmmBackward0>),\n",
       " 2)"
      ]
     },
     "execution_count": 28,
     "metadata": {},
     "output_type": "execute_result"
    }
   ],
   "source": [
    "pred,y_train[30000]"
   ]
  },
  {
   "cell_type": "markdown",
   "metadata": {},
   "source": [
    "ради эксперимента создадим сеточку с двумя линейными слоями"
   ]
  },
  {
   "cell_type": "code",
   "execution_count": 29,
   "metadata": {},
   "outputs": [],
   "source": [
    "class NeuralNetwork2(nn.Module):\n",
    "    def __init__(self):\n",
    "        super(NeuralNetwork2, self).__init__()\n",
    "        self.flatten = nn.Flatten()\n",
    "        self.linear_sigmoid_stack = nn.Sequential(\n",
    "            nn.Linear(28*28*3, 512),\n",
    "            nn.Sigmoid(),\n",
    "            nn.Linear(512, 26),\n",
    "        )\n",
    "\n",
    "    def forward(self, x):\n",
    "        x = self.flatten(x)\n",
    "        logits = self.linear_sigmoid_stack(x)\n",
    "        return logits"
   ]
  },
  {
   "cell_type": "code",
   "execution_count": 30,
   "metadata": {},
   "outputs": [],
   "source": [
    "model_lin2 = NeuralNetwork2()"
   ]
  },
  {
   "cell_type": "code",
   "execution_count": 31,
   "metadata": {
    "scrolled": false
   },
   "outputs": [
    {
     "name": "stdout",
     "output_type": "stream",
     "text": [
      "\n",
      "Epoch 1\n",
      "-------------------------------\n",
      "loss: 3.316017  [    0/52000]\n",
      "loss: 3.232385  [ 6400/52000]\n",
      "loss: 3.188402  [12800/52000]\n",
      "loss: 3.164689  [19200/52000]\n",
      "loss: 3.126134  [25600/52000]\n",
      "loss: 3.094627  [32000/52000]\n",
      "loss: 3.025605  [38400/52000]\n",
      "loss: 2.996710  [44800/52000]\n",
      "loss: 2.931988  [51200/52000]\n",
      "Test Error: \n",
      " Accuracy: 40.7%, Avg loss: 2.913264\n",
      "Time: 6.282\n",
      "\n",
      "Epoch 2\n",
      "-------------------------------\n",
      "loss: 2.934039  [    0/52000]\n",
      "loss: 2.810050  [ 6400/52000]\n",
      "loss: 2.783159  [12800/52000]\n",
      "loss: 2.765012  [19200/52000]\n",
      "loss: 2.685134  [25600/52000]\n",
      "loss: 2.662539  [32000/52000]\n",
      "loss: 2.478028  [38400/52000]\n",
      "loss: 2.487883  [44800/52000]\n",
      "loss: 2.418555  [51200/52000]\n",
      "Test Error: \n",
      " Accuracy: 49.3%, Avg loss: 2.367038\n",
      "Time: 6.356\n",
      "\n",
      "Epoch 3\n",
      "-------------------------------\n",
      "loss: 2.397222  [    0/52000]\n",
      "loss: 2.166404  [ 6400/52000]\n",
      "loss: 2.253088  [12800/52000]\n",
      "loss: 2.280523  [19200/52000]\n",
      "loss: 2.190848  [25600/52000]\n",
      "loss: 2.207898  [32000/52000]\n",
      "loss: 1.969377  [38400/52000]\n",
      "loss: 2.096962  [44800/52000]\n",
      "loss: 2.014391  [51200/52000]\n",
      "Test Error: \n",
      " Accuracy: 54.2%, Avg loss: 1.936149\n",
      "Time: 6.107\n",
      "\n",
      "Epoch 4\n",
      "-------------------------------\n",
      "loss: 1.961196  [    0/52000]\n",
      "loss: 1.674073  [ 6400/52000]\n",
      "loss: 1.900197  [12800/52000]\n",
      "loss: 1.959365  [19200/52000]\n",
      "loss: 1.848861  [25600/52000]\n",
      "loss: 1.901773  [32000/52000]\n",
      "loss: 1.635261  [38400/52000]\n",
      "loss: 1.867061  [44800/52000]\n",
      "loss: 1.776981  [51200/52000]\n",
      "Test Error: \n",
      " Accuracy: 56.9%, Avg loss: 1.680526\n",
      "Time: 6.196\n",
      "\n",
      "Epoch 5\n",
      "-------------------------------\n",
      "loss: 1.689901  [    0/52000]\n",
      "loss: 1.388121  [ 6400/52000]\n",
      "loss: 1.707746  [12800/52000]\n",
      "loss: 1.773859  [19200/52000]\n",
      "loss: 1.633232  [25600/52000]\n",
      "loss: 1.709004  [32000/52000]\n",
      "loss: 1.425934  [38400/52000]\n",
      "loss: 1.723057  [44800/52000]\n",
      "loss: 1.640721  [51200/52000]\n",
      "Test Error: \n",
      " Accuracy: 59.1%, Avg loss: 1.528781\n",
      "Time: 6.275\n",
      "\n",
      "Epoch 6\n",
      "-------------------------------\n",
      "loss: 1.522119  [    0/52000]\n",
      "loss: 1.225120  [ 6400/52000]\n",
      "loss: 1.599169  [12800/52000]\n",
      "loss: 1.661457  [19200/52000]\n",
      "loss: 1.493213  [25600/52000]\n",
      "loss: 1.579777  [32000/52000]\n",
      "loss: 1.287618  [38400/52000]\n",
      "loss: 1.622124  [44800/52000]\n",
      "loss: 1.558428  [51200/52000]\n",
      "Test Error: \n",
      " Accuracy: 60.6%, Avg loss: 1.430853\n",
      "Time: 6.265\n",
      "\n",
      "Epoch 7\n",
      "-------------------------------\n",
      "loss: 1.411438  [    0/52000]\n",
      "loss: 1.124931  [ 6400/52000]\n",
      "loss: 1.528903  [12800/52000]\n",
      "loss: 1.585338  [19200/52000]\n",
      "loss: 1.396600  [25600/52000]\n",
      "loss: 1.487421  [32000/52000]\n",
      "loss: 1.189354  [38400/52000]\n",
      "loss: 1.545084  [44800/52000]\n",
      "loss: 1.505405  [51200/52000]\n",
      "Test Error: \n",
      " Accuracy: 62.0%, Avg loss: 1.362160\n",
      "Time: 6.228\n",
      "\n",
      "Epoch 8\n",
      "-------------------------------\n",
      "loss: 1.333227  [    0/52000]\n",
      "loss: 1.057108  [ 6400/52000]\n",
      "loss: 1.476760  [12800/52000]\n",
      "loss: 1.528832  [19200/52000]\n",
      "loss: 1.326222  [25600/52000]\n",
      "loss: 1.418664  [32000/52000]\n",
      "loss: 1.115463  [38400/52000]\n",
      "loss: 1.483040  [44800/52000]\n",
      "loss: 1.469130  [51200/52000]\n",
      "Test Error: \n",
      " Accuracy: 63.2%, Avg loss: 1.310822\n",
      "Time: 6.433\n",
      "\n",
      "Epoch 9\n",
      "-------------------------------\n",
      "loss: 1.274552  [    0/52000]\n",
      "loss: 1.007188  [ 6400/52000]\n",
      "loss: 1.434416  [12800/52000]\n",
      "loss: 1.484268  [19200/52000]\n",
      "loss: 1.272567  [25600/52000]\n",
      "loss: 1.366091  [32000/52000]\n",
      "loss: 1.057574  [38400/52000]\n",
      "loss: 1.431226  [44800/52000]\n",
      "loss: 1.442854  [51200/52000]\n",
      "Test Error: \n",
      " Accuracy: 64.1%, Avg loss: 1.270602\n",
      "Time: 6.420\n",
      "\n",
      "Epoch 10\n",
      "-------------------------------\n",
      "loss: 1.228349  [    0/52000]\n",
      "loss: 0.968085  [ 6400/52000]\n",
      "loss: 1.398263  [12800/52000]\n",
      "loss: 1.447615  [19200/52000]\n",
      "loss: 1.229945  [25600/52000]\n",
      "loss: 1.325021  [32000/52000]\n",
      "loss: 1.010795  [38400/52000]\n",
      "loss: 1.386739  [44800/52000]\n",
      "loss: 1.422693  [51200/52000]\n",
      "Test Error: \n",
      " Accuracy: 64.8%, Avg loss: 1.237922\n",
      "Time: 6.454\n"
     ]
    }
   ],
   "source": [
    "loss_fn = nn.CrossEntropyLoss()\n",
    "optimizer2 = torch.optim.SGD(model_lin2.parameters(), lr=0.01)\n",
    "learning_cycle(10, model_lin2, loss_fn, optimizer2)"
   ]
  },
  {
   "cell_type": "markdown",
   "metadata": {},
   "source": [
    "судя по всему более простая модель только с двумя линейными слоями и учится значительно быстрее и выдает результаты далеко не хуже с точки зрения метрик"
   ]
  },
  {
   "cell_type": "markdown",
   "metadata": {},
   "source": [
    "так же большое значение играет здесь learning rate "
   ]
  },
  {
   "cell_type": "markdown",
   "metadata": {},
   "source": [
    "прогоним на тестовой выборке"
   ]
  },
  {
   "cell_type": "code",
   "execution_count": 32,
   "metadata": {},
   "outputs": [],
   "source": [
    "Xt,yt = get_data_and_targets_lst(\"images/test\")"
   ]
  },
  {
   "cell_type": "code",
   "execution_count": 33,
   "metadata": {},
   "outputs": [],
   "source": [
    "final_test_dataset = MyDataset(Xt, yt)\n",
    "final_test_dataloader = DataLoader(final_test_dataset, batch_size=batch_size)"
   ]
  },
  {
   "cell_type": "code",
   "execution_count": 34,
   "metadata": {},
   "outputs": [
    {
     "data": {
      "text/plain": [
       "0.8731538461538462"
      ]
     },
     "execution_count": 34,
     "metadata": {},
     "output_type": "execute_result"
    }
   ],
   "source": [
    "get_model_accuracy(final_test_dataloader, model_lin3)"
   ]
  },
  {
   "cell_type": "code",
   "execution_count": 35,
   "metadata": {},
   "outputs": [
    {
     "data": {
      "text/plain": [
       "0.6465384615384615"
      ]
     },
     "execution_count": 35,
     "metadata": {},
     "output_type": "execute_result"
    }
   ],
   "source": [
    "get_model_accuracy(final_test_dataloader, model_lin2)"
   ]
  },
  {
   "cell_type": "code",
   "execution_count": 36,
   "metadata": {},
   "outputs": [],
   "source": [
    "#torch.save(model_lin2.state_dict(), \"my_models/model90.pth\")"
   ]
  },
  {
   "cell_type": "code",
   "execution_count": 37,
   "metadata": {},
   "outputs": [],
   "source": [
    "# model_lin2 = NeuralNetwork2()\n",
    "# model_lin2.load_state_dict(torch.load(\"my_models/model90.pth\"))"
   ]
  },
  {
   "cell_type": "markdown",
   "metadata": {},
   "source": [
    "# 1.2"
   ]
  },
  {
   "cell_type": "code",
   "execution_count": 38,
   "metadata": {},
   "outputs": [],
   "source": [
    "from sklearn.metrics import confusion_matrix\n",
    "import seaborn as sns\n",
    "import pandas as pd"
   ]
  },
  {
   "cell_type": "markdown",
   "metadata": {},
   "source": [
    "достанем одну из обученных мной линейных моделей"
   ]
  },
  {
   "cell_type": "code",
   "execution_count": 39,
   "metadata": {},
   "outputs": [
    {
     "data": {
      "text/plain": [
       "<All keys matched successfully>"
      ]
     },
     "execution_count": 39,
     "metadata": {},
     "output_type": "execute_result"
    }
   ],
   "source": [
    "model_lin2 = NeuralNetwork2()\n",
    "model_lin2.load_state_dict(torch.load(\"my_models/model90.pth\"))"
   ]
  },
  {
   "cell_type": "code",
   "execution_count": 40,
   "metadata": {},
   "outputs": [
    {
     "data": {
      "text/plain": [
       "13000"
      ]
     },
     "execution_count": 40,
     "metadata": {},
     "output_type": "execute_result"
    }
   ],
   "source": [
    "predictions = get_all_model_predictions(final_test_dataloader, model_lin2)\n",
    "len(predictions)"
   ]
  },
  {
   "cell_type": "code",
   "execution_count": 41,
   "metadata": {},
   "outputs": [
    {
     "name": "stdout",
     "output_type": "stream",
     "text": [
      "500.0\n"
     ]
    }
   ],
   "source": [
    "print(13000/26)"
   ]
  },
  {
   "cell_type": "code",
   "execution_count": 42,
   "metadata": {},
   "outputs": [],
   "source": [
    "cf_matrix = confusion_matrix(yt, predictions)"
   ]
  },
  {
   "cell_type": "code",
   "execution_count": 43,
   "metadata": {},
   "outputs": [
    {
     "data": {
      "text/plain": [
       "<AxesSubplot:>"
      ]
     },
     "execution_count": 43,
     "metadata": {},
     "output_type": "execute_result"
    },
    {
     "data": {
      "image/png": "[encoded data removed]",
      "text/plain": [
       "<Figure size 1224x936 with 2 Axes>"
      ]
     },
     "metadata": {
      "needs_background": "light"
     },
     "output_type": "display_data"
    }
   ],
   "source": [
    "plt.figure(figsize=(17,13))\n",
    "sns.heatmap(cf_matrix, annot=True)"
   ]
  },
  {
   "cell_type": "code",
   "execution_count": 44,
   "metadata": {},
   "outputs": [
    {
     "data": {
      "text/plain": [
       "<BarContainer object of 26 artists>"
      ]
     },
     "execution_count": 44,
     "metadata": {},
     "output_type": "execute_result"
    },
    {
     "data": {
      "image/png": "[encoded data removed]",
      "text/plain": [
       "<Figure size 1080x720 with 1 Axes>"
      ]
     },
     "metadata": {
      "needs_background": "light"
     },
     "output_type": "display_data"
    }
   ],
   "source": [
    "plt.figure(figsize=(15,10))\n",
    "letters_stat = [cf_matrix[i][i] for i in range(26)]\n",
    "plt.bar([chr(i+97) for i in range(26)], letters_stat)"
   ]
  },
  {
   "cell_type": "markdown",
   "metadata": {},
   "source": [
    "буквы с наибольшей и наименьшей статистикой угадывания"
   ]
  },
  {
   "cell_type": "code",
   "execution_count": 45,
   "metadata": {},
   "outputs": [
    {
     "data": {
      "text/plain": [
       "('o', 0.974)"
      ]
     },
     "execution_count": 45,
     "metadata": {},
     "output_type": "execute_result"
    }
   ],
   "source": [
    "chr(np.array(letters_stat).argmax() + 97), max(letters_stat)/500"
   ]
  },
  {
   "cell_type": "code",
   "execution_count": 46,
   "metadata": {},
   "outputs": [
    {
     "data": {
      "text/plain": [
       "('l', 0.732)"
      ]
     },
     "execution_count": 46,
     "metadata": {},
     "output_type": "execute_result"
    }
   ],
   "source": [
    "chr(np.array(letters_stat).argmin() + 97), min(letters_stat)/500"
   ]
  },
  {
   "cell_type": "markdown",
   "metadata": {},
   "source": [
    "если прогонять на самой лучшей модели - то лучше всего угадывается \"o\" хуже всего - \"i\" и \"l\""
   ]
  },
  {
   "cell_type": "markdown",
   "metadata": {},
   "source": [
    "предположительно, потому что у О очень простая структура (просто кружок) и что гораздо более важное - заглавная и строчная версия буквы никак не отличаются, чего не скажешь о \"i\"  или, например об \"q\""
   ]
  },
  {
   "cell_type": "markdown",
   "metadata": {},
   "source": [
    "# 1.3"
   ]
  },
  {
   "cell_type": "code",
   "execution_count": 47,
   "metadata": {},
   "outputs": [],
   "source": [
    "def get_confusing_letters(cf_matrix, amount=10):\n",
    "    matrix = cf_matrix.copy()\n",
    "    for i in range(26):\n",
    "        matrix[i][i] = 0\n",
    "    confusion = []\n",
    "    for i in range(26):\n",
    "        for j in range(26):\n",
    "            if len(confusion)<amount:\n",
    "                confusion.append((matrix[i][j],chr(i+97),chr(j+97)))\n",
    "            elif min(confusion, key=lambda el: el[0])[0] < matrix[i][j]:\n",
    "                confusion = sorted(confusion, key=lambda el: el[0])\n",
    "                confusion[0] = (matrix[i][j],chr(i+97),chr(j+97))\n",
    "    return sorted(confusion, key=lambda el: el[0])"
   ]
  },
  {
   "cell_type": "code",
   "execution_count": 48,
   "metadata": {},
   "outputs": [
    {
     "data": {
      "text/plain": [
       "[(9, 'f', 't'),\n",
       " (9, 'a', 'd'),\n",
       " (10, 'q', 'a'),\n",
       " (11, 'x', 'y'),\n",
       " (11, 'j', 'i'),\n",
       " (11, 'i', 'j'),\n",
       " (12, 'n', 'w'),\n",
       " (13, 'r', 'a'),\n",
       " (13, 'f', 'p'),\n",
       " (13, 'c', 'e'),\n",
       " (14, 'd', 'o'),\n",
       " (16, 'u', 'v'),\n",
       " (17, 's', 'g'),\n",
       " (17, 'e', 'c'),\n",
       " (19, 'y', 'v'),\n",
       " (20, 'v', 'u'),\n",
       " (59, 'g', 'q'),\n",
       " (66, 'q', 'g'),\n",
       " (103, 'i', 'l'),\n",
       " (122, 'l', 'i')]"
      ]
     },
     "execution_count": 48,
     "metadata": {},
     "output_type": "execute_result"
    }
   ],
   "source": [
    "get_confusing_letters(cf_matrix, 20)"
   ]
  },
  {
   "cell_type": "code",
   "execution_count": 49,
   "metadata": {},
   "outputs": [],
   "source": [
    "wrong_inds = []\n",
    "for i in range(len(predictions)):\n",
    "    if predictions[i] != yt[i]:\n",
    "        wrong_inds.append(i)"
   ]
  },
  {
   "cell_type": "code",
   "execution_count": 50,
   "metadata": {},
   "outputs": [],
   "source": [
    "#wrong_inds"
   ]
  },
  {
   "cell_type": "code",
   "execution_count": 51,
   "metadata": {
    "scrolled": true
   },
   "outputs": [
    {
     "data": {
      "image/png": "[encoded data removed]",
      "text/plain": [
       "<Figure size 432x288 with 1 Axes>"
      ]
     },
     "metadata": {
      "needs_background": "light"
     },
     "output_type": "display_data"
    },
    {
     "data": {
      "image/png": "[encoded data removed]",
      "text/plain": [
       "<Figure size 432x288 with 1 Axes>"
      ]
     },
     "metadata": {
      "needs_background": "light"
     },
     "output_type": "display_data"
    },
    {
     "data": {
      "image/png": "[encoded data removed]",
      "text/plain": [
       "<Figure size 432x288 with 1 Axes>"
      ]
     },
     "metadata": {
      "needs_background": "light"
     },
     "output_type": "display_data"
    },
    {
     "data": {
      "image/png": "[encoded data removed]",
      "text/plain": [
       "<Figure size 432x288 with 1 Axes>"
      ]
     },
     "metadata": {
      "needs_background": "light"
     },
     "output_type": "display_data"
    },
    {
     "data": {
      "image/png": "[encoded data removed]",
      "text/plain": [
       "<Figure size 432x288 with 1 Axes>"
      ]
     },
     "metadata": {
      "needs_background": "light"
     },
     "output_type": "display_data"
    },
    {
     "data": {
      "image/png": "[encoded data removed]",
      "text/plain": [
       "<Figure size 432x288 with 1 Axes>"
      ]
     },
     "metadata": {
      "needs_background": "light"
     },
     "output_type": "display_data"
    }
   ],
   "source": [
    "for i in [5,100,123,34,300,1200]:\n",
    "    plt.imshow(Xt[wrong_inds[i]])\n",
    "    plt.show()"
   ]
  },
  {
   "cell_type": "markdown",
   "metadata": {},
   "source": [
    "как мы видим большинство букв тяжело опознаваемы даже для человека "
   ]
  },
  {
   "cell_type": "markdown",
   "metadata": {},
   "source": [
    "# 1.4 "
   ]
  },
  {
   "cell_type": "code",
   "execution_count": 52,
   "metadata": {},
   "outputs": [
    {
     "data": {
      "text/plain": [
       "0.936"
      ]
     },
     "execution_count": 52,
     "metadata": {},
     "output_type": "execute_result"
    }
   ],
   "source": [
    "sind = ord(\"s\") - 97\n",
    "cf_matrix[sind][sind]/500"
   ]
  },
  {
   "cell_type": "code",
   "execution_count": 53,
   "metadata": {},
   "outputs": [
    {
     "data": {
      "text/plain": [
       "18"
      ]
     },
     "execution_count": 53,
     "metadata": {},
     "output_type": "execute_result"
    }
   ],
   "source": [
    "sind"
   ]
  },
  {
   "cell_type": "markdown",
   "metadata": {},
   "source": [
    "судя по confusion_matrix чаще всего модель путает букву \"s\" с буквами под номерами 6 и 9"
   ]
  },
  {
   "cell_type": "code",
   "execution_count": 54,
   "metadata": {},
   "outputs": [
    {
     "data": {
      "text/plain": [
       "('g', 'j')"
      ]
     },
     "execution_count": 54,
     "metadata": {},
     "output_type": "execute_result"
    }
   ],
   "source": [
    "chr(97+6), chr(97+9)"
   ]
  },
  {
   "cell_type": "markdown",
   "metadata": {},
   "source": [
    "# 2"
   ]
  },
  {
   "cell_type": "code",
   "execution_count": 55,
   "metadata": {},
   "outputs": [],
   "source": [
    "conv1 = nn.Conv2d(3, 6, 5)\n",
    "pool = nn.MaxPool2d(2, 2)\n",
    "conv2 = nn.Conv2d(6, 18, 5)"
   ]
  },
  {
   "cell_type": "code",
   "execution_count": 56,
   "metadata": {},
   "outputs": [
    {
     "name": "stdout",
     "output_type": "stream",
     "text": [
      "torch.Size([64, 3, 28, 28])\n",
      "torch.Size([64, 6, 24, 24])\n",
      "torch.Size([64, 6, 12, 12])\n",
      "torch.Size([64, 18, 8, 8])\n",
      "torch.Size([64, 18, 4, 4])\n"
     ]
    }
   ],
   "source": [
    "for batch, (X, y) in enumerate(train_dataloader):\n",
    "    X = X.permute(0, 3, 1, 2)\n",
    "    print(X.shape)\n",
    "    X = conv1(X)\n",
    "    print(X.shape)\n",
    "    X = pool(X)\n",
    "    print(X.shape)\n",
    "    X = conv2(X)\n",
    "    print(X.shape)\n",
    "    X = pool(X)\n",
    "    print(X.shape)\n",
    "    break"
   ]
  },
  {
   "cell_type": "code",
   "execution_count": 57,
   "metadata": {},
   "outputs": [],
   "source": [
    "class Conv2NeuralNetwork(nn.Module):\n",
    "    def __init__(self):\n",
    "        super(Conv2NeuralNetwork, self).__init__()\n",
    "        self.convolution_relu_stack = nn.Sequential(\n",
    "            nn.Conv2d(3, 6, 5),\n",
    "            nn.ReLU(),\n",
    "            nn.MaxPool2d(2, 2),\n",
    "            \n",
    "            nn.Conv2d(6, 18, 5),\n",
    "            nn.ReLU(),\n",
    "            nn.MaxPool2d(2, 2),\n",
    "        )\n",
    "        \n",
    "        self.flatten = nn.Flatten()\n",
    "        self.linear_relu_stack = nn.Sequential(\n",
    "            nn.Linear(18*4*4,120),\n",
    "            nn.ReLU(),\n",
    "            nn.Linear(120,26)\n",
    "        )\n",
    "    def forward(self, x):\n",
    "        x = self.convolution_relu_stack(x)\n",
    "        x = self.flatten(x)\n",
    "        logits = self.linear_relu_stack(x)\n",
    "        return logits"
   ]
  },
  {
   "cell_type": "code",
   "execution_count": 58,
   "metadata": {},
   "outputs": [
    {
     "name": "stdout",
     "output_type": "stream",
     "text": [
      "torch.Size([64, 26])\n"
     ]
    }
   ],
   "source": [
    "for batch, (X, y) in enumerate(train_dataloader):\n",
    "    c = Conv2NeuralNetwork()\n",
    "    print(c(X.permute(0, 3, 1, 2)).shape)\n",
    "    break"
   ]
  },
  {
   "cell_type": "code",
   "execution_count": 59,
   "metadata": {},
   "outputs": [],
   "source": [
    "model_conv2 = Conv2NeuralNetwork()"
   ]
  },
  {
   "cell_type": "code",
   "execution_count": 60,
   "metadata": {
    "scrolled": true
   },
   "outputs": [
    {
     "name": "stdout",
     "output_type": "stream",
     "text": [
      "\n",
      "Epoch 1\n",
      "-------------------------------\n",
      "loss: 3.266386  [    0/52000]\n",
      "loss: 3.264105  [ 6400/52000]\n",
      "loss: 3.251246  [12800/52000]\n",
      "loss: 3.268612  [19200/52000]\n",
      "loss: 3.259354  [25600/52000]\n",
      "loss: 3.261800  [32000/52000]\n",
      "loss: 3.260221  [38400/52000]\n",
      "loss: 3.260473  [44800/52000]\n",
      "loss: 3.252666  [51200/52000]\n",
      "Test Error: \n",
      " Accuracy: 3.9%, Avg loss: 3.254566\n",
      "Time: 6.548\n",
      "\n",
      "Epoch 2\n",
      "-------------------------------\n",
      "loss: 3.258466  [    0/52000]\n",
      "loss: 3.254683  [ 6400/52000]\n",
      "loss: 3.244382  [12800/52000]\n",
      "loss: 3.262465  [19200/52000]\n",
      "loss: 3.250807  [25600/52000]\n",
      "loss: 3.253352  [32000/52000]\n",
      "loss: 3.253204  [38400/52000]\n",
      "loss: 3.257144  [44800/52000]\n",
      "loss: 3.241843  [51200/52000]\n",
      "Test Error: \n",
      " Accuracy: 3.9%, Avg loss: 3.244927\n",
      "Time: 6.322\n",
      "\n",
      "Epoch 3\n",
      "-------------------------------\n",
      "loss: 3.249088  [    0/52000]\n",
      "loss: 3.242886  [ 6400/52000]\n",
      "loss: 3.233449  [12800/52000]\n",
      "loss: 3.252773  [19200/52000]\n",
      "loss: 3.237284  [25600/52000]\n",
      "loss: 3.239924  [32000/52000]\n",
      "loss: 3.240725  [38400/52000]\n",
      "loss: 3.249115  [44800/52000]\n",
      "loss: 3.221664  [51200/52000]\n",
      "Test Error: \n",
      " Accuracy: 4.0%, Avg loss: 3.226937\n",
      "Time: 7.103\n",
      "\n",
      "Epoch 4\n",
      "-------------------------------\n",
      "loss: 3.229978  [    0/52000]\n",
      "loss: 3.220381  [ 6400/52000]\n",
      "loss: 3.211504  [12800/52000]\n",
      "loss: 3.234023  [19200/52000]\n",
      "loss: 3.209886  [25600/52000]\n",
      "loss: 3.209621  [32000/52000]\n",
      "loss: 3.206462  [38400/52000]\n",
      "loss: 3.221837  [44800/52000]\n",
      "loss: 3.173964  [51200/52000]\n",
      "Test Error: \n",
      " Accuracy: 4.7%, Avg loss: 3.180897\n",
      "Time: 6.264\n",
      "\n",
      "Epoch 5\n",
      "-------------------------------\n",
      "loss: 3.180973  [    0/52000]\n",
      "loss: 3.157295  [ 6400/52000]\n",
      "loss: 3.151361  [12800/52000]\n",
      "loss: 3.183258  [19200/52000]\n",
      "loss: 3.131028  [25600/52000]\n",
      "loss: 3.119233  [32000/52000]\n",
      "loss: 3.082830  [38400/52000]\n",
      "loss: 3.093848  [44800/52000]\n",
      "loss: 3.013802  [51200/52000]\n",
      "Test Error: \n",
      " Accuracy: 22.2%, Avg loss: 3.007910\n",
      "Time: 6.252\n",
      "\n",
      "Epoch 6\n",
      "-------------------------------\n",
      "loss: 3.017657  [    0/52000]\n",
      "loss: 2.897086  [ 6400/52000]\n",
      "loss: 2.912223  [12800/52000]\n",
      "loss: 2.942362  [19200/52000]\n",
      "loss: 2.793911  [25600/52000]\n",
      "loss: 2.733984  [32000/52000]\n",
      "loss: 2.471648  [38400/52000]\n",
      "loss: 2.500251  [44800/52000]\n",
      "loss: 2.358732  [51200/52000]\n",
      "Test Error: \n",
      " Accuracy: 43.2%, Avg loss: 2.270801\n",
      "Time: 7.431\n",
      "\n",
      "Epoch 7\n",
      "-------------------------------\n",
      "loss: 2.321520  [    0/52000]\n",
      "loss: 1.980647  [ 6400/52000]\n",
      "loss: 2.132471  [12800/52000]\n",
      "loss: 2.265550  [19200/52000]\n",
      "loss: 2.001581  [25600/52000]\n",
      "loss: 2.022643  [32000/52000]\n",
      "loss: 1.621285  [38400/52000]\n",
      "loss: 1.981203  [44800/52000]\n",
      "loss: 1.748312  [51200/52000]\n",
      "Test Error: \n",
      " Accuracy: 53.9%, Avg loss: 1.649073\n",
      "Time: 8.619\n",
      "\n",
      "Epoch 8\n",
      "-------------------------------\n",
      "loss: 1.706210  [    0/52000]\n",
      "loss: 1.362771  [ 6400/52000]\n",
      "loss: 1.727435  [12800/52000]\n",
      "loss: 1.871926  [19200/52000]\n",
      "loss: 1.582987  [25600/52000]\n",
      "loss: 1.637559  [32000/52000]\n",
      "loss: 1.298514  [38400/52000]\n",
      "loss: 1.690530  [44800/52000]\n",
      "loss: 1.484965  [51200/52000]\n",
      "Test Error: \n",
      " Accuracy: 59.4%, Avg loss: 1.393145\n",
      "Time: 5.829\n",
      "\n",
      "Epoch 9\n",
      "-------------------------------\n",
      "loss: 1.454738  [    0/52000]\n",
      "loss: 1.151754  [ 6400/52000]\n",
      "loss: 1.542191  [12800/52000]\n",
      "loss: 1.627579  [19200/52000]\n",
      "loss: 1.379178  [25600/52000]\n",
      "loss: 1.432081  [32000/52000]\n",
      "loss: 1.114681  [38400/52000]\n",
      "loss: 1.462612  [44800/52000]\n",
      "loss: 1.325422  [51200/52000]\n",
      "Test Error: \n",
      " Accuracy: 63.1%, Avg loss: 1.242855\n",
      "Time: 5.807\n",
      "\n",
      "Epoch 10\n",
      "-------------------------------\n",
      "loss: 1.288317  [    0/52000]\n",
      "loss: 1.029917  [ 6400/52000]\n",
      "loss: 1.416165  [12800/52000]\n",
      "loss: 1.470666  [19200/52000]\n",
      "loss: 1.239285  [25600/52000]\n",
      "loss: 1.305187  [32000/52000]\n",
      "loss: 0.974986  [38400/52000]\n",
      "loss: 1.289375  [44800/52000]\n",
      "loss: 1.221144  [51200/52000]\n",
      "Test Error: \n",
      " Accuracy: 66.0%, Avg loss: 1.137916\n",
      "Time: 5.711\n",
      "\n",
      "Epoch 11\n",
      "-------------------------------\n",
      "loss: 1.178294  [    0/52000]\n",
      "loss: 0.948688  [ 6400/52000]\n",
      "loss: 1.318399  [12800/52000]\n",
      "loss: 1.354988  [19200/52000]\n",
      "loss: 1.143621  [25600/52000]\n",
      "loss: 1.201565  [32000/52000]\n",
      "loss: 0.868685  [38400/52000]\n",
      "loss: 1.148747  [44800/52000]\n",
      "loss: 1.149263  [51200/52000]\n",
      "Test Error: \n",
      " Accuracy: 68.3%, Avg loss: 1.058826\n",
      "Time: 5.694\n",
      "\n",
      "Epoch 12\n",
      "-------------------------------\n",
      "loss: 1.087790  [    0/52000]\n",
      "loss: 0.885315  [ 6400/52000]\n",
      "loss: 1.240198  [12800/52000]\n",
      "loss: 1.259938  [19200/52000]\n",
      "loss: 1.062404  [25600/52000]\n",
      "loss: 1.130255  [32000/52000]\n",
      "loss: 0.777650  [38400/52000]\n",
      "loss: 1.027180  [44800/52000]\n",
      "loss: 1.086825  [51200/52000]\n",
      "Test Error: \n",
      " Accuracy: 70.1%, Avg loss: 0.993966\n",
      "Time: 6.020\n",
      "\n",
      "Epoch 13\n",
      "-------------------------------\n",
      "loss: 1.012979  [    0/52000]\n",
      "loss: 0.831884  [ 6400/52000]\n",
      "loss: 1.170050  [12800/52000]\n",
      "loss: 1.180139  [19200/52000]\n",
      "loss: 0.995363  [25600/52000]\n",
      "loss: 1.073143  [32000/52000]\n",
      "loss: 0.701703  [38400/52000]\n",
      "loss: 0.930436  [44800/52000]\n",
      "loss: 1.028554  [51200/52000]\n",
      "Test Error: \n",
      " Accuracy: 71.7%, Avg loss: 0.939992\n",
      "Time: 6.090\n",
      "\n",
      "Epoch 14\n",
      "-------------------------------\n",
      "loss: 0.948017  [    0/52000]\n",
      "loss: 0.787144  [ 6400/52000]\n",
      "loss: 1.111120  [12800/52000]\n",
      "loss: 1.118620  [19200/52000]\n",
      "loss: 0.939930  [25600/52000]\n",
      "loss: 1.021486  [32000/52000]\n",
      "loss: 0.637870  [38400/52000]\n",
      "loss: 0.848865  [44800/52000]\n",
      "loss: 0.986009  [51200/52000]\n",
      "Test Error: \n",
      " Accuracy: 73.0%, Avg loss: 0.895206\n",
      "Time: 6.033\n",
      "\n",
      "Epoch 15\n",
      "-------------------------------\n",
      "loss: 0.893391  [    0/52000]\n",
      "loss: 0.750162  [ 6400/52000]\n",
      "loss: 1.058359  [12800/52000]\n",
      "loss: 1.062657  [19200/52000]\n",
      "loss: 0.889890  [25600/52000]\n",
      "loss: 0.972682  [32000/52000]\n",
      "loss: 0.585648  [38400/52000]\n",
      "loss: 0.782921  [44800/52000]\n",
      "loss: 0.947484  [51200/52000]\n",
      "Test Error: \n",
      " Accuracy: 74.2%, Avg loss: 0.856039\n",
      "Time: 5.953\n",
      "\n",
      "Epoch 16\n",
      "-------------------------------\n",
      "loss: 0.845692  [    0/52000]\n",
      "loss: 0.717380  [ 6400/52000]\n",
      "loss: 1.008551  [12800/52000]\n",
      "loss: 1.009139  [19200/52000]\n",
      "loss: 0.846983  [25600/52000]\n",
      "loss: 0.927342  [32000/52000]\n",
      "loss: 0.541425  [38400/52000]\n",
      "loss: 0.722933  [44800/52000]\n",
      "loss: 0.914936  [51200/52000]\n",
      "Test Error: \n",
      " Accuracy: 75.3%, Avg loss: 0.820886\n",
      "Time: 5.977\n",
      "\n",
      "Epoch 17\n",
      "-------------------------------\n",
      "loss: 0.800788  [    0/52000]\n",
      "loss: 0.688492  [ 6400/52000]\n",
      "loss: 0.962879  [12800/52000]\n",
      "loss: 0.962925  [19200/52000]\n",
      "loss: 0.810984  [25600/52000]\n",
      "loss: 0.881816  [32000/52000]\n",
      "loss: 0.506843  [38400/52000]\n",
      "loss: 0.672479  [44800/52000]\n",
      "loss: 0.878653  [51200/52000]\n",
      "Test Error: \n",
      " Accuracy: 76.5%, Avg loss: 0.788701\n",
      "Time: 6.020\n",
      "\n",
      "Epoch 18\n",
      "-------------------------------\n",
      "loss: 0.759262  [    0/52000]\n",
      "loss: 0.665193  [ 6400/52000]\n",
      "loss: 0.924914  [12800/52000]\n",
      "loss: 0.922464  [19200/52000]\n",
      "loss: 0.779616  [25600/52000]\n",
      "loss: 0.838953  [32000/52000]\n",
      "loss: 0.477229  [38400/52000]\n",
      "loss: 0.625704  [44800/52000]\n",
      "loss: 0.847126  [51200/52000]\n",
      "Test Error: \n",
      " Accuracy: 77.3%, Avg loss: 0.759983\n",
      "Time: 5.781\n",
      "\n",
      "Epoch 19\n",
      "-------------------------------\n",
      "loss: 0.718895  [    0/52000]\n",
      "loss: 0.638732  [ 6400/52000]\n",
      "loss: 0.891722  [12800/52000]\n",
      "loss: 0.884991  [19200/52000]\n",
      "loss: 0.754278  [25600/52000]\n",
      "loss: 0.799817  [32000/52000]\n",
      "loss: 0.447935  [38400/52000]\n",
      "loss: 0.583145  [44800/52000]\n",
      "loss: 0.817414  [51200/52000]\n",
      "Test Error: \n",
      " Accuracy: 77.9%, Avg loss: 0.733944\n",
      "Time: 5.786\n",
      "\n",
      "Epoch 20\n",
      "-------------------------------\n",
      "loss: 0.689363  [    0/52000]\n",
      "loss: 0.619574  [ 6400/52000]\n",
      "loss: 0.856482  [12800/52000]\n",
      "loss: 0.851931  [19200/52000]\n",
      "loss: 0.734429  [25600/52000]\n",
      "loss: 0.765845  [32000/52000]\n",
      "loss: 0.428498  [38400/52000]\n",
      "loss: 0.548190  [44800/52000]\n",
      "loss: 0.785095  [51200/52000]\n",
      "Test Error: \n",
      " Accuracy: 78.4%, Avg loss: 0.712730\n",
      "Time: 5.914\n"
     ]
    }
   ],
   "source": [
    "loss_fn = nn.CrossEntropyLoss()\n",
    "optimizer = torch.optim.SGD(model_conv2.parameters(), lr=0.001)\n",
    "learning_cycle(20, model_conv2, loss_fn, optimizer, to_NCHW=True)"
   ]
  },
  {
   "cell_type": "markdown",
   "metadata": {},
   "source": [
    "модель учится лучше линейной, но по опыту сильно лучших результатов (более 92 процентов акьюраси она не достигнет)"
   ]
  },
  {
   "cell_type": "markdown",
   "metadata": {},
   "source": [
    "когда я только начинал разбираться в лабе - я прогонял линейные модели по сотням эпох и вяснил, что при должном усердии они тоже могут дойти до 90% но на это уйдет значительно больше эпох. Побороть отметку в 91.2 или около того мне пока не удалось"
   ]
  },
  {
   "cell_type": "code",
   "execution_count": 61,
   "metadata": {},
   "outputs": [],
   "source": [
    "conv1 = nn.Conv2d(3, 8, 3)\n",
    "pool = nn.MaxPool2d(2, 2)\n",
    "conv2 = nn.Conv2d(8, 16, 4)\n",
    "conv3 = nn.Conv2d(16, 18, 2)"
   ]
  },
  {
   "cell_type": "code",
   "execution_count": 62,
   "metadata": {},
   "outputs": [
    {
     "name": "stdout",
     "output_type": "stream",
     "text": [
      "torch.Size([64, 3, 28, 28])\n",
      "torch.Size([64, 8, 26, 26])\n",
      "torch.Size([64, 8, 13, 13])\n",
      "torch.Size([64, 16, 10, 10])\n",
      "torch.Size([64, 16, 5, 5])\n",
      "torch.Size([64, 18, 4, 4])\n",
      "torch.Size([64, 18, 2, 2])\n"
     ]
    }
   ],
   "source": [
    "for batch, (X, y) in enumerate(train_dataloader):\n",
    "    X = X.permute(0, 3, 1, 2)\n",
    "    print(X.shape)\n",
    "    X = conv1(X)\n",
    "    print(X.shape)\n",
    "    X = pool(X)\n",
    "    print(X.shape)\n",
    "    X = conv2(X)\n",
    "    print(X.shape)\n",
    "    X = pool(X)\n",
    "    print(X.shape)\n",
    "    X = conv3(X)\n",
    "    print(X.shape)\n",
    "    X = pool(X)\n",
    "    print(X.shape)\n",
    "    break"
   ]
  },
  {
   "cell_type": "code",
   "execution_count": 63,
   "metadata": {},
   "outputs": [],
   "source": [
    "class Conv3NeuralNetwork(nn.Module):\n",
    "    def __init__(self):\n",
    "        super(Conv3NeuralNetwork, self).__init__()\n",
    "        self.convolution_relu_stack = nn.Sequential(\n",
    "            nn.Conv2d(3, 8, 3),\n",
    "            nn.MaxPool2d(2, 2),\n",
    "            nn.Conv2d(8, 16, 4),\n",
    "            nn.MaxPool2d(2, 2),\n",
    "            nn.Conv2d(16, 18, 2),\n",
    "            nn.MaxPool2d(2, 2),\n",
    "        )\n",
    "        \n",
    "        self.flatten = nn.Flatten()\n",
    "        self.linear_relu_stack = nn.Sequential(\n",
    "            nn.Linear(18*2*2,64),\n",
    "            nn.ReLU(),\n",
    "            nn.Linear(64,48),\n",
    "            nn.ReLU(),\n",
    "            nn.Linear(48,26),\n",
    "        )\n",
    "    def forward(self, x):\n",
    "        x = self.convolution_relu_stack(x)\n",
    "        x = self.flatten(x)\n",
    "        logits = self.linear_relu_stack(x)\n",
    "        return logits"
   ]
  },
  {
   "cell_type": "code",
   "execution_count": 64,
   "metadata": {},
   "outputs": [],
   "source": [
    "model_conv3 = Conv3NeuralNetwork()"
   ]
  },
  {
   "cell_type": "code",
   "execution_count": 65,
   "metadata": {},
   "outputs": [
    {
     "name": "stdout",
     "output_type": "stream",
     "text": [
      "\n",
      "Epoch 1\n",
      "-------------------------------\n",
      "loss: 3.258197  [    0/52000]\n",
      "loss: 3.260607  [ 6400/52000]\n",
      "loss: 3.263326  [12800/52000]\n",
      "loss: 3.259893  [19200/52000]\n",
      "loss: 3.253541  [25600/52000]\n",
      "loss: 3.253062  [32000/52000]\n",
      "loss: 3.263047  [38400/52000]\n",
      "loss: 3.265059  [44800/52000]\n",
      "loss: 3.261517  [51200/52000]\n",
      "Test Error: \n",
      " Accuracy: 3.9%, Avg loss: 3.257892\n",
      "Time: 6.767\n",
      "\n",
      "Epoch 2\n",
      "-------------------------------\n",
      "loss: 3.254370  [    0/52000]\n",
      "loss: 3.255326  [ 6400/52000]\n",
      "loss: 3.256018  [12800/52000]\n",
      "loss: 3.254397  [19200/52000]\n",
      "loss: 3.250374  [25600/52000]\n",
      "loss: 3.249504  [32000/52000]\n",
      "loss: 3.255481  [38400/52000]\n",
      "loss: 3.257264  [44800/52000]\n",
      "loss: 3.254663  [51200/52000]\n",
      "Test Error: \n",
      " Accuracy: 8.5%, Avg loss: 3.251055\n",
      "Time: 6.686\n",
      "\n",
      "Epoch 3\n",
      "-------------------------------\n",
      "loss: 3.247858  [    0/52000]\n",
      "loss: 3.247155  [ 6400/52000]\n",
      "loss: 3.243324  [12800/52000]\n",
      "loss: 3.243543  [19200/52000]\n",
      "loss: 3.239605  [25600/52000]\n",
      "loss: 3.236536  [32000/52000]\n",
      "loss: 3.231131  [38400/52000]\n",
      "loss: 3.228884  [44800/52000]\n",
      "loss: 3.227896  [51200/52000]\n",
      "Test Error: \n",
      " Accuracy: 9.1%, Avg loss: 3.214548\n",
      "Time: 6.338\n",
      "\n",
      "Epoch 4\n",
      "-------------------------------\n",
      "loss: 3.208180  [    0/52000]\n",
      "loss: 3.185268  [ 6400/52000]\n",
      "loss: 3.132936  [12800/52000]\n",
      "loss: 3.099371  [19200/52000]\n",
      "loss: 2.947223  [25600/52000]\n",
      "loss: 2.574970  [32000/52000]\n",
      "loss: 2.166754  [38400/52000]\n",
      "loss: 2.170053  [44800/52000]\n",
      "loss: 1.937349  [51200/52000]\n",
      "Test Error: \n",
      " Accuracy: 44.5%, Avg loss: 1.903609\n",
      "Time: 6.477\n",
      "\n",
      "Epoch 5\n",
      "-------------------------------\n",
      "loss: 2.019733  [    0/52000]\n",
      "loss: 1.322790  [ 6400/52000]\n",
      "loss: 1.753337  [12800/52000]\n",
      "loss: 1.542071  [19200/52000]\n",
      "loss: 1.404752  [25600/52000]\n",
      "loss: 1.537425  [32000/52000]\n",
      "loss: 1.188122  [38400/52000]\n",
      "loss: 1.215973  [44800/52000]\n",
      "loss: 1.256794  [51200/52000]\n",
      "Test Error: \n",
      " Accuracy: 64.2%, Avg loss: 1.204389\n",
      "Time: 6.106\n",
      "\n",
      "Epoch 6\n",
      "-------------------------------\n",
      "loss: 1.172638  [    0/52000]\n",
      "loss: 0.913539  [ 6400/52000]\n",
      "loss: 1.081514  [12800/52000]\n",
      "loss: 1.089863  [19200/52000]\n",
      "loss: 1.020988  [25600/52000]\n",
      "loss: 1.051270  [32000/52000]\n",
      "loss: 0.716935  [38400/52000]\n",
      "loss: 0.718932  [44800/52000]\n",
      "loss: 0.907344  [51200/52000]\n",
      "Test Error: \n",
      " Accuracy: 74.2%, Avg loss: 0.841469\n",
      "Time: 6.524\n",
      "\n",
      "Epoch 7\n",
      "-------------------------------\n",
      "loss: 0.723786  [    0/52000]\n",
      "loss: 0.648982  [ 6400/52000]\n",
      "loss: 0.810480  [12800/52000]\n",
      "loss: 0.820119  [19200/52000]\n",
      "loss: 0.833614  [25600/52000]\n",
      "loss: 0.879288  [32000/52000]\n",
      "loss: 0.536599  [38400/52000]\n",
      "loss: 0.548388  [44800/52000]\n",
      "loss: 0.742912  [51200/52000]\n",
      "Test Error: \n",
      " Accuracy: 78.8%, Avg loss: 0.675379\n",
      "Time: 6.523\n",
      "\n",
      "Epoch 8\n",
      "-------------------------------\n",
      "loss: 0.522546  [    0/52000]\n",
      "loss: 0.542869  [ 6400/52000]\n",
      "loss: 0.716406  [12800/52000]\n",
      "loss: 0.687113  [19200/52000]\n",
      "loss: 0.674977  [25600/52000]\n",
      "loss: 0.785183  [32000/52000]\n",
      "loss: 0.473287  [38400/52000]\n",
      "loss: 0.480225  [44800/52000]\n",
      "loss: 0.653459  [51200/52000]\n",
      "Test Error: \n",
      " Accuracy: 80.8%, Avg loss: 0.607123\n",
      "Time: 12.758\n",
      "\n",
      "Epoch 9\n",
      "-------------------------------\n",
      "loss: 0.447814  [    0/52000]\n",
      "loss: 0.496489  [ 6400/52000]\n",
      "loss: 0.640466  [12800/52000]\n",
      "loss: 0.603235  [19200/52000]\n",
      "loss: 0.584928  [25600/52000]\n",
      "loss: 0.707578  [32000/52000]\n",
      "loss: 0.419083  [38400/52000]\n",
      "loss: 0.402309  [44800/52000]\n",
      "loss: 0.618298  [51200/52000]\n",
      "Test Error: \n",
      " Accuracy: 82.3%, Avg loss: 0.550859\n",
      "Time: 10.415\n",
      "\n",
      "Epoch 10\n",
      "-------------------------------\n",
      "loss: 0.386002  [    0/52000]\n",
      "loss: 0.462740  [ 6400/52000]\n",
      "loss: 0.558792  [12800/52000]\n",
      "loss: 0.532415  [19200/52000]\n",
      "loss: 0.521582  [25600/52000]\n",
      "loss: 0.635753  [32000/52000]\n",
      "loss: 0.381029  [38400/52000]\n",
      "loss: 0.349347  [44800/52000]\n",
      "loss: 0.592146  [51200/52000]\n",
      "Test Error: \n",
      " Accuracy: 83.5%, Avg loss: 0.516320\n",
      "Time: 5.593\n",
      "\n",
      "Epoch 11\n",
      "-------------------------------\n",
      "loss: 0.357048  [    0/52000]\n",
      "loss: 0.438735  [ 6400/52000]\n",
      "loss: 0.484155  [12800/52000]\n",
      "loss: 0.505894  [19200/52000]\n",
      "loss: 0.478475  [25600/52000]\n",
      "loss: 0.592226  [32000/52000]\n",
      "loss: 0.348341  [38400/52000]\n",
      "loss: 0.322717  [44800/52000]\n",
      "loss: 0.583278  [51200/52000]\n",
      "Test Error: \n",
      " Accuracy: 84.4%, Avg loss: 0.489922\n",
      "Time: 10.292\n",
      "\n",
      "Epoch 12\n",
      "-------------------------------\n",
      "loss: 0.345594  [    0/52000]\n",
      "loss: 0.423976  [ 6400/52000]\n",
      "loss: 0.436306  [12800/52000]\n",
      "loss: 0.480163  [19200/52000]\n",
      "loss: 0.447322  [25600/52000]\n",
      "loss: 0.554990  [32000/52000]\n",
      "loss: 0.321783  [38400/52000]\n",
      "loss: 0.299186  [44800/52000]\n",
      "loss: 0.543272  [51200/52000]\n",
      "Test Error: \n",
      " Accuracy: 85.0%, Avg loss: 0.465223\n",
      "Time: 4.606\n",
      "\n",
      "Epoch 13\n",
      "-------------------------------\n",
      "loss: 0.313448  [    0/52000]\n",
      "loss: 0.401774  [ 6400/52000]\n",
      "loss: 0.416842  [12800/52000]\n",
      "loss: 0.463112  [19200/52000]\n",
      "loss: 0.422618  [25600/52000]\n",
      "loss: 0.531005  [32000/52000]\n",
      "loss: 0.283683  [38400/52000]\n",
      "loss: 0.278901  [44800/52000]\n",
      "loss: 0.519175  [51200/52000]\n",
      "Test Error: \n",
      " Accuracy: 86.1%, Avg loss: 0.436066\n",
      "Time: 3.881\n",
      "\n",
      "Epoch 14\n",
      "-------------------------------\n",
      "loss: 0.285516  [    0/52000]\n",
      "loss: 0.386276  [ 6400/52000]\n",
      "loss: 0.399989  [12800/52000]\n",
      "loss: 0.449424  [19200/52000]\n",
      "loss: 0.399431  [25600/52000]\n",
      "loss: 0.503568  [32000/52000]\n",
      "loss: 0.261218  [38400/52000]\n",
      "loss: 0.266612  [44800/52000]\n",
      "loss: 0.482309  [51200/52000]\n",
      "Test Error: \n",
      " Accuracy: 86.8%, Avg loss: 0.413599\n",
      "Time: 3.225\n",
      "\n",
      "Epoch 15\n",
      "-------------------------------\n",
      "loss: 0.265235  [    0/52000]\n",
      "loss: 0.363499  [ 6400/52000]\n",
      "loss: 0.379958  [12800/52000]\n",
      "loss: 0.429295  [19200/52000]\n",
      "loss: 0.385332  [25600/52000]\n",
      "loss: 0.486570  [32000/52000]\n",
      "loss: 0.239916  [38400/52000]\n",
      "loss: 0.259481  [44800/52000]\n",
      "loss: 0.448015  [51200/52000]\n",
      "Test Error: \n",
      " Accuracy: 87.3%, Avg loss: 0.399313\n",
      "Time: 3.332\n",
      "\n",
      "Epoch 16\n",
      "-------------------------------\n",
      "loss: 0.259766  [    0/52000]\n",
      "loss: 0.343193  [ 6400/52000]\n",
      "loss: 0.374504  [12800/52000]\n",
      "loss: 0.406854  [19200/52000]\n",
      "loss: 0.379246  [25600/52000]\n",
      "loss: 0.474361  [32000/52000]\n",
      "loss: 0.223871  [38400/52000]\n",
      "loss: 0.263481  [44800/52000]\n",
      "loss: 0.434179  [51200/52000]\n",
      "Test Error: \n",
      " Accuracy: 87.7%, Avg loss: 0.381654\n",
      "Time: 3.146\n",
      "\n",
      "Epoch 17\n",
      "-------------------------------\n",
      "loss: 0.239858  [    0/52000]\n",
      "loss: 0.324877  [ 6400/52000]\n",
      "loss: 0.356433  [12800/52000]\n",
      "loss: 0.394040  [19200/52000]\n",
      "loss: 0.371056  [25600/52000]\n",
      "loss: 0.454341  [32000/52000]\n",
      "loss: 0.211875  [38400/52000]\n",
      "loss: 0.264275  [44800/52000]\n",
      "loss: 0.410402  [51200/52000]\n",
      "Test Error: \n",
      " Accuracy: 88.1%, Avg loss: 0.368210\n",
      "Time: 3.361\n",
      "\n",
      "Epoch 18\n",
      "-------------------------------\n",
      "loss: 0.232738  [    0/52000]\n",
      "loss: 0.304512  [ 6400/52000]\n",
      "loss: 0.350396  [12800/52000]\n",
      "loss: 0.385967  [19200/52000]\n",
      "loss: 0.365586  [25600/52000]\n",
      "loss: 0.440078  [32000/52000]\n",
      "loss: 0.202405  [38400/52000]\n",
      "loss: 0.260011  [44800/52000]\n",
      "loss: 0.393764  [51200/52000]\n",
      "Test Error: \n",
      " Accuracy: 88.4%, Avg loss: 0.361419\n",
      "Time: 3.291\n",
      "\n",
      "Epoch 19\n",
      "-------------------------------\n",
      "loss: 0.226292  [    0/52000]\n",
      "loss: 0.287210  [ 6400/52000]\n",
      "loss: 0.344441  [12800/52000]\n",
      "loss: 0.372445  [19200/52000]\n",
      "loss: 0.357647  [25600/52000]\n",
      "loss: 0.423738  [32000/52000]\n",
      "loss: 0.192044  [38400/52000]\n",
      "loss: 0.255832  [44800/52000]\n",
      "loss: 0.382492  [51200/52000]\n",
      "Test Error: \n",
      " Accuracy: 88.6%, Avg loss: 0.352260\n",
      "Time: 3.197\n",
      "\n",
      "Epoch 20\n",
      "-------------------------------\n",
      "loss: 0.227096  [    0/52000]\n",
      "loss: 0.277192  [ 6400/52000]\n",
      "loss: 0.337484  [12800/52000]\n",
      "loss: 0.359613  [19200/52000]\n",
      "loss: 0.354393  [25600/52000]\n",
      "loss: 0.421525  [32000/52000]\n",
      "loss: 0.187807  [38400/52000]\n",
      "loss: 0.254190  [44800/52000]\n",
      "loss: 0.373630  [51200/52000]\n",
      "Test Error: \n",
      " Accuracy: 88.7%, Avg loss: 0.345998\n",
      "Time: 3.049\n"
     ]
    }
   ],
   "source": [
    "loss_fn = nn.CrossEntropyLoss()\n",
    "optimizer = torch.optim.SGD(model_conv3.parameters(), lr=0.01)\n",
    "learning_cycle(20, model_conv3, loss_fn, optimizer, to_NCHW=True)"
   ]
  },
  {
   "cell_type": "code",
   "execution_count": 66,
   "metadata": {},
   "outputs": [
    {
     "data": {
      "text/plain": [
       "0.8872307692307693"
      ]
     },
     "execution_count": 66,
     "metadata": {},
     "output_type": "execute_result"
    }
   ],
   "source": [
    "get_model_accuracy(final_test_dataloader, model_conv3, to_NCHW=True)"
   ]
  },
  {
   "cell_type": "code",
   "execution_count": 67,
   "metadata": {},
   "outputs": [],
   "source": [
    "#torch.save(model_conv3.state_dict(), \"my_models/model91conv3.pth\")"
   ]
  },
  {
   "cell_type": "code",
   "execution_count": 68,
   "metadata": {},
   "outputs": [],
   "source": [
    "class Conv1NeuralNetwork(nn.Module):\n",
    "    def __init__(self):\n",
    "        super(Conv1NeuralNetwork, self).__init__()\n",
    "        self.convolution_relu_stack = nn.Sequential(\n",
    "            nn.Conv2d(3, 6, 5),\n",
    "            nn.ReLU(),\n",
    "            nn.MaxPool2d(2, 2),\n",
    "        )\n",
    "        \n",
    "        self.flatten = nn.Flatten()\n",
    "        self.linear_relu_stack = nn.Sequential(\n",
    "            nn.Linear(24*24*6,1024),\n",
    "            nn.ReLU(),\n",
    "            nn.Linear(1024,26)\n",
    "        )\n",
    "    def forward(self, x):\n",
    "        x = self.convolution_relu_stack(x)\n",
    "        x = self.flatten(x)\n",
    "        logits = self.linear_relu_stack(x)\n",
    "        return logits"
   ]
  },
  {
   "cell_type": "markdown",
   "metadata": {},
   "source": [
    "на этом этапе тренировать сетку с одной сверткой уже не интересно, потому что очевидно, что результаты она покажет ощутимо хуже"
   ]
  },
  {
   "cell_type": "code",
   "execution_count": 69,
   "metadata": {},
   "outputs": [],
   "source": [
    "class Conv3NeuralNetworkBN(nn.Module):\n",
    "    def __init__(self):\n",
    "        super(Conv3NeuralNetworkBN, self).__init__()\n",
    "        self.convolution_relu_stack = nn.Sequential(\n",
    "            nn.Conv2d(3, 8, 3),\n",
    "            nn.MaxPool2d(2, 2),\n",
    "            nn.BatchNorm2d(8),\n",
    "            nn.Conv2d(8, 16, 4),\n",
    "            nn.MaxPool2d(2, 2),\n",
    "            nn.Conv2d(16, 18, 2),\n",
    "            nn.MaxPool2d(2, 2),\n",
    "        )\n",
    "        \n",
    "        self.flatten = nn.Flatten()\n",
    "        self.linear_relu_stack = nn.Sequential(\n",
    "            nn.Linear(18*2*2,64),\n",
    "            nn.ReLU(),\n",
    "            nn.Linear(64,48),\n",
    "            nn.ReLU(),\n",
    "            nn.Linear(48,26),\n",
    "        )\n",
    "    def forward(self, x):\n",
    "        x = self.convolution_relu_stack(x)\n",
    "        x = self.flatten(x)\n",
    "        logits = self.linear_relu_stack(x)\n",
    "        return logits"
   ]
  },
  {
   "cell_type": "markdown",
   "metadata": {},
   "source": [
    "Ни одну сетку у меня не получилось доучить более чем на 91 процента accuracy"
   ]
  },
  {
   "cell_type": "markdown",
   "metadata": {},
   "source": [
    "следующим этапом будут эксперименты с размером батча"
   ]
  },
  {
   "cell_type": "code",
   "execution_count": 70,
   "metadata": {},
   "outputs": [],
   "source": [
    "class Conv3NeuralNetworkGN(nn.Module):\n",
    "    def __init__(self):\n",
    "        super(Conv3NeuralNetworkGN, self).__init__()\n",
    "        self.convolution_relu_stack = nn.Sequential(\n",
    "            nn.Conv2d(3, 8, 3),\n",
    "            nn.MaxPool2d(2, 2),\n",
    "            nn.GroupNorm(4,8),\n",
    "            nn.Conv2d(8, 16, 4),\n",
    "            nn.MaxPool2d(2, 2),\n",
    "            nn.Conv2d(16, 18, 2),\n",
    "            nn.MaxPool2d(2, 2),\n",
    "        )\n",
    "        \n",
    "        self.flatten = nn.Flatten()\n",
    "        self.linear_relu_stack = nn.Sequential(\n",
    "            nn.Linear(18*2*2,64),\n",
    "            nn.ReLU(),\n",
    "            nn.Linear(64,48),\n",
    "            nn.ReLU(),\n",
    "            nn.Linear(48,26),\n",
    "        )\n",
    "    def forward(self, x):\n",
    "        x = self.convolution_relu_stack(x)\n",
    "        x = self.flatten(x)\n",
    "        logits = self.linear_relu_stack(x)\n",
    "        return logits"
   ]
  },
  {
   "cell_type": "code",
   "execution_count": 71,
   "metadata": {},
   "outputs": [],
   "source": [
    "model_conv3 = Conv3NeuralNetworkGN()"
   ]
  },
  {
   "cell_type": "code",
   "execution_count": 72,
   "metadata": {},
   "outputs": [
    {
     "name": "stdout",
     "output_type": "stream",
     "text": [
      "\n",
      "Epoch 1\n",
      "-------------------------------\n",
      "loss: 3.269928  [    0/52000]\n",
      "loss: 3.248653  [ 6400/52000]\n",
      "loss: 3.246495  [12800/52000]\n",
      "loss: 3.256890  [19200/52000]\n",
      "loss: 3.240327  [25600/52000]\n",
      "loss: 3.219076  [32000/52000]\n",
      "loss: 3.197245  [38400/52000]\n",
      "loss: 3.161981  [44800/52000]\n",
      "loss: 3.053715  [51200/52000]\n",
      "Test Error: \n",
      " Accuracy: 21.5%, Avg loss: 2.962082\n",
      "Time: 3.573\n",
      "\n",
      "Epoch 2\n",
      "-------------------------------\n",
      "loss: 2.976711  [    0/52000]\n",
      "loss: 2.354831  [ 6400/52000]\n",
      "loss: 2.113627  [12800/52000]\n",
      "loss: 2.053387  [19200/52000]\n",
      "loss: 1.646647  [25600/52000]\n",
      "loss: 1.610824  [32000/52000]\n",
      "loss: 1.336667  [38400/52000]\n",
      "loss: 1.355398  [44800/52000]\n",
      "loss: 1.338440  [51200/52000]\n",
      "Test Error: \n",
      " Accuracy: 61.6%, Avg loss: 1.259590\n",
      "Time: 3.589\n",
      "\n",
      "Epoch 3\n",
      "-------------------------------\n",
      "loss: 1.230191  [    0/52000]\n",
      "loss: 0.870172  [ 6400/52000]\n",
      "loss: 1.118220  [12800/52000]\n",
      "loss: 1.126180  [19200/52000]\n",
      "loss: 0.873215  [25600/52000]\n",
      "loss: 1.010709  [32000/52000]\n",
      "loss: 0.734253  [38400/52000]\n",
      "loss: 0.752222  [44800/52000]\n",
      "loss: 0.942782  [51200/52000]\n",
      "Test Error: \n",
      " Accuracy: 74.7%, Avg loss: 0.821277\n",
      "Time: 3.393\n",
      "\n",
      "Epoch 4\n",
      "-------------------------------\n",
      "loss: 0.780681  [    0/52000]\n",
      "loss: 0.652636  [ 6400/52000]\n",
      "loss: 0.766972  [12800/52000]\n",
      "loss: 0.842863  [19200/52000]\n",
      "loss: 0.710949  [25600/52000]\n",
      "loss: 0.809190  [32000/52000]\n",
      "loss: 0.530521  [38400/52000]\n",
      "loss: 0.553932  [44800/52000]\n",
      "loss: 0.750406  [51200/52000]\n",
      "Test Error: \n",
      " Accuracy: 80.2%, Avg loss: 0.644396\n",
      "Time: 3.302\n",
      "\n",
      "Epoch 5\n",
      "-------------------------------\n",
      "loss: 0.595536  [    0/52000]\n",
      "loss: 0.541016  [ 6400/52000]\n",
      "loss: 0.599109  [12800/52000]\n",
      "loss: 0.647007  [19200/52000]\n",
      "loss: 0.671270  [25600/52000]\n",
      "loss: 0.692817  [32000/52000]\n",
      "loss: 0.420799  [38400/52000]\n",
      "loss: 0.431045  [44800/52000]\n",
      "loss: 0.619190  [51200/52000]\n",
      "Test Error: \n",
      " Accuracy: 82.0%, Avg loss: 0.572793\n",
      "Time: 3.795\n",
      "\n",
      "Epoch 6\n",
      "-------------------------------\n",
      "loss: 0.503633  [    0/52000]\n",
      "loss: 0.497837  [ 6400/52000]\n",
      "loss: 0.489011  [12800/52000]\n",
      "loss: 0.533534  [19200/52000]\n",
      "loss: 0.659079  [25600/52000]\n",
      "loss: 0.629381  [32000/52000]\n",
      "loss: 0.352937  [38400/52000]\n",
      "loss: 0.367298  [44800/52000]\n",
      "loss: 0.541199  [51200/52000]\n",
      "Test Error: \n",
      " Accuracy: 83.7%, Avg loss: 0.516952\n",
      "Time: 3.363\n",
      "\n",
      "Epoch 7\n",
      "-------------------------------\n",
      "loss: 0.442679  [    0/52000]\n",
      "loss: 0.463970  [ 6400/52000]\n",
      "loss: 0.468593  [12800/52000]\n",
      "loss: 0.475931  [19200/52000]\n",
      "loss: 0.637280  [25600/52000]\n",
      "loss: 0.604903  [32000/52000]\n",
      "loss: 0.314775  [38400/52000]\n",
      "loss: 0.330119  [44800/52000]\n",
      "loss: 0.484426  [51200/52000]\n",
      "Test Error: \n",
      " Accuracy: 84.7%, Avg loss: 0.484556\n",
      "Time: 3.254\n",
      "\n",
      "Epoch 8\n",
      "-------------------------------\n",
      "loss: 0.396497  [    0/52000]\n",
      "loss: 0.435655  [ 6400/52000]\n",
      "loss: 0.457612  [12800/52000]\n",
      "loss: 0.447055  [19200/52000]\n",
      "loss: 0.591387  [25600/52000]\n",
      "loss: 0.573646  [32000/52000]\n",
      "loss: 0.286967  [38400/52000]\n",
      "loss: 0.298305  [44800/52000]\n",
      "loss: 0.442221  [51200/52000]\n",
      "Test Error: \n",
      " Accuracy: 85.6%, Avg loss: 0.454363\n",
      "Time: 3.428\n",
      "\n",
      "Epoch 9\n",
      "-------------------------------\n",
      "loss: 0.372070  [    0/52000]\n",
      "loss: 0.412273  [ 6400/52000]\n",
      "loss: 0.452834  [12800/52000]\n",
      "loss: 0.408633  [19200/52000]\n",
      "loss: 0.549128  [25600/52000]\n",
      "loss: 0.541800  [32000/52000]\n",
      "loss: 0.264713  [38400/52000]\n",
      "loss: 0.285494  [44800/52000]\n",
      "loss: 0.420898  [51200/52000]\n",
      "Test Error: \n",
      " Accuracy: 86.3%, Avg loss: 0.428702\n",
      "Time: 3.284\n",
      "\n",
      "Epoch 10\n",
      "-------------------------------\n",
      "loss: 0.352486  [    0/52000]\n",
      "loss: 0.399109  [ 6400/52000]\n",
      "loss: 0.436794  [12800/52000]\n",
      "loss: 0.386425  [19200/52000]\n",
      "loss: 0.504766  [25600/52000]\n",
      "loss: 0.524462  [32000/52000]\n",
      "loss: 0.245591  [38400/52000]\n",
      "loss: 0.269493  [44800/52000]\n",
      "loss: 0.386741  [51200/52000]\n",
      "Test Error: \n",
      " Accuracy: 86.7%, Avg loss: 0.414098\n",
      "Time: 3.193\n",
      "\n",
      "Epoch 11\n",
      "-------------------------------\n",
      "loss: 0.337158  [    0/52000]\n",
      "loss: 0.383637  [ 6400/52000]\n",
      "loss: 0.425532  [12800/52000]\n",
      "loss: 0.364255  [19200/52000]\n",
      "loss: 0.482349  [25600/52000]\n",
      "loss: 0.517241  [32000/52000]\n",
      "loss: 0.224678  [38400/52000]\n",
      "loss: 0.250677  [44800/52000]\n",
      "loss: 0.356176  [51200/52000]\n",
      "Test Error: \n",
      " Accuracy: 87.5%, Avg loss: 0.392499\n",
      "Time: 3.273\n",
      "\n",
      "Epoch 12\n",
      "-------------------------------\n",
      "loss: 0.311263  [    0/52000]\n",
      "loss: 0.370407  [ 6400/52000]\n",
      "loss: 0.424467  [12800/52000]\n",
      "loss: 0.347731  [19200/52000]\n",
      "loss: 0.464516  [25600/52000]\n",
      "loss: 0.498403  [32000/52000]\n",
      "loss: 0.216216  [38400/52000]\n",
      "loss: 0.232587  [44800/52000]\n",
      "loss: 0.329511  [51200/52000]\n",
      "Test Error: \n",
      " Accuracy: 87.8%, Avg loss: 0.380403\n",
      "Time: 3.267\n",
      "\n",
      "Epoch 13\n",
      "-------------------------------\n",
      "loss: 0.291857  [    0/52000]\n",
      "loss: 0.356507  [ 6400/52000]\n",
      "loss: 0.423828  [12800/52000]\n",
      "loss: 0.331133  [19200/52000]\n",
      "loss: 0.445076  [25600/52000]\n",
      "loss: 0.472153  [32000/52000]\n",
      "loss: 0.220294  [38400/52000]\n",
      "loss: 0.225279  [44800/52000]\n",
      "loss: 0.321560  [51200/52000]\n",
      "Test Error: \n",
      " Accuracy: 88.1%, Avg loss: 0.368437\n",
      "Time: 3.202\n",
      "\n",
      "Epoch 14\n",
      "-------------------------------\n",
      "loss: 0.280564  [    0/52000]\n",
      "loss: 0.350538  [ 6400/52000]\n",
      "loss: 0.411591  [12800/52000]\n",
      "loss: 0.314783  [19200/52000]\n",
      "loss: 0.423767  [25600/52000]\n",
      "loss: 0.442353  [32000/52000]\n",
      "loss: 0.216350  [38400/52000]\n",
      "loss: 0.217278  [44800/52000]\n",
      "loss: 0.307525  [51200/52000]\n",
      "Test Error: \n",
      " Accuracy: 88.4%, Avg loss: 0.360612\n",
      "Time: 3.252\n",
      "\n",
      "Epoch 15\n",
      "-------------------------------\n",
      "loss: 0.274160  [    0/52000]\n",
      "loss: 0.342645  [ 6400/52000]\n",
      "loss: 0.406193  [12800/52000]\n",
      "loss: 0.298264  [19200/52000]\n",
      "loss: 0.408865  [25600/52000]\n",
      "loss: 0.418886  [32000/52000]\n",
      "loss: 0.205909  [38400/52000]\n",
      "loss: 0.212870  [44800/52000]\n",
      "loss: 0.294882  [51200/52000]\n",
      "Test Error: \n",
      " Accuracy: 88.8%, Avg loss: 0.351913\n",
      "Time: 3.320\n",
      "\n",
      "Epoch 16\n",
      "-------------------------------\n",
      "loss: 0.259286  [    0/52000]\n",
      "loss: 0.329903  [ 6400/52000]\n",
      "loss: 0.394896  [12800/52000]\n",
      "loss: 0.286737  [19200/52000]\n",
      "loss: 0.387117  [25600/52000]\n",
      "loss: 0.390199  [32000/52000]\n",
      "loss: 0.195230  [38400/52000]\n",
      "loss: 0.209323  [44800/52000]\n",
      "loss: 0.283113  [51200/52000]\n",
      "Test Error: \n",
      " Accuracy: 89.2%, Avg loss: 0.341326\n",
      "Time: 3.097\n",
      "\n",
      "Epoch 17\n",
      "-------------------------------\n",
      "loss: 0.251583  [    0/52000]\n",
      "loss: 0.325259  [ 6400/52000]\n",
      "loss: 0.377174  [12800/52000]\n",
      "loss: 0.279505  [19200/52000]\n",
      "loss: 0.374686  [25600/52000]\n",
      "loss: 0.377933  [32000/52000]\n",
      "loss: 0.190201  [38400/52000]\n",
      "loss: 0.197049  [44800/52000]\n",
      "loss: 0.270077  [51200/52000]\n",
      "Test Error: \n",
      " Accuracy: 89.2%, Avg loss: 0.337992\n",
      "Time: 3.100\n",
      "\n",
      "Epoch 18\n",
      "-------------------------------\n",
      "loss: 0.246905  [    0/52000]\n",
      "loss: 0.319454  [ 6400/52000]\n",
      "loss: 0.365665  [12800/52000]\n",
      "loss: 0.275941  [19200/52000]\n",
      "loss: 0.357527  [25600/52000]\n",
      "loss: 0.353834  [32000/52000]\n",
      "loss: 0.186371  [38400/52000]\n",
      "loss: 0.189982  [44800/52000]\n",
      "loss: 0.262691  [51200/52000]\n",
      "Test Error: \n",
      " Accuracy: 89.3%, Avg loss: 0.332414\n",
      "Time: 3.263\n",
      "\n",
      "Epoch 19\n",
      "-------------------------------\n",
      "loss: 0.238065  [    0/52000]\n",
      "loss: 0.313796  [ 6400/52000]\n",
      "loss: 0.357206  [12800/52000]\n",
      "loss: 0.269154  [19200/52000]\n",
      "loss: 0.342618  [25600/52000]\n",
      "loss: 0.338251  [32000/52000]\n",
      "loss: 0.179603  [38400/52000]\n",
      "loss: 0.188288  [44800/52000]\n",
      "loss: 0.256736  [51200/52000]\n",
      "Test Error: \n",
      " Accuracy: 89.6%, Avg loss: 0.325713\n",
      "Time: 3.116\n",
      "\n",
      "Epoch 20\n",
      "-------------------------------\n",
      "loss: 0.227985  [    0/52000]\n",
      "loss: 0.308434  [ 6400/52000]\n",
      "loss: 0.345783  [12800/52000]\n",
      "loss: 0.269980  [19200/52000]\n",
      "loss: 0.327024  [25600/52000]\n",
      "loss: 0.334307  [32000/52000]\n",
      "loss: 0.173608  [38400/52000]\n",
      "loss: 0.184519  [44800/52000]\n",
      "loss: 0.238201  [51200/52000]\n",
      "Test Error: \n",
      " Accuracy: 89.7%, Avg loss: 0.322704\n",
      "Time: 3.383\n"
     ]
    }
   ],
   "source": [
    "loss_fn = nn.CrossEntropyLoss()\n",
    "optimizer = torch.optim.SGD(model_conv3.parameters(), lr=0.01)\n",
    "learning_cycle(20, model_conv3, loss_fn, optimizer, to_NCHW=True)"
   ]
  },
  {
   "cell_type": "code",
   "execution_count": 73,
   "metadata": {},
   "outputs": [],
   "source": [
    "batch_size=258\n",
    "train_dataloader = DataLoader(train_dataset, batch_size=batch_size)\n",
    "test_dataloader = DataLoader(test_dataset, batch_size=batch_size)"
   ]
  },
  {
   "cell_type": "code",
   "execution_count": 74,
   "metadata": {},
   "outputs": [],
   "source": [
    "model_conv3 = Conv3NeuralNetworkBN()"
   ]
  },
  {
   "cell_type": "code",
   "execution_count": 75,
   "metadata": {},
   "outputs": [
    {
     "name": "stdout",
     "output_type": "stream",
     "text": [
      "\n",
      "Epoch 1\n",
      "-------------------------------\n",
      "loss: 3.256098  [    0/52000]\n",
      "loss: 3.255288  [25800/52000]\n",
      "loss: 3.255895  [51600/52000]\n",
      "Test Error: \n",
      " Accuracy: 4.5%, Avg loss: 3.248836\n",
      "Time: 4.763\n",
      "\n",
      "Epoch 2\n",
      "-------------------------------\n",
      "loss: 3.241888  [    0/52000]\n",
      "loss: 3.239928  [25800/52000]\n",
      "loss: 3.230184  [51600/52000]\n",
      "Test Error: \n",
      " Accuracy: 6.2%, Avg loss: 3.224404\n",
      "Time: 5.070\n",
      "\n",
      "Epoch 3\n",
      "-------------------------------\n",
      "loss: 3.217433  [    0/52000]\n",
      "loss: 3.201406  [25800/52000]\n",
      "loss: 3.144265  [51600/52000]\n",
      "Test Error: \n",
      " Accuracy: 10.9%, Avg loss: 3.144570\n",
      "Time: 3.267\n",
      "\n",
      "Epoch 4\n",
      "-------------------------------\n",
      "loss: 3.138539  [    0/52000]\n",
      "loss: 3.010402  [25800/52000]\n",
      "loss: 2.585767  [51600/52000]\n",
      "Test Error: \n",
      " Accuracy: 27.4%, Avg loss: 2.616976\n",
      "Time: 3.373\n",
      "\n",
      "Epoch 5\n",
      "-------------------------------\n",
      "loss: 2.566278  [    0/52000]\n",
      "loss: 2.152303  [25800/52000]\n",
      "loss: 1.805682  [51600/52000]\n",
      "Test Error: \n",
      " Accuracy: 45.0%, Avg loss: 1.844934\n",
      "Time: 3.833\n",
      "\n",
      "Epoch 6\n",
      "-------------------------------\n",
      "loss: 1.704367  [    0/52000]\n",
      "loss: 1.672889  [25800/52000]\n",
      "loss: 1.403080  [51600/52000]\n",
      "Test Error: \n",
      " Accuracy: 55.2%, Avg loss: 1.467456\n",
      "Time: 4.517\n",
      "\n",
      "Epoch 7\n",
      "-------------------------------\n",
      "loss: 1.340333  [    0/52000]\n",
      "loss: 1.356799  [25800/52000]\n",
      "loss: 1.128230  [51600/52000]\n",
      "Test Error: \n",
      " Accuracy: 63.2%, Avg loss: 1.196405\n",
      "Time: 4.376\n",
      "\n",
      "Epoch 8\n",
      "-------------------------------\n",
      "loss: 1.075236  [    0/52000]\n",
      "loss: 1.144170  [25800/52000]\n",
      "loss: 0.948264  [51600/52000]\n",
      "Test Error: \n",
      " Accuracy: 68.2%, Avg loss: 1.019853\n",
      "Time: 2.681\n",
      "\n",
      "Epoch 9\n",
      "-------------------------------\n",
      "loss: 0.905717  [    0/52000]\n",
      "loss: 1.014409  [25800/52000]\n",
      "loss: 0.815241  [51600/52000]\n",
      "Test Error: \n",
      " Accuracy: 72.3%, Avg loss: 0.896460\n",
      "Time: 3.044\n",
      "\n",
      "Epoch 10\n",
      "-------------------------------\n",
      "loss: 0.791900  [    0/52000]\n",
      "loss: 0.912281  [25800/52000]\n",
      "loss: 0.713023  [51600/52000]\n",
      "Test Error: \n",
      " Accuracy: 75.1%, Avg loss: 0.804365\n",
      "Time: 3.307\n",
      "\n",
      "Epoch 11\n",
      "-------------------------------\n",
      "loss: 0.703788  [    0/52000]\n",
      "loss: 0.831598  [25800/52000]\n",
      "loss: 0.639574  [51600/52000]\n",
      "Test Error: \n",
      " Accuracy: 77.1%, Avg loss: 0.734019\n",
      "Time: 3.282\n",
      "\n",
      "Epoch 12\n",
      "-------------------------------\n",
      "loss: 0.629247  [    0/52000]\n",
      "loss: 0.762667  [25800/52000]\n",
      "loss: 0.581413  [51600/52000]\n",
      "Test Error: \n",
      " Accuracy: 78.7%, Avg loss: 0.676942\n",
      "Time: 5.916\n",
      "\n",
      "Epoch 13\n",
      "-------------------------------\n",
      "loss: 0.574943  [    0/52000]\n",
      "loss: 0.708347  [25800/52000]\n",
      "loss: 0.539152  [51600/52000]\n",
      "Test Error: \n",
      " Accuracy: 79.9%, Avg loss: 0.633634\n",
      "Time: 3.236\n",
      "\n",
      "Epoch 14\n",
      "-------------------------------\n",
      "loss: 0.530900  [    0/52000]\n",
      "loss: 0.667830  [25800/52000]\n",
      "loss: 0.503779  [51600/52000]\n",
      "Test Error: \n",
      " Accuracy: 81.1%, Avg loss: 0.596990\n",
      "Time: 2.860\n",
      "\n",
      "Epoch 15\n",
      "-------------------------------\n",
      "loss: 0.497458  [    0/52000]\n",
      "loss: 0.635399  [25800/52000]\n",
      "loss: 0.473971  [51600/52000]\n",
      "Test Error: \n",
      " Accuracy: 81.8%, Avg loss: 0.570089\n",
      "Time: 2.669\n",
      "\n",
      "Epoch 16\n",
      "-------------------------------\n",
      "loss: 0.470280  [    0/52000]\n",
      "loss: 0.607922  [25800/52000]\n",
      "loss: 0.450416  [51600/52000]\n",
      "Test Error: \n",
      " Accuracy: 82.4%, Avg loss: 0.548639\n",
      "Time: 2.847\n",
      "\n",
      "Epoch 17\n",
      "-------------------------------\n",
      "loss: 0.445078  [    0/52000]\n",
      "loss: 0.584689  [25800/52000]\n",
      "loss: 0.428723  [51600/52000]\n",
      "Test Error: \n",
      " Accuracy: 83.0%, Avg loss: 0.527560\n",
      "Time: 2.699\n",
      "\n",
      "Epoch 18\n",
      "-------------------------------\n",
      "loss: 0.423386  [    0/52000]\n",
      "loss: 0.568731  [25800/52000]\n",
      "loss: 0.409825  [51600/52000]\n",
      "Test Error: \n",
      " Accuracy: 83.7%, Avg loss: 0.509463\n",
      "Time: 2.759\n",
      "\n",
      "Epoch 19\n",
      "-------------------------------\n",
      "loss: 0.403704  [    0/52000]\n",
      "loss: 0.550478  [25800/52000]\n",
      "loss: 0.395978  [51600/52000]\n",
      "Test Error: \n",
      " Accuracy: 84.1%, Avg loss: 0.494058\n",
      "Time: 2.827\n",
      "\n",
      "Epoch 20\n",
      "-------------------------------\n",
      "loss: 0.385856  [    0/52000]\n",
      "loss: 0.534075  [25800/52000]\n",
      "loss: 0.384114  [51600/52000]\n",
      "Test Error: \n",
      " Accuracy: 84.6%, Avg loss: 0.479972\n",
      "Time: 2.930\n"
     ]
    }
   ],
   "source": [
    "loss_fn = nn.CrossEntropyLoss()\n",
    "optimizer = torch.optim.SGD(model_conv3.parameters(), lr=0.01)\n",
    "learning_cycle(20, model_conv3, loss_fn, optimizer, to_NCHW=True)"
   ]
  },
  {
   "cell_type": "code",
   "execution_count": 76,
   "metadata": {},
   "outputs": [
    {
     "name": "stdout",
     "output_type": "stream",
     "text": [
      "\n",
      "Epoch 1\n",
      "-------------------------------\n",
      "loss: 0.371872  [    0/52000]\n",
      "loss: 0.517468  [25800/52000]\n",
      "loss: 0.370761  [51600/52000]\n",
      "Test Error: \n",
      " Accuracy: 85.7%, Avg loss: 0.452488\n",
      "Time: 2.760\n",
      "\n",
      "Epoch 2\n",
      "-------------------------------\n",
      "loss: 0.361483  [    0/52000]\n",
      "loss: 0.516105  [25800/52000]\n",
      "loss: 0.371907  [51600/52000]\n",
      "Test Error: \n",
      " Accuracy: 85.7%, Avg loss: 0.450930\n",
      "Time: 2.847\n",
      "\n",
      "Epoch 3\n",
      "-------------------------------\n",
      "loss: 0.360284  [    0/52000]\n",
      "loss: 0.514777  [25800/52000]\n",
      "loss: 0.371979  [51600/52000]\n",
      "Test Error: \n",
      " Accuracy: 85.8%, Avg loss: 0.449557\n",
      "Time: 2.654\n",
      "\n",
      "Epoch 4\n",
      "-------------------------------\n",
      "loss: 0.359270  [    0/52000]\n",
      "loss: 0.513382  [25800/52000]\n",
      "loss: 0.371507  [51600/52000]\n",
      "Test Error: \n",
      " Accuracy: 85.8%, Avg loss: 0.448262\n",
      "Time: 2.730\n",
      "\n",
      "Epoch 5\n",
      "-------------------------------\n",
      "loss: 0.358258  [    0/52000]\n",
      "loss: 0.512045  [25800/52000]\n",
      "loss: 0.370852  [51600/52000]\n",
      "Test Error: \n",
      " Accuracy: 85.9%, Avg loss: 0.446996\n",
      "Time: 2.841\n",
      "\n",
      "Epoch 6\n",
      "-------------------------------\n",
      "loss: 0.357223  [    0/52000]\n",
      "loss: 0.510698  [25800/52000]\n",
      "loss: 0.369972  [51600/52000]\n",
      "Test Error: \n",
      " Accuracy: 85.9%, Avg loss: 0.445762\n",
      "Time: 6.130\n",
      "\n",
      "Epoch 7\n",
      "-------------------------------\n",
      "loss: 0.356114  [    0/52000]\n",
      "loss: 0.509499  [25800/52000]\n",
      "loss: 0.369037  [51600/52000]\n",
      "Test Error: \n",
      " Accuracy: 85.9%, Avg loss: 0.444564\n",
      "Time: 6.107\n",
      "\n",
      "Epoch 8\n",
      "-------------------------------\n",
      "loss: 0.354973  [    0/52000]\n",
      "loss: 0.508107  [25800/52000]\n",
      "loss: 0.368030  [51600/52000]\n",
      "Test Error: \n",
      " Accuracy: 86.0%, Avg loss: 0.443419\n",
      "Time: 6.980\n",
      "\n",
      "Epoch 9\n",
      "-------------------------------\n",
      "loss: 0.353870  [    0/52000]\n",
      "loss: 0.506673  [25800/52000]\n",
      "loss: 0.366997  [51600/52000]\n",
      "Test Error: \n",
      " Accuracy: 86.0%, Avg loss: 0.442256\n",
      "Time: 6.900\n",
      "\n",
      "Epoch 10\n",
      "-------------------------------\n",
      "loss: 0.352662  [    0/52000]\n",
      "loss: 0.505457  [25800/52000]\n",
      "loss: 0.366109  [51600/52000]\n",
      "Test Error: \n",
      " Accuracy: 86.1%, Avg loss: 0.441118\n",
      "Time: 16.703\n",
      "\n",
      "Epoch 11\n",
      "-------------------------------\n",
      "loss: 0.351625  [    0/52000]\n",
      "loss: 0.504156  [25800/52000]\n",
      "loss: 0.365163  [51600/52000]\n",
      "Test Error: \n",
      " Accuracy: 86.1%, Avg loss: 0.439991\n",
      "Time: 11.209\n",
      "\n",
      "Epoch 12\n",
      "-------------------------------\n",
      "loss: 0.350541  [    0/52000]\n",
      "loss: 0.502888  [25800/52000]\n",
      "loss: 0.364301  [51600/52000]\n",
      "Test Error: \n",
      " Accuracy: 86.2%, Avg loss: 0.438876\n",
      "Time: 8.495\n",
      "\n",
      "Epoch 13\n",
      "-------------------------------\n",
      "loss: 0.349504  [    0/52000]\n",
      "loss: 0.501871  [25800/52000]\n",
      "loss: 0.363308  [51600/52000]\n",
      "Test Error: \n",
      " Accuracy: 86.2%, Avg loss: 0.437793\n",
      "Time: 5.117\n",
      "\n",
      "Epoch 14\n",
      "-------------------------------\n",
      "loss: 0.348386  [    0/52000]\n",
      "loss: 0.500614  [25800/52000]\n",
      "loss: 0.362322  [51600/52000]\n",
      "Test Error: \n",
      " Accuracy: 86.2%, Avg loss: 0.436739\n",
      "Time: 5.492\n",
      "\n",
      "Epoch 15\n",
      "-------------------------------\n",
      "loss: 0.347315  [    0/52000]\n",
      "loss: 0.499463  [25800/52000]\n",
      "loss: 0.361374  [51600/52000]\n",
      "Test Error: \n",
      " Accuracy: 86.2%, Avg loss: 0.435681\n",
      "Time: 5.215\n",
      "\n",
      "Epoch 16\n",
      "-------------------------------\n",
      "loss: 0.346209  [    0/52000]\n",
      "loss: 0.498463  [25800/52000]\n",
      "loss: 0.360404  [51600/52000]\n",
      "Test Error: \n",
      " Accuracy: 86.2%, Avg loss: 0.434659\n",
      "Time: 4.854\n",
      "\n",
      "Epoch 17\n",
      "-------------------------------\n",
      "loss: 0.345029  [    0/52000]\n",
      "loss: 0.497356  [25800/52000]\n",
      "loss: 0.359475  [51600/52000]\n",
      "Test Error: \n",
      " Accuracy: 86.3%, Avg loss: 0.433631\n",
      "Time: 4.922\n",
      "\n",
      "Epoch 18\n",
      "-------------------------------\n",
      "loss: 0.343948  [    0/52000]\n",
      "loss: 0.496290  [25800/52000]\n",
      "loss: 0.358447  [51600/52000]\n",
      "Test Error: \n",
      " Accuracy: 86.3%, Avg loss: 0.432603\n",
      "Time: 4.837\n",
      "\n",
      "Epoch 19\n",
      "-------------------------------\n",
      "loss: 0.342783  [    0/52000]\n",
      "loss: 0.495259  [25800/52000]\n",
      "loss: 0.357476  [51600/52000]\n",
      "Test Error: \n",
      " Accuracy: 86.3%, Avg loss: 0.431608\n",
      "Time: 4.625\n",
      "\n",
      "Epoch 20\n",
      "-------------------------------\n",
      "loss: 0.341660  [    0/52000]\n",
      "loss: 0.494180  [25800/52000]\n",
      "loss: 0.356612  [51600/52000]\n",
      "Test Error: \n",
      " Accuracy: 86.4%, Avg loss: 0.430588\n",
      "Time: 5.123\n"
     ]
    }
   ],
   "source": [
    "loss_fn = nn.CrossEntropyLoss()\n",
    "optimizer = torch.optim.SGD(model_conv3.parameters(), lr=0.001)\n",
    "learning_cycle(20, model_conv3, loss_fn, optimizer, to_NCHW=True)"
   ]
  },
  {
   "cell_type": "markdown",
   "metadata": {},
   "source": [
    "# 3"
   ]
  },
  {
   "cell_type": "markdown",
   "metadata": {},
   "source": [
    "здесь загрузим пару моделей из обученных мной и продемонстрируем результаты на тестовых данных"
   ]
  },
  {
   "cell_type": "code",
   "execution_count": 77,
   "metadata": {},
   "outputs": [
    {
     "data": {
      "text/plain": [
       "<All keys matched successfully>"
      ]
     },
     "execution_count": 77,
     "metadata": {},
     "output_type": "execute_result"
    }
   ],
   "source": [
    "model90 = NeuralNetwork2()\n",
    "model90.load_state_dict(torch.load(\"my_models/model90.pth\"))"
   ]
  },
  {
   "cell_type": "code",
   "execution_count": 78,
   "metadata": {},
   "outputs": [
    {
     "data": {
      "text/plain": [
       "0.9027692307692308"
      ]
     },
     "execution_count": 78,
     "metadata": {},
     "output_type": "execute_result"
    }
   ],
   "source": [
    "get_model_accuracy(final_test_dataloader, model90)"
   ]
  },
  {
   "cell_type": "markdown",
   "metadata": {},
   "source": [
    "### Задание 1  \n",
    "  \n",
    "*Вес в общей оценке - 0.35*  \n",
    "  \n",
    "1. Постройте и обучите модели с 2-мя и 3-мя полносвязными (dense) скрытыми слоями.  \n",
    "При моделировании необходимо попробовать разные параметры нейронной сети - число нейронов на каждом слое, learning rate, batch size, функции активации, регуляризации и т.д. Оцените качество моделей с различными параметрами, проведите сравнительный анализ. \n",
    "2. Для наилучшей модели постройте confusion matrix результатов предсказаний модели на тестовых данных.  \n",
    "Насколько равномерно обучилась ваша модель? Приведите буквы с самой лучшей и с самой худшей точностью детекции.\n",
    "3. Найдите 10 пар букв, которые чаще всего путаются между собой, дайте возможное объяснение. Приведите примеры с картинками, которые были детектированы с ошибкой.\n",
    "4. Возьмите первую букву вашей фамилии и укажите её точность детекции. С какими буквами ваша модель чаще всего путает эту букву?     "
   ]
  },
  {
   "cell_type": "markdown",
   "metadata": {},
   "source": [
    "### Задание 2  \n",
    "  \n",
    "*Вес в общей оценке - 0.35*  \n",
    "  \n",
    "1. Постройте и обучите модели нейронной сети с 1-м, 2-мя и 3-мя сверточными слоями.  \n",
    "Попробуйте различные значения параметров сверток и числа фильтров на каждом слое. Оцените качество моделей с различными параметрами, проведите сравнительный анализ.  \n",
    "2. Для наилучшей конфигурации из предыдущего пункта, сравните, как меняется качество модели при увеличении размера батча при использовании BatchNorm и GroupNorm.    "
   ]
  },
  {
   "cell_type": "markdown",
   "metadata": {},
   "source": [
    "### Задание 3    \n",
    "  \n",
    "Обучите модель с точностью (accuracy) на тестовых данных:  \n",
    "- `>= 0.85`    +1 балл\n",
    "- `>= 0.95`    +2 балла\n",
    "- `>= 0.99`    +3 балла  "
   ]
  },
  {
   "cell_type": "markdown",
   "metadata": {},
   "source": [
    "## Бонусные задания"
   ]
  },
  {
   "cell_type": "markdown",
   "metadata": {},
   "source": [
    "**Задание 1 (1 балл).**  \n",
    "\n",
    "Напишите на листке белой бумаги (маркером или ручкой) от 5 разных букв (можно больше 5 букв в целом с повторениями, но должно быть минимум 5 разных) английского алфавита (в датасете есть как прописные, так и строчные буквы). Сфотографируйте букву и приведите её картинку к размеру $28\\times28$ и, желательно, к чёрно-белой палитре цветов. Передайте получившиеся изображения вашей модели и выполните предсказание, оцените результат.  \n",
    "  \n",
    "**Tips:**  \n",
    "- В датасете все буквы занимают практически всё пространство картинки по высоте или ширине (или вместе). Если ваша буква будет слишком маленькой или большой, это может повлиять на результат детекции.\n",
    "- Помните, что буква должна быть белого цвета, а фон - чёрного.\n",
    "- Описание ваших действий при выполнении этого задания (что вы использовали, чтобы привести картинку к нужному виду) категорически приветствуется :)"
   ]
  },
  {
   "cell_type": "markdown",
   "metadata": {},
   "source": [
    "# B1"
   ]
  },
  {
   "cell_type": "markdown",
   "metadata": {},
   "source": [
    "я написал все буквы черной ручкой на белом листочке, больше всего меня интересовали q и p"
   ]
  },
  {
   "cell_type": "code",
   "execution_count": 79,
   "metadata": {},
   "outputs": [
    {
     "data": {
      "text/plain": [
       "<All keys matched successfully>"
      ]
     },
     "execution_count": 79,
     "metadata": {},
     "output_type": "execute_result"
    }
   ],
   "source": [
    "model90 = Conv3NeuralNetwork()\n",
    "model90.load_state_dict(torch.load(\"my_models/model91conv3.pth\"))"
   ]
  },
  {
   "cell_type": "code",
   "execution_count": 80,
   "metadata": {},
   "outputs": [
    {
     "data": {
      "text/plain": [
       "<All keys matched successfully>"
      ]
     },
     "execution_count": 80,
     "metadata": {},
     "output_type": "execute_result"
    }
   ],
   "source": [
    "model90n = NeuralNetwork2()\n",
    "model90n.load_state_dict(torch.load(\"my_models/model90.pth\"))"
   ]
  },
  {
   "cell_type": "code",
   "execution_count": 81,
   "metadata": {},
   "outputs": [],
   "source": [
    "mX,my = get_data_and_targets_lst(\"custom_images\")"
   ]
  },
  {
   "cell_type": "code",
   "execution_count": 82,
   "metadata": {},
   "outputs": [
    {
     "data": {
      "text/plain": [
       "[16, -49, -49, -49, 25, 0, 12, 15]"
      ]
     },
     "execution_count": 82,
     "metadata": {},
     "output_type": "execute_result"
    }
   ],
   "source": [
    "my"
   ]
  },
  {
   "cell_type": "code",
   "execution_count": 83,
   "metadata": {},
   "outputs": [
    {
     "name": "stdout",
     "output_type": "stream",
     "text": [
      "torch.Size([1080, 1012, 3])\n",
      "torch.Size([120, 121, 3])\n",
      "torch.Size([144, 141, 3])\n",
      "torch.Size([127, 93, 3])\n",
      "torch.Size([958, 1080, 3])\n",
      "torch.Size([1043, 1080, 3])\n",
      "torch.Size([936, 1080, 3])\n",
      "torch.Size([1034, 1080, 3])\n"
     ]
    }
   ],
   "source": [
    "for el in mX:\n",
    "    print(el.shape)"
   ]
  },
  {
   "cell_type": "code",
   "execution_count": 84,
   "metadata": {},
   "outputs": [],
   "source": [
    "import cv2"
   ]
  },
  {
   "cell_type": "code",
   "execution_count": 85,
   "metadata": {},
   "outputs": [
    {
     "data": {
      "image/png": "[encoded data removed]",
      "text/plain": [
       "<Figure size 432x288 with 1 Axes>"
      ]
     },
     "metadata": {
      "needs_background": "light"
     },
     "output_type": "display_data"
    }
   ],
   "source": [
    "image = plt.imread('custom_images/m.jpg')\n",
    "plt.imshow(image)\n",
    "\n",
    "plt.show()"
   ]
  },
  {
   "cell_type": "code",
   "execution_count": 86,
   "metadata": {
    "scrolled": true
   },
   "outputs": [
    {
     "data": {
      "image/png": "[encoded data removed]",
      "text/plain": [
       "<Figure size 432x288 with 1 Axes>"
      ]
     },
     "metadata": {
      "needs_background": "light"
     },
     "output_type": "display_data"
    }
   ],
   "source": [
    "image = cv2.imread('custom_images/q.jpg')\n",
    "#gray = cv2.cvtColor(image, cv2.COLOR_RGB2GRAY)\n",
    "image = cv2.resize(image, (28,28), interpolation=cv2.INTER_AREA)\n",
    "image = cv2.cvtColor(image, cv2.COLOR_RGB2GRAY)\n",
    "image= np.invert(image)\n",
    "plt.imshow(image)\n",
    "plt.show()"
   ]
  },
  {
   "cell_type": "code",
   "execution_count": 87,
   "metadata": {},
   "outputs": [],
   "source": [
    "result = np.zeros([28, 28, 3])"
   ]
  },
  {
   "cell_type": "code",
   "execution_count": 88,
   "metadata": {},
   "outputs": [],
   "source": [
    "for i in range(28):\n",
    "    for j in range(28):\n",
    "        result[i][j][0] = image[i][j]/255\n",
    "        result[i][j][1] = image[i][j]/255\n",
    "        result[i][j][2] = image[i][j]/255"
   ]
  },
  {
   "cell_type": "code",
   "execution_count": 89,
   "metadata": {},
   "outputs": [
    {
     "data": {
      "text/plain": [
       "torch.float32"
      ]
     },
     "execution_count": 89,
     "metadata": {},
     "output_type": "execute_result"
    }
   ],
   "source": [
    "result = torch.from_numpy(result)\n",
    "result = result.float()\n",
    "result.dtype"
   ]
  },
  {
   "cell_type": "code",
   "execution_count": 90,
   "metadata": {},
   "outputs": [],
   "source": [
    "res_tens = model90(result.reshape([1,3,28,28]))"
   ]
  },
  {
   "cell_type": "code",
   "execution_count": 91,
   "metadata": {},
   "outputs": [
    {
     "data": {
      "text/plain": [
       "tensor([16])"
      ]
     },
     "execution_count": 91,
     "metadata": {},
     "output_type": "execute_result"
    }
   ],
   "source": [
    "res_tens.argmax(1)"
   ]
  },
  {
   "cell_type": "code",
   "execution_count": 92,
   "metadata": {},
   "outputs": [
    {
     "data": {
      "image/png": "[encoded data removed]",
      "text/plain": [
       "<Figure size 432x288 with 1 Axes>"
      ]
     },
     "metadata": {
      "needs_background": "light"
     },
     "output_type": "display_data"
    }
   ],
   "source": [
    "image = plt.imread('custom_images/0q.jpg')\n",
    "plt.imshow(image)\n",
    "\n",
    "plt.show()"
   ]
  },
  {
   "cell_type": "code",
   "execution_count": 93,
   "metadata": {},
   "outputs": [
    {
     "data": {
      "image/png": "[encoded data removed]",
      "text/plain": [
       "<Figure size 432x288 with 1 Axes>"
      ]
     },
     "metadata": {
      "needs_background": "light"
     },
     "output_type": "display_data"
    }
   ],
   "source": [
    "image = cv2.imread('custom_images/0q.jpg')\n",
    "\n",
    "image = cv2.resize(image, (28,28), interpolation=cv2.INTER_AREA)\n",
    "#image = cv2.cvtColor(image, cv2.COLOR_RGB2GRAY)\n",
    "image= np.invert(image)\n",
    "plt.imshow(image)\n",
    "plt.show()"
   ]
  },
  {
   "cell_type": "code",
   "execution_count": 94,
   "metadata": {},
   "outputs": [],
   "source": [
    "image = torch.tensor(image)\n",
    "image = torch.div(image, 255)"
   ]
  },
  {
   "cell_type": "code",
   "execution_count": 95,
   "metadata": {},
   "outputs": [
    {
     "data": {
      "text/plain": [
       "tensor([16])"
      ]
     },
     "execution_count": 95,
     "metadata": {},
     "output_type": "execute_result"
    }
   ],
   "source": [
    "res_tens = model90(image.reshape([1,3,28,28]))\n",
    "res_tens.argmax(1)"
   ]
  },
  {
   "cell_type": "code",
   "execution_count": 96,
   "metadata": {},
   "outputs": [
    {
     "data": {
      "text/plain": [
       "0"
      ]
     },
     "execution_count": 96,
     "metadata": {},
     "output_type": "execute_result"
    }
   ],
   "source": [
    "ord(\"a\") - 97"
   ]
  },
  {
   "cell_type": "code",
   "execution_count": 97,
   "metadata": {},
   "outputs": [
    {
     "data": {
      "text/plain": [
       "16"
      ]
     },
     "execution_count": 97,
     "metadata": {},
     "output_type": "execute_result"
    }
   ],
   "source": [
    "ord(\"q\") - 97"
   ]
  },
  {
   "cell_type": "markdown",
   "metadata": {},
   "source": [
    "**Задание 2 (1 балл):**    \n",
    "  \n",
    "Используйте transfer learning подход для решения задачи - дообучите какую-либо модель, предобученную на ImageNet, для классификации рукописных букв. Оцените качество решения.  \n",
    "В качестве предобученой модели можно взять одну из [torchvision models](https://pytorch.org/vision/stable/models.html)."
   ]
  },
  {
   "cell_type": "code",
   "execution_count": 98,
   "metadata": {},
   "outputs": [],
   "source": [
    "import torchvision.models as models"
   ]
  },
  {
   "cell_type": "code",
   "execution_count": 99,
   "metadata": {},
   "outputs": [],
   "source": [
    "resnet = models.resnet18(pretrained=True)"
   ]
  },
  {
   "cell_type": "code",
   "execution_count": 100,
   "metadata": {},
   "outputs": [
    {
     "data": {
      "text/plain": [
       "0.0005384615384615384"
      ]
     },
     "execution_count": 100,
     "metadata": {},
     "output_type": "execute_result"
    }
   ],
   "source": [
    "get_model_accuracy(final_test_dataloader, resnet, to_NCHW=True)"
   ]
  },
  {
   "cell_type": "code",
   "execution_count": 102,
   "metadata": {},
   "outputs": [
    {
     "name": "stdout",
     "output_type": "stream",
     "text": [
      "\n",
      "Epoch 1\n",
      "-------------------------------\n",
      "loss: 0.758218  [    0/52000]\n",
      "loss: 0.493638  [25800/52000]\n",
      "loss: 0.239704  [51600/52000]\n",
      "Test Error: \n",
      " Accuracy: 90.8%, Avg loss: 0.304458\n",
      "Time: 317.035\n",
      "\n",
      "Epoch 2\n",
      "-------------------------------\n",
      "loss: 0.359558  [    0/52000]\n",
      "loss: 0.248963  [25800/52000]\n",
      "loss: 0.133313  [51600/52000]\n",
      "Test Error: \n",
      " Accuracy: 91.6%, Avg loss: 0.270151\n",
      "Time: 233.447\n",
      "\n",
      "Epoch 3\n",
      "-------------------------------\n",
      "loss: 0.230445  [    0/52000]\n",
      "loss: 0.158834  [25800/52000]\n",
      "loss: 0.090643  [51600/52000]\n",
      "Test Error: \n",
      " Accuracy: 92.0%, Avg loss: 0.266355\n",
      "Time: 233.689\n",
      "\n",
      "Epoch 4\n",
      "-------------------------------\n",
      "loss: 0.146766  [    0/52000]\n",
      "loss: 0.108655  [25800/52000]\n",
      "loss: 0.058887  [51600/52000]\n",
      "Test Error: \n",
      " Accuracy: 91.9%, Avg loss: 0.277372\n",
      "Time: 243.391\n",
      "\n",
      "Epoch 5\n",
      "-------------------------------\n",
      "loss: 0.094430  [    0/52000]\n"
     ]
    },
    {
     "ename": "KeyboardInterrupt",
     "evalue": "",
     "output_type": "error",
     "traceback": [
      "\u001b[0;31m---------------------------------------------------------------------------\u001b[0m",
      "\u001b[0;31mKeyboardInterrupt\u001b[0m                         Traceback (most recent call last)",
      "\u001b[0;32m/tmp/ipykernel_7957/1265135165.py\u001b[0m in \u001b[0;36m<module>\u001b[0;34m\u001b[0m\n\u001b[1;32m      1\u001b[0m \u001b[0mloss_fn\u001b[0m \u001b[0;34m=\u001b[0m \u001b[0mnn\u001b[0m\u001b[0;34m.\u001b[0m\u001b[0mCrossEntropyLoss\u001b[0m\u001b[0;34m(\u001b[0m\u001b[0;34m)\u001b[0m\u001b[0;34m\u001b[0m\u001b[0;34m\u001b[0m\u001b[0m\n\u001b[1;32m      2\u001b[0m \u001b[0moptimizer\u001b[0m \u001b[0;34m=\u001b[0m \u001b[0mtorch\u001b[0m\u001b[0;34m.\u001b[0m\u001b[0moptim\u001b[0m\u001b[0;34m.\u001b[0m\u001b[0mSGD\u001b[0m\u001b[0;34m(\u001b[0m\u001b[0mresnet\u001b[0m\u001b[0;34m.\u001b[0m\u001b[0mparameters\u001b[0m\u001b[0;34m(\u001b[0m\u001b[0;34m)\u001b[0m\u001b[0;34m,\u001b[0m \u001b[0mlr\u001b[0m\u001b[0;34m=\u001b[0m\u001b[0;36m0.01\u001b[0m\u001b[0;34m)\u001b[0m\u001b[0;34m\u001b[0m\u001b[0;34m\u001b[0m\u001b[0m\n\u001b[0;32m----> 3\u001b[0;31m \u001b[0mlearning_cycle\u001b[0m\u001b[0;34m(\u001b[0m\u001b[0;36m5\u001b[0m\u001b[0;34m,\u001b[0m \u001b[0mresnet\u001b[0m\u001b[0;34m,\u001b[0m \u001b[0mloss_fn\u001b[0m\u001b[0;34m,\u001b[0m \u001b[0moptimizer\u001b[0m\u001b[0;34m,\u001b[0m \u001b[0mto_NCHW\u001b[0m\u001b[0;34m=\u001b[0m\u001b[0;32mTrue\u001b[0m\u001b[0;34m)\u001b[0m\u001b[0;34m\u001b[0m\u001b[0;34m\u001b[0m\u001b[0m\n\u001b[0m",
      "\u001b[0;32m/tmp/ipykernel_7957/1980290054.py\u001b[0m in \u001b[0;36mlearning_cycle\u001b[0;34m(epochs, model, loss_fn, optimizer, to_NCHW)\u001b[0m\n\u001b[1;32m      3\u001b[0m         \u001b[0mprint\u001b[0m\u001b[0;34m(\u001b[0m\u001b[0;34mf\"\\nEpoch {t+1}\\n-------------------------------\"\u001b[0m\u001b[0;34m)\u001b[0m\u001b[0;34m\u001b[0m\u001b[0;34m\u001b[0m\u001b[0m\n\u001b[1;32m      4\u001b[0m         \u001b[0mstarttm\u001b[0m \u001b[0;34m=\u001b[0m \u001b[0mtime\u001b[0m\u001b[0;34m.\u001b[0m\u001b[0mtime\u001b[0m\u001b[0;34m(\u001b[0m\u001b[0;34m)\u001b[0m\u001b[0;34m\u001b[0m\u001b[0;34m\u001b[0m\u001b[0m\n\u001b[0;32m----> 5\u001b[0;31m         \u001b[0mtrain\u001b[0m\u001b[0;34m(\u001b[0m\u001b[0mtrain_dataloader\u001b[0m\u001b[0;34m,\u001b[0m \u001b[0mmodel\u001b[0m\u001b[0;34m,\u001b[0m \u001b[0mloss_fn\u001b[0m\u001b[0;34m,\u001b[0m \u001b[0moptimizer\u001b[0m\u001b[0;34m,\u001b[0m \u001b[0mto_NCHW\u001b[0m \u001b[0;34m=\u001b[0m \u001b[0mto_NCHW\u001b[0m\u001b[0;34m)\u001b[0m\u001b[0;34m\u001b[0m\u001b[0;34m\u001b[0m\u001b[0m\n\u001b[0m\u001b[1;32m      6\u001b[0m         \u001b[0mtest\u001b[0m\u001b[0;34m(\u001b[0m\u001b[0mtest_dataloader\u001b[0m\u001b[0;34m,\u001b[0m \u001b[0mmodel\u001b[0m\u001b[0;34m,\u001b[0m \u001b[0mloss_fn\u001b[0m\u001b[0;34m,\u001b[0m \u001b[0mto_NCHW\u001b[0m \u001b[0;34m=\u001b[0m \u001b[0mto_NCHW\u001b[0m\u001b[0;34m)\u001b[0m\u001b[0;34m\u001b[0m\u001b[0;34m\u001b[0m\u001b[0m\n\u001b[1;32m      7\u001b[0m         \u001b[0mendtm\u001b[0m \u001b[0;34m=\u001b[0m \u001b[0mtime\u001b[0m\u001b[0;34m.\u001b[0m\u001b[0mtime\u001b[0m\u001b[0;34m(\u001b[0m\u001b[0;34m)\u001b[0m\u001b[0;34m\u001b[0m\u001b[0;34m\u001b[0m\u001b[0m\n",
      "\u001b[0;32m/tmp/ipykernel_7957/2120308267.py\u001b[0m in \u001b[0;36mtrain\u001b[0;34m(dataloader, model, loss_fn, optimizer, to_NCHW)\u001b[0m\n\u001b[1;32m      8\u001b[0m \u001b[0;34m\u001b[0m\u001b[0m\n\u001b[1;32m      9\u001b[0m         \u001b[0;31m# Compute prediction error\u001b[0m\u001b[0;34m\u001b[0m\u001b[0;34m\u001b[0m\u001b[0;34m\u001b[0m\u001b[0m\n\u001b[0;32m---> 10\u001b[0;31m         \u001b[0mpred\u001b[0m \u001b[0;34m=\u001b[0m \u001b[0mmodel\u001b[0m\u001b[0;34m(\u001b[0m\u001b[0mX\u001b[0m\u001b[0;34m)\u001b[0m\u001b[0;34m\u001b[0m\u001b[0;34m\u001b[0m\u001b[0m\n\u001b[0m\u001b[1;32m     11\u001b[0m         \u001b[0;31m#print(pred.shape)\u001b[0m\u001b[0;34m\u001b[0m\u001b[0;34m\u001b[0m\u001b[0;34m\u001b[0m\u001b[0m\n\u001b[1;32m     12\u001b[0m         \u001b[0mloss\u001b[0m \u001b[0;34m=\u001b[0m \u001b[0mloss_fn\u001b[0m\u001b[0;34m(\u001b[0m\u001b[0mpred\u001b[0m\u001b[0;34m,\u001b[0m \u001b[0my\u001b[0m\u001b[0;34m)\u001b[0m\u001b[0;34m\u001b[0m\u001b[0;34m\u001b[0m\u001b[0m\n",
      "\u001b[0;32m~/.local/lib/python3.8/site-packages/torch/nn/modules/module.py\u001b[0m in \u001b[0;36m_call_impl\u001b[0;34m(self, *input, **kwargs)\u001b[0m\n\u001b[1;32m   1100\u001b[0m         if not (self._backward_hooks or self._forward_hooks or self._forward_pre_hooks or _global_backward_hooks\n\u001b[1;32m   1101\u001b[0m                 or _global_forward_hooks or _global_forward_pre_hooks):\n\u001b[0;32m-> 1102\u001b[0;31m             \u001b[0;32mreturn\u001b[0m \u001b[0mforward_call\u001b[0m\u001b[0;34m(\u001b[0m\u001b[0;34m*\u001b[0m\u001b[0minput\u001b[0m\u001b[0;34m,\u001b[0m \u001b[0;34m**\u001b[0m\u001b[0mkwargs\u001b[0m\u001b[0;34m)\u001b[0m\u001b[0;34m\u001b[0m\u001b[0;34m\u001b[0m\u001b[0m\n\u001b[0m\u001b[1;32m   1103\u001b[0m         \u001b[0;31m# Do not call functions when jit is used\u001b[0m\u001b[0;34m\u001b[0m\u001b[0;34m\u001b[0m\u001b[0;34m\u001b[0m\u001b[0m\n\u001b[1;32m   1104\u001b[0m         \u001b[0mfull_backward_hooks\u001b[0m\u001b[0;34m,\u001b[0m \u001b[0mnon_full_backward_hooks\u001b[0m \u001b[0;34m=\u001b[0m \u001b[0;34m[\u001b[0m\u001b[0;34m]\u001b[0m\u001b[0;34m,\u001b[0m \u001b[0;34m[\u001b[0m\u001b[0;34m]\u001b[0m\u001b[0;34m\u001b[0m\u001b[0;34m\u001b[0m\u001b[0m\n",
      "\u001b[0;32m~/.local/lib/python3.8/site-packages/torchvision/models/resnet.py\u001b[0m in \u001b[0;36mforward\u001b[0;34m(self, x)\u001b[0m\n\u001b[1;32m    247\u001b[0m \u001b[0;34m\u001b[0m\u001b[0m\n\u001b[1;32m    248\u001b[0m     \u001b[0;32mdef\u001b[0m \u001b[0mforward\u001b[0m\u001b[0;34m(\u001b[0m\u001b[0mself\u001b[0m\u001b[0;34m,\u001b[0m \u001b[0mx\u001b[0m\u001b[0;34m:\u001b[0m \u001b[0mTensor\u001b[0m\u001b[0;34m)\u001b[0m \u001b[0;34m->\u001b[0m \u001b[0mTensor\u001b[0m\u001b[0;34m:\u001b[0m\u001b[0;34m\u001b[0m\u001b[0;34m\u001b[0m\u001b[0m\n\u001b[0;32m--> 249\u001b[0;31m         \u001b[0;32mreturn\u001b[0m \u001b[0mself\u001b[0m\u001b[0;34m.\u001b[0m\u001b[0m_forward_impl\u001b[0m\u001b[0;34m(\u001b[0m\u001b[0mx\u001b[0m\u001b[0;34m)\u001b[0m\u001b[0;34m\u001b[0m\u001b[0;34m\u001b[0m\u001b[0m\n\u001b[0m\u001b[1;32m    250\u001b[0m \u001b[0;34m\u001b[0m\u001b[0m\n\u001b[1;32m    251\u001b[0m \u001b[0;34m\u001b[0m\u001b[0m\n",
      "\u001b[0;32m~/.local/lib/python3.8/site-packages/torchvision/models/resnet.py\u001b[0m in \u001b[0;36m_forward_impl\u001b[0;34m(self, x)\u001b[0m\n\u001b[1;32m    237\u001b[0m         \u001b[0mx\u001b[0m \u001b[0;34m=\u001b[0m \u001b[0mself\u001b[0m\u001b[0;34m.\u001b[0m\u001b[0mlayer1\u001b[0m\u001b[0;34m(\u001b[0m\u001b[0mx\u001b[0m\u001b[0;34m)\u001b[0m\u001b[0;34m\u001b[0m\u001b[0;34m\u001b[0m\u001b[0m\n\u001b[1;32m    238\u001b[0m         \u001b[0mx\u001b[0m \u001b[0;34m=\u001b[0m \u001b[0mself\u001b[0m\u001b[0;34m.\u001b[0m\u001b[0mlayer2\u001b[0m\u001b[0;34m(\u001b[0m\u001b[0mx\u001b[0m\u001b[0;34m)\u001b[0m\u001b[0;34m\u001b[0m\u001b[0;34m\u001b[0m\u001b[0m\n\u001b[0;32m--> 239\u001b[0;31m         \u001b[0mx\u001b[0m \u001b[0;34m=\u001b[0m \u001b[0mself\u001b[0m\u001b[0;34m.\u001b[0m\u001b[0mlayer3\u001b[0m\u001b[0;34m(\u001b[0m\u001b[0mx\u001b[0m\u001b[0;34m)\u001b[0m\u001b[0;34m\u001b[0m\u001b[0;34m\u001b[0m\u001b[0m\n\u001b[0m\u001b[1;32m    240\u001b[0m         \u001b[0mx\u001b[0m \u001b[0;34m=\u001b[0m \u001b[0mself\u001b[0m\u001b[0;34m.\u001b[0m\u001b[0mlayer4\u001b[0m\u001b[0;34m(\u001b[0m\u001b[0mx\u001b[0m\u001b[0;34m)\u001b[0m\u001b[0;34m\u001b[0m\u001b[0;34m\u001b[0m\u001b[0m\n\u001b[1;32m    241\u001b[0m \u001b[0;34m\u001b[0m\u001b[0m\n",
      "\u001b[0;32m~/.local/lib/python3.8/site-packages/torch/nn/modules/module.py\u001b[0m in \u001b[0;36m_call_impl\u001b[0;34m(self, *input, **kwargs)\u001b[0m\n\u001b[1;32m   1100\u001b[0m         if not (self._backward_hooks or self._forward_hooks or self._forward_pre_hooks or _global_backward_hooks\n\u001b[1;32m   1101\u001b[0m                 or _global_forward_hooks or _global_forward_pre_hooks):\n\u001b[0;32m-> 1102\u001b[0;31m             \u001b[0;32mreturn\u001b[0m \u001b[0mforward_call\u001b[0m\u001b[0;34m(\u001b[0m\u001b[0;34m*\u001b[0m\u001b[0minput\u001b[0m\u001b[0;34m,\u001b[0m \u001b[0;34m**\u001b[0m\u001b[0mkwargs\u001b[0m\u001b[0;34m)\u001b[0m\u001b[0;34m\u001b[0m\u001b[0;34m\u001b[0m\u001b[0m\n\u001b[0m\u001b[1;32m   1103\u001b[0m         \u001b[0;31m# Do not call functions when jit is used\u001b[0m\u001b[0;34m\u001b[0m\u001b[0;34m\u001b[0m\u001b[0;34m\u001b[0m\u001b[0m\n\u001b[1;32m   1104\u001b[0m         \u001b[0mfull_backward_hooks\u001b[0m\u001b[0;34m,\u001b[0m \u001b[0mnon_full_backward_hooks\u001b[0m \u001b[0;34m=\u001b[0m \u001b[0;34m[\u001b[0m\u001b[0;34m]\u001b[0m\u001b[0;34m,\u001b[0m \u001b[0;34m[\u001b[0m\u001b[0;34m]\u001b[0m\u001b[0;34m\u001b[0m\u001b[0;34m\u001b[0m\u001b[0m\n",
      "\u001b[0;32m~/.local/lib/python3.8/site-packages/torch/nn/modules/container.py\u001b[0m in \u001b[0;36mforward\u001b[0;34m(self, input)\u001b[0m\n\u001b[1;32m    139\u001b[0m     \u001b[0;32mdef\u001b[0m \u001b[0mforward\u001b[0m\u001b[0;34m(\u001b[0m\u001b[0mself\u001b[0m\u001b[0;34m,\u001b[0m \u001b[0minput\u001b[0m\u001b[0;34m)\u001b[0m\u001b[0;34m:\u001b[0m\u001b[0;34m\u001b[0m\u001b[0;34m\u001b[0m\u001b[0m\n\u001b[1;32m    140\u001b[0m         \u001b[0;32mfor\u001b[0m \u001b[0mmodule\u001b[0m \u001b[0;32min\u001b[0m \u001b[0mself\u001b[0m\u001b[0;34m:\u001b[0m\u001b[0;34m\u001b[0m\u001b[0;34m\u001b[0m\u001b[0m\n\u001b[0;32m--> 141\u001b[0;31m             \u001b[0minput\u001b[0m \u001b[0;34m=\u001b[0m \u001b[0mmodule\u001b[0m\u001b[0;34m(\u001b[0m\u001b[0minput\u001b[0m\u001b[0;34m)\u001b[0m\u001b[0;34m\u001b[0m\u001b[0;34m\u001b[0m\u001b[0m\n\u001b[0m\u001b[1;32m    142\u001b[0m         \u001b[0;32mreturn\u001b[0m \u001b[0minput\u001b[0m\u001b[0;34m\u001b[0m\u001b[0;34m\u001b[0m\u001b[0m\n\u001b[1;32m    143\u001b[0m \u001b[0;34m\u001b[0m\u001b[0m\n",
      "\u001b[0;32m~/.local/lib/python3.8/site-packages/torch/nn/modules/module.py\u001b[0m in \u001b[0;36m_call_impl\u001b[0;34m(self, *input, **kwargs)\u001b[0m\n\u001b[1;32m   1100\u001b[0m         if not (self._backward_hooks or self._forward_hooks or self._forward_pre_hooks or _global_backward_hooks\n\u001b[1;32m   1101\u001b[0m                 or _global_forward_hooks or _global_forward_pre_hooks):\n\u001b[0;32m-> 1102\u001b[0;31m             \u001b[0;32mreturn\u001b[0m \u001b[0mforward_call\u001b[0m\u001b[0;34m(\u001b[0m\u001b[0;34m*\u001b[0m\u001b[0minput\u001b[0m\u001b[0;34m,\u001b[0m \u001b[0;34m**\u001b[0m\u001b[0mkwargs\u001b[0m\u001b[0;34m)\u001b[0m\u001b[0;34m\u001b[0m\u001b[0;34m\u001b[0m\u001b[0m\n\u001b[0m\u001b[1;32m   1103\u001b[0m         \u001b[0;31m# Do not call functions when jit is used\u001b[0m\u001b[0;34m\u001b[0m\u001b[0;34m\u001b[0m\u001b[0;34m\u001b[0m\u001b[0m\n\u001b[1;32m   1104\u001b[0m         \u001b[0mfull_backward_hooks\u001b[0m\u001b[0;34m,\u001b[0m \u001b[0mnon_full_backward_hooks\u001b[0m \u001b[0;34m=\u001b[0m \u001b[0;34m[\u001b[0m\u001b[0;34m]\u001b[0m\u001b[0;34m,\u001b[0m \u001b[0;34m[\u001b[0m\u001b[0;34m]\u001b[0m\u001b[0;34m\u001b[0m\u001b[0;34m\u001b[0m\u001b[0m\n",
      "\u001b[0;32m~/.local/lib/python3.8/site-packages/torchvision/models/resnet.py\u001b[0m in \u001b[0;36mforward\u001b[0;34m(self, x)\u001b[0m\n\u001b[1;32m     69\u001b[0m \u001b[0;34m\u001b[0m\u001b[0m\n\u001b[1;32m     70\u001b[0m         \u001b[0mout\u001b[0m \u001b[0;34m=\u001b[0m \u001b[0mself\u001b[0m\u001b[0;34m.\u001b[0m\u001b[0mconv1\u001b[0m\u001b[0;34m(\u001b[0m\u001b[0mx\u001b[0m\u001b[0;34m)\u001b[0m\u001b[0;34m\u001b[0m\u001b[0;34m\u001b[0m\u001b[0m\n\u001b[0;32m---> 71\u001b[0;31m         \u001b[0mout\u001b[0m \u001b[0;34m=\u001b[0m \u001b[0mself\u001b[0m\u001b[0;34m.\u001b[0m\u001b[0mbn1\u001b[0m\u001b[0;34m(\u001b[0m\u001b[0mout\u001b[0m\u001b[0;34m)\u001b[0m\u001b[0;34m\u001b[0m\u001b[0;34m\u001b[0m\u001b[0m\n\u001b[0m\u001b[1;32m     72\u001b[0m         \u001b[0mout\u001b[0m \u001b[0;34m=\u001b[0m \u001b[0mself\u001b[0m\u001b[0;34m.\u001b[0m\u001b[0mrelu\u001b[0m\u001b[0;34m(\u001b[0m\u001b[0mout\u001b[0m\u001b[0;34m)\u001b[0m\u001b[0;34m\u001b[0m\u001b[0;34m\u001b[0m\u001b[0m\n\u001b[1;32m     73\u001b[0m \u001b[0;34m\u001b[0m\u001b[0m\n",
      "\u001b[0;32m~/.local/lib/python3.8/site-packages/torch/nn/modules/module.py\u001b[0m in \u001b[0;36m_call_impl\u001b[0;34m(self, *input, **kwargs)\u001b[0m\n\u001b[1;32m   1100\u001b[0m         if not (self._backward_hooks or self._forward_hooks or self._forward_pre_hooks or _global_backward_hooks\n\u001b[1;32m   1101\u001b[0m                 or _global_forward_hooks or _global_forward_pre_hooks):\n\u001b[0;32m-> 1102\u001b[0;31m             \u001b[0;32mreturn\u001b[0m \u001b[0mforward_call\u001b[0m\u001b[0;34m(\u001b[0m\u001b[0;34m*\u001b[0m\u001b[0minput\u001b[0m\u001b[0;34m,\u001b[0m \u001b[0;34m**\u001b[0m\u001b[0mkwargs\u001b[0m\u001b[0;34m)\u001b[0m\u001b[0;34m\u001b[0m\u001b[0;34m\u001b[0m\u001b[0m\n\u001b[0m\u001b[1;32m   1103\u001b[0m         \u001b[0;31m# Do not call functions when jit is used\u001b[0m\u001b[0;34m\u001b[0m\u001b[0;34m\u001b[0m\u001b[0;34m\u001b[0m\u001b[0m\n\u001b[1;32m   1104\u001b[0m         \u001b[0mfull_backward_hooks\u001b[0m\u001b[0;34m,\u001b[0m \u001b[0mnon_full_backward_hooks\u001b[0m \u001b[0;34m=\u001b[0m \u001b[0;34m[\u001b[0m\u001b[0;34m]\u001b[0m\u001b[0;34m,\u001b[0m \u001b[0;34m[\u001b[0m\u001b[0;34m]\u001b[0m\u001b[0;34m\u001b[0m\u001b[0;34m\u001b[0m\u001b[0m\n",
      "\u001b[0;32m~/.local/lib/python3.8/site-packages/torch/nn/modules/batchnorm.py\u001b[0m in \u001b[0;36mforward\u001b[0;34m(self, input)\u001b[0m\n\u001b[1;32m    166\u001b[0m         \u001b[0mused\u001b[0m \u001b[0;32mfor\u001b[0m \u001b[0mnormalization\u001b[0m \u001b[0;34m(\u001b[0m\u001b[0mi\u001b[0m\u001b[0;34m.\u001b[0m\u001b[0me\u001b[0m\u001b[0;34m.\u001b[0m \u001b[0;32min\u001b[0m \u001b[0meval\u001b[0m \u001b[0mmode\u001b[0m \u001b[0mwhen\u001b[0m \u001b[0mbuffers\u001b[0m \u001b[0mare\u001b[0m \u001b[0;32mnot\u001b[0m \u001b[0;32mNone\u001b[0m\u001b[0;34m)\u001b[0m\u001b[0;34m.\u001b[0m\u001b[0;34m\u001b[0m\u001b[0;34m\u001b[0m\u001b[0m\n\u001b[1;32m    167\u001b[0m         \"\"\"\n\u001b[0;32m--> 168\u001b[0;31m         return F.batch_norm(\n\u001b[0m\u001b[1;32m    169\u001b[0m             \u001b[0minput\u001b[0m\u001b[0;34m,\u001b[0m\u001b[0;34m\u001b[0m\u001b[0;34m\u001b[0m\u001b[0m\n\u001b[1;32m    170\u001b[0m             \u001b[0;31m# If buffers are not to be tracked, ensure that they won't be updated\u001b[0m\u001b[0;34m\u001b[0m\u001b[0;34m\u001b[0m\u001b[0;34m\u001b[0m\u001b[0m\n",
      "\u001b[0;32m~/.local/lib/python3.8/site-packages/torch/nn/functional.py\u001b[0m in \u001b[0;36mbatch_norm\u001b[0;34m(input, running_mean, running_var, weight, bias, training, momentum, eps)\u001b[0m\n\u001b[1;32m   2280\u001b[0m         \u001b[0m_verify_batch_size\u001b[0m\u001b[0;34m(\u001b[0m\u001b[0minput\u001b[0m\u001b[0;34m.\u001b[0m\u001b[0msize\u001b[0m\u001b[0;34m(\u001b[0m\u001b[0;34m)\u001b[0m\u001b[0;34m)\u001b[0m\u001b[0;34m\u001b[0m\u001b[0;34m\u001b[0m\u001b[0m\n\u001b[1;32m   2281\u001b[0m \u001b[0;34m\u001b[0m\u001b[0m\n\u001b[0;32m-> 2282\u001b[0;31m     return torch.batch_norm(\n\u001b[0m\u001b[1;32m   2283\u001b[0m         \u001b[0minput\u001b[0m\u001b[0;34m,\u001b[0m \u001b[0mweight\u001b[0m\u001b[0;34m,\u001b[0m \u001b[0mbias\u001b[0m\u001b[0;34m,\u001b[0m \u001b[0mrunning_mean\u001b[0m\u001b[0;34m,\u001b[0m \u001b[0mrunning_var\u001b[0m\u001b[0;34m,\u001b[0m \u001b[0mtraining\u001b[0m\u001b[0;34m,\u001b[0m \u001b[0mmomentum\u001b[0m\u001b[0;34m,\u001b[0m \u001b[0meps\u001b[0m\u001b[0;34m,\u001b[0m \u001b[0mtorch\u001b[0m\u001b[0;34m.\u001b[0m\u001b[0mbackends\u001b[0m\u001b[0;34m.\u001b[0m\u001b[0mcudnn\u001b[0m\u001b[0;34m.\u001b[0m\u001b[0menabled\u001b[0m\u001b[0;34m\u001b[0m\u001b[0;34m\u001b[0m\u001b[0m\n\u001b[1;32m   2284\u001b[0m     )\n",
      "\u001b[0;31mKeyboardInterrupt\u001b[0m: "
     ]
    }
   ],
   "source": [
    "loss_fn = nn.CrossEntropyLoss()\n",
    "optimizer = torch.optim.SGD(resnet.parameters(), lr=0.01)\n",
    "learning_cycle(5, resnet, loss_fn, optimizer, to_NCHW=True)"
   ]
  },
  {
   "cell_type": "code",
   "execution_count": 104,
   "metadata": {},
   "outputs": [],
   "source": [
    "#get_model_accuracy(final_test_dataloader, resnet, to_NCHW=True)"
   ]
  },
  {
   "cell_type": "code",
   "execution_count": 105,
   "metadata": {},
   "outputs": [],
   "source": [
    "#resnet.load_state_dict(torch.load(\"my_models/my_resnet.pth\"))"
   ]
  },
  {
   "cell_type": "code",
   "execution_count": 106,
   "metadata": {},
   "outputs": [],
   "source": [
    "resnet = models.resnet18(pretrained=False)"
   ]
  },
  {
   "cell_type": "code",
   "execution_count": 107,
   "metadata": {},
   "outputs": [
    {
     "name": "stdout",
     "output_type": "stream",
     "text": [
      "\n",
      "Epoch 1\n",
      "-------------------------------\n",
      "loss: 7.220859  [    0/52000]\n",
      "loss: 0.774197  [25800/52000]\n",
      "loss: 0.361706  [51600/52000]\n",
      "Test Error: \n",
      " Accuracy: 84.5%, Avg loss: 0.518272\n",
      "Time: 229.935\n",
      "\n",
      "Epoch 2\n",
      "-------------------------------\n",
      "loss: 0.444768  [    0/52000]\n",
      "loss: 0.358738  [25800/52000]\n",
      "loss: 0.206440  [51600/52000]\n",
      "Test Error: \n",
      " Accuracy: 88.9%, Avg loss: 0.353534\n",
      "Time: 237.172\n",
      "\n",
      "Epoch 3\n",
      "-------------------------------\n",
      "loss: 0.271081  [    0/52000]\n",
      "loss: 0.234415  [25800/52000]\n",
      "loss: 0.155855  [51600/52000]\n",
      "Test Error: \n",
      " Accuracy: 90.2%, Avg loss: 0.304680\n",
      "Time: 240.516\n",
      "\n",
      "Epoch 4\n",
      "-------------------------------\n",
      "loss: 0.192522  [    0/52000]\n",
      "loss: 0.173289  [25800/52000]\n",
      "loss: 0.129491  [51600/52000]\n",
      "Test Error: \n",
      " Accuracy: 90.6%, Avg loss: 0.287987\n",
      "Time: 236.660\n",
      "\n",
      "Epoch 5\n",
      "-------------------------------\n",
      "loss: 0.156693  [    0/52000]\n",
      "loss: 0.131325  [25800/52000]\n",
      "loss: 0.108521  [51600/52000]\n",
      "Test Error: \n",
      " Accuracy: 90.8%, Avg loss: 0.278547\n",
      "Time: 234.111\n",
      "\n",
      "Epoch 6\n",
      "-------------------------------\n",
      "loss: 0.127866  [    0/52000]\n",
      "loss: 0.100747  [25800/52000]\n",
      "loss: 0.090338  [51600/52000]\n",
      "Test Error: \n",
      " Accuracy: 91.2%, Avg loss: 0.272123\n",
      "Time: 235.490\n",
      "\n",
      "Epoch 7\n",
      "-------------------------------\n",
      "loss: 0.102351  [    0/52000]\n",
      "loss: 0.076707  [25800/52000]\n",
      "loss: 0.075367  [51600/52000]\n",
      "Test Error: \n",
      " Accuracy: 91.1%, Avg loss: 0.269987\n",
      "Time: 235.705\n",
      "\n",
      "Epoch 8\n",
      "-------------------------------\n",
      "loss: 0.082741  [    0/52000]\n",
      "loss: 0.060038  [25800/52000]\n",
      "loss: 0.060245  [51600/52000]\n",
      "Test Error: \n",
      " Accuracy: 91.3%, Avg loss: 0.270220\n",
      "Time: 238.175\n",
      "\n",
      "Epoch 9\n",
      "-------------------------------\n",
      "loss: 0.066464  [    0/52000]\n",
      "loss: 0.045605  [25800/52000]\n",
      "loss: 0.047833  [51600/52000]\n",
      "Test Error: \n",
      " Accuracy: 91.3%, Avg loss: 0.269436\n",
      "Time: 236.439\n",
      "\n",
      "Epoch 10\n",
      "-------------------------------\n",
      "loss: 0.054528  [    0/52000]\n",
      "loss: 0.036512  [25800/52000]\n",
      "loss: 0.038798  [51600/52000]\n",
      "Test Error: \n",
      " Accuracy: 91.4%, Avg loss: 0.270774\n",
      "Time: 237.995\n"
     ]
    }
   ],
   "source": [
    "loss_fn = nn.CrossEntropyLoss()\n",
    "optimizer = torch.optim.SGD(resnet.parameters(), lr=0.01)\n",
    "learning_cycle(10, resnet, loss_fn, optimizer, to_NCHW=True)"
   ]
  },
  {
   "cell_type": "code",
   "execution_count": 110,
   "metadata": {},
   "outputs": [
    {
     "data": {
      "text/plain": [
       "0.916923076923077"
      ]
     },
     "execution_count": 110,
     "metadata": {},
     "output_type": "execute_result"
    }
   ],
   "source": [
    "get_model_accuracy(final_test_dataloader, resnet, to_NCHW=True)"
   ]
  },
  {
   "cell_type": "code",
   "execution_count": 112,
   "metadata": {},
   "outputs": [],
   "source": [
    "torch.save(resnet.state_dict(), \"my_models/resnet18my.pth\")"
   ]
  },
  {
   "cell_type": "markdown",
   "metadata": {},
   "source": [
    "**Задание 3 (1 балл):**  \n",
    "  \n",
    "Добавьте вывод значений функции потерь и accuracy в tensorboard.  \n",
    "Метрики нужно выводить и для обучающей, и для тестовой выборки."
   ]
  }
 ],
 "metadata": {
  "kernelspec": {
   "display_name": "Python 3 (ipykernel)",
   "language": "python",
   "name": "python3"
  },
  "language_info": {
   "codemirror_mode": {
    "name": "ipython",
    "version": 3
   },
   "file_extension": ".py",
   "mimetype": "text/x-python",
   "name": "python",
   "nbconvert_exporter": "python",
   "pygments_lexer": "ipython3",
   "version": "3.8.10"
  }
 },
 "nbformat": 4,
 "nbformat_minor": 2
}
